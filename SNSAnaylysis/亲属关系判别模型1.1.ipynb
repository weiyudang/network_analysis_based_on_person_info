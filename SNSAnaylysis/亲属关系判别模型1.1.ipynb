{
 "cells": [
  {
   "cell_type": "markdown",
   "metadata": {},
   "source": [
    "# 亲属关系判别模型"
   ]
  },
  {
   "cell_type": "code",
   "execution_count": 2,
   "metadata": {
    "collapsed": false
   },
   "outputs": [],
   "source": [
    "%matplotlib  inline\n",
    "import pandas as pd\n",
    "import numpy as np\n",
    "import matplotlib.pylab as plt\n",
    "\n",
    "from sklearn.cross_validation import train_test_split\n",
    "from sklearn.metrics import r2_score, auc,roc_auc_score,precision_score,accuracy_score,f1_score,recall_score,auc\n",
    "\n",
    "rel_data=pd.read_csv('MSN/ymdh/processed_data/mobi_train_data.csv',index_col=0,chunksize=100000)\n"
   ]
  },
  {
   "cell_type": "code",
   "execution_count": 6,
   "metadata": {
    "collapsed": false
   },
   "outputs": [],
   "source": []
  },
  {
   "cell_type": "code",
   "execution_count": null,
   "metadata": {
    "collapsed": false
   },
   "outputs": [],
   "source": []
  },
  {
   "cell_type": "code",
   "execution_count": 3,
   "metadata": {
    "collapsed": false
   },
   "outputs": [],
   "source": [
    "rel_data=rel_data.next()\n",
    "rel_data.drop(['number','name'],axis=1,inplace=True)\n",
    "\n",
    "rel_data=rel_data.fillna(0.0)"
   ]
  },
  {
   "cell_type": "code",
   "execution_count": null,
   "metadata": {
    "collapsed": false
   },
   "outputs": [],
   "source": [
    "rel_data.total_frequency/rel_data.total_duration"
   ]
  },
  {
   "cell_type": "code",
   "execution_count": null,
   "metadata": {
    "collapsed": false
   },
   "outputs": [],
   "source": [
    "# rel_data['time_ratio']=rel_data.total_duration/rel_data.total_time\n",
    "# rel_data['freq_ratio']=rel_data.total_frequency/rel_data.total_freq\n",
    "# rel_data['avg_ratio']=rel_data.avg_duration/rel_data.total_avg_duration\n",
    "# rel_data.to_csv('MSN/ymdh/processed_data/mobi_rel_data.csv')"
   ]
  },
  {
   "cell_type": "code",
   "execution_count": null,
   "metadata": {
    "collapsed": false
   },
   "outputs": [],
   "source": [
    "rel_data['time_ratio']=rel_data.total_duration/rel_data.total_time\n",
    "rel_data['freq_ratio']=rel_data.total_frequency/rel_data.total_freq\n",
    "rel_data['avg_ratio']=rel_data.avg_duration/rel_data.total_avg_duration"
   ]
  },
  {
   "cell_type": "code",
   "execution_count": 14,
   "metadata": {
    "collapsed": false
   },
   "outputs": [
    {
     "data": {
      "text/plain": [
       "array([0, 1])"
      ]
     },
     "execution_count": 14,
     "metadata": {},
     "output_type": "execute_result"
    }
   ],
   "source": [
    "\n"
   ]
  },
  {
   "cell_type": "code",
   "execution_count": 24,
   "metadata": {
    "collapsed": false
   },
   "outputs": [
    {
     "data": {
      "text/html": [
       "<div>\n",
       "<table border=\"1\" class=\"dataframe\">\n",
       "  <thead>\n",
       "    <tr style=\"text-align: right;\">\n",
       "      <th></th>\n",
       "      <th>number</th>\n",
       "      <th>total_frequency</th>\n",
       "      <th>total_duration</th>\n",
       "      <th>avg_duration</th>\n",
       "      <th>max_duration</th>\n",
       "      <th>min_duration</th>\n",
       "      <th>coef_var</th>\n",
       "      <th>income_total_duration</th>\n",
       "      <th>outgo_total_duration</th>\n",
       "      <th>income_total_frequency</th>\n",
       "      <th>...</th>\n",
       "      <th>workday3_income_time_ratio</th>\n",
       "      <th>workday3ougo_time_ratio</th>\n",
       "      <th>workday3_income_cnt_ratio</th>\n",
       "      <th>workday3_ougo_cnt_ratio</th>\n",
       "      <th>week_work_ratio</th>\n",
       "      <th>total_time</th>\n",
       "      <th>total_freq</th>\n",
       "      <th>total_avg_duration</th>\n",
       "      <th>name</th>\n",
       "      <th>is_rel</th>\n",
       "    </tr>\n",
       "    <tr>\n",
       "      <th>custorm_id</th>\n",
       "      <th></th>\n",
       "      <th></th>\n",
       "      <th></th>\n",
       "      <th></th>\n",
       "      <th></th>\n",
       "      <th></th>\n",
       "      <th></th>\n",
       "      <th></th>\n",
       "      <th></th>\n",
       "      <th></th>\n",
       "      <th></th>\n",
       "      <th></th>\n",
       "      <th></th>\n",
       "      <th></th>\n",
       "      <th></th>\n",
       "      <th></th>\n",
       "      <th></th>\n",
       "      <th></th>\n",
       "      <th></th>\n",
       "      <th></th>\n",
       "      <th></th>\n",
       "    </tr>\n",
       "  </thead>\n",
       "  <tbody>\n",
       "    <tr>\n",
       "      <th>100008</th>\n",
       "      <td>13806983929</td>\n",
       "      <td>37.0</td>\n",
       "      <td>2108.0</td>\n",
       "      <td>56.972973</td>\n",
       "      <td>158.0</td>\n",
       "      <td>15.0</td>\n",
       "      <td>0.634581</td>\n",
       "      <td>1158.0</td>\n",
       "      <td>950.0</td>\n",
       "      <td>20</td>\n",
       "      <td>...</td>\n",
       "      <td>0.103647</td>\n",
       "      <td>NaN</td>\n",
       "      <td>0.130435</td>\n",
       "      <td>0.000000</td>\n",
       "      <td>1.911927</td>\n",
       "      <td>122465.0</td>\n",
       "      <td>1942</td>\n",
       "      <td>63.061277</td>\n",
       "      <td>龙岩姐夫</td>\n",
       "      <td>0</td>\n",
       "    </tr>\n",
       "    <tr>\n",
       "      <th>100008</th>\n",
       "      <td>13806032559</td>\n",
       "      <td>23.0</td>\n",
       "      <td>808.0</td>\n",
       "      <td>35.130435</td>\n",
       "      <td>120.0</td>\n",
       "      <td>11.0</td>\n",
       "      <td>0.779840</td>\n",
       "      <td>640.0</td>\n",
       "      <td>168.0</td>\n",
       "      <td>17</td>\n",
       "      <td>...</td>\n",
       "      <td>0.096100</td>\n",
       "      <td>0.271588</td>\n",
       "      <td>0.157895</td>\n",
       "      <td>0.157895</td>\n",
       "      <td>5.318519</td>\n",
       "      <td>122465.0</td>\n",
       "      <td>1942</td>\n",
       "      <td>63.061277</td>\n",
       "      <td>吴江腾</td>\n",
       "      <td>0</td>\n",
       "    </tr>\n",
       "    <tr>\n",
       "      <th>100008</th>\n",
       "      <td>13459200353</td>\n",
       "      <td>9.0</td>\n",
       "      <td>361.0</td>\n",
       "      <td>40.111111</td>\n",
       "      <td>83.0</td>\n",
       "      <td>14.0</td>\n",
       "      <td>0.613997</td>\n",
       "      <td>323.0</td>\n",
       "      <td>38.0</td>\n",
       "      <td>7</td>\n",
       "      <td>...</td>\n",
       "      <td>0.828571</td>\n",
       "      <td>0.171429</td>\n",
       "      <td>0.666667</td>\n",
       "      <td>0.333333</td>\n",
       "      <td>0.633484</td>\n",
       "      <td>122465.0</td>\n",
       "      <td>1942</td>\n",
       "      <td>63.061277</td>\n",
       "      <td>紅館曾小虎</td>\n",
       "      <td>0</td>\n",
       "    </tr>\n",
       "  </tbody>\n",
       "</table>\n",
       "<p>3 rows × 139 columns</p>\n",
       "</div>"
      ],
      "text/plain": [
       "                 number  total_frequency  total_duration  avg_duration  \\\n",
       "custorm_id                                                               \n",
       "100008      13806983929             37.0          2108.0     56.972973   \n",
       "100008      13806032559             23.0           808.0     35.130435   \n",
       "100008      13459200353              9.0           361.0     40.111111   \n",
       "\n",
       "            max_duration  min_duration  coef_var  income_total_duration  \\\n",
       "custorm_id                                                                \n",
       "100008             158.0          15.0  0.634581                 1158.0   \n",
       "100008             120.0          11.0  0.779840                  640.0   \n",
       "100008              83.0          14.0  0.613997                  323.0   \n",
       "\n",
       "            outgo_total_duration  income_total_frequency   ...    \\\n",
       "custorm_id                                                 ...     \n",
       "100008                     950.0                      20   ...     \n",
       "100008                     168.0                      17   ...     \n",
       "100008                      38.0                       7   ...     \n",
       "\n",
       "            workday3_income_time_ratio  workday3ougo_time_ratio  \\\n",
       "custorm_id                                                        \n",
       "100008                        0.103647                      NaN   \n",
       "100008                        0.096100                 0.271588   \n",
       "100008                        0.828571                 0.171429   \n",
       "\n",
       "            workday3_income_cnt_ratio  workday3_ougo_cnt_ratio  \\\n",
       "custorm_id                                                       \n",
       "100008                       0.130435                 0.000000   \n",
       "100008                       0.157895                 0.157895   \n",
       "100008                       0.666667                 0.333333   \n",
       "\n",
       "            week_work_ratio  total_time  total_freq  total_avg_duration  \\\n",
       "custorm_id                                                                \n",
       "100008             1.911927    122465.0        1942           63.061277   \n",
       "100008             5.318519    122465.0        1942           63.061277   \n",
       "100008             0.633484    122465.0        1942           63.061277   \n",
       "\n",
       "             name  is_rel  \n",
       "custorm_id                 \n",
       "100008       龙岩姐夫       0  \n",
       "100008        吴江腾       0  \n",
       "100008      紅館曾小虎       0  \n",
       "\n",
       "[3 rows x 139 columns]"
      ]
     },
     "execution_count": 24,
     "metadata": {},
     "output_type": "execute_result"
    }
   ],
   "source": [
    "rel_data.head(3)"
   ]
  },
  {
   "cell_type": "code",
   "execution_count": null,
   "metadata": {
    "collapsed": true
   },
   "outputs": [],
   "source": [
    "ss=rel_data.total_frequency.astype('float')/rel_data.total_freq.astype('float')"
   ]
  }
 ],
 "metadata": {
  "kernelspec": {
   "display_name": "Python [conda root]",
   "language": "python",
   "name": "conda-root-py"
  },
  "language_info": {
   "codemirror_mode": {
    "name": "ipython",
    "version": 2
   },
   "file_extension": ".py",
   "mimetype": "text/x-python",
   "name": "python",
   "nbconvert_exporter": "python",
   "pygments_lexer": "ipython2",
   "version": "2.7.12"
  }
 },
 "nbformat": 4,
 "nbformat_minor": 1
}
