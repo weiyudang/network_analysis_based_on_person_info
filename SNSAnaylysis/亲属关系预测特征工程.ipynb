{
 "cells": [
  {
   "cell_type": "code",
   "execution_count": 1,
   "metadata": {
    "collapsed": true
   },
   "outputs": [],
   "source": [
    "%matplotlib  inline\n",
    "import pandas as pd\n",
    "import numpy as np\n",
    "import seaborn as sns"
   ]
  },
  {
   "cell_type": "code",
   "execution_count": 31,
   "metadata": {
    "collapsed": false
   },
   "outputs": [
    {
     "data": {
      "text/plain": [
       "(8707, 6)"
      ]
     },
     "execution_count": 31,
     "metadata": {},
     "output_type": "execute_result"
    }
   ],
   "source": [
    "sample=pd.read_csv('MSN/sample_relative.csv',index_col=0,parse_dates=['call_time'])\n",
    "sample.shape"
   ]
  },
  {
   "cell_type": "code",
   "execution_count": 32,
   "metadata": {
    "collapsed": false
   },
   "outputs": [
    {
     "data": {
      "text/plain": [
       "(6041, 6)"
      ]
     },
     "execution_count": 32,
     "metadata": {},
     "output_type": "execute_result"
    }
   ],
   "source": [
    "sample=sample[(sample.type<3)&(sample.time>0)]\n",
    "sample.shape"
   ]
  },
  {
   "cell_type": "code",
   "execution_count": 4,
   "metadata": {
    "collapsed": false
   },
   "outputs": [
    {
     "data": {
      "text/html": [
       "<div>\n",
       "<table border=\"1\" class=\"dataframe\">\n",
       "  <thead>\n",
       "    <tr style=\"text-align: right;\">\n",
       "      <th></th>\n",
       "      <th>custorm_id</th>\n",
       "      <th>name</th>\n",
       "      <th>number</th>\n",
       "      <th>call_time</th>\n",
       "      <th>type</th>\n",
       "      <th>time</th>\n",
       "    </tr>\n",
       "  </thead>\n",
       "  <tbody>\n",
       "    <tr>\n",
       "      <th>0</th>\n",
       "      <td>3160062</td>\n",
       "      <td>白云合美</td>\n",
       "      <td>84863108</td>\n",
       "      <td>2016-08-01 19:54:23</td>\n",
       "      <td>2</td>\n",
       "      <td>0</td>\n",
       "    </tr>\n",
       "    <tr>\n",
       "      <th>1</th>\n",
       "      <td>3160062</td>\n",
       "      <td>早儿</td>\n",
       "      <td>13984328197</td>\n",
       "      <td>2016-08-09 14:19:08</td>\n",
       "      <td>1</td>\n",
       "      <td>28</td>\n",
       "    </tr>\n",
       "    <tr>\n",
       "      <th>2</th>\n",
       "      <td>3160062</td>\n",
       "      <td>陆伟</td>\n",
       "      <td>18984066076</td>\n",
       "      <td>2016-11-21 09:11:42</td>\n",
       "      <td>2</td>\n",
       "      <td>70</td>\n",
       "    </tr>\n",
       "  </tbody>\n",
       "</table>\n",
       "</div>"
      ],
      "text/plain": [
       "   custorm_id  name       number            call_time  type  time\n",
       "0     3160062  白云合美     84863108  2016-08-01 19:54:23     2     0\n",
       "1     3160062    早儿  13984328197  2016-08-09 14:19:08     1    28\n",
       "2     3160062    陆伟  18984066076  2016-11-21 09:11:42     2    70"
      ]
     },
     "execution_count": 4,
     "metadata": {},
     "output_type": "execute_result"
    }
   ],
   "source": [
    "sample.head(3)"
   ]
  },
  {
   "cell_type": "code",
   "execution_count": 6,
   "metadata": {
    "collapsed": true
   },
   "outputs": [
    {
     "data": {
      "text/plain": [
       "custorm_id  number     \n",
       "3160062     1520851          1\n",
       "            84863108         2\n",
       "            13007803819     22\n",
       "            13007842699     10\n",
       "            13037826907      1\n",
       "            13037850888      3\n",
       "            13087866855     71\n",
       "            13158022101      2\n",
       "            13158052117    154\n",
       "            13158052865    191\n",
       "            13158053567     13\n",
       "            13177562576      4\n",
       "            13208847727     25\n",
       "            13312217838     33\n",
       "            13312273268      5\n",
       "            13349928080    113\n",
       "            13368600485      1\n",
       "            13383860518     17\n",
       "            13505288380      7\n",
       "            13511912315     26\n",
       "            13511941799      6\n",
       "            13511972588      1\n",
       "            13511989053     86\n",
       "            13518516661      7\n",
       "            13554989533    441\n",
       "            13595009166      1\n",
       "            13595069490      2\n",
       "            13595124152     11\n",
       "            13595128916      8\n",
       "            13595140552     28\n",
       "                          ... \n",
       "            18334252567     31\n",
       "            18386784336     10\n",
       "            18508521167    105\n",
       "            18627785351     17\n",
       "            18684112922     39\n",
       "            18685009118      5\n",
       "            18685107628      2\n",
       "            18785009768      3\n",
       "            18786032238     10\n",
       "            18786072753      2\n",
       "            18786113905     13\n",
       "            18786615776      1\n",
       "            18786661797      9\n",
       "            18798884808    130\n",
       "            18798890694    140\n",
       "            18841651657      2\n",
       "            18932001233      3\n",
       "            18984027642     13\n",
       "            18984030101      2\n",
       "            18984031036      5\n",
       "            18984066076      6\n",
       "            18984137994    835\n",
       "            18984313406      7\n",
       "            18984383168      2\n",
       "            18984389358     23\n",
       "            18984587706     95\n",
       "            18985130711    122\n",
       "            18985502977      9\n",
       "            75583765566      7\n",
       "            85184863108     31\n",
       "Name: name, dtype: int64"
      ]
     },
     "execution_count": 6,
     "metadata": {},
     "output_type": "execute_result"
    }
   ],
   "source": [
    "sample.groupby(['custorm_id','number'])['name'].count()"
   ]
  },
  {
   "cell_type": "code",
   "execution_count": 33,
   "metadata": {
    "collapsed": false
   },
   "outputs": [],
   "source": [
    "call_one=sample[sample.number==13158052865]"
   ]
  },
  {
   "cell_type": "code",
   "execution_count": 35,
   "metadata": {
    "collapsed": false
   },
   "outputs": [],
   "source": [
    "call_one=call_one.sort_values('call_time')"
   ]
  },
  {
   "cell_type": "code",
   "execution_count": 36,
   "metadata": {
    "collapsed": false
   },
   "outputs": [
    {
     "data": {
      "text/html": [
       "<div>\n",
       "<table border=\"1\" class=\"dataframe\">\n",
       "  <thead>\n",
       "    <tr style=\"text-align: right;\">\n",
       "      <th></th>\n",
       "      <th>custorm_id</th>\n",
       "      <th>name</th>\n",
       "      <th>number</th>\n",
       "      <th>call_time</th>\n",
       "      <th>type</th>\n",
       "      <th>time</th>\n",
       "    </tr>\n",
       "  </thead>\n",
       "  <tbody>\n",
       "    <tr>\n",
       "      <th>7772</th>\n",
       "      <td>3160062</td>\n",
       "      <td>二姐</td>\n",
       "      <td>13158052865</td>\n",
       "      <td>2016-04-11 03:28:28</td>\n",
       "      <td>2</td>\n",
       "      <td>56</td>\n",
       "    </tr>\n",
       "    <tr>\n",
       "      <th>7960</th>\n",
       "      <td>3160062</td>\n",
       "      <td>二姐</td>\n",
       "      <td>13158052865</td>\n",
       "      <td>2016-04-11 10:25:51</td>\n",
       "      <td>2</td>\n",
       "      <td>101</td>\n",
       "    </tr>\n",
       "    <tr>\n",
       "      <th>3113</th>\n",
       "      <td>3160062</td>\n",
       "      <td>二姐</td>\n",
       "      <td>13158052865</td>\n",
       "      <td>2016-04-11 10:30:33</td>\n",
       "      <td>1</td>\n",
       "      <td>121</td>\n",
       "    </tr>\n",
       "    <tr>\n",
       "      <th>7198</th>\n",
       "      <td>3160062</td>\n",
       "      <td>二姐</td>\n",
       "      <td>13158052865</td>\n",
       "      <td>2016-04-12 08:28:14</td>\n",
       "      <td>2</td>\n",
       "      <td>74</td>\n",
       "    </tr>\n",
       "    <tr>\n",
       "      <th>1807</th>\n",
       "      <td>3160062</td>\n",
       "      <td>二姐</td>\n",
       "      <td>13158052865</td>\n",
       "      <td>2016-04-14 05:52:23</td>\n",
       "      <td>1</td>\n",
       "      <td>13</td>\n",
       "    </tr>\n",
       "    <tr>\n",
       "      <th>5934</th>\n",
       "      <td>3160062</td>\n",
       "      <td>二姐</td>\n",
       "      <td>13158052865</td>\n",
       "      <td>2016-04-18 01:57:15</td>\n",
       "      <td>2</td>\n",
       "      <td>536</td>\n",
       "    </tr>\n",
       "    <tr>\n",
       "      <th>88</th>\n",
       "      <td>3160062</td>\n",
       "      <td>二姐</td>\n",
       "      <td>13158052865</td>\n",
       "      <td>2016-04-18 05:32:25</td>\n",
       "      <td>1</td>\n",
       "      <td>24</td>\n",
       "    </tr>\n",
       "    <tr>\n",
       "      <th>4910</th>\n",
       "      <td>3160062</td>\n",
       "      <td>二姐</td>\n",
       "      <td>13158052865</td>\n",
       "      <td>2016-04-18 06:43:17</td>\n",
       "      <td>1</td>\n",
       "      <td>58</td>\n",
       "    </tr>\n",
       "    <tr>\n",
       "      <th>2522</th>\n",
       "      <td>3160062</td>\n",
       "      <td>二姐</td>\n",
       "      <td>13158052865</td>\n",
       "      <td>2016-04-21 10:35:21</td>\n",
       "      <td>1</td>\n",
       "      <td>44</td>\n",
       "    </tr>\n",
       "    <tr>\n",
       "      <th>4222</th>\n",
       "      <td>3160062</td>\n",
       "      <td>二姐</td>\n",
       "      <td>13158052865</td>\n",
       "      <td>2016-04-21 22:56:20</td>\n",
       "      <td>1</td>\n",
       "      <td>10</td>\n",
       "    </tr>\n",
       "  </tbody>\n",
       "</table>\n",
       "</div>"
      ],
      "text/plain": [
       "      custorm_id name       number           call_time  type  time\n",
       "7772     3160062   二姐  13158052865 2016-04-11 03:28:28     2    56\n",
       "7960     3160062   二姐  13158052865 2016-04-11 10:25:51     2   101\n",
       "3113     3160062   二姐  13158052865 2016-04-11 10:30:33     1   121\n",
       "7198     3160062   二姐  13158052865 2016-04-12 08:28:14     2    74\n",
       "1807     3160062   二姐  13158052865 2016-04-14 05:52:23     1    13\n",
       "5934     3160062   二姐  13158052865 2016-04-18 01:57:15     2   536\n",
       "88       3160062   二姐  13158052865 2016-04-18 05:32:25     1    24\n",
       "4910     3160062   二姐  13158052865 2016-04-18 06:43:17     1    58\n",
       "2522     3160062   二姐  13158052865 2016-04-21 10:35:21     1    44\n",
       "4222     3160062   二姐  13158052865 2016-04-21 22:56:20     1    10"
      ]
     },
     "execution_count": 36,
     "metadata": {},
     "output_type": "execute_result"
    }
   ],
   "source": [
    "call_one.head(10)"
   ]
  },
  {
   "cell_type": "markdown",
   "metadata": {},
   "source": [
    "# 二、特征工程"
   ]
  },
  {
   "cell_type": "markdown",
   "metadata": {},
   "source": [
    "## 2.1 总体统计\n",
    "> C:单个人\n",
    "- 总时长\n",
    "- 总频率\n",
    "\n",
    "> C2C:A_B\n",
    "- 总次数\n",
    "- 总时间\n",
    "- 占其总通话时长的比率（统计时间内）\n",
    "- 占其总通话频率的比率 （统计时间内）\n",
    "- 平均时间时长\n",
    "- 最大、最小时长\n",
    "- 时长的变异系数\n",
    "- 频率的变异系数\n",
    "- 打电话的总次数\n",
    "- 接电话的总次数\n",
    "- 打电话的总时间\n",
    "- 接电话的总时间\n",
    "- 打电话的平均时长\n",
    "- 接电话的平均时长\n",
    "- 互动率：1-|打电话的总时间- 接电话的总时间|/总时间：如果为1则说明互动是对称的，为0则说明互动是不对称的\n",
    "- 平均时间间隔：$\\sum_{i=1}^{n-1} \\frac{(t_{i+1}-t_{i})}{n-1}$ 及max,min间隔\n",
    "-  时长/间隔：日均通话时长。mean,max,变异系数"
   ]
  },
  {
   "cell_type": "markdown",
   "metadata": {},
   "source": [
    "## 2.1 按月均值统计\n",
    "> 以下是以月为单位的的均值\n",
    "- 时长\n",
    "- 频率\n",
    "- 来电时长\n",
    "- 去电时长\n",
    "- 去电频率\n",
    "- 来电频率\n",
    "- 月互动率\n",
    "- 月均时长"
   ]
  },
  {
   "cell_type": "markdown",
   "metadata": {},
   "source": [
    "## 2.2 按每周均值统计\n",
    "> 一下均以周计算\n",
    "- 工作日白天通话时长\n",
    "- 工作日晚上通话时长\n",
    "- 工作日白天通话频率\n",
    "- 工作日白天通话频率\n",
    "- 及以上白天时长、次数与晚上的比值\n",
    "- 及以后周末特征进行统计"
   ]
  },
  {
   "cell_type": "markdown",
   "metadata": {},
   "source": [
    "## 2.3\n",
    "> 聚合后\n",
    "- A与C联系的时长占A在该月、工作日，周末的比率\n",
    "- 次数\n",
    "- "
   ]
  },
  {
   "cell_type": "code",
   "execution_count": 38,
   "metadata": {
    "collapsed": false
   },
   "outputs": [
    {
     "data": {
      "text/plain": [
       "19.351111111111113"
      ]
     },
     "execution_count": 38,
     "metadata": {},
     "output_type": "execute_result"
    }
   ],
   "source": []
  }
 ],
 "metadata": {
  "anaconda-cloud": {},
  "kernelspec": {
   "display_name": "Python [conda root]",
   "language": "python",
   "name": "conda-root-py"
  },
  "language_info": {
   "codemirror_mode": {
    "name": "ipython",
    "version": 2
   },
   "file_extension": ".py",
   "mimetype": "text/x-python",
   "name": "python",
   "nbconvert_exporter": "python",
   "pygments_lexer": "ipython2",
   "version": "2.7.12"
  }
 },
 "nbformat": 4,
 "nbformat_minor": 1
}
