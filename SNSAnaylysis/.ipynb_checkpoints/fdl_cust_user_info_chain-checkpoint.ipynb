{
 "cells": [
  {
   "cell_type": "markdown",
   "metadata": {
    "collapsed": false
   },
   "source": [
    "## 一、fdl_cust_user_info_chain  \n",
    "- 2.6 G    7.9 G     /user/hive/warehouse/fdl.db/fdl_cust_user_info_chain  \n",
    "- sql:select id,cust_name,id_no,mobi_no,reg_src from fdl.fdl_cust_user_info_chain  limit 10"
   ]
  },
  {
   "cell_type": "markdown",
   "metadata": {},
   "source": [
    "###   数据获取"
   ]
  },
  {
   "cell_type": "code",
   "execution_count": 1,
   "metadata": {
    "collapsed": true
   },
   "outputs": [],
   "source": [
    "from impala.dbapi  import connect\n",
    "from sqlalchemy import *  \n",
    "from sqlalchemy.sql import select  \n",
    "from sqlalchemy.schema import *  \n",
    "import numpy as np\n",
    "import pandas as pd\n",
    "from sqlalchemy.orm import sessionmaker\n",
    "conn=connect(host=\"192.168.61.168\",port=21050,user=\"yudang.wei\",password=\"19900410w\",auth_mechanism=\"GSSAPI\")"
   ]
  },
  {
   "cell_type": "code",
   "execution_count": 2,
   "metadata": {
    "collapsed": true
   },
   "outputs": [],
   "source": [
    "query=pd.read_sql_query(\"select id,cust_name,id_no,mobi_no,reg_src from fdl.fdl_cust_user_info_chain\",conn,chunksize=10000)"
   ]
  },
  {
   "cell_type": "code",
   "execution_count": 55,
   "metadata": {
    "collapsed": true
   },
   "outputs": [],
   "source": [
    "def ToDisk(filename,query):\n",
    "    first=query.next()\n",
    "    first.to_csv(filename,encoding=\"utf-8\")\n",
    "    for line in query:\n",
    "        line.to_csv(filename,header=False,mode=\"a+\",encoding=\"utf-8\")"
   ]
  },
  {
   "cell_type": "code",
   "execution_count": 4,
   "metadata": {
    "collapsed": false
   },
   "outputs": [
    {
     "name": "stdout",
     "output_type": "stream",
     "text": [
      "CPU times: user 1min 15s, sys: 979 ms, total: 1min 16s\n",
      "Wall time: 1min 25s\n"
     ]
    }
   ],
   "source": [
    "%time ToDisk(\"data/fdl_cust_user_info_chain.csv\")"
   ]
  },
  {
   "cell_type": "markdown",
   "metadata": {},
   "source": [
    "### 数据处理"
   ]
  },
  {
   "cell_type": "markdown",
   "metadata": {},
   "source": [
    "#### 1.去重"
   ]
  },
  {
   "cell_type": "code",
   "execution_count": 5,
   "metadata": {
    "collapsed": false
   },
   "outputs": [
    {
     "name": "stderr",
     "output_type": "stream",
     "text": [
      "/usr/bin/anaconda2/lib/python2.7/site-packages/IPython/core/interactiveshell.py:2723: DtypeWarning: Columns (4) have mixed types. Specify dtype option on import or set low_memory=False.\n",
      "  interactivity=interactivity, compiler=compiler, result=result)\n"
     ]
    }
   ],
   "source": [
    "cust_user_info=pd.read_csv(\"data/fdl_cust_user_info_chain.csv\",index_col=0)"
   ]
  },
  {
   "cell_type": "code",
   "execution_count": 8,
   "metadata": {
    "collapsed": false
   },
   "outputs": [],
   "source": [
    "cust_user_info.drop_duplicates().to_csv(\"data/fdl_cust_user_info_chain.csv\")"
   ]
  },
  {
   "cell_type": "markdown",
   "metadata": {},
   "source": [
    "#### 2.数据质量描述"
   ]
  },
  {
   "cell_type": "code",
   "execution_count": 50,
   "metadata": {
    "collapsed": true
   },
   "outputs": [],
   "source": [
    "cust_user_info=pd.read_csv(\"data/fdl_cust_user_info_chain.csv\",index_col=1)\n",
    "cust_user_info.drop(['Unnamed: 0'],inplace=True,axis=1)"
   ]
  },
  {
   "cell_type": "markdown",
   "metadata": {},
   "source": [
    "###  5685171 用户"
   ]
  },
  {
   "cell_type": "code",
   "execution_count": 13,
   "metadata": {
    "collapsed": false
   },
   "outputs": [
    {
     "data": {
      "text/plain": [
       "(5685171, 5)"
      ]
     },
     "execution_count": 13,
     "metadata": {},
     "output_type": "execute_result"
    }
   ],
   "source": [
    "cust_user_info.shape"
   ]
  },
  {
   "cell_type": "code",
   "execution_count": 53,
   "metadata": {
    "collapsed": false
   },
   "outputs": [
    {
     "data": {
      "text/html": [
       "<div>\n",
       "<table border=\"1\" class=\"dataframe\">\n",
       "  <thead>\n",
       "    <tr style=\"text-align: right;\">\n",
       "      <th></th>\n",
       "      <th>cust_name</th>\n",
       "      <th>id_no</th>\n",
       "      <th>mobi_no</th>\n",
       "      <th>reg_src</th>\n",
       "    </tr>\n",
       "    <tr>\n",
       "      <th>id</th>\n",
       "      <th></th>\n",
       "      <th></th>\n",
       "      <th></th>\n",
       "      <th></th>\n",
       "    </tr>\n",
       "  </thead>\n",
       "  <tbody>\n",
       "    <tr>\n",
       "      <th>5798</th>\n",
       "      <td>戴俊安</td>\n",
       "      <td>371311198712212615</td>\n",
       "      <td>18267179687</td>\n",
       "      <td>Android</td>\n",
       "    </tr>\n",
       "    <tr>\n",
       "      <th>20995</th>\n",
       "      <td>肖艳平</td>\n",
       "      <td>430204197010230028</td>\n",
       "      <td>18607337862</td>\n",
       "      <td>Android</td>\n",
       "    </tr>\n",
       "    <tr>\n",
       "      <th>25064</th>\n",
       "      <td>申俊鹤</td>\n",
       "      <td>410526199107059570</td>\n",
       "      <td>13253382545</td>\n",
       "      <td>Android</td>\n",
       "    </tr>\n",
       "  </tbody>\n",
       "</table>\n",
       "</div>"
      ],
      "text/plain": [
       "      cust_name               id_no      mobi_no  reg_src\n",
       "id                                                       \n",
       "5798        戴俊安  371311198712212615  18267179687  Android\n",
       "20995       肖艳平  430204197010230028  18607337862  Android\n",
       "25064       申俊鹤  410526199107059570  13253382545  Android"
      ]
     },
     "execution_count": 53,
     "metadata": {},
     "output_type": "execute_result"
    }
   ],
   "source": [
    "cust_user_info.head(3)"
   ]
  },
  {
   "cell_type": "code",
   "execution_count": 36,
   "metadata": {
    "collapsed": false
   },
   "outputs": [
    {
     "name": "stdout",
     "output_type": "stream",
     "text": [
      "姓名的缺失值数量： 533021\n",
      "身份证信息的缺失值数量： 535374\n",
      "手机号码的缺失值数量： 0\n",
      "注册设备的缺失值数量： 0\n"
     ]
    }
   ],
   "source": [
    "print \"姓名的缺失值数量：\",cust_user_info[cust_user_info.cust_name.isnull()==True].shape[0]\n",
    "print \"身份证信息的缺失值数量：\",cust_user_info[cust_user_info.id_no.isnull()==True].shape[0]\n",
    "print \"手机号码的缺失值数量：\",cust_user_info[cust_user_info.mobi_no.isnull()==True].shape[0]\n",
    "print \"注册设备的缺失值数量：\",cust_user_info[cust_user_info.reg_src.isnull()==True].shape[0]"
   ]
  },
  {
   "cell_type": "markdown",
   "metadata": {},
   "source": [
    "##   二、crawler.app_call_record_hive\n",
    "- 文件太大按照partitions 进行查询，从而避免了内存溢出\n",
    "- 数据量：1 8010 9232 "
   ]
  },
  {
   "cell_type": "markdown",
   "metadata": {},
   "source": [
    "### 1.分区查询"
   ]
  },
  {
   "cell_type": "code",
   "execution_count": 70,
   "metadata": {
    "collapsed": false
   },
   "outputs": [],
   "source": [
    "call_records_partitions=pd.read_sql_query(\"show partitions crawler.app_call_record_hive\",conn,index_col=\"dt\")"
   ]
  },
  {
   "cell_type": "code",
   "execution_count": 72,
   "metadata": {
    "collapsed": false
   },
   "outputs": [],
   "source": [
    "call_records_partitions.to_csv(\"data/call_records_partitions.csv\")"
   ]
  },
  {
   "cell_type": "markdown",
   "metadata": {},
   "source": [
    "### 2.数据抽取"
   ]
  },
  {
   "cell_type": "code",
   "execution_count": 78,
   "metadata": {
    "collapsed": false
   },
   "outputs": [],
   "source": [
    "call_records_partitions=pd.read_csv(\"data/call_records_partitions.csv\",index_col=0,parse_dates=[\"dt\"]).sortlevel()"
   ]
  },
  {
   "cell_type": "code",
   "execution_count": 80,
   "metadata": {
    "collapsed": true
   },
   "outputs": [
    {
     "data": {
      "text/html": [
       "<div>\n",
       "<table border=\"1\" class=\"dataframe\">\n",
       "  <thead>\n",
       "    <tr style=\"text-align: right;\">\n",
       "      <th></th>\n",
       "      <th>#Rows</th>\n",
       "      <th>#Files</th>\n",
       "      <th>Size</th>\n",
       "      <th>Bytes Cached</th>\n",
       "      <th>Cache Replication</th>\n",
       "      <th>Format</th>\n",
       "      <th>Incremental stats</th>\n",
       "      <th>Location</th>\n",
       "    </tr>\n",
       "    <tr>\n",
       "      <th>dt</th>\n",
       "      <th></th>\n",
       "      <th></th>\n",
       "      <th></th>\n",
       "      <th></th>\n",
       "      <th></th>\n",
       "      <th></th>\n",
       "      <th></th>\n",
       "      <th></th>\n",
       "    </tr>\n",
       "  </thead>\n",
       "  <tbody>\n",
       "    <tr>\n",
       "      <th>2016-01-01</th>\n",
       "      <td>0</td>\n",
       "      <td>1</td>\n",
       "      <td>0B</td>\n",
       "      <td>NOT CACHED</td>\n",
       "      <td>NOT CACHED</td>\n",
       "      <td>TEXT</td>\n",
       "      <td>False</td>\n",
       "      <td>hdfs://s01cq-f1r21u2425-61.174.msfinance.hadoo...</td>\n",
       "    </tr>\n",
       "    <tr>\n",
       "      <th>2016-09-20</th>\n",
       "      <td>99214070</td>\n",
       "      <td>13</td>\n",
       "      <td>12.59GB</td>\n",
       "      <td>NOT CACHED</td>\n",
       "      <td>NOT CACHED</td>\n",
       "      <td>TEXT</td>\n",
       "      <td>False</td>\n",
       "      <td>hdfs://s01cq-f1r21u2425-61.174.msfinance.hadoo...</td>\n",
       "    </tr>\n",
       "    <tr>\n",
       "      <th>2016-09-25</th>\n",
       "      <td>347315890</td>\n",
       "      <td>46</td>\n",
       "      <td>44.08GB</td>\n",
       "      <td>NOT CACHED</td>\n",
       "      <td>NOT CACHED</td>\n",
       "      <td>TEXT</td>\n",
       "      <td>False</td>\n",
       "      <td>hdfs://s01cq-f1r21u2425-61.174.msfinance.hadoo...</td>\n",
       "    </tr>\n",
       "    <tr>\n",
       "      <th>2016-09-26</th>\n",
       "      <td>11066873</td>\n",
       "      <td>3</td>\n",
       "      <td>1.41GB</td>\n",
       "      <td>NOT CACHED</td>\n",
       "      <td>NOT CACHED</td>\n",
       "      <td>TEXT</td>\n",
       "      <td>False</td>\n",
       "      <td>hdfs://s01cq-f1r21u2425-61.174.msfinance.hadoo...</td>\n",
       "    </tr>\n",
       "    <tr>\n",
       "      <th>2016-09-27</th>\n",
       "      <td>6804732</td>\n",
       "      <td>3</td>\n",
       "      <td>886.59MB</td>\n",
       "      <td>NOT CACHED</td>\n",
       "      <td>NOT CACHED</td>\n",
       "      <td>TEXT</td>\n",
       "      <td>False</td>\n",
       "      <td>hdfs://s01cq-f1r21u2425-61.174.msfinance.hadoo...</td>\n",
       "    </tr>\n",
       "    <tr>\n",
       "      <th>2016-09-28</th>\n",
       "      <td>6984686</td>\n",
       "      <td>3</td>\n",
       "      <td>909.22MB</td>\n",
       "      <td>NOT CACHED</td>\n",
       "      <td>NOT CACHED</td>\n",
       "      <td>TEXT</td>\n",
       "      <td>False</td>\n",
       "      <td>hdfs://s01cq-f1r21u2425-61.174.msfinance.hadoo...</td>\n",
       "    </tr>\n",
       "    <tr>\n",
       "      <th>2016-09-29</th>\n",
       "      <td>7582309</td>\n",
       "      <td>3</td>\n",
       "      <td>987.28MB</td>\n",
       "      <td>NOT CACHED</td>\n",
       "      <td>NOT CACHED</td>\n",
       "      <td>TEXT</td>\n",
       "      <td>False</td>\n",
       "      <td>hdfs://s01cq-f1r21u2425-61.174.msfinance.hadoo...</td>\n",
       "    </tr>\n",
       "    <tr>\n",
       "      <th>2016-09-30</th>\n",
       "      <td>7483345</td>\n",
       "      <td>3</td>\n",
       "      <td>974.62MB</td>\n",
       "      <td>NOT CACHED</td>\n",
       "      <td>NOT CACHED</td>\n",
       "      <td>TEXT</td>\n",
       "      <td>False</td>\n",
       "      <td>hdfs://s01cq-f1r21u2425-61.174.msfinance.hadoo...</td>\n",
       "    </tr>\n",
       "    <tr>\n",
       "      <th>2016-10-01</th>\n",
       "      <td>5547651</td>\n",
       "      <td>3</td>\n",
       "      <td>721.55MB</td>\n",
       "      <td>NOT CACHED</td>\n",
       "      <td>NOT CACHED</td>\n",
       "      <td>TEXT</td>\n",
       "      <td>False</td>\n",
       "      <td>hdfs://s01cq-f1r21u2425-61.174.msfinance.hadoo...</td>\n",
       "    </tr>\n",
       "    <tr>\n",
       "      <th>2016-10-02</th>\n",
       "      <td>5913605</td>\n",
       "      <td>3</td>\n",
       "      <td>768.72MB</td>\n",
       "      <td>NOT CACHED</td>\n",
       "      <td>NOT CACHED</td>\n",
       "      <td>TEXT</td>\n",
       "      <td>False</td>\n",
       "      <td>hdfs://s01cq-f1r21u2425-61.174.msfinance.hadoo...</td>\n",
       "    </tr>\n",
       "    <tr>\n",
       "      <th>2016-10-03</th>\n",
       "      <td>4601487</td>\n",
       "      <td>2</td>\n",
       "      <td>597.24MB</td>\n",
       "      <td>NOT CACHED</td>\n",
       "      <td>NOT CACHED</td>\n",
       "      <td>TEXT</td>\n",
       "      <td>False</td>\n",
       "      <td>hdfs://s01cq-f1r21u2425-61.174.msfinance.hadoo...</td>\n",
       "    </tr>\n",
       "    <tr>\n",
       "      <th>2016-10-04</th>\n",
       "      <td>4867059</td>\n",
       "      <td>2</td>\n",
       "      <td>633.55MB</td>\n",
       "      <td>NOT CACHED</td>\n",
       "      <td>NOT CACHED</td>\n",
       "      <td>TEXT</td>\n",
       "      <td>False</td>\n",
       "      <td>hdfs://s01cq-f1r21u2425-61.174.msfinance.hadoo...</td>\n",
       "    </tr>\n",
       "    <tr>\n",
       "      <th>2016-10-05</th>\n",
       "      <td>5351880</td>\n",
       "      <td>3</td>\n",
       "      <td>695.51MB</td>\n",
       "      <td>NOT CACHED</td>\n",
       "      <td>NOT CACHED</td>\n",
       "      <td>TEXT</td>\n",
       "      <td>False</td>\n",
       "      <td>hdfs://s01cq-f1r21u2425-61.174.msfinance.hadoo...</td>\n",
       "    </tr>\n",
       "    <tr>\n",
       "      <th>2016-10-06</th>\n",
       "      <td>5958675</td>\n",
       "      <td>3</td>\n",
       "      <td>774.94MB</td>\n",
       "      <td>NOT CACHED</td>\n",
       "      <td>NOT CACHED</td>\n",
       "      <td>TEXT</td>\n",
       "      <td>False</td>\n",
       "      <td>hdfs://s01cq-f1r21u2425-61.174.msfinance.hadoo...</td>\n",
       "    </tr>\n",
       "    <tr>\n",
       "      <th>2016-10-07</th>\n",
       "      <td>6216038</td>\n",
       "      <td>3</td>\n",
       "      <td>807.79MB</td>\n",
       "      <td>NOT CACHED</td>\n",
       "      <td>NOT CACHED</td>\n",
       "      <td>TEXT</td>\n",
       "      <td>False</td>\n",
       "      <td>hdfs://s01cq-f1r21u2425-61.174.msfinance.hadoo...</td>\n",
       "    </tr>\n",
       "    <tr>\n",
       "      <th>2016-10-08</th>\n",
       "      <td>8822379</td>\n",
       "      <td>3</td>\n",
       "      <td>1.12GB</td>\n",
       "      <td>NOT CACHED</td>\n",
       "      <td>NOT CACHED</td>\n",
       "      <td>TEXT</td>\n",
       "      <td>False</td>\n",
       "      <td>hdfs://s01cq-f1r21u2425-61.174.msfinance.hadoo...</td>\n",
       "    </tr>\n",
       "    <tr>\n",
       "      <th>2016-10-09</th>\n",
       "      <td>9857600</td>\n",
       "      <td>4</td>\n",
       "      <td>1.25GB</td>\n",
       "      <td>NOT CACHED</td>\n",
       "      <td>NOT CACHED</td>\n",
       "      <td>TEXT</td>\n",
       "      <td>False</td>\n",
       "      <td>hdfs://s01cq-f1r21u2425-61.174.msfinance.hadoo...</td>\n",
       "    </tr>\n",
       "    <tr>\n",
       "      <th>2016-10-10</th>\n",
       "      <td>10510338</td>\n",
       "      <td>3</td>\n",
       "      <td>1.34GB</td>\n",
       "      <td>NOT CACHED</td>\n",
       "      <td>NOT CACHED</td>\n",
       "      <td>TEXT</td>\n",
       "      <td>False</td>\n",
       "      <td>hdfs://s01cq-f1r21u2425-61.174.msfinance.hadoo...</td>\n",
       "    </tr>\n",
       "    <tr>\n",
       "      <th>2016-10-11</th>\n",
       "      <td>9843490</td>\n",
       "      <td>3</td>\n",
       "      <td>1.25GB</td>\n",
       "      <td>NOT CACHED</td>\n",
       "      <td>NOT CACHED</td>\n",
       "      <td>TEXT</td>\n",
       "      <td>False</td>\n",
       "      <td>hdfs://s01cq-f1r21u2425-61.174.msfinance.hadoo...</td>\n",
       "    </tr>\n",
       "    <tr>\n",
       "      <th>2016-10-12</th>\n",
       "      <td>11163043</td>\n",
       "      <td>3</td>\n",
       "      <td>1.42GB</td>\n",
       "      <td>NOT CACHED</td>\n",
       "      <td>NOT CACHED</td>\n",
       "      <td>TEXT</td>\n",
       "      <td>False</td>\n",
       "      <td>hdfs://s01cq-f1r21u2425-61.174.msfinance.hadoo...</td>\n",
       "    </tr>\n",
       "    <tr>\n",
       "      <th>2016-10-13</th>\n",
       "      <td>9750500</td>\n",
       "      <td>4</td>\n",
       "      <td>1.24GB</td>\n",
       "      <td>NOT CACHED</td>\n",
       "      <td>NOT CACHED</td>\n",
       "      <td>TEXT</td>\n",
       "      <td>False</td>\n",
       "      <td>hdfs://s01cq-f1r21u2425-61.174.msfinance.hadoo...</td>\n",
       "    </tr>\n",
       "    <tr>\n",
       "      <th>2016-10-14</th>\n",
       "      <td>9447804</td>\n",
       "      <td>4</td>\n",
       "      <td>1.20GB</td>\n",
       "      <td>NOT CACHED</td>\n",
       "      <td>NOT CACHED</td>\n",
       "      <td>TEXT</td>\n",
       "      <td>False</td>\n",
       "      <td>hdfs://s01cq-f1r21u2425-61.174.msfinance.hadoo...</td>\n",
       "    </tr>\n",
       "    <tr>\n",
       "      <th>2016-10-15</th>\n",
       "      <td>7899329</td>\n",
       "      <td>3</td>\n",
       "      <td>1.00GB</td>\n",
       "      <td>NOT CACHED</td>\n",
       "      <td>NOT CACHED</td>\n",
       "      <td>TEXT</td>\n",
       "      <td>False</td>\n",
       "      <td>hdfs://s01cq-f1r21u2425-61.174.msfinance.hadoo...</td>\n",
       "    </tr>\n",
       "    <tr>\n",
       "      <th>2016-10-16</th>\n",
       "      <td>7088654</td>\n",
       "      <td>4</td>\n",
       "      <td>922.73MB</td>\n",
       "      <td>NOT CACHED</td>\n",
       "      <td>NOT CACHED</td>\n",
       "      <td>TEXT</td>\n",
       "      <td>False</td>\n",
       "      <td>hdfs://s01cq-f1r21u2425-61.174.msfinance.hadoo...</td>\n",
       "    </tr>\n",
       "    <tr>\n",
       "      <th>2016-10-17</th>\n",
       "      <td>9029927</td>\n",
       "      <td>3</td>\n",
       "      <td>1.15GB</td>\n",
       "      <td>NOT CACHED</td>\n",
       "      <td>NOT CACHED</td>\n",
       "      <td>TEXT</td>\n",
       "      <td>False</td>\n",
       "      <td>hdfs://s01cq-f1r21u2425-61.174.msfinance.hadoo...</td>\n",
       "    </tr>\n",
       "    <tr>\n",
       "      <th>2016-10-18</th>\n",
       "      <td>8995617</td>\n",
       "      <td>4</td>\n",
       "      <td>1.14GB</td>\n",
       "      <td>NOT CACHED</td>\n",
       "      <td>NOT CACHED</td>\n",
       "      <td>TEXT</td>\n",
       "      <td>False</td>\n",
       "      <td>hdfs://s01cq-f1r21u2425-61.174.msfinance.hadoo...</td>\n",
       "    </tr>\n",
       "    <tr>\n",
       "      <th>2016-10-19</th>\n",
       "      <td>8843194</td>\n",
       "      <td>3</td>\n",
       "      <td>1.13GB</td>\n",
       "      <td>NOT CACHED</td>\n",
       "      <td>NOT CACHED</td>\n",
       "      <td>TEXT</td>\n",
       "      <td>False</td>\n",
       "      <td>hdfs://s01cq-f1r21u2425-61.174.msfinance.hadoo...</td>\n",
       "    </tr>\n",
       "    <tr>\n",
       "      <th>2016-10-20</th>\n",
       "      <td>8568096</td>\n",
       "      <td>3</td>\n",
       "      <td>1.09GB</td>\n",
       "      <td>NOT CACHED</td>\n",
       "      <td>NOT CACHED</td>\n",
       "      <td>TEXT</td>\n",
       "      <td>False</td>\n",
       "      <td>hdfs://s01cq-f1r21u2425-61.174.msfinance.hadoo...</td>\n",
       "    </tr>\n",
       "    <tr>\n",
       "      <th>2016-10-21</th>\n",
       "      <td>8203921</td>\n",
       "      <td>4</td>\n",
       "      <td>1.04GB</td>\n",
       "      <td>NOT CACHED</td>\n",
       "      <td>NOT CACHED</td>\n",
       "      <td>TEXT</td>\n",
       "      <td>False</td>\n",
       "      <td>hdfs://s01cq-f1r21u2425-61.174.msfinance.hadoo...</td>\n",
       "    </tr>\n",
       "    <tr>\n",
       "      <th>2016-10-22</th>\n",
       "      <td>7114694</td>\n",
       "      <td>4</td>\n",
       "      <td>925.63MB</td>\n",
       "      <td>NOT CACHED</td>\n",
       "      <td>NOT CACHED</td>\n",
       "      <td>TEXT</td>\n",
       "      <td>False</td>\n",
       "      <td>hdfs://s01cq-f1r21u2425-61.174.msfinance.hadoo...</td>\n",
       "    </tr>\n",
       "    <tr>\n",
       "      <th>...</th>\n",
       "      <td>...</td>\n",
       "      <td>...</td>\n",
       "      <td>...</td>\n",
       "      <td>...</td>\n",
       "      <td>...</td>\n",
       "      <td>...</td>\n",
       "      <td>...</td>\n",
       "      <td>...</td>\n",
       "    </tr>\n",
       "    <tr>\n",
       "      <th>2016-11-22</th>\n",
       "      <td>8575732</td>\n",
       "      <td>5</td>\n",
       "      <td>1.09GB</td>\n",
       "      <td>NOT CACHED</td>\n",
       "      <td>NOT CACHED</td>\n",
       "      <td>TEXT</td>\n",
       "      <td>False</td>\n",
       "      <td>hdfs://s01cq-f1r21u2425-61.174.msfinance.hadoo...</td>\n",
       "    </tr>\n",
       "    <tr>\n",
       "      <th>2016-11-23</th>\n",
       "      <td>8259355</td>\n",
       "      <td>3</td>\n",
       "      <td>1.05GB</td>\n",
       "      <td>NOT CACHED</td>\n",
       "      <td>NOT CACHED</td>\n",
       "      <td>TEXT</td>\n",
       "      <td>False</td>\n",
       "      <td>hdfs://s01cq-f1r21u2425-61.174.msfinance.hadoo...</td>\n",
       "    </tr>\n",
       "    <tr>\n",
       "      <th>2016-11-24</th>\n",
       "      <td>8743705</td>\n",
       "      <td>4</td>\n",
       "      <td>1.11GB</td>\n",
       "      <td>NOT CACHED</td>\n",
       "      <td>NOT CACHED</td>\n",
       "      <td>TEXT</td>\n",
       "      <td>False</td>\n",
       "      <td>hdfs://s01cq-f1r21u2425-61.174.msfinance.hadoo...</td>\n",
       "    </tr>\n",
       "    <tr>\n",
       "      <th>2016-11-25</th>\n",
       "      <td>8797453</td>\n",
       "      <td>4</td>\n",
       "      <td>1.12GB</td>\n",
       "      <td>NOT CACHED</td>\n",
       "      <td>NOT CACHED</td>\n",
       "      <td>TEXT</td>\n",
       "      <td>False</td>\n",
       "      <td>hdfs://s01cq-f1r21u2425-61.174.msfinance.hadoo...</td>\n",
       "    </tr>\n",
       "    <tr>\n",
       "      <th>2016-11-26</th>\n",
       "      <td>7757295</td>\n",
       "      <td>4</td>\n",
       "      <td>1009.64MB</td>\n",
       "      <td>NOT CACHED</td>\n",
       "      <td>NOT CACHED</td>\n",
       "      <td>TEXT</td>\n",
       "      <td>False</td>\n",
       "      <td>hdfs://s01cq-f1r21u2425-61.174.msfinance.hadoo...</td>\n",
       "    </tr>\n",
       "    <tr>\n",
       "      <th>2016-11-27</th>\n",
       "      <td>7328798</td>\n",
       "      <td>3</td>\n",
       "      <td>953.84MB</td>\n",
       "      <td>NOT CACHED</td>\n",
       "      <td>NOT CACHED</td>\n",
       "      <td>TEXT</td>\n",
       "      <td>False</td>\n",
       "      <td>hdfs://s01cq-f1r21u2425-61.174.msfinance.hadoo...</td>\n",
       "    </tr>\n",
       "    <tr>\n",
       "      <th>2016-11-28</th>\n",
       "      <td>9073451</td>\n",
       "      <td>4</td>\n",
       "      <td>1.15GB</td>\n",
       "      <td>NOT CACHED</td>\n",
       "      <td>NOT CACHED</td>\n",
       "      <td>TEXT</td>\n",
       "      <td>False</td>\n",
       "      <td>hdfs://s01cq-f1r21u2425-61.174.msfinance.hadoo...</td>\n",
       "    </tr>\n",
       "    <tr>\n",
       "      <th>2016-11-29</th>\n",
       "      <td>9227271</td>\n",
       "      <td>4</td>\n",
       "      <td>1.17GB</td>\n",
       "      <td>NOT CACHED</td>\n",
       "      <td>NOT CACHED</td>\n",
       "      <td>TEXT</td>\n",
       "      <td>False</td>\n",
       "      <td>hdfs://s01cq-f1r21u2425-61.174.msfinance.hadoo...</td>\n",
       "    </tr>\n",
       "    <tr>\n",
       "      <th>2016-11-30</th>\n",
       "      <td>8636715</td>\n",
       "      <td>4</td>\n",
       "      <td>1.10GB</td>\n",
       "      <td>NOT CACHED</td>\n",
       "      <td>NOT CACHED</td>\n",
       "      <td>TEXT</td>\n",
       "      <td>False</td>\n",
       "      <td>hdfs://s01cq-f1r21u2425-61.174.msfinance.hadoo...</td>\n",
       "    </tr>\n",
       "    <tr>\n",
       "      <th>2016-12-01</th>\n",
       "      <td>9424047</td>\n",
       "      <td>4</td>\n",
       "      <td>1.20GB</td>\n",
       "      <td>NOT CACHED</td>\n",
       "      <td>NOT CACHED</td>\n",
       "      <td>TEXT</td>\n",
       "      <td>False</td>\n",
       "      <td>hdfs://s01cq-f1r21u2425-61.174.msfinance.hadoo...</td>\n",
       "    </tr>\n",
       "    <tr>\n",
       "      <th>2016-12-02</th>\n",
       "      <td>9641518</td>\n",
       "      <td>3</td>\n",
       "      <td>1.23GB</td>\n",
       "      <td>NOT CACHED</td>\n",
       "      <td>NOT CACHED</td>\n",
       "      <td>TEXT</td>\n",
       "      <td>False</td>\n",
       "      <td>hdfs://s01cq-f1r21u2425-61.174.msfinance.hadoo...</td>\n",
       "    </tr>\n",
       "    <tr>\n",
       "      <th>2016-12-03</th>\n",
       "      <td>8062101</td>\n",
       "      <td>4</td>\n",
       "      <td>1.03GB</td>\n",
       "      <td>NOT CACHED</td>\n",
       "      <td>NOT CACHED</td>\n",
       "      <td>TEXT</td>\n",
       "      <td>False</td>\n",
       "      <td>hdfs://s01cq-f1r21u2425-61.174.msfinance.hadoo...</td>\n",
       "    </tr>\n",
       "    <tr>\n",
       "      <th>2016-12-04</th>\n",
       "      <td>7720950</td>\n",
       "      <td>4</td>\n",
       "      <td>1005.78MB</td>\n",
       "      <td>NOT CACHED</td>\n",
       "      <td>NOT CACHED</td>\n",
       "      <td>TEXT</td>\n",
       "      <td>False</td>\n",
       "      <td>hdfs://s01cq-f1r21u2425-61.174.msfinance.hadoo...</td>\n",
       "    </tr>\n",
       "    <tr>\n",
       "      <th>2016-12-05</th>\n",
       "      <td>9909138</td>\n",
       "      <td>4</td>\n",
       "      <td>1.26GB</td>\n",
       "      <td>NOT CACHED</td>\n",
       "      <td>NOT CACHED</td>\n",
       "      <td>TEXT</td>\n",
       "      <td>False</td>\n",
       "      <td>hdfs://s01cq-f1r21u2425-61.174.msfinance.hadoo...</td>\n",
       "    </tr>\n",
       "    <tr>\n",
       "      <th>2016-12-06</th>\n",
       "      <td>9853024</td>\n",
       "      <td>4</td>\n",
       "      <td>1.25GB</td>\n",
       "      <td>NOT CACHED</td>\n",
       "      <td>NOT CACHED</td>\n",
       "      <td>TEXT</td>\n",
       "      <td>False</td>\n",
       "      <td>hdfs://s01cq-f1r21u2425-61.174.msfinance.hadoo...</td>\n",
       "    </tr>\n",
       "    <tr>\n",
       "      <th>2016-12-07</th>\n",
       "      <td>17874196</td>\n",
       "      <td>4</td>\n",
       "      <td>2.59GB</td>\n",
       "      <td>NOT CACHED</td>\n",
       "      <td>NOT CACHED</td>\n",
       "      <td>TEXT</td>\n",
       "      <td>False</td>\n",
       "      <td>hdfs://s01cq-f1r21u2425-61.174.msfinance.hadoo...</td>\n",
       "    </tr>\n",
       "    <tr>\n",
       "      <th>2016-12-08</th>\n",
       "      <td>18450786</td>\n",
       "      <td>4</td>\n",
       "      <td>2.67GB</td>\n",
       "      <td>NOT CACHED</td>\n",
       "      <td>NOT CACHED</td>\n",
       "      <td>TEXT</td>\n",
       "      <td>False</td>\n",
       "      <td>hdfs://s01cq-f1r21u2425-61.174.msfinance.hadoo...</td>\n",
       "    </tr>\n",
       "    <tr>\n",
       "      <th>2016-12-09</th>\n",
       "      <td>18231752</td>\n",
       "      <td>4</td>\n",
       "      <td>2.66GB</td>\n",
       "      <td>NOT CACHED</td>\n",
       "      <td>NOT CACHED</td>\n",
       "      <td>TEXT</td>\n",
       "      <td>False</td>\n",
       "      <td>hdfs://s01cq-f1r21u2425-61.174.msfinance.hadoo...</td>\n",
       "    </tr>\n",
       "    <tr>\n",
       "      <th>2016-12-10</th>\n",
       "      <td>16911036</td>\n",
       "      <td>3</td>\n",
       "      <td>2.48GB</td>\n",
       "      <td>NOT CACHED</td>\n",
       "      <td>NOT CACHED</td>\n",
       "      <td>TEXT</td>\n",
       "      <td>False</td>\n",
       "      <td>hdfs://s01cq-f1r21u2425-61.174.msfinance.hadoo...</td>\n",
       "    </tr>\n",
       "    <tr>\n",
       "      <th>2016-12-11</th>\n",
       "      <td>16289742</td>\n",
       "      <td>4</td>\n",
       "      <td>2.40GB</td>\n",
       "      <td>NOT CACHED</td>\n",
       "      <td>NOT CACHED</td>\n",
       "      <td>TEXT</td>\n",
       "      <td>False</td>\n",
       "      <td>hdfs://s01cq-f1r21u2425-61.174.msfinance.hadoo...</td>\n",
       "    </tr>\n",
       "    <tr>\n",
       "      <th>2016-12-12</th>\n",
       "      <td>25449775</td>\n",
       "      <td>4</td>\n",
       "      <td>3.78GB</td>\n",
       "      <td>NOT CACHED</td>\n",
       "      <td>NOT CACHED</td>\n",
       "      <td>TEXT</td>\n",
       "      <td>False</td>\n",
       "      <td>hdfs://s01cq-f1r21u2425-61.174.msfinance.hadoo...</td>\n",
       "    </tr>\n",
       "    <tr>\n",
       "      <th>2016-12-13</th>\n",
       "      <td>24929712</td>\n",
       "      <td>4</td>\n",
       "      <td>3.71GB</td>\n",
       "      <td>NOT CACHED</td>\n",
       "      <td>NOT CACHED</td>\n",
       "      <td>TEXT</td>\n",
       "      <td>False</td>\n",
       "      <td>hdfs://s01cq-f1r21u2425-61.174.msfinance.hadoo...</td>\n",
       "    </tr>\n",
       "    <tr>\n",
       "      <th>2016-12-14</th>\n",
       "      <td>21380791</td>\n",
       "      <td>5</td>\n",
       "      <td>3.18GB</td>\n",
       "      <td>NOT CACHED</td>\n",
       "      <td>NOT CACHED</td>\n",
       "      <td>TEXT</td>\n",
       "      <td>False</td>\n",
       "      <td>hdfs://s01cq-f1r21u2425-61.174.msfinance.hadoo...</td>\n",
       "    </tr>\n",
       "    <tr>\n",
       "      <th>2016-12-15</th>\n",
       "      <td>18652895</td>\n",
       "      <td>4</td>\n",
       "      <td>2.79GB</td>\n",
       "      <td>NOT CACHED</td>\n",
       "      <td>NOT CACHED</td>\n",
       "      <td>TEXT</td>\n",
       "      <td>False</td>\n",
       "      <td>hdfs://s01cq-f1r21u2425-61.174.msfinance.hadoo...</td>\n",
       "    </tr>\n",
       "    <tr>\n",
       "      <th>2016-12-16</th>\n",
       "      <td>17383729</td>\n",
       "      <td>3</td>\n",
       "      <td>2.63GB</td>\n",
       "      <td>NOT CACHED</td>\n",
       "      <td>NOT CACHED</td>\n",
       "      <td>TEXT</td>\n",
       "      <td>False</td>\n",
       "      <td>hdfs://s01cq-f1r21u2425-61.174.msfinance.hadoo...</td>\n",
       "    </tr>\n",
       "    <tr>\n",
       "      <th>2016-12-17</th>\n",
       "      <td>14026742</td>\n",
       "      <td>4</td>\n",
       "      <td>2.12GB</td>\n",
       "      <td>NOT CACHED</td>\n",
       "      <td>NOT CACHED</td>\n",
       "      <td>TEXT</td>\n",
       "      <td>False</td>\n",
       "      <td>hdfs://s01cq-f1r21u2425-61.174.msfinance.hadoo...</td>\n",
       "    </tr>\n",
       "    <tr>\n",
       "      <th>2016-12-18</th>\n",
       "      <td>13806864</td>\n",
       "      <td>4</td>\n",
       "      <td>2.09GB</td>\n",
       "      <td>NOT CACHED</td>\n",
       "      <td>NOT CACHED</td>\n",
       "      <td>TEXT</td>\n",
       "      <td>False</td>\n",
       "      <td>hdfs://s01cq-f1r21u2425-61.174.msfinance.hadoo...</td>\n",
       "    </tr>\n",
       "    <tr>\n",
       "      <th>2016-12-19</th>\n",
       "      <td>17747642</td>\n",
       "      <td>4</td>\n",
       "      <td>2.69GB</td>\n",
       "      <td>NOT CACHED</td>\n",
       "      <td>NOT CACHED</td>\n",
       "      <td>TEXT</td>\n",
       "      <td>False</td>\n",
       "      <td>hdfs://s01cq-f1r21u2425-61.174.msfinance.hadoo...</td>\n",
       "    </tr>\n",
       "    <tr>\n",
       "      <th>2016-12-20</th>\n",
       "      <td>17423986</td>\n",
       "      <td>4</td>\n",
       "      <td>2.63GB</td>\n",
       "      <td>NOT CACHED</td>\n",
       "      <td>NOT CACHED</td>\n",
       "      <td>TEXT</td>\n",
       "      <td>False</td>\n",
       "      <td>hdfs://s01cq-f1r21u2425-61.174.msfinance.hadoo...</td>\n",
       "    </tr>\n",
       "    <tr>\n",
       "      <th>Total</th>\n",
       "      <td>446529960</td>\n",
       "      <td>363</td>\n",
       "      <td>168.09GB</td>\n",
       "      <td>0B</td>\n",
       "      <td>NaN</td>\n",
       "      <td>NaN</td>\n",
       "      <td>NaN</td>\n",
       "      <td>NaN</td>\n",
       "    </tr>\n",
       "  </tbody>\n",
       "</table>\n",
       "<p>88 rows × 8 columns</p>\n",
       "</div>"
      ],
      "text/plain": [
       "                #Rows  #Files       Size Bytes Cached Cache Replication  \\\n",
       "dt                                                                        \n",
       "2016-01-01          0       1         0B   NOT CACHED        NOT CACHED   \n",
       "2016-09-20   99214070      13    12.59GB   NOT CACHED        NOT CACHED   \n",
       "2016-09-25  347315890      46    44.08GB   NOT CACHED        NOT CACHED   \n",
       "2016-09-26   11066873       3     1.41GB   NOT CACHED        NOT CACHED   \n",
       "2016-09-27    6804732       3   886.59MB   NOT CACHED        NOT CACHED   \n",
       "2016-09-28    6984686       3   909.22MB   NOT CACHED        NOT CACHED   \n",
       "2016-09-29    7582309       3   987.28MB   NOT CACHED        NOT CACHED   \n",
       "2016-09-30    7483345       3   974.62MB   NOT CACHED        NOT CACHED   \n",
       "2016-10-01    5547651       3   721.55MB   NOT CACHED        NOT CACHED   \n",
       "2016-10-02    5913605       3   768.72MB   NOT CACHED        NOT CACHED   \n",
       "2016-10-03    4601487       2   597.24MB   NOT CACHED        NOT CACHED   \n",
       "2016-10-04    4867059       2   633.55MB   NOT CACHED        NOT CACHED   \n",
       "2016-10-05    5351880       3   695.51MB   NOT CACHED        NOT CACHED   \n",
       "2016-10-06    5958675       3   774.94MB   NOT CACHED        NOT CACHED   \n",
       "2016-10-07    6216038       3   807.79MB   NOT CACHED        NOT CACHED   \n",
       "2016-10-08    8822379       3     1.12GB   NOT CACHED        NOT CACHED   \n",
       "2016-10-09    9857600       4     1.25GB   NOT CACHED        NOT CACHED   \n",
       "2016-10-10   10510338       3     1.34GB   NOT CACHED        NOT CACHED   \n",
       "2016-10-11    9843490       3     1.25GB   NOT CACHED        NOT CACHED   \n",
       "2016-10-12   11163043       3     1.42GB   NOT CACHED        NOT CACHED   \n",
       "2016-10-13    9750500       4     1.24GB   NOT CACHED        NOT CACHED   \n",
       "2016-10-14    9447804       4     1.20GB   NOT CACHED        NOT CACHED   \n",
       "2016-10-15    7899329       3     1.00GB   NOT CACHED        NOT CACHED   \n",
       "2016-10-16    7088654       4   922.73MB   NOT CACHED        NOT CACHED   \n",
       "2016-10-17    9029927       3     1.15GB   NOT CACHED        NOT CACHED   \n",
       "2016-10-18    8995617       4     1.14GB   NOT CACHED        NOT CACHED   \n",
       "2016-10-19    8843194       3     1.13GB   NOT CACHED        NOT CACHED   \n",
       "2016-10-20    8568096       3     1.09GB   NOT CACHED        NOT CACHED   \n",
       "2016-10-21    8203921       4     1.04GB   NOT CACHED        NOT CACHED   \n",
       "2016-10-22    7114694       4   925.63MB   NOT CACHED        NOT CACHED   \n",
       "...               ...     ...        ...          ...               ...   \n",
       "2016-11-22    8575732       5     1.09GB   NOT CACHED        NOT CACHED   \n",
       "2016-11-23    8259355       3     1.05GB   NOT CACHED        NOT CACHED   \n",
       "2016-11-24    8743705       4     1.11GB   NOT CACHED        NOT CACHED   \n",
       "2016-11-25    8797453       4     1.12GB   NOT CACHED        NOT CACHED   \n",
       "2016-11-26    7757295       4  1009.64MB   NOT CACHED        NOT CACHED   \n",
       "2016-11-27    7328798       3   953.84MB   NOT CACHED        NOT CACHED   \n",
       "2016-11-28    9073451       4     1.15GB   NOT CACHED        NOT CACHED   \n",
       "2016-11-29    9227271       4     1.17GB   NOT CACHED        NOT CACHED   \n",
       "2016-11-30    8636715       4     1.10GB   NOT CACHED        NOT CACHED   \n",
       "2016-12-01    9424047       4     1.20GB   NOT CACHED        NOT CACHED   \n",
       "2016-12-02    9641518       3     1.23GB   NOT CACHED        NOT CACHED   \n",
       "2016-12-03    8062101       4     1.03GB   NOT CACHED        NOT CACHED   \n",
       "2016-12-04    7720950       4  1005.78MB   NOT CACHED        NOT CACHED   \n",
       "2016-12-05    9909138       4     1.26GB   NOT CACHED        NOT CACHED   \n",
       "2016-12-06    9853024       4     1.25GB   NOT CACHED        NOT CACHED   \n",
       "2016-12-07   17874196       4     2.59GB   NOT CACHED        NOT CACHED   \n",
       "2016-12-08   18450786       4     2.67GB   NOT CACHED        NOT CACHED   \n",
       "2016-12-09   18231752       4     2.66GB   NOT CACHED        NOT CACHED   \n",
       "2016-12-10   16911036       3     2.48GB   NOT CACHED        NOT CACHED   \n",
       "2016-12-11   16289742       4     2.40GB   NOT CACHED        NOT CACHED   \n",
       "2016-12-12   25449775       4     3.78GB   NOT CACHED        NOT CACHED   \n",
       "2016-12-13   24929712       4     3.71GB   NOT CACHED        NOT CACHED   \n",
       "2016-12-14   21380791       5     3.18GB   NOT CACHED        NOT CACHED   \n",
       "2016-12-15   18652895       4     2.79GB   NOT CACHED        NOT CACHED   \n",
       "2016-12-16   17383729       3     2.63GB   NOT CACHED        NOT CACHED   \n",
       "2016-12-17   14026742       4     2.12GB   NOT CACHED        NOT CACHED   \n",
       "2016-12-18   13806864       4     2.09GB   NOT CACHED        NOT CACHED   \n",
       "2016-12-19   17747642       4     2.69GB   NOT CACHED        NOT CACHED   \n",
       "2016-12-20   17423986       4     2.63GB   NOT CACHED        NOT CACHED   \n",
       "Total       446529960     363   168.09GB           0B               NaN   \n",
       "\n",
       "           Format Incremental stats  \\\n",
       "dt                                    \n",
       "2016-01-01   TEXT             False   \n",
       "2016-09-20   TEXT             False   \n",
       "2016-09-25   TEXT             False   \n",
       "2016-09-26   TEXT             False   \n",
       "2016-09-27   TEXT             False   \n",
       "2016-09-28   TEXT             False   \n",
       "2016-09-29   TEXT             False   \n",
       "2016-09-30   TEXT             False   \n",
       "2016-10-01   TEXT             False   \n",
       "2016-10-02   TEXT             False   \n",
       "2016-10-03   TEXT             False   \n",
       "2016-10-04   TEXT             False   \n",
       "2016-10-05   TEXT             False   \n",
       "2016-10-06   TEXT             False   \n",
       "2016-10-07   TEXT             False   \n",
       "2016-10-08   TEXT             False   \n",
       "2016-10-09   TEXT             False   \n",
       "2016-10-10   TEXT             False   \n",
       "2016-10-11   TEXT             False   \n",
       "2016-10-12   TEXT             False   \n",
       "2016-10-13   TEXT             False   \n",
       "2016-10-14   TEXT             False   \n",
       "2016-10-15   TEXT             False   \n",
       "2016-10-16   TEXT             False   \n",
       "2016-10-17   TEXT             False   \n",
       "2016-10-18   TEXT             False   \n",
       "2016-10-19   TEXT             False   \n",
       "2016-10-20   TEXT             False   \n",
       "2016-10-21   TEXT             False   \n",
       "2016-10-22   TEXT             False   \n",
       "...           ...               ...   \n",
       "2016-11-22   TEXT             False   \n",
       "2016-11-23   TEXT             False   \n",
       "2016-11-24   TEXT             False   \n",
       "2016-11-25   TEXT             False   \n",
       "2016-11-26   TEXT             False   \n",
       "2016-11-27   TEXT             False   \n",
       "2016-11-28   TEXT             False   \n",
       "2016-11-29   TEXT             False   \n",
       "2016-11-30   TEXT             False   \n",
       "2016-12-01   TEXT             False   \n",
       "2016-12-02   TEXT             False   \n",
       "2016-12-03   TEXT             False   \n",
       "2016-12-04   TEXT             False   \n",
       "2016-12-05   TEXT             False   \n",
       "2016-12-06   TEXT             False   \n",
       "2016-12-07   TEXT             False   \n",
       "2016-12-08   TEXT             False   \n",
       "2016-12-09   TEXT             False   \n",
       "2016-12-10   TEXT             False   \n",
       "2016-12-11   TEXT             False   \n",
       "2016-12-12   TEXT             False   \n",
       "2016-12-13   TEXT             False   \n",
       "2016-12-14   TEXT             False   \n",
       "2016-12-15   TEXT             False   \n",
       "2016-12-16   TEXT             False   \n",
       "2016-12-17   TEXT             False   \n",
       "2016-12-18   TEXT             False   \n",
       "2016-12-19   TEXT             False   \n",
       "2016-12-20   TEXT             False   \n",
       "Total         NaN               NaN   \n",
       "\n",
       "                                                     Location  \n",
       "dt                                                             \n",
       "2016-01-01  hdfs://s01cq-f1r21u2425-61.174.msfinance.hadoo...  \n",
       "2016-09-20  hdfs://s01cq-f1r21u2425-61.174.msfinance.hadoo...  \n",
       "2016-09-25  hdfs://s01cq-f1r21u2425-61.174.msfinance.hadoo...  \n",
       "2016-09-26  hdfs://s01cq-f1r21u2425-61.174.msfinance.hadoo...  \n",
       "2016-09-27  hdfs://s01cq-f1r21u2425-61.174.msfinance.hadoo...  \n",
       "2016-09-28  hdfs://s01cq-f1r21u2425-61.174.msfinance.hadoo...  \n",
       "2016-09-29  hdfs://s01cq-f1r21u2425-61.174.msfinance.hadoo...  \n",
       "2016-09-30  hdfs://s01cq-f1r21u2425-61.174.msfinance.hadoo...  \n",
       "2016-10-01  hdfs://s01cq-f1r21u2425-61.174.msfinance.hadoo...  \n",
       "2016-10-02  hdfs://s01cq-f1r21u2425-61.174.msfinance.hadoo...  \n",
       "2016-10-03  hdfs://s01cq-f1r21u2425-61.174.msfinance.hadoo...  \n",
       "2016-10-04  hdfs://s01cq-f1r21u2425-61.174.msfinance.hadoo...  \n",
       "2016-10-05  hdfs://s01cq-f1r21u2425-61.174.msfinance.hadoo...  \n",
       "2016-10-06  hdfs://s01cq-f1r21u2425-61.174.msfinance.hadoo...  \n",
       "2016-10-07  hdfs://s01cq-f1r21u2425-61.174.msfinance.hadoo...  \n",
       "2016-10-08  hdfs://s01cq-f1r21u2425-61.174.msfinance.hadoo...  \n",
       "2016-10-09  hdfs://s01cq-f1r21u2425-61.174.msfinance.hadoo...  \n",
       "2016-10-10  hdfs://s01cq-f1r21u2425-61.174.msfinance.hadoo...  \n",
       "2016-10-11  hdfs://s01cq-f1r21u2425-61.174.msfinance.hadoo...  \n",
       "2016-10-12  hdfs://s01cq-f1r21u2425-61.174.msfinance.hadoo...  \n",
       "2016-10-13  hdfs://s01cq-f1r21u2425-61.174.msfinance.hadoo...  \n",
       "2016-10-14  hdfs://s01cq-f1r21u2425-61.174.msfinance.hadoo...  \n",
       "2016-10-15  hdfs://s01cq-f1r21u2425-61.174.msfinance.hadoo...  \n",
       "2016-10-16  hdfs://s01cq-f1r21u2425-61.174.msfinance.hadoo...  \n",
       "2016-10-17  hdfs://s01cq-f1r21u2425-61.174.msfinance.hadoo...  \n",
       "2016-10-18  hdfs://s01cq-f1r21u2425-61.174.msfinance.hadoo...  \n",
       "2016-10-19  hdfs://s01cq-f1r21u2425-61.174.msfinance.hadoo...  \n",
       "2016-10-20  hdfs://s01cq-f1r21u2425-61.174.msfinance.hadoo...  \n",
       "2016-10-21  hdfs://s01cq-f1r21u2425-61.174.msfinance.hadoo...  \n",
       "2016-10-22  hdfs://s01cq-f1r21u2425-61.174.msfinance.hadoo...  \n",
       "...                                                       ...  \n",
       "2016-11-22  hdfs://s01cq-f1r21u2425-61.174.msfinance.hadoo...  \n",
       "2016-11-23  hdfs://s01cq-f1r21u2425-61.174.msfinance.hadoo...  \n",
       "2016-11-24  hdfs://s01cq-f1r21u2425-61.174.msfinance.hadoo...  \n",
       "2016-11-25  hdfs://s01cq-f1r21u2425-61.174.msfinance.hadoo...  \n",
       "2016-11-26  hdfs://s01cq-f1r21u2425-61.174.msfinance.hadoo...  \n",
       "2016-11-27  hdfs://s01cq-f1r21u2425-61.174.msfinance.hadoo...  \n",
       "2016-11-28  hdfs://s01cq-f1r21u2425-61.174.msfinance.hadoo...  \n",
       "2016-11-29  hdfs://s01cq-f1r21u2425-61.174.msfinance.hadoo...  \n",
       "2016-11-30  hdfs://s01cq-f1r21u2425-61.174.msfinance.hadoo...  \n",
       "2016-12-01  hdfs://s01cq-f1r21u2425-61.174.msfinance.hadoo...  \n",
       "2016-12-02  hdfs://s01cq-f1r21u2425-61.174.msfinance.hadoo...  \n",
       "2016-12-03  hdfs://s01cq-f1r21u2425-61.174.msfinance.hadoo...  \n",
       "2016-12-04  hdfs://s01cq-f1r21u2425-61.174.msfinance.hadoo...  \n",
       "2016-12-05  hdfs://s01cq-f1r21u2425-61.174.msfinance.hadoo...  \n",
       "2016-12-06  hdfs://s01cq-f1r21u2425-61.174.msfinance.hadoo...  \n",
       "2016-12-07  hdfs://s01cq-f1r21u2425-61.174.msfinance.hadoo...  \n",
       "2016-12-08  hdfs://s01cq-f1r21u2425-61.174.msfinance.hadoo...  \n",
       "2016-12-09  hdfs://s01cq-f1r21u2425-61.174.msfinance.hadoo...  \n",
       "2016-12-10  hdfs://s01cq-f1r21u2425-61.174.msfinance.hadoo...  \n",
       "2016-12-11  hdfs://s01cq-f1r21u2425-61.174.msfinance.hadoo...  \n",
       "2016-12-12  hdfs://s01cq-f1r21u2425-61.174.msfinance.hadoo...  \n",
       "2016-12-13  hdfs://s01cq-f1r21u2425-61.174.msfinance.hadoo...  \n",
       "2016-12-14  hdfs://s01cq-f1r21u2425-61.174.msfinance.hadoo...  \n",
       "2016-12-15  hdfs://s01cq-f1r21u2425-61.174.msfinance.hadoo...  \n",
       "2016-12-16  hdfs://s01cq-f1r21u2425-61.174.msfinance.hadoo...  \n",
       "2016-12-17  hdfs://s01cq-f1r21u2425-61.174.msfinance.hadoo...  \n",
       "2016-12-18  hdfs://s01cq-f1r21u2425-61.174.msfinance.hadoo...  \n",
       "2016-12-19  hdfs://s01cq-f1r21u2425-61.174.msfinance.hadoo...  \n",
       "2016-12-20  hdfs://s01cq-f1r21u2425-61.174.msfinance.hadoo...  \n",
       "Total                                                     NaN  \n",
       "\n",
       "[88 rows x 8 columns]"
      ]
     },
     "execution_count": 80,
     "metadata": {},
     "output_type": "execute_result"
    }
   ],
   "source": [
    "call_records_partitions"
   ]
  },
  {
   "cell_type": "code",
   "execution_count": 95,
   "metadata": {
    "collapsed": true
   },
   "outputs": [],
   "source": [
    "butket=[\"2016-09-25\",\"2016-10-31\"]\n",
    "conds=[\"where A.dt<'2016-09-26'\",\"where A.dt>'2016-09-25'and  A.dt<'2016-11-01'\",\"where A.dt>'2016-10-31'\"]\n",
    "names=[\"data/call_record_0925.csv\",\"data/call_record_0926_1031.csv\",\"data/call_record_1101.csv\"]"
   ]
  },
  {
   "cell_type": "code",
   "execution_count": 99,
   "metadata": {
    "collapsed": false
   },
   "outputs": [
    {
     "name": "stdout",
     "output_type": "stream",
     "text": [
      "CPU times: user 35min 19s, sys: 25.6 s, total: 35min 44s\n",
      "Wall time: 41min 49s\n"
     ]
    }
   ],
   "source": [
    "%%time\n",
    "for con_name in zip(conds,names):\n",
    "#     print con_name\n",
    "    call_record_sql=\"select custorm_id,name,number,call_time,type,time  from crawler.app_call_record_hive A join  fdl.fdl_cust_user_info_chain   B on  A.number=B.mobi_no \"\n",
    "    call_record_sql=call_record_sql+con_name[0]\n",
    "    filename=con_name[1]\n",
    "    query=pd.read_sql_query(call_record_sql,conn,chunksize=10000)\n",
    "    ToDisk(filename,query)"
   ]
  },
  {
   "cell_type": "markdown",
   "metadata": {},
   "source": [
    "### 3.数据质量"
   ]
  },
  {
   "cell_type": "code",
   "execution_count": 103,
   "metadata": {
    "collapsed": true
   },
   "outputs": [],
   "source": [
    "call_record_0925=pd.read_csv(\"data/call_record_0925.csv\",index_col=1).drop(['Unnamed: 0'],axis=1)\n",
    "call_record_0926_1031=pd.read_csv(\"data/call_record_0926_1031.csv\",index_col=1).drop(['Unnamed: 0'],axis=1)\n",
    "call_record_1101=pd.read_csv(\"data/call_record_1101.csv\",index_col=1).drop(['Unnamed: 0'],axis=1)"
   ]
  },
  {
   "cell_type": "code",
   "execution_count": 108,
   "metadata": {
    "collapsed": false
   },
   "outputs": [
    {
     "name": "stdout",
     "output_type": "stream",
     "text": [
      "2016年9月25日之前数据量： 70341735\n",
      "2016年9月26日到10月31日数据量： 40508506\n",
      "2016年11月1日之后数据量： 69258991\n"
     ]
    }
   ],
   "source": [
    "print \"2016年9月25日之前数据量：\",call_record_0925.shape[0]\n",
    "print \"2016年9月26日到10月31日数据量：\",call_record_0926_1031.shape[0]\n",
    "print \"2016年11月1日之后数据量：\",call_record_1101.shape[0]"
   ]
  },
  {
   "cell_type": "code",
   "execution_count": 106,
   "metadata": {
    "collapsed": false
   },
   "outputs": [
    {
     "data": {
      "text/html": [
       "<div>\n",
       "<table border=\"1\" class=\"dataframe\">\n",
       "  <thead>\n",
       "    <tr style=\"text-align: right;\">\n",
       "      <th></th>\n",
       "      <th>name</th>\n",
       "      <th>number</th>\n",
       "      <th>call_time</th>\n",
       "      <th>type</th>\n",
       "      <th>time</th>\n",
       "    </tr>\n",
       "    <tr>\n",
       "      <th>custorm_id</th>\n",
       "      <th></th>\n",
       "      <th></th>\n",
       "      <th></th>\n",
       "      <th></th>\n",
       "      <th></th>\n",
       "    </tr>\n",
       "  </thead>\n",
       "  <tbody>\n",
       "    <tr>\n",
       "      <th>3700004</th>\n",
       "      <td>孙松强</td>\n",
       "      <td>15738505375</td>\n",
       "      <td>2016-09-16 14:16:16</td>\n",
       "      <td>1</td>\n",
       "      <td>5.0</td>\n",
       "    </tr>\n",
       "    <tr>\n",
       "      <th>3700004</th>\n",
       "      <td>孙松强</td>\n",
       "      <td>15738505375</td>\n",
       "      <td>2016-09-16 13:56:47</td>\n",
       "      <td>1</td>\n",
       "      <td>26.0</td>\n",
       "    </tr>\n",
       "    <tr>\n",
       "      <th>3700004</th>\n",
       "      <td>孙松强</td>\n",
       "      <td>15738505375</td>\n",
       "      <td>2016-09-16 13:30:51</td>\n",
       "      <td>1</td>\n",
       "      <td>48.0</td>\n",
       "    </tr>\n",
       "    <tr>\n",
       "      <th>3700004</th>\n",
       "      <td>孙松强</td>\n",
       "      <td>15738505375</td>\n",
       "      <td>2016-09-16 13:12:45</td>\n",
       "      <td>2</td>\n",
       "      <td>62.0</td>\n",
       "    </tr>\n",
       "    <tr>\n",
       "      <th>3700004</th>\n",
       "      <td>孙松强</td>\n",
       "      <td>15738505375</td>\n",
       "      <td>2016-09-16 11:45:34</td>\n",
       "      <td>2</td>\n",
       "      <td>78.0</td>\n",
       "    </tr>\n",
       "    <tr>\n",
       "      <th>3700004</th>\n",
       "      <td>孙松强</td>\n",
       "      <td>15738505375</td>\n",
       "      <td>2016-09-16 11:35:14</td>\n",
       "      <td>2</td>\n",
       "      <td>0.0</td>\n",
       "    </tr>\n",
       "    <tr>\n",
       "      <th>3700004</th>\n",
       "      <td>孙松强</td>\n",
       "      <td>15738505375</td>\n",
       "      <td>2016-09-16 11:35:00</td>\n",
       "      <td>3</td>\n",
       "      <td>0.0</td>\n",
       "    </tr>\n",
       "    <tr>\n",
       "      <th>3700004</th>\n",
       "      <td>孙松强</td>\n",
       "      <td>15738505375</td>\n",
       "      <td>2016-09-16 11:15:35</td>\n",
       "      <td>2</td>\n",
       "      <td>69.0</td>\n",
       "    </tr>\n",
       "    <tr>\n",
       "      <th>3700004</th>\n",
       "      <td>孙松强</td>\n",
       "      <td>15738505375</td>\n",
       "      <td>2016-09-16 09:33:32</td>\n",
       "      <td>2</td>\n",
       "      <td>327.0</td>\n",
       "    </tr>\n",
       "    <tr>\n",
       "      <th>3700004</th>\n",
       "      <td>陈</td>\n",
       "      <td>13783226625</td>\n",
       "      <td>2016-09-15 15:14:51</td>\n",
       "      <td>3</td>\n",
       "      <td>0.0</td>\n",
       "    </tr>\n",
       "  </tbody>\n",
       "</table>\n",
       "</div>"
      ],
      "text/plain": [
       "           name       number            call_time  type   time\n",
       "custorm_id                                                    \n",
       "3700004     孙松强  15738505375  2016-09-16 14:16:16     1    5.0\n",
       "3700004     孙松强  15738505375  2016-09-16 13:56:47     1   26.0\n",
       "3700004     孙松强  15738505375  2016-09-16 13:30:51     1   48.0\n",
       "3700004     孙松强  15738505375  2016-09-16 13:12:45     2   62.0\n",
       "3700004     孙松强  15738505375  2016-09-16 11:45:34     2   78.0\n",
       "3700004     孙松强  15738505375  2016-09-16 11:35:14     2    0.0\n",
       "3700004     孙松强  15738505375  2016-09-16 11:35:00     3    0.0\n",
       "3700004     孙松强  15738505375  2016-09-16 11:15:35     2   69.0\n",
       "3700004     孙松强  15738505375  2016-09-16 09:33:32     2  327.0\n",
       "3700004       陈  13783226625  2016-09-15 15:14:51     3    0.0"
      ]
     },
     "execution_count": 106,
     "metadata": {},
     "output_type": "execute_result"
    }
   ],
   "source": [
    "call_record_0925.head(10)"
   ]
  },
  {
   "cell_type": "code",
   "execution_count": 109,
   "metadata": {
    "collapsed": true
   },
   "outputs": [],
   "source": [
    "call_record_0925.drop_duplicates(inplace=True)\n",
    "call_record_0926_1031.drop_duplicates(inplace=True)\n",
    "call_record_1101.drop_duplicates(inplace=True)"
   ]
  },
  {
   "cell_type": "code",
   "execution_count": 119,
   "metadata": {
    "collapsed": false
   },
   "outputs": [
    {
     "name": "stdout",
     "output_type": "stream",
     "text": [
      "2016年9月25日之前数据量： 32922996 0.468043559062\n",
      "2016年9月26日到10月31日数据量： 16584652 0.409411593703\n",
      "2016年11月1日之后数据量： 23303039 0.336462294116\n"
     ]
    }
   ],
   "source": [
    "print \"2016年9月25日之前数据量：\",call_record_0925.shape[0],call_record_0925.shape[0]/70341735.0\n",
    "print \"2016年9月26日到10月31日数据量：\",call_record_0926_1031.shape[0],call_record_0926_1031.shape[0]/40508506.0\n",
    "print \"2016年11月1日之后数据量：\",call_record_1101.shape[0],call_record_1101.shape[0]/69258991.0"
   ]
  },
  {
   "cell_type": "code",
   "execution_count": 122,
   "metadata": {
    "collapsed": false
   },
   "outputs": [
    {
     "name": "stdout",
     "output_type": "stream",
     "text": [
      "姓名的缺失率： 0.344638896169\n",
      "手机号码的缺失率： 0.0\n",
      "通话时长的缺失率： 0.779447502287\n"
     ]
    }
   ],
   "source": [
    "print \"姓名的缺失率：\",call_record_0925[call_record_0925.name.isnull()==True].shape[0]/ 32922996.0\n",
    "print \"手机号码的缺失率：\",call_record_0925[call_record_0925.number.isnull()==True].shape[0]/ 32922996.0\n",
    "print \"通话时长的缺失率：\",call_record_0925[call_record_0925.time.isnull()==True].shape[0]/ 32922996.0"
   ]
  },
  {
   "cell_type": "markdown",
   "metadata": {},
   "source": [
    "### 4.数据整合"
   ]
  },
  {
   "cell_type": "code",
   "execution_count": 123,
   "metadata": {
    "collapsed": true
   },
   "outputs": [],
   "source": [
    "pd.concat([call_record_0925,call_record_0926_1031,call_record_1101]).to_csv(\"data/app_call_record_hive\")"
   ]
  },
  {
   "cell_type": "markdown",
   "metadata": {},
   "source": [
    "##  三、数据分析\n",
    "为了讨论方便，我们将主键用户成为**A**,通话对方称为**B**"
   ]
  },
  {
   "cell_type": "code",
   "execution_count": 2,
   "metadata": {
    "collapsed": true
   },
   "outputs": [
    {
     "ename": "TypeError",
     "evalue": "Cannot convert input to Timestamp",
     "output_type": "error",
     "traceback": [
      "\u001b[1;31m---------------------------------------------------------------------------\u001b[0m",
      "\u001b[1;31mTypeError\u001b[0m                                 Traceback (most recent call last)",
      "\u001b[1;32m<ipython-input-2-a5c4184df0f9>\u001b[0m in \u001b[0;36m<module>\u001b[1;34m()\u001b[0m\n\u001b[0;32m      1\u001b[0m \u001b[0mcall_record\u001b[0m\u001b[1;33m=\u001b[0m\u001b[0mpd\u001b[0m\u001b[1;33m.\u001b[0m\u001b[0mread_csv\u001b[0m\u001b[1;33m(\u001b[0m\u001b[1;34m\"data/app_call_record_hive1.csv\"\u001b[0m\u001b[1;33m,\u001b[0m\u001b[0mindex_col\u001b[0m\u001b[1;33m=\u001b[0m\u001b[1;36m0\u001b[0m\u001b[1;33m)\u001b[0m\u001b[1;33m\u001b[0m\u001b[0m\n\u001b[0;32m      2\u001b[0m \u001b[1;31m# call_record=call_record[call_record.call_time!=\"0001-05-05 07:00:50\"]\u001b[0m\u001b[1;33m\u001b[0m\u001b[1;33m\u001b[0m\u001b[0m\n\u001b[1;32m----> 3\u001b[1;33m \u001b[0mcall_record\u001b[0m\u001b[1;33m.\u001b[0m\u001b[0mcall_time\u001b[0m\u001b[1;33m=\u001b[0m\u001b[0mpd\u001b[0m\u001b[1;33m.\u001b[0m\u001b[0mTimestamp\u001b[0m\u001b[1;33m(\u001b[0m\u001b[0mcall_record\u001b[0m\u001b[1;33m.\u001b[0m\u001b[0mcall_time\u001b[0m\u001b[1;33m)\u001b[0m\u001b[1;33m\u001b[0m\u001b[0m\n\u001b[0m",
      "\u001b[1;32mpandas/tslib.pyx\u001b[0m in \u001b[0;36mpandas.tslib.Timestamp.__new__ (pandas/tslib.c:9203)\u001b[1;34m()\u001b[0m\n",
      "\u001b[1;32mpandas/tslib.pyx\u001b[0m in \u001b[0;36mpandas.tslib.convert_to_tsobject (pandas/tslib.c:25854)\u001b[1;34m()\u001b[0m\n",
      "\u001b[1;31mTypeError\u001b[0m: Cannot convert input to Timestamp"
     ]
    }
   ],
   "source": [
    "call_record=pd.read_csv(\"data/app_call_record_hive1.csv\",index_col=0,parse_dates=[\"call_time\"])\n",
    "# call_record=call_record[call_record.call_time!=\"0001-05-05 07:00:50\"]\n",
    "call_record.call_time=pd.Timestamp(call_record.call_time)"
   ]
  },
  {
   "cell_type": "code",
   "execution_count": 9,
   "metadata": {
    "collapsed": false
   },
   "outputs": [],
   "source": [
    "# call_record.call_time=map(pd.Timestamp,call_record.call_time.values)"
   ]
  },
  {
   "cell_type": "code",
   "execution_count": 10,
   "metadata": {
    "collapsed": false
   },
   "outputs": [
    {
     "name": "stderr",
     "output_type": "stream",
     "text": [
      "/usr/bin/anaconda2/lib/python2.7/site-packages/IPython/core/interactiveshell.py:2723: DtypeWarning: Columns (4) have mixed types. Specify dtype option on import or set low_memory=False.\n",
      "  interactivity=interactivity, compiler=compiler, result=result)\n"
     ]
    }
   ],
   "source": [
    "cust_user_info=pd.read_csv(\"data/fdl_cust_user_info_chain.csv\",index_col=1)\n",
    "cust_user_info.drop(['Unnamed: 0'],inplace=True,axis=1)"
   ]
  },
  {
   "cell_type": "code",
   "execution_count": 11,
   "metadata": {
    "collapsed": false
   },
   "outputs": [
    {
     "name": "stdout",
     "output_type": "stream",
     "text": [
      "通话记录数据量 68755648\n",
      "个人信息数据量 5685171\n"
     ]
    }
   ],
   "source": [
    "print \"通话记录数据量\",call_record.shape[0]\n",
    "print \"个人信息数据量\",cust_user_info.shape[0]"
   ]
  },
  {
   "cell_type": "markdown",
   "metadata": {},
   "source": [
    "### 1.通话记录数据描述统计"
   ]
  },
  {
   "cell_type": "code",
   "execution_count": 12,
   "metadata": {
    "collapsed": false
   },
   "outputs": [
    {
     "name": "stdout",
     "output_type": "stream",
     "text": [
      "A数据量:  607569\n",
      "number 数据量：  1817445\n"
     ]
    }
   ],
   "source": [
    "custorm_unique=call_record.index.unique()\n",
    "print \"A数据量: \",custorm_unique.shape[0]\n",
    "number_unique=call_record.number.unique()\n",
    "print \"number 数据量： \",number_unique.shape[0]"
   ]
  },
  {
   "cell_type": "code",
   "execution_count": 217,
   "metadata": {
    "collapsed": false
   },
   "outputs": [],
   "source": [
    "dd=call_record.ix[ 3640004,:]"
   ]
  },
  {
   "cell_type": "code",
   "execution_count": 149,
   "metadata": {
    "collapsed": false
   },
   "outputs": [],
   "source": [
    "def fillName(df):\n",
    "    df[\"name\"].ffill(inplace=True)\n",
    "    \n",
    "    df.sort_values(\"call_time\",inplace=True)\n",
    "    df[\"contact_gap\"]=((df.call_time-df[\"call_time\"].shift(1))/np.timedelta64(1,\"D\")).bfill(limit =1)\n",
    "    return df\n",
    "\n",
    "def contact_features(df):\n",
    "    time_stats=pd.DataFrame(df.time.describe())\n",
    "    \n",
    "    \n",
    "    return time_stats\n",
    "# dd.groupby(\"number\",as_index=False).apply(fillName)"
   ]
  },
  {
   "cell_type": "code",
   "execution_count": 212,
   "metadata": {
    "collapsed": false
   },
   "outputs": [
    {
     "data": {
      "text/html": [
       "<div>\n",
       "<table border=\"1\" class=\"dataframe\">\n",
       "  <thead>\n",
       "    <tr style=\"text-align: right;\">\n",
       "      <th></th>\n",
       "      <th></th>\n",
       "      <th>sum</th>\n",
       "      <th>amax</th>\n",
       "      <th>count_nonzero</th>\n",
       "    </tr>\n",
       "    <tr>\n",
       "      <th>number</th>\n",
       "      <th>name</th>\n",
       "      <th></th>\n",
       "      <th></th>\n",
       "      <th></th>\n",
       "    </tr>\n",
       "  </thead>\n",
       "  <tbody>\n",
       "    <tr>\n",
       "      <th>15073476987</th>\n",
       "      <th>取</th>\n",
       "      <td>0.0</td>\n",
       "      <td>0.0</td>\n",
       "      <td>0.0</td>\n",
       "    </tr>\n",
       "    <tr>\n",
       "      <th>15211849182</th>\n",
       "      <th>小蒋</th>\n",
       "      <td>12.0</td>\n",
       "      <td>12.0</td>\n",
       "      <td>1.0</td>\n",
       "    </tr>\n",
       "  </tbody>\n",
       "</table>\n",
       "</div>"
      ],
      "text/plain": [
       "                   sum  amax  count_nonzero\n",
       "number      name                           \n",
       "15073476987 取      0.0   0.0            0.0\n",
       "15211849182 小蒋    12.0  12.0            1.0"
      ]
     },
     "execution_count": 212,
     "metadata": {},
     "output_type": "execute_result"
    }
   ],
   "source": [
    "nn=dd.groupby([\"number\",\"name\"])\n",
    "nn[\"time\"].agg([np.sum,np.max,np.count_nonzero])"
   ]
  },
  {
   "cell_type": "code",
   "execution_count": 219,
   "metadata": {
    "collapsed": false
   },
   "outputs": [],
   "source": [
    "call_record_hour=call_record.groupby(\"number\",as_index=False).apply(fillName)"
   ]
  },
  {
   "cell_type": "code",
   "execution_count": 220,
   "metadata": {
    "collapsed": false
   },
   "outputs": [],
   "source": [
    "call_record_hour.to_csv(\"data/call_record_hour.csv\")"
   ]
  },
  {
   "cell_type": "code",
   "execution_count": 143,
   "metadata": {
    "collapsed": false
   },
   "outputs": [
    {
     "data": {
      "text/html": [
       "<div>\n",
       "<table border=\"1\" class=\"dataframe\">\n",
       "  <thead>\n",
       "    <tr style=\"text-align: right;\">\n",
       "      <th></th>\n",
       "      <th></th>\n",
       "      <th>time_count</th>\n",
       "      <th>time_mean</th>\n",
       "      <th>time_std</th>\n",
       "      <th>time_min</th>\n",
       "      <th>time_25%</th>\n",
       "      <th>time_50%</th>\n",
       "      <th>time_75%</th>\n",
       "      <th>time_max</th>\n",
       "    </tr>\n",
       "    <tr>\n",
       "      <th>number</th>\n",
       "      <th>name</th>\n",
       "      <th></th>\n",
       "      <th></th>\n",
       "      <th></th>\n",
       "      <th></th>\n",
       "      <th></th>\n",
       "      <th></th>\n",
       "      <th></th>\n",
       "      <th></th>\n",
       "    </tr>\n",
       "  </thead>\n",
       "  <tbody>\n",
       "    <tr>\n",
       "      <th>15073476987</th>\n",
       "      <th>取</th>\n",
       "      <td>1.0</td>\n",
       "      <td>0.0</td>\n",
       "      <td>NaN</td>\n",
       "      <td>0.0</td>\n",
       "      <td>0.0</td>\n",
       "      <td>0.0</td>\n",
       "      <td>0.0</td>\n",
       "      <td>0.0</td>\n",
       "    </tr>\n",
       "    <tr>\n",
       "      <th>15211849182</th>\n",
       "      <th>小蒋</th>\n",
       "      <td>3.0</td>\n",
       "      <td>10.0</td>\n",
       "      <td>9.165151</td>\n",
       "      <td>0.0</td>\n",
       "      <td>6.0</td>\n",
       "      <td>12.0</td>\n",
       "      <td>15.0</td>\n",
       "      <td>18.0</td>\n",
       "    </tr>\n",
       "  </tbody>\n",
       "</table>\n",
       "</div>"
      ],
      "text/plain": [
       "                  time_count  time_mean  time_std  time_min  time_25%  \\\n",
       "number      name                                                        \n",
       "15073476987 取            1.0        0.0       NaN       0.0       0.0   \n",
       "15211849182 小蒋           3.0       10.0  9.165151       0.0       6.0   \n",
       "\n",
       "                  time_50%  time_75%  time_max  \n",
       "number      name                                \n",
       "15073476987 取          0.0       0.0       0.0  \n",
       "15211849182 小蒋        12.0      15.0      18.0  "
      ]
     },
     "execution_count": 143,
     "metadata": {},
     "output_type": "execute_result"
    }
   ],
   "source": [
    "ff.add_prefix(\"time_\")"
   ]
  },
  {
   "cell_type": "code",
   "execution_count": 45,
   "metadata": {
    "collapsed": false
   },
   "outputs": [],
   "source": [
    "import time\n",
    "d1=time.strptime(\"2016-09-08 12:35:48\", \"%Y-%m-%d %H:%M:%S\")\n",
    "d2=time.strptime(\"2016-09-10 17:35:48\", \"%Y-%m-%d %H:%M:%S\")\n",
    "ccc=pd.Timestamp(\"2016-09-10 17:35:48\")\n",
    "ccc1=pd.Timestamp(\"2016-09-08 12:35:48\")\n",
    "ff=[\"2016-09-08 12:35:48\",\"2016-09-08 12:35:48\"]"
   ]
  },
  {
   "cell_type": "code",
   "execution_count": 23,
   "metadata": {
    "collapsed": false
   },
   "outputs": [
    {
     "data": {
      "text/plain": [
       "17"
      ]
     },
     "execution_count": 23,
     "metadata": {},
     "output_type": "execute_result"
    }
   ],
   "source": [
    "ccc.hour"
   ]
  },
  {
   "cell_type": "code",
   "execution_count": 54,
   "metadata": {
    "collapsed": false
   },
   "outputs": [
    {
     "data": {
      "text/html": [
       "<div>\n",
       "<table border=\"1\" class=\"dataframe\">\n",
       "  <thead>\n",
       "    <tr style=\"text-align: right;\">\n",
       "      <th></th>\n",
       "      <th>name</th>\n",
       "      <th>number</th>\n",
       "      <th>call_time</th>\n",
       "      <th>type</th>\n",
       "      <th>time</th>\n",
       "    </tr>\n",
       "    <tr>\n",
       "      <th>custorm_id</th>\n",
       "      <th></th>\n",
       "      <th></th>\n",
       "      <th></th>\n",
       "      <th></th>\n",
       "      <th></th>\n",
       "    </tr>\n",
       "  </thead>\n",
       "  <tbody>\n",
       "    <tr>\n",
       "      <th>3471926</th>\n",
       "      <td>阿飞</td>\n",
       "      <td>13736223373</td>\n",
       "      <td>0001-05-05 07:00:50</td>\n",
       "      <td>2</td>\n",
       "      <td>0.0</td>\n",
       "    </tr>\n",
       "    <tr>\n",
       "      <th>3471926</th>\n",
       "      <td>NaN</td>\n",
       "      <td>13800138000</td>\n",
       "      <td>0001-05-05 07:00:50</td>\n",
       "      <td>1</td>\n",
       "      <td>0.0</td>\n",
       "    </tr>\n",
       "    <tr>\n",
       "      <th>3397424</th>\n",
       "      <td>阿飞</td>\n",
       "      <td>13736223373</td>\n",
       "      <td>0001-05-05 07:00:50</td>\n",
       "      <td>2</td>\n",
       "      <td>NaN</td>\n",
       "    </tr>\n",
       "    <tr>\n",
       "      <th>3397424</th>\n",
       "      <td>NaN</td>\n",
       "      <td>13800138000</td>\n",
       "      <td>0001-05-05 07:00:50</td>\n",
       "      <td>1</td>\n",
       "      <td>NaN</td>\n",
       "    </tr>\n",
       "  </tbody>\n",
       "</table>\n",
       "</div>"
      ],
      "text/plain": [
       "           name       number            call_time  type  time\n",
       "custorm_id                                                   \n",
       "3471926      阿飞  13736223373  0001-05-05 07:00:50     2   0.0\n",
       "3471926     NaN  13800138000  0001-05-05 07:00:50     1   0.0\n",
       "3397424      阿飞  13736223373  0001-05-05 07:00:50     2   NaN\n",
       "3397424     NaN  13800138000  0001-05-05 07:00:50     1   NaN"
      ]
     },
     "execution_count": 54,
     "metadata": {},
     "output_type": "execute_result"
    }
   ],
   "source": [
    "call_record[call_record.call_time!=\"0001-05-05 07:00:50\"]"
   ]
  }
 ],
 "metadata": {
  "kernelspec": {
   "display_name": "Python [Root]",
   "language": "python",
   "name": "Python [Root]"
  },
  "language_info": {
   "codemirror_mode": {
    "name": "ipython",
    "version": 2
   },
   "file_extension": ".py",
   "mimetype": "text/x-python",
   "name": "python",
   "nbconvert_exporter": "python",
   "pygments_lexer": "ipython2",
   "version": "2.7.12"
  }
 },
 "nbformat": 4,
 "nbformat_minor": 0
}
