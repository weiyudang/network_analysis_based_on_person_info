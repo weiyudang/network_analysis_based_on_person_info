{
 "cells": [
  {
   "cell_type": "code",
   "execution_count": 1,
   "metadata": {
    "collapsed": true
   },
   "outputs": [],
   "source": [
    "%matplotlib  inline \n",
    "import pandas as pd\n",
    "import numpy as np\n",
    "import scipy.stats as sas\n",
    "import seaborn as sns\n"
   ]
  },
  {
   "cell_type": "code",
   "execution_count": 2,
   "metadata": {
    "collapsed": true
   },
   "outputs": [],
   "source": [
    "call_record_hour=pd.read_csv(\"data/call_record_hour.csv\",index_col=0)"
   ]
  },
  {
   "cell_type": "code",
   "execution_count": 3,
   "metadata": {
    "collapsed": false
   },
   "outputs": [
    {
     "name": "stderr",
     "output_type": "stream",
     "text": [
      "/usr/bin/anaconda2/lib/python2.7/site-packages/IPython/core/interactiveshell.py:2723: DtypeWarning: Columns (4) have mixed types. Specify dtype option on import or set low_memory=False.\n",
      "  interactivity=interactivity, compiler=compiler, result=result)\n"
     ]
    }
   ],
   "source": [
    "cust_user_info=pd.read_csv(\"data/fdl_cust_user_info_chain.csv\",index_col=1)\n",
    "cust_user_info.drop(['Unnamed: 0'],inplace=True,axis=1)\n",
    "cust_user_info=cust_user_info.drop_duplicates(subset=[\"id_no\"])"
   ]
  },
  {
   "cell_type": "code",
   "execution_count": 4,
   "metadata": {
    "collapsed": false
   },
   "outputs": [
    {
     "data": {
      "text/html": [
       "<div>\n",
       "<table border=\"1\" class=\"dataframe\">\n",
       "  <thead>\n",
       "    <tr style=\"text-align: right;\">\n",
       "      <th></th>\n",
       "      <th>custorm_id</th>\n",
       "      <th>name</th>\n",
       "      <th>number</th>\n",
       "      <th>call_time</th>\n",
       "      <th>type</th>\n",
       "      <th>time</th>\n",
       "      <th>contact_gap</th>\n",
       "    </tr>\n",
       "  </thead>\n",
       "  <tbody>\n",
       "    <tr>\n",
       "      <th>0</th>\n",
       "      <td>4335793</td>\n",
       "      <td>赖立新</td>\n",
       "      <td>13001011021</td>\n",
       "      <td>2016-11-04 10:17:24</td>\n",
       "      <td>2</td>\n",
       "      <td>22.0</td>\n",
       "      <td>NaN</td>\n",
       "    </tr>\n",
       "    <tr>\n",
       "      <th>1</th>\n",
       "      <td>3157627</td>\n",
       "      <td>13001016170</td>\n",
       "      <td>13001016170</td>\n",
       "      <td>2016-11-30 08:08:13</td>\n",
       "      <td>2</td>\n",
       "      <td>0.0</td>\n",
       "      <td>NaN</td>\n",
       "    </tr>\n",
       "    <tr>\n",
       "      <th>2</th>\n",
       "      <td>2559110</td>\n",
       "      <td>8613001018225</td>\n",
       "      <td>13001018225</td>\n",
       "      <td>2016-06-30 10:32:02</td>\n",
       "      <td>2</td>\n",
       "      <td>NaN</td>\n",
       "      <td>0.000313</td>\n",
       "    </tr>\n",
       "    <tr>\n",
       "      <th>2</th>\n",
       "      <td>2559110</td>\n",
       "      <td>8613001018225</td>\n",
       "      <td>13001018225</td>\n",
       "      <td>2016-06-30 10:32:29</td>\n",
       "      <td>2</td>\n",
       "      <td>NaN</td>\n",
       "      <td>0.000313</td>\n",
       "    </tr>\n",
       "    <tr>\n",
       "      <th>2</th>\n",
       "      <td>2559110</td>\n",
       "      <td>8613001018225</td>\n",
       "      <td>13001018225</td>\n",
       "      <td>2016-06-30 10:33:13</td>\n",
       "      <td>2</td>\n",
       "      <td>NaN</td>\n",
       "      <td>0.000509</td>\n",
       "    </tr>\n",
       "    <tr>\n",
       "      <th>2</th>\n",
       "      <td>2559110</td>\n",
       "      <td>8613001018225</td>\n",
       "      <td>13001018225</td>\n",
       "      <td>2016-06-30 10:33:38</td>\n",
       "      <td>2</td>\n",
       "      <td>NaN</td>\n",
       "      <td>0.000289</td>\n",
       "    </tr>\n",
       "  </tbody>\n",
       "</table>\n",
       "</div>"
      ],
      "text/plain": [
       "   custorm_id           name       number            call_time  type  time  \\\n",
       "0     4335793            赖立新  13001011021  2016-11-04 10:17:24     2  22.0   \n",
       "1     3157627    13001016170  13001016170  2016-11-30 08:08:13     2   0.0   \n",
       "2     2559110  8613001018225  13001018225  2016-06-30 10:32:02     2   NaN   \n",
       "2     2559110  8613001018225  13001018225  2016-06-30 10:32:29     2   NaN   \n",
       "2     2559110  8613001018225  13001018225  2016-06-30 10:33:13     2   NaN   \n",
       "2     2559110  8613001018225  13001018225  2016-06-30 10:33:38     2   NaN   \n",
       "\n",
       "   contact_gap  \n",
       "0          NaN  \n",
       "1          NaN  \n",
       "2     0.000313  \n",
       "2     0.000313  \n",
       "2     0.000509  \n",
       "2     0.000289  "
      ]
     },
     "execution_count": 4,
     "metadata": {},
     "output_type": "execute_result"
    }
   ],
   "source": [
    "call_record_hour.head(6)"
   ]
  },
  {
   "cell_type": "code",
   "execution_count": 5,
   "metadata": {
    "collapsed": false
   },
   "outputs": [
    {
     "data": {
      "text/html": [
       "<div>\n",
       "<table border=\"1\" class=\"dataframe\">\n",
       "  <thead>\n",
       "    <tr style=\"text-align: right;\">\n",
       "      <th></th>\n",
       "      <th>cust_name</th>\n",
       "      <th>id_no</th>\n",
       "      <th>mobi_no</th>\n",
       "      <th>reg_src</th>\n",
       "    </tr>\n",
       "    <tr>\n",
       "      <th>id</th>\n",
       "      <th></th>\n",
       "      <th></th>\n",
       "      <th></th>\n",
       "      <th></th>\n",
       "    </tr>\n",
       "  </thead>\n",
       "  <tbody>\n",
       "    <tr>\n",
       "      <th>5798</th>\n",
       "      <td>戴俊安</td>\n",
       "      <td>371311198712212615</td>\n",
       "      <td>18267179687</td>\n",
       "      <td>Android</td>\n",
       "    </tr>\n",
       "    <tr>\n",
       "      <th>20995</th>\n",
       "      <td>肖艳平</td>\n",
       "      <td>430204197010230028</td>\n",
       "      <td>18607337862</td>\n",
       "      <td>Android</td>\n",
       "    </tr>\n",
       "    <tr>\n",
       "      <th>25064</th>\n",
       "      <td>申俊鹤</td>\n",
       "      <td>410526199107059570</td>\n",
       "      <td>13253382545</td>\n",
       "      <td>Android</td>\n",
       "    </tr>\n",
       "    <tr>\n",
       "      <th>40794</th>\n",
       "      <td>庄超</td>\n",
       "      <td>350627198804100058</td>\n",
       "      <td>15259663858</td>\n",
       "      <td>Android</td>\n",
       "    </tr>\n",
       "    <tr>\n",
       "      <th>49569</th>\n",
       "      <td>李小峰</td>\n",
       "      <td>150221199302253254</td>\n",
       "      <td>15049339225</td>\n",
       "      <td>Android</td>\n",
       "    </tr>\n",
       "    <tr>\n",
       "      <th>61893</th>\n",
       "      <td>王笑娓</td>\n",
       "      <td>652322199304170024</td>\n",
       "      <td>18690211580</td>\n",
       "      <td>iOS</td>\n",
       "    </tr>\n",
       "  </tbody>\n",
       "</table>\n",
       "</div>"
      ],
      "text/plain": [
       "      cust_name               id_no      mobi_no  reg_src\n",
       "id                                                       \n",
       "5798        戴俊安  371311198712212615  18267179687  Android\n",
       "20995       肖艳平  430204197010230028  18607337862  Android\n",
       "25064       申俊鹤  410526199107059570  13253382545  Android\n",
       "40794        庄超  350627198804100058  15259663858  Android\n",
       "49569       李小峰  150221199302253254  15049339225  Android\n",
       "61893       王笑娓  652322199304170024  18690211580      iOS"
      ]
     },
     "execution_count": 5,
     "metadata": {},
     "output_type": "execute_result"
    }
   ],
   "source": [
    "cust_user_info.head(6)"
   ]
  },
  {
   "cell_type": "markdown",
   "metadata": {},
   "source": [
    "## 数据清理\n",
    "- time==\"nan\":(25799780, 7)\n",
    "- 去除 time==\"nan\" 和 通话时间小于11.5s 的记录\n",
    "- 数据清理后27242414条"
   ]
  },
  {
   "cell_type": "code",
   "execution_count": 6,
   "metadata": {
    "collapsed": false
   },
   "outputs": [],
   "source": [
    "call_record_hour=call_record_hour[(call_record_hour.time.apply(str)!='nan')&(call_record_hour.time>11.5)]"
   ]
  },
  {
   "cell_type": "code",
   "execution_count": 7,
   "metadata": {
    "collapsed": false
   },
   "outputs": [
    {
     "data": {
      "text/plain": [
       "(27242414, 7)"
      ]
     },
     "execution_count": 7,
     "metadata": {},
     "output_type": "execute_result"
    }
   ],
   "source": [
    "call_record_hour.shape"
   ]
  },
  {
   "cell_type": "code",
   "execution_count": 8,
   "metadata": {
    "collapsed": false
   },
   "outputs": [],
   "source": [
    "call_record_hour.set_index(\"custorm_id\",inplace=True)\n",
    "call_record_hour=call_record_hour.join(cust_user_info)\n",
    "\n",
    "cust_user_info.rename_axis({\"mobi_no\":\"number\"},axis=\"columns\",inplace=True)\n",
    "\n",
    "call_record_hour=pd.merge(call_record_hour,cust_user_info,on=\"number\",how=\"inner\",right_index=True,suffixes=(\"_A\",\"_B\"))\n"
   ]
  },
  {
   "cell_type": "code",
   "execution_count": 9,
   "metadata": {
    "collapsed": false
   },
   "outputs": [],
   "source": [
    "## 出生年\n",
    "call_record_hour[\"age_A\"]=call_record_hour.id_no_A.str.slice(6,10).astype(\"float\")\n",
    "call_record_hour[\"age\"]=call_record_hour.id_no_B.str.slice(6,10).astype(\"float\")\n",
    "call_record_hour[\"age_Gap\"]=call_record_hour.age-call_record_hour.age_A\n",
    "##出生月\n",
    "call_record_hour[\"born_month\"]=call_record_hour.id_no_B.str.slice(10,12).astype(\"float\")\n",
    "call_record_hour[\"born_month_A\"]=call_record_hour.id_no_A.str.slice(10,12).astype(\"float\")\n",
    "## 性别\n",
    "call_record_hour[\"sex_A\"]=call_record_hour.id_no_A.str.slice(16,17)\n",
    "call_record_hour[\"sex\"]=call_record_hour.id_no_B.str.slice(16,17)\n",
    "\n",
    "##省份\n",
    "call_record_hour[\"id_province\"]=call_record_hour.id_no_B.str.slice(0,2)\n",
    "call_record_hour[\"id_province_A\"]=call_record_hour.id_no_A.str.slice(0,2)\n",
    "call_record_hour[\"same_province\"]=call_record_hour.id_province==call_record_hour.id_province_A\n",
    "## 城市\n",
    "call_record_hour[\"id_city\"]=call_record_hour.id_no_B.str.slice(2,4)\n",
    "call_record_hour[\"id_city_A\"]=call_record_hour.id_no_A.str.slice(2,4)\n",
    "call_record_hour[\"same_city\"]=call_record_hour.id_city==call_record_hour.id_city_A"
   ]
  },
  {
   "cell_type": "code",
   "execution_count": null,
   "metadata": {
    "collapsed": false
   },
   "outputs": [],
   "source": [
    "call_record_hour.drop_duplicates(inplace=True)"
   ]
  },
  {
   "cell_type": "code",
   "execution_count": null,
   "metadata": {
    "collapsed": true
   },
   "outputs": [],
   "source": []
  }
 ],
 "metadata": {
  "kernelspec": {
   "display_name": "Python [Root]",
   "language": "python",
   "name": "Python [Root]"
  },
  "language_info": {
   "codemirror_mode": {
    "name": "ipython",
    "version": 2
   },
   "file_extension": ".py",
   "mimetype": "text/x-python",
   "name": "python",
   "nbconvert_exporter": "python",
   "pygments_lexer": "ipython2",
   "version": "2.7.12"
  }
 },
 "nbformat": 4,
 "nbformat_minor": 0
}
