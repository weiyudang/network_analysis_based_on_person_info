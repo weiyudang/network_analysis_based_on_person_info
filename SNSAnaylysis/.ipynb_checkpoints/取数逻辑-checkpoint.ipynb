{
 "cells": [
  {
   "cell_type": "code",
   "execution_count": 3,
   "metadata": {
    "collapsed": false
   },
   "outputs": [],
   "source": [
    "%matplotlib inline\n",
    "from impala.dbapi  import connect\n",
    "from sqlalchemy import *  \n",
    "from sqlalchemy.sql import select  \n",
    "from sqlalchemy.schema import *  \n",
    "import numpy as np\n",
    "import pandas as pd\n",
    "from sqlalchemy.orm import sessionmaker\n",
    "import seaborn as sns\n",
    "import matplotlib.pyplot as plt\n"
   ]
  },
  {
   "cell_type": "code",
   "execution_count": 13,
   "metadata": {
    "collapsed": true
   },
   "outputs": [],
   "source": [
    "def ToDisk(filename,query):\n",
    "    first=query.next()\n",
    "    first.to_csv(filename,encoding=\"utf-8\")\n",
    "    for line in query:\n",
    "        line.to_csv(filename,header=False,mode=\"a+\",encoding=\"utf-8\")"
   ]
  },
  {
   "cell_type": "code",
   "execution_count": 17,
   "metadata": {
    "collapsed": false
   },
   "outputs": [],
   "source": [
    "conn=connect(host=\"192.168.61.170\",port=21050,user=\"yudang.wei\",password=\"19900410w\",auth_mechanism=\"GSSAPI\")"
   ]
  },
  {
   "cell_type": "code",
   "execution_count": null,
   "metadata": {
    "collapsed": false
   },
   "outputs": [],
   "source": [
    "gdl_cust='''select distinct cust_id,gender_cd,age,marg_status,edu_degree,soc_id,unit_prop,unit_inds,mo_earn,work_life,home_cnty_cd,resd_prov,resd_city,resd_cnty \n",
    "            from dsst.gdl_cust_info where cust_id is not NULL'''\n",
    "query=pd.read_sql_query(gdl_cust,conn,chunksize=10000)"
   ]
  },
  {
   "cell_type": "code",
   "execution_count": null,
   "metadata": {
    "collapsed": false
   },
   "outputs": [],
   "source": [
    "data"
   ]
  }
 ],
 "metadata": {
  "kernelspec": {
   "display_name": "Python [Root]",
   "language": "python",
   "name": "Python [Root]"
  },
  "language_info": {
   "codemirror_mode": {
    "name": "ipython",
    "version": 2
   },
   "file_extension": ".py",
   "mimetype": "text/x-python",
   "name": "python",
   "nbconvert_exporter": "python",
   "pygments_lexer": "ipython2",
   "version": "2.7.12"
  }
 },
 "nbformat": 4,
 "nbformat_minor": 0
}
