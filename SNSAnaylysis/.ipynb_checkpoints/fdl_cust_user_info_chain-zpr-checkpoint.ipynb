{
 "cells": [
  {
   "cell_type": "markdown",
   "metadata": {
    "collapsed": false
   },
   "source": [
    "## 一、 数据获取"
   ]
  },
  {
   "cell_type": "code",
   "execution_count": null,
   "metadata": {
    "collapsed": true
   },
   "outputs": [],
   "source": [
    "###   数据获取"
   ]
  },
  {
   "cell_type": "code",
   "execution_count": 1,
   "metadata": {
    "collapsed": true
   },
   "outputs": [],
   "source": [
    "from impala.dbapi  import connect\n",
    "from sqlalchemy import *  \n",
    "from sqlalchemy.sql import select  \n",
    "from sqlalchemy.schema import *  \n",
    "import numpy as np\n",
    "import pandas as pd\n",
    "from os.path import join,getsize\n",
    "from sqlalchemy.orm import sessionmaker\n",
    "conn=connect(host=\"192.168.61.168\",port=21050,user=\"yudang.wei\",password=\"19900410w\",auth_mechanism=\"GSSAPI\")"
   ]
  },
  {
   "cell_type": "code",
   "execution_count": 2,
   "metadata": {
    "collapsed": true
   },
   "outputs": [],
   "source": [
    "def ToDisk(filename,query):\n",
    "    first=query.next()\n",
    "    cnt=1\n",
    "    first.to_csv(filename,encoding=\"utf-8\")\n",
    "    for line in query:\n",
    "        line.to_csv(filename,header=False,mode=\"a+\",encoding=\"utf-8\")\n",
    "        if getsize(filename)/1024.0**3>5.0:\n",
    "            filename=filename[:-4]+\"_\"+str(cnt)+\".csv\"\n",
    "            line.to_csv(filename,mode=\"a+\",encoding=\"utf-8\")\n",
    "            cnt+=1"
   ]
  },
  {
   "cell_type": "markdown",
   "metadata": {},
   "source": [
    "##   二、crawl_mobile_call_record_hive\n",
    "- 文件太大按照partitions 进行查询，从而避免了内存溢出\n",
    "- 数据量：2602069606"
   ]
  },
  {
   "cell_type": "markdown",
   "metadata": {},
   "source": [
    "### 1.分区查询"
   ]
  },
  {
   "cell_type": "code",
   "execution_count": 22,
   "metadata": {
    "collapsed": false
   },
   "outputs": [],
   "source": [
    "mobi_call_records_partitions=pd.read_sql_query(\"show partitions crawler.crawl_mobile_call_record_hive\",conn,index_col=\"dt\")"
   ]
  },
  {
   "cell_type": "code",
   "execution_count": 23,
   "metadata": {
    "collapsed": false
   },
   "outputs": [],
   "source": [
    "mobi_call_records_partitions.to_csv(\"data/mobi_call_records_partitions.csv\")"
   ]
  },
  {
   "cell_type": "markdown",
   "metadata": {},
   "source": [
    "### 2.数据抽取"
   ]
  },
  {
   "cell_type": "code",
   "execution_count": 15,
   "metadata": {
    "collapsed": false
   },
   "outputs": [],
   "source": [
    "mobi_call_records_partitions=pd.read_csv(\"data/mobi_call_records_partitions.csv\",index_col=0,parse_dates=[\"dt\"]).sortlevel()"
   ]
  },
  {
   "cell_type": "code",
   "execution_count": 30,
   "metadata": {
    "collapsed": true
   },
   "outputs": [],
   "source": [
    "conds=[\" where A.dt>='2016-04-22' and A.dt<='2016-07-31'\",\" where A.dt>='2016-08-01' and A.dt<'2016-08-31'\", \\\n",
    "       \" where A.dt>='2016-08-31' and A.dt<'2016-09-19'\",\"where A.dt>='2016-09-19' and A.dt<'2016-10-14'\",\\\n",
    "       \" where A.dt>='2016-10-14' and A.dt<'2016-11-08'\", \"where A.dt>='2016-11-08' and  A.dt<'2016-11-30'\",\\\n",
    "       \" where A.dt>='2016-11-30'and A.dt<'2016-12-16'\", \"where A.dt>='2016-12-16' and  A.dt<'2016-12-26'\"]\n",
    "names=[\"data/mobi/mobi_call_record_0422_0731.csv\",\"data/mobi/mobi_call_record_0801_0830.csv\",\\\n",
    "       \"data/mobi/mobi_call_record_0831_0918.csv\",\"data/mobi/mobi_call_record_0919_1013.csv\",\\\n",
    "       \"data/mobi/mobi_call_record_1014_1107.csv\",\"data/mobi/mobi_call_record_1108_1129.csv\",\\\n",
    "       \"data/mobi/mobi_call_record_1130_1215.csv\", \"data/mobi/mobi_call_record_1216_1225.csv\"]"
   ]
  },
  {
   "cell_type": "code",
   "execution_count": 3,
   "metadata": {
    "collapsed": true
   },
   "outputs": [],
   "source": [
    "conds=[\"where A.dt>'2016-11-08' and  A.dt<'2016-11-30'\",\" where A.dt>'2016-11-30'and A.dt<'2016-12-16'\", \\\n",
    "       \"where A.dt>'2016-12-16' and  A.dt<'2016-12-26'\"]\n",
    "names=[\"data/mobi/mobi_call_record_1108_1129.csv\",\"data/mobi/mobi_call_record_1130_1215.csv\",\\\n",
    "    \"data/mobi/mobi_call_record_1216_1225.csv\"]"
   ]
  },
  {
   "cell_type": "code",
   "execution_count": null,
   "metadata": {
    "collapsed": false
   },
   "outputs": [],
   "source": [
    "%%time\n",
    "\n",
    "for con_name in zip(conds,names):\n",
    "#     print con_name\n",
    "    call_record_sql=\"select custorm_id,login_name,type_contact,num_contact,time_contact,phone_contact,type_call from crawler.crawl_mobile_call_record_hive  A \"\n",
    "    call_record_sql=call_record_sql+con_name[0]\n",
    "    filename=con_name[1]\n",
    "    query=pd.read_sql_query(call_record_sql,conn,chunksize=10000)\n",
    "    ToDisk(filename,query)"
   ]
  }
 ],
 "metadata": {
  "kernelspec": {
   "display_name": "Python [Root]",
   "language": "python",
   "name": "Python [Root]"
  },
  "language_info": {
   "codemirror_mode": {
    "name": "ipython",
    "version": 2
   },
   "file_extension": ".py",
   "mimetype": "text/x-python",
   "name": "python",
   "nbconvert_exporter": "python",
   "pygments_lexer": "ipython2",
   "version": "2.7.12"
  }
 },
 "nbformat": 4,
 "nbformat_minor": 0
}
