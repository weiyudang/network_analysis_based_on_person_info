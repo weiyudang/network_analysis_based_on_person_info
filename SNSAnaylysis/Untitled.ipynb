{
 "cells": [
  {
   "cell_type": "code",
   "execution_count": 1,
   "metadata": {
    "collapsed": true
   },
   "outputs": [],
   "source": [
    "%matplotlib  inline\n",
    "import pandas as pd\n",
    "import numpy as np"
   ]
  },
  {
   "cell_type": "code",
   "execution_count": 2,
   "metadata": {
    "collapsed": false
   },
   "outputs": [],
   "source": [
    "def get_summary(file_path):\n",
    "    records=pd.read_csv(file_path,index_col=0)\n",
    "    summay=pd.read_csv('MSN/ymdh/mobi_cust_summary.csv',index_col=0)\n",
    "    \n",
    "\n",
    "    t1.set_index('custorm_id',inplace=True)\n",
    "    t1['time_ratio']=t1.total_duration/t1.total_time\n",
    "    t1['freq_ratio']=t1.total_frequency/t1.total_freq\n",
    "    t1['avg_ratio']=t1.avg_duration/t1.total_avg_duration\n",
    "    return t1"
   ]
  },
  {
   "cell_type": "code",
   "execution_count": null,
   "metadata": {
    "collapsed": true
   },
   "outputs": [],
   "source": [
    "t1=get_summary('MSN/ymdh/mobi_rel_data.csv')"
   ]
  },
  {
   "cell_type": "code",
   "execution_count": 2,
   "metadata": {
    "collapsed": false
   },
   "outputs": [
    {
     "name": "stderr",
     "output_type": "stream",
     "text": [
      "/opt/anaconda2/lib/python2.7/site-packages/IPython/core/interactiveshell.py:2717: DtypeWarning: Columns (2,39,78) have mixed types. Specify dtype option on import or set low_memory=False.\n",
      "  interactivity=interactivity, compiler=compiler, result=result)\n",
      "/opt/anaconda2/lib/python2.7/site-packages/IPython/core/interactiveshell.py:2717: DtypeWarning: Columns (1) have mixed types. Specify dtype option on import or set low_memory=False.\n",
      "  interactivity=interactivity, compiler=compiler, result=result)\n"
     ]
    }
   ],
   "source": [
    "records=pd.read_csv('MSN/ymdh/mobi_rel_data.csv',index_col=0)\n",
    "summay=pd.read_csv('MSN/ymdh/mobi_cust_summary.csv',index_col=0)\n",
    "t1=pd.merge(records,summay,on='custorm_id')\n",
    "t1.drop(['custorm_id.1','number.1','custorm_id.2','number.2'],axis=1,inplace=True)\n",
    "summay=pd.read_csv('MSN/ymdh/mobi_cust_summary.csv',index_col=0)\n",
    "t1=pd.merge(records,summay,on='custorm_id')\n",
    "# t1.drop(['custorm_id.1','number.1','custorm_id.2','number.2'],axis=1,inplace=True)\n",
    "# t1.set_index('custorm_id',inplace=True)\n",
    "# t1['time_ratio']=t1.total_duration/t1.total_time\n",
    "# t1['freq_ratio']=t1.total_frequency/t1.total_freq\n",
    "# t1['avg_ratio']=t1.avg_duration/t1.total_avg_duration"
   ]
  },
  {
   "cell_type": "code",
   "execution_count": 6,
   "metadata": {
    "collapsed": false
   },
   "outputs": [
    {
     "data": {
      "text/html": [
       "<div>\n",
       "<table border=\"1\" class=\"dataframe\">\n",
       "  <thead>\n",
       "    <tr style=\"text-align: right;\">\n",
       "      <th></th>\n",
       "      <th>number</th>\n",
       "      <th>total_frequency</th>\n",
       "      <th>total_duration</th>\n",
       "      <th>avg_duration</th>\n",
       "      <th>max_duration</th>\n",
       "      <th>min_duration</th>\n",
       "      <th>coef_var</th>\n",
       "      <th>income_total_duration</th>\n",
       "      <th>outgo_total_duration</th>\n",
       "      <th>income_total_frequency</th>\n",
       "      <th>...</th>\n",
       "      <th>workday3_time_ratio</th>\n",
       "      <th>workday3_call_cnt_ratio</th>\n",
       "      <th>workday3_income_time_ratio</th>\n",
       "      <th>workday3ougo_time_ratio</th>\n",
       "      <th>workday3_income_cnt_ratio</th>\n",
       "      <th>workday3_ougo_cnt_ratio</th>\n",
       "      <th>week_work_ratio</th>\n",
       "      <th>total_time</th>\n",
       "      <th>total_freq</th>\n",
       "      <th>total_avg_duration</th>\n",
       "    </tr>\n",
       "    <tr>\n",
       "      <th>custorm_id</th>\n",
       "      <th></th>\n",
       "      <th></th>\n",
       "      <th></th>\n",
       "      <th></th>\n",
       "      <th></th>\n",
       "      <th></th>\n",
       "      <th></th>\n",
       "      <th></th>\n",
       "      <th></th>\n",
       "      <th></th>\n",
       "      <th></th>\n",
       "      <th></th>\n",
       "      <th></th>\n",
       "      <th></th>\n",
       "      <th></th>\n",
       "      <th></th>\n",
       "      <th></th>\n",
       "      <th></th>\n",
       "      <th></th>\n",
       "      <th></th>\n",
       "      <th></th>\n",
       "    </tr>\n",
       "  </thead>\n",
       "  <tbody>\n",
       "    <tr>\n",
       "      <th>100008</th>\n",
       "      <td>13806983929</td>\n",
       "      <td>37</td>\n",
       "      <td>2108.0</td>\n",
       "      <td>56.972973</td>\n",
       "      <td>158.0</td>\n",
       "      <td>15.0</td>\n",
       "      <td>0.634581</td>\n",
       "      <td>1158.0</td>\n",
       "      <td>950.0</td>\n",
       "      <td>20</td>\n",
       "      <td>...</td>\n",
       "      <td>0.103647</td>\n",
       "      <td>0.130435</td>\n",
       "      <td>0.103647</td>\n",
       "      <td>NaN</td>\n",
       "      <td>0.130435</td>\n",
       "      <td>0.000000</td>\n",
       "      <td>1.911927</td>\n",
       "      <td>122465.0</td>\n",
       "      <td>1942</td>\n",
       "      <td>63.061277</td>\n",
       "    </tr>\n",
       "    <tr>\n",
       "      <th>100008</th>\n",
       "      <td>13806032559</td>\n",
       "      <td>23</td>\n",
       "      <td>808.0</td>\n",
       "      <td>35.130435</td>\n",
       "      <td>120.0</td>\n",
       "      <td>11.0</td>\n",
       "      <td>0.779840</td>\n",
       "      <td>640.0</td>\n",
       "      <td>168.0</td>\n",
       "      <td>17</td>\n",
       "      <td>...</td>\n",
       "      <td>0.367688</td>\n",
       "      <td>0.315789</td>\n",
       "      <td>0.096100</td>\n",
       "      <td>0.271588</td>\n",
       "      <td>0.157895</td>\n",
       "      <td>0.157895</td>\n",
       "      <td>5.318519</td>\n",
       "      <td>122465.0</td>\n",
       "      <td>1942</td>\n",
       "      <td>63.061277</td>\n",
       "    </tr>\n",
       "    <tr>\n",
       "      <th>100008</th>\n",
       "      <td>13459200353</td>\n",
       "      <td>9</td>\n",
       "      <td>361.0</td>\n",
       "      <td>40.111111</td>\n",
       "      <td>83.0</td>\n",
       "      <td>14.0</td>\n",
       "      <td>0.613997</td>\n",
       "      <td>323.0</td>\n",
       "      <td>38.0</td>\n",
       "      <td>7</td>\n",
       "      <td>...</td>\n",
       "      <td>1.000000</td>\n",
       "      <td>1.000000</td>\n",
       "      <td>0.828571</td>\n",
       "      <td>0.171429</td>\n",
       "      <td>0.666667</td>\n",
       "      <td>0.333333</td>\n",
       "      <td>0.633484</td>\n",
       "      <td>122465.0</td>\n",
       "      <td>1942</td>\n",
       "      <td>63.061277</td>\n",
       "    </tr>\n",
       "  </tbody>\n",
       "</table>\n",
       "<p>3 rows × 137 columns</p>\n",
       "</div>"
      ],
      "text/plain": [
       "                 number  total_frequency  total_duration  avg_duration  \\\n",
       "custorm_id                                                               \n",
       "100008      13806983929               37          2108.0     56.972973   \n",
       "100008      13806032559               23           808.0     35.130435   \n",
       "100008      13459200353                9           361.0     40.111111   \n",
       "\n",
       "            max_duration  min_duration  coef_var  income_total_duration  \\\n",
       "custorm_id                                                                \n",
       "100008             158.0          15.0  0.634581                 1158.0   \n",
       "100008             120.0          11.0  0.779840                  640.0   \n",
       "100008              83.0          14.0  0.613997                  323.0   \n",
       "\n",
       "            outgo_total_duration  income_total_frequency         ...          \\\n",
       "custorm_id                                                       ...           \n",
       "100008                     950.0                      20         ...           \n",
       "100008                     168.0                      17         ...           \n",
       "100008                      38.0                       7         ...           \n",
       "\n",
       "            workday3_time_ratio  workday3_call_cnt_ratio  \\\n",
       "custorm_id                                                 \n",
       "100008                 0.103647                 0.130435   \n",
       "100008                 0.367688                 0.315789   \n",
       "100008                 1.000000                 1.000000   \n",
       "\n",
       "            workday3_income_time_ratio  workday3ougo_time_ratio  \\\n",
       "custorm_id                                                        \n",
       "100008                        0.103647                      NaN   \n",
       "100008                        0.096100                 0.271588   \n",
       "100008                        0.828571                 0.171429   \n",
       "\n",
       "            workday3_income_cnt_ratio  workday3_ougo_cnt_ratio  \\\n",
       "custorm_id                                                       \n",
       "100008                       0.130435                 0.000000   \n",
       "100008                       0.157895                 0.157895   \n",
       "100008                       0.666667                 0.333333   \n",
       "\n",
       "            week_work_ratio  total_time  total_freq  total_avg_duration  \n",
       "custorm_id                                                               \n",
       "100008             1.911927    122465.0        1942           63.061277  \n",
       "100008             5.318519    122465.0        1942           63.061277  \n",
       "100008             0.633484    122465.0        1942           63.061277  \n",
       "\n",
       "[3 rows x 137 columns]"
      ]
     },
     "execution_count": 6,
     "metadata": {},
     "output_type": "execute_result"
    }
   ],
   "source": [
    "t1.head(3)"
   ]
  },
  {
   "cell_type": "code",
   "execution_count": 4,
   "metadata": {
    "collapsed": true
   },
   "outputs": [],
   "source": [
    "t1.set_index('custorm_id',inplace=True)\n"
   ]
  },
  {
   "cell_type": "code",
   "execution_count": 8,
   "metadata": {
    "collapsed": false
   },
   "outputs": [],
   "source": [
    "t2=t1[:10000]"
   ]
  },
  {
   "cell_type": "code",
   "execution_count": 10,
   "metadata": {
    "collapsed": true
   },
   "outputs": [
    {
     "data": {
      "text/plain": [
       "custorm_id\n",
       "100008     0.017213\n",
       "100008     0.006598\n",
       "100008     0.002948\n",
       "100008     0.032254\n",
       "100008     0.008974\n",
       "100008     0.022366\n",
       "100008     0.006467\n",
       "100008     0.019067\n",
       "100008     0.002874\n",
       "100008     0.028212\n",
       "100008     0.004630\n",
       "100008     0.009709\n",
       "100008     0.150696\n",
       "1000538    0.009427\n",
       "1000538    0.030849\n",
       "1000538    0.037344\n",
       "1000538    0.302330\n",
       "1000538    0.016750\n",
       "1000538    0.014141\n",
       "1000538    0.010837\n",
       "1000538    0.008894\n",
       "1000538    0.065782\n",
       "1000538    0.018795\n",
       "1000538    0.104115\n",
       "1001016    0.004337\n",
       "1001016    0.005615\n",
       "1001016    0.009704\n",
       "1001016    0.008825\n",
       "1001016    0.017084\n",
       "1001016    0.056522\n",
       "             ...   \n",
       "1147132    0.005918\n",
       "1147132    0.000173\n",
       "1147132    0.001321\n",
       "1147132    0.010453\n",
       "1147132    0.005936\n",
       "1147132    0.003393\n",
       "1147132    0.005014\n",
       "1147132    0.000817\n",
       "1147132    0.002238\n",
       "1147132    0.001735\n",
       "1147132    0.002184\n",
       "1147132    0.001049\n",
       "1147132    0.003263\n",
       "1147132    0.004698\n",
       "1147132    0.002290\n",
       "1147132    0.001538\n",
       "1147132    0.004216\n",
       "1147132    0.009032\n",
       "1147132    0.002849\n",
       "1147132    0.001224\n",
       "1147132    0.002155\n",
       "1147132    0.002350\n",
       "1147132    0.003277\n",
       "1147132    0.000458\n",
       "1147132    0.003899\n",
       "1147132    0.001696\n",
       "1147271    0.016326\n",
       "1147271    0.000591\n",
       "1147271    0.038160\n",
       "1147271    0.053790\n",
       "dtype: float64"
      ]
     },
     "execution_count": 10,
     "metadata": {},
     "output_type": "execute_result"
    }
   ],
   "source": [
    "t2.total_duration/t2.total_time"
   ]
  },
  {
   "cell_type": "code",
   "execution_count": 12,
   "metadata": {
    "collapsed": false
   },
   "outputs": [
    {
     "name": "stderr",
     "output_type": "stream",
     "text": [
      "/opt/anaconda2/lib/python2.7/site-packages/ipykernel/__main__.py:1: SettingWithCopyWarning: \n",
      "A value is trying to be set on a copy of a slice from a DataFrame.\n",
      "Try using .loc[row_indexer,col_indexer] = value instead\n",
      "\n",
      "See the caveats in the documentation: http://pandas.pydata.org/pandas-docs/stable/indexing.html#indexing-view-versus-copy\n",
      "  if __name__ == '__main__':\n",
      "/opt/anaconda2/lib/python2.7/site-packages/ipykernel/__main__.py:2: SettingWithCopyWarning: \n",
      "A value is trying to be set on a copy of a slice from a DataFrame.\n",
      "Try using .loc[row_indexer,col_indexer] = value instead\n",
      "\n",
      "See the caveats in the documentation: http://pandas.pydata.org/pandas-docs/stable/indexing.html#indexing-view-versus-copy\n",
      "  from ipykernel import kernelapp as app\n",
      "/opt/anaconda2/lib/python2.7/site-packages/ipykernel/__main__.py:3: SettingWithCopyWarning: \n",
      "A value is trying to be set on a copy of a slice from a DataFrame.\n",
      "Try using .loc[row_indexer,col_indexer] = value instead\n",
      "\n",
      "See the caveats in the documentation: http://pandas.pydata.org/pandas-docs/stable/indexing.html#indexing-view-versus-copy\n",
      "  app.launch_new_instance()\n"
     ]
    }
   ],
   "source": [
    "t2['time_ratio']=t2.total_duration/t2.total_time\n",
    "t2['freq_ratio']=t2.total_frequency/t2.total_freq\n",
    "t2['avg_ratio']=t2.avg_duration/t2.total_avg_duration"
   ]
  },
  {
   "cell_type": "code",
   "execution_count": 15,
   "metadata": {
    "collapsed": false
   },
   "outputs": [
    {
     "data": {
      "text/plain": [
       "(8295795, 137)"
      ]
     },
     "execution_count": 15,
     "metadata": {},
     "output_type": "execute_result"
    }
   ],
   "source": [
    "t1.shape"
   ]
  },
  {
   "cell_type": "code",
   "execution_count": 17,
   "metadata": {
    "collapsed": false
   },
   "outputs": [],
   "source": [
    "t1=t1.reset_index()"
   ]
  },
  {
   "cell_type": "code",
   "execution_count": 19,
   "metadata": {
    "collapsed": false
   },
   "outputs": [],
   "source": [
    "t3=pd.read_csv(\"MSN/wyd_relative_used_data.csv\",index_col=0)"
   ]
  },
  {
   "cell_type": "code",
   "execution_count": 22,
   "metadata": {
    "collapsed": false
   },
   "outputs": [],
   "source": [
    "t3=t3.reset_index()"
   ]
  },
  {
   "cell_type": "code",
   "execution_count": 23,
   "metadata": {
    "collapsed": true
   },
   "outputs": [],
   "source": [
    "t4=pd.merge(t1,t3,on=['custorm_id','number'])"
   ]
  },
  {
   "cell_type": "code",
   "execution_count": 24,
   "metadata": {
    "collapsed": false
   },
   "outputs": [
    {
     "data": {
      "text/plain": [
       "(7892956, 140)"
      ]
     },
     "execution_count": 24,
     "metadata": {},
     "output_type": "execute_result"
    }
   ],
   "source": [
    "t4.shape"
   ]
  },
  {
   "cell_type": "code",
   "execution_count": 25,
   "metadata": {
    "collapsed": false
   },
   "outputs": [
    {
     "data": {
      "text/html": [
       "<div>\n",
       "<table border=\"1\" class=\"dataframe\">\n",
       "  <thead>\n",
       "    <tr style=\"text-align: right;\">\n",
       "      <th></th>\n",
       "      <th>custorm_id</th>\n",
       "      <th>number</th>\n",
       "      <th>total_frequency</th>\n",
       "      <th>total_duration</th>\n",
       "      <th>avg_duration</th>\n",
       "      <th>max_duration</th>\n",
       "      <th>min_duration</th>\n",
       "      <th>coef_var</th>\n",
       "      <th>income_total_duration</th>\n",
       "      <th>outgo_total_duration</th>\n",
       "      <th>...</th>\n",
       "      <th>workday3_income_time_ratio</th>\n",
       "      <th>workday3ougo_time_ratio</th>\n",
       "      <th>workday3_income_cnt_ratio</th>\n",
       "      <th>workday3_ougo_cnt_ratio</th>\n",
       "      <th>week_work_ratio</th>\n",
       "      <th>total_time</th>\n",
       "      <th>total_freq</th>\n",
       "      <th>total_avg_duration</th>\n",
       "      <th>name</th>\n",
       "      <th>is_rel</th>\n",
       "    </tr>\n",
       "  </thead>\n",
       "  <tbody>\n",
       "    <tr>\n",
       "      <th>0</th>\n",
       "      <td>100008</td>\n",
       "      <td>13806983929</td>\n",
       "      <td>37</td>\n",
       "      <td>2108.0</td>\n",
       "      <td>56.972973</td>\n",
       "      <td>158.0</td>\n",
       "      <td>15.0</td>\n",
       "      <td>0.634581</td>\n",
       "      <td>1158.0</td>\n",
       "      <td>950.0</td>\n",
       "      <td>...</td>\n",
       "      <td>0.103647</td>\n",
       "      <td>NaN</td>\n",
       "      <td>0.130435</td>\n",
       "      <td>0.000000</td>\n",
       "      <td>1.911927</td>\n",
       "      <td>122465.0</td>\n",
       "      <td>1942</td>\n",
       "      <td>63.061277</td>\n",
       "      <td>龙岩姐夫</td>\n",
       "      <td>0</td>\n",
       "    </tr>\n",
       "    <tr>\n",
       "      <th>1</th>\n",
       "      <td>100008</td>\n",
       "      <td>13806032559</td>\n",
       "      <td>23</td>\n",
       "      <td>808.0</td>\n",
       "      <td>35.130435</td>\n",
       "      <td>120.0</td>\n",
       "      <td>11.0</td>\n",
       "      <td>0.779840</td>\n",
       "      <td>640.0</td>\n",
       "      <td>168.0</td>\n",
       "      <td>...</td>\n",
       "      <td>0.096100</td>\n",
       "      <td>0.271588</td>\n",
       "      <td>0.157895</td>\n",
       "      <td>0.157895</td>\n",
       "      <td>5.318519</td>\n",
       "      <td>122465.0</td>\n",
       "      <td>1942</td>\n",
       "      <td>63.061277</td>\n",
       "      <td>吴江腾</td>\n",
       "      <td>0</td>\n",
       "    </tr>\n",
       "    <tr>\n",
       "      <th>2</th>\n",
       "      <td>100008</td>\n",
       "      <td>13459200353</td>\n",
       "      <td>9</td>\n",
       "      <td>361.0</td>\n",
       "      <td>40.111111</td>\n",
       "      <td>83.0</td>\n",
       "      <td>14.0</td>\n",
       "      <td>0.613997</td>\n",
       "      <td>323.0</td>\n",
       "      <td>38.0</td>\n",
       "      <td>...</td>\n",
       "      <td>0.828571</td>\n",
       "      <td>0.171429</td>\n",
       "      <td>0.666667</td>\n",
       "      <td>0.333333</td>\n",
       "      <td>0.633484</td>\n",
       "      <td>122465.0</td>\n",
       "      <td>1942</td>\n",
       "      <td>63.061277</td>\n",
       "      <td>紅館曾小虎</td>\n",
       "      <td>0</td>\n",
       "    </tr>\n",
       "  </tbody>\n",
       "</table>\n",
       "<p>3 rows × 140 columns</p>\n",
       "</div>"
      ],
      "text/plain": [
       "   custorm_id       number  total_frequency  total_duration  avg_duration  \\\n",
       "0      100008  13806983929               37          2108.0     56.972973   \n",
       "1      100008  13806032559               23           808.0     35.130435   \n",
       "2      100008  13459200353                9           361.0     40.111111   \n",
       "\n",
       "   max_duration  min_duration  coef_var  income_total_duration  \\\n",
       "0         158.0          15.0  0.634581                 1158.0   \n",
       "1         120.0          11.0  0.779840                  640.0   \n",
       "2          83.0          14.0  0.613997                  323.0   \n",
       "\n",
       "   outgo_total_duration   ...    workday3_income_time_ratio  \\\n",
       "0                 950.0   ...                      0.103647   \n",
       "1                 168.0   ...                      0.096100   \n",
       "2                  38.0   ...                      0.828571   \n",
       "\n",
       "   workday3ougo_time_ratio  workday3_income_cnt_ratio  \\\n",
       "0                      NaN                   0.130435   \n",
       "1                 0.271588                   0.157895   \n",
       "2                 0.171429                   0.666667   \n",
       "\n",
       "   workday3_ougo_cnt_ratio  week_work_ratio  total_time  total_freq  \\\n",
       "0                 0.000000         1.911927    122465.0        1942   \n",
       "1                 0.157895         5.318519    122465.0        1942   \n",
       "2                 0.333333         0.633484    122465.0        1942   \n",
       "\n",
       "   total_avg_duration   name  is_rel  \n",
       "0           63.061277   龙岩姐夫       0  \n",
       "1           63.061277    吴江腾       0  \n",
       "2           63.061277  紅館曾小虎       0  \n",
       "\n",
       "[3 rows x 140 columns]"
      ]
     },
     "execution_count": 25,
     "metadata": {},
     "output_type": "execute_result"
    }
   ],
   "source": [
    "t4.head(3)"
   ]
  },
  {
   "cell_type": "code",
   "execution_count": 26,
   "metadata": {
    "collapsed": false
   },
   "outputs": [
    {
     "data": {
      "text/plain": [
       "(5966993, 140)"
      ]
     },
     "execution_count": 26,
     "metadata": {},
     "output_type": "execute_result"
    }
   ],
   "source": [
    "t4[t4.is_rel==0].shape"
   ]
  },
  {
   "cell_type": "code",
   "execution_count": 27,
   "metadata": {
    "collapsed": false
   },
   "outputs": [
    {
     "data": {
      "text/plain": [
       "(1925963, 140)"
      ]
     },
     "execution_count": 27,
     "metadata": {},
     "output_type": "execute_result"
    }
   ],
   "source": [
    "t4[t4.is_rel==1].shape"
   ]
  },
  {
   "cell_type": "code",
   "execution_count": 30,
   "metadata": {
    "collapsed": false
   },
   "outputs": [],
   "source": [
    "t4.set_index('custorm_id',inplace=True)"
   ]
  },
  {
   "cell_type": "code",
   "execution_count": 32,
   "metadata": {
    "collapsed": false
   },
   "outputs": [],
   "source": [
    "t4.to_csv('MSN/ymdh/processed_data/mobi_train_data.csv')"
   ]
  },
  {
   "cell_type": "code",
   "execution_count": 10,
   "metadata": {
    "collapsed": false
   },
   "outputs": [],
   "source": [
    "# t1=pd.merge(records,summay,on='custorm_id')\n",
    "# t1.drop(['custorm_id.1','number.1','custorm_id.2','number.2'],axis=1,inplace=True)\n",
    "\n",
    "t1.set_index('custorm_id',inplace=True)\n",
    "t1['time_ratio']=t1.total_duration/t1.total_time\n",
    "t1['freq_ratio']=t1.total_frequency/t1.total_freq\n",
    "t1['avg_ratio']=t1.avg_duration/t1.total_avg_duration"
   ]
  },
  {
   "cell_type": "code",
   "execution_count": 11,
   "metadata": {
    "collapsed": false
   },
   "outputs": [
    {
     "name": "stdout",
     "output_type": "stream",
     "text": [
      "custorm_id\n",
      "number\n",
      "total_frequency\n",
      "total_duration\n",
      "avg_duration_x\n",
      "max_duration\n",
      "min_duration\n",
      "coef_var\n",
      "income_total_duration\n",
      "outgo_total_duration\n",
      "income_total_frequency\n",
      "outgo_total_frequency\n",
      "income_avg_duration\n",
      "outgo_avg_duration\n",
      "outgo_time_ratio\n",
      "outgo_cnt_ratio\n",
      "income2avg\n",
      "outgo2avg\n",
      "local_total_duration\n",
      "unlocal_total_duration\n",
      "local_total_frequency\n",
      "unlocal_total_frequency\n",
      "local_avg_duration\n",
      "unlocal_avg_duration\n",
      "local_time_ratio\n",
      "unlocal_cnt_ratio\n",
      "local2avg\n",
      "unlocal2avg\n",
      "time_engagement_ratio\n",
      "cnt_engagement_ratio\n",
      "avg_interval\n",
      "min_interval\n",
      "max_interval\n",
      "std_interval\n",
      "avg_aday_duration\n",
      "max_aday_duration\n",
      "std_aday_duration\n",
      "month_avg_total_frequency\n",
      "month_avg_total_duration\n",
      "month_avg_avg_duration\n",
      "month_avg_coef_var\n",
      "month_avg_income_total_duration\n",
      "month_avg_outgo_total_duration\n",
      "month_avg_income_total_frequency\n",
      "month_avg_outgo_total_frequency\n",
      "month_avg_income_avg_duration\n",
      "month_avg_outgo_avg_duration\n",
      "month_avg_outgo_time_ratio\n",
      "month_avg_outgo_cnt_ratio\n",
      "month_avg_income2avg\n",
      "month_avg_outgo2avg\n",
      "month_avg_local_total_duration\n",
      "month_avg_unlocal_total_duration\n",
      "month_avg_local_total_frequency\n",
      "month_avg_unlocal_total_frequency\n",
      "month_avg_local_avg_duration\n",
      "month_avg_unlocal_avg_duration\n",
      "month_avg_local_time_ratio\n",
      "month_avg_unlocal_cnt_ratio\n",
      "month_avg_local2avg\n",
      "month_avg_unlocal2avg\n",
      "month_avg_time_engagement_ratio\n",
      "month_avg_cnt_engagement_ratio\n",
      "month_avg_avg_interval\n",
      "month_avg_min_interval\n",
      "month_avg_max_interval\n",
      "month_avg_std_interval\n",
      "month_avg_avg_aday_duration\n",
      "month_avg_max_aday_duration\n",
      "month_std_total_frequency\n",
      "month_std_total_duration\n",
      "month_std_outgo_time_ratio\n",
      "month_std_outgo_cnt_ratio\n",
      "month_std_avg_interval\n",
      "weekend2_time\n",
      "weekend2_call_cnt\n",
      "weekend2_income_time\n",
      "weekend2ougo_time\n",
      "weekend2_income_cnt\n",
      "weekend2_ougo_cnt\n",
      "weekend2_engegament_ratio\n",
      "weekend2_avg_time\n",
      "weekend2_time_ratio\n",
      "weekend2_call_cnt_ratio\n",
      "weekend2_income_time_ratio\n",
      "weekend2ougo_time_ratio\n",
      "weekend2_income_cnt_ratio\n",
      "weekend2_ougo_cnt_ratio\n",
      "weekend3_time\n",
      "weekend3_call_cnt\n",
      "weekend3_income_time\n",
      "weekend3_outgo_time\n",
      "weekend3_income_cnt\n",
      "weekend3_ougo_cnt\n",
      "weekend3_engegament_ratio\n",
      "weekend3_avg_time\n",
      "weekend3_time_ratio\n",
      "weekend3_call_cnt_ratio\n",
      "weekend3_income_time_ratio\n",
      "weekend3ougo_time_ratio\n",
      "weekend3_income_cnt_ratio\n",
      "weekend3_ougo_cnt_ratio\n",
      "workday2_time\n",
      "workday2_call_cnt\n",
      "workday2_income_time\n",
      "workday2_ougo_time\n",
      "workday2_income_cnt\n",
      "workday2_ougo_cnt\n",
      "workday2_engegament_ratio\n",
      "workday2_avg_time\n",
      "workday2_time_ratio\n",
      "workday2_call_cnt_ratio\n",
      "workday2_income_time_ratio\n",
      "workday2ougo_time_ratio\n",
      "workday2_income_cnt_ratio\n",
      "workday2_ougo_cnt_ratio\n",
      "workday3_time\n",
      "workday3_call_cnt\n",
      "workday3_income_time\n",
      "workday3_ougo_time\n",
      "workday3_income_cnt\n",
      "workday3_ougo_cnt\n",
      "workday3_engegament_ratio\n",
      "workday3_avg_time\n",
      "workday3_time_ratio\n",
      "workday3_call_cnt_ratio\n",
      "workday3_income_time_ratio\n",
      "workday3ougo_time_ratio\n",
      "workday3_income_cnt_ratio\n",
      "workday3_ougo_cnt_ratio\n",
      "week_work_ratio\n",
      "total_time\n",
      "total_freq\n",
      "avg_duration_y\n"
     ]
    }
   ],
   "source": [
    "for line in t1.columns:\n",
    "    print line"
   ]
  },
  {
   "cell_type": "code",
   "execution_count": 14,
   "metadata": {
    "collapsed": false
   },
   "outputs": [
    {
     "data": {
      "text/html": [
       "<div>\n",
       "<table border=\"1\" class=\"dataframe\">\n",
       "  <thead>\n",
       "    <tr style=\"text-align: right;\">\n",
       "      <th></th>\n",
       "      <th>custorm_id</th>\n",
       "      <th>total_time</th>\n",
       "      <th>total_freq</th>\n",
       "      <th>total_avg_duration</th>\n",
       "    </tr>\n",
       "  </thead>\n",
       "  <tbody>\n",
       "    <tr>\n",
       "      <th>0</th>\n",
       "      <td>4352517</td>\n",
       "      <td>16295.0</td>\n",
       "      <td>137</td>\n",
       "      <td>118.941606</td>\n",
       "    </tr>\n",
       "    <tr>\n",
       "      <th>1</th>\n",
       "      <td>5938485</td>\n",
       "      <td>22663.0</td>\n",
       "      <td>354</td>\n",
       "      <td>64.019774</td>\n",
       "    </tr>\n",
       "    <tr>\n",
       "      <th>2</th>\n",
       "      <td>3943548</td>\n",
       "      <td>13945.0</td>\n",
       "      <td>174</td>\n",
       "      <td>80.143678</td>\n",
       "    </tr>\n",
       "  </tbody>\n",
       "</table>\n",
       "</div>"
      ],
      "text/plain": [
       "   custorm_id  total_time  total_freq  total_avg_duration\n",
       "0     4352517     16295.0         137          118.941606\n",
       "1     5938485     22663.0         354           64.019774\n",
       "2     3943548     13945.0         174           80.143678"
      ]
     },
     "execution_count": 14,
     "metadata": {},
     "output_type": "execute_result"
    }
   ],
   "source": [
    "summay.head(3)"
   ]
  },
  {
   "cell_type": "code",
   "execution_count": 26,
   "metadata": {
    "collapsed": false
   },
   "outputs": [],
   "source": []
  },
  {
   "cell_type": "code",
   "execution_count": 28,
   "metadata": {
    "collapsed": true
   },
   "outputs": [],
   "source": []
  },
  {
   "cell_type": "code",
   "execution_count": 29,
   "metadata": {
    "collapsed": false
   },
   "outputs": [
    {
     "data": {
      "text/html": [
       "<div>\n",
       "<table border=\"1\" class=\"dataframe\">\n",
       "  <thead>\n",
       "    <tr style=\"text-align: right;\">\n",
       "      <th></th>\n",
       "      <th>number</th>\n",
       "      <th>total_frequency</th>\n",
       "      <th>total_duration</th>\n",
       "      <th>avg_duration</th>\n",
       "      <th>max_duration</th>\n",
       "      <th>min_duration</th>\n",
       "      <th>coef_var</th>\n",
       "      <th>income_total_duration</th>\n",
       "      <th>outgo_total_duration</th>\n",
       "      <th>income_total_frequency</th>\n",
       "      <th>...</th>\n",
       "      <th>workday3_income_time</th>\n",
       "      <th>workday3_ougo_time</th>\n",
       "      <th>workday3_income_cnt</th>\n",
       "      <th>workday3_ougo_cnt</th>\n",
       "      <th>workday3_engegament_ratio</th>\n",
       "      <th>workday3_avg_time</th>\n",
       "      <th>name</th>\n",
       "      <th>total_time</th>\n",
       "      <th>total_freq</th>\n",
       "      <th>total_avg_duration</th>\n",
       "    </tr>\n",
       "    <tr>\n",
       "      <th>custorm_id</th>\n",
       "      <th></th>\n",
       "      <th></th>\n",
       "      <th></th>\n",
       "      <th></th>\n",
       "      <th></th>\n",
       "      <th></th>\n",
       "      <th></th>\n",
       "      <th></th>\n",
       "      <th></th>\n",
       "      <th></th>\n",
       "      <th></th>\n",
       "      <th></th>\n",
       "      <th></th>\n",
       "      <th></th>\n",
       "      <th></th>\n",
       "      <th></th>\n",
       "      <th></th>\n",
       "      <th></th>\n",
       "      <th></th>\n",
       "      <th></th>\n",
       "      <th></th>\n",
       "    </tr>\n",
       "  </thead>\n",
       "  <tbody>\n",
       "    <tr>\n",
       "      <th>1000014</th>\n",
       "      <td>13925267361</td>\n",
       "      <td>21</td>\n",
       "      <td>1425.0</td>\n",
       "      <td>67.857143</td>\n",
       "      <td>78</td>\n",
       "      <td>1</td>\n",
       "      <td>1.587638</td>\n",
       "      <td>41.0</td>\n",
       "      <td>1384.0</td>\n",
       "      <td>4</td>\n",
       "      <td>...</td>\n",
       "      <td>NaN</td>\n",
       "      <td>264.0</td>\n",
       "      <td>0.0</td>\n",
       "      <td>4.0</td>\n",
       "      <td>NaN</td>\n",
       "      <td>66.000000</td>\n",
       "      <td>韩凯</td>\n",
       "      <td>58505.0</td>\n",
       "      <td>720</td>\n",
       "      <td>81.256944</td>\n",
       "    </tr>\n",
       "    <tr>\n",
       "      <th>1000014</th>\n",
       "      <td>13632595639</td>\n",
       "      <td>143</td>\n",
       "      <td>2893.0</td>\n",
       "      <td>20.230769</td>\n",
       "      <td>97</td>\n",
       "      <td>1</td>\n",
       "      <td>0.858234</td>\n",
       "      <td>1372.0</td>\n",
       "      <td>1521.0</td>\n",
       "      <td>61</td>\n",
       "      <td>...</td>\n",
       "      <td>76.0</td>\n",
       "      <td>409.0</td>\n",
       "      <td>6.0</td>\n",
       "      <td>25.0</td>\n",
       "      <td>0.313402</td>\n",
       "      <td>15.645161</td>\n",
       "      <td>爸</td>\n",
       "      <td>58505.0</td>\n",
       "      <td>720</td>\n",
       "      <td>81.256944</td>\n",
       "    </tr>\n",
       "    <tr>\n",
       "      <th>1000014</th>\n",
       "      <td>13924677418</td>\n",
       "      <td>19</td>\n",
       "      <td>1130.0</td>\n",
       "      <td>59.473684</td>\n",
       "      <td>8</td>\n",
       "      <td>135</td>\n",
       "      <td>1.745039</td>\n",
       "      <td>216.0</td>\n",
       "      <td>914.0</td>\n",
       "      <td>8</td>\n",
       "      <td>...</td>\n",
       "      <td>79.0</td>\n",
       "      <td>205.0</td>\n",
       "      <td>4.0</td>\n",
       "      <td>4.0</td>\n",
       "      <td>0.556338</td>\n",
       "      <td>35.500000</td>\n",
       "      <td>何智尧深圳</td>\n",
       "      <td>58505.0</td>\n",
       "      <td>720</td>\n",
       "      <td>81.256944</td>\n",
       "    </tr>\n",
       "    <tr>\n",
       "      <th>1000014</th>\n",
       "      <td>18665935907</td>\n",
       "      <td>6</td>\n",
       "      <td>324.0</td>\n",
       "      <td>54.000000</td>\n",
       "      <td>84</td>\n",
       "      <td>14</td>\n",
       "      <td>0.912057</td>\n",
       "      <td>76.0</td>\n",
       "      <td>248.0</td>\n",
       "      <td>3</td>\n",
       "      <td>...</td>\n",
       "      <td>46.0</td>\n",
       "      <td>NaN</td>\n",
       "      <td>1.0</td>\n",
       "      <td>0.0</td>\n",
       "      <td>NaN</td>\n",
       "      <td>46.000000</td>\n",
       "      <td>alaxz</td>\n",
       "      <td>58505.0</td>\n",
       "      <td>720</td>\n",
       "      <td>81.256944</td>\n",
       "    </tr>\n",
       "    <tr>\n",
       "      <th>1000014</th>\n",
       "      <td>18608049572</td>\n",
       "      <td>65</td>\n",
       "      <td>13550.0</td>\n",
       "      <td>208.461538</td>\n",
       "      <td>878</td>\n",
       "      <td>1</td>\n",
       "      <td>1.131925</td>\n",
       "      <td>6361.0</td>\n",
       "      <td>7189.0</td>\n",
       "      <td>36</td>\n",
       "      <td>...</td>\n",
       "      <td>621.0</td>\n",
       "      <td>2926.0</td>\n",
       "      <td>6.0</td>\n",
       "      <td>9.0</td>\n",
       "      <td>0.350155</td>\n",
       "      <td>236.466667</td>\n",
       "      <td>温小壮成都</td>\n",
       "      <td>58505.0</td>\n",
       "      <td>720</td>\n",
       "      <td>81.256944</td>\n",
       "    </tr>\n",
       "    <tr>\n",
       "      <th>1000014</th>\n",
       "      <td>13510290740</td>\n",
       "      <td>13</td>\n",
       "      <td>327.0</td>\n",
       "      <td>25.153846</td>\n",
       "      <td>9</td>\n",
       "      <td>102</td>\n",
       "      <td>0.941280</td>\n",
       "      <td>30.0</td>\n",
       "      <td>297.0</td>\n",
       "      <td>2</td>\n",
       "      <td>...</td>\n",
       "      <td>NaN</td>\n",
       "      <td>56.0</td>\n",
       "      <td>0.0</td>\n",
       "      <td>3.0</td>\n",
       "      <td>NaN</td>\n",
       "      <td>18.666667</td>\n",
       "      <td>张丹</td>\n",
       "      <td>58505.0</td>\n",
       "      <td>720</td>\n",
       "      <td>81.256944</td>\n",
       "    </tr>\n",
       "    <tr>\n",
       "      <th>1000014</th>\n",
       "      <td>13550317364</td>\n",
       "      <td>38</td>\n",
       "      <td>5071.0</td>\n",
       "      <td>133.447368</td>\n",
       "      <td>99</td>\n",
       "      <td>1</td>\n",
       "      <td>1.297207</td>\n",
       "      <td>1029.0</td>\n",
       "      <td>4042.0</td>\n",
       "      <td>14</td>\n",
       "      <td>...</td>\n",
       "      <td>NaN</td>\n",
       "      <td>1965.0</td>\n",
       "      <td>0.0</td>\n",
       "      <td>5.0</td>\n",
       "      <td>NaN</td>\n",
       "      <td>393.000000</td>\n",
       "      <td>小周</td>\n",
       "      <td>58505.0</td>\n",
       "      <td>720</td>\n",
       "      <td>81.256944</td>\n",
       "    </tr>\n",
       "    <tr>\n",
       "      <th>1000014</th>\n",
       "      <td>13590393229</td>\n",
       "      <td>20</td>\n",
       "      <td>3860.0</td>\n",
       "      <td>193.000000</td>\n",
       "      <td>8</td>\n",
       "      <td>101</td>\n",
       "      <td>2.125537</td>\n",
       "      <td>42.0</td>\n",
       "      <td>3818.0</td>\n",
       "      <td>2</td>\n",
       "      <td>...</td>\n",
       "      <td>NaN</td>\n",
       "      <td>1678.0</td>\n",
       "      <td>0.0</td>\n",
       "      <td>2.0</td>\n",
       "      <td>NaN</td>\n",
       "      <td>839.000000</td>\n",
       "      <td>李问桃一姐</td>\n",
       "      <td>58505.0</td>\n",
       "      <td>720</td>\n",
       "      <td>81.256944</td>\n",
       "    </tr>\n",
       "    <tr>\n",
       "      <th>1000014</th>\n",
       "      <td>15928480755</td>\n",
       "      <td>8</td>\n",
       "      <td>5612.0</td>\n",
       "      <td>701.500000</td>\n",
       "      <td>89</td>\n",
       "      <td>1265</td>\n",
       "      <td>0.829748</td>\n",
       "      <td>814.0</td>\n",
       "      <td>4798.0</td>\n",
       "      <td>2</td>\n",
       "      <td>...</td>\n",
       "      <td>NaN</td>\n",
       "      <td>1913.0</td>\n",
       "      <td>0.0</td>\n",
       "      <td>2.0</td>\n",
       "      <td>NaN</td>\n",
       "      <td>956.500000</td>\n",
       "      <td>涂合婷</td>\n",
       "      <td>58505.0</td>\n",
       "      <td>720</td>\n",
       "      <td>81.256944</td>\n",
       "    </tr>\n",
       "    <tr>\n",
       "      <th>1000014</th>\n",
       "      <td>13699829910</td>\n",
       "      <td>85</td>\n",
       "      <td>2131.0</td>\n",
       "      <td>25.070588</td>\n",
       "      <td>9</td>\n",
       "      <td>1</td>\n",
       "      <td>0.914903</td>\n",
       "      <td>305.0</td>\n",
       "      <td>1826.0</td>\n",
       "      <td>14</td>\n",
       "      <td>...</td>\n",
       "      <td>48.0</td>\n",
       "      <td>380.0</td>\n",
       "      <td>4.0</td>\n",
       "      <td>15.0</td>\n",
       "      <td>0.224299</td>\n",
       "      <td>22.526316</td>\n",
       "      <td>妈</td>\n",
       "      <td>58505.0</td>\n",
       "      <td>720</td>\n",
       "      <td>81.256944</td>\n",
       "    </tr>\n",
       "  </tbody>\n",
       "</table>\n",
       "<p>10 rows × 71 columns</p>\n",
       "</div>"
      ],
      "text/plain": [
       "                 number  total_frequency  total_duration  avg_duration  \\\n",
       "custorm_id                                                               \n",
       "1000014     13925267361               21          1425.0     67.857143   \n",
       "1000014     13632595639              143          2893.0     20.230769   \n",
       "1000014     13924677418               19          1130.0     59.473684   \n",
       "1000014     18665935907                6           324.0     54.000000   \n",
       "1000014     18608049572               65         13550.0    208.461538   \n",
       "1000014     13510290740               13           327.0     25.153846   \n",
       "1000014     13550317364               38          5071.0    133.447368   \n",
       "1000014     13590393229               20          3860.0    193.000000   \n",
       "1000014     15928480755                8          5612.0    701.500000   \n",
       "1000014     13699829910               85          2131.0     25.070588   \n",
       "\n",
       "            max_duration  min_duration  coef_var  income_total_duration  \\\n",
       "custorm_id                                                                \n",
       "1000014               78             1  1.587638                   41.0   \n",
       "1000014               97             1  0.858234                 1372.0   \n",
       "1000014                8           135  1.745039                  216.0   \n",
       "1000014               84            14  0.912057                   76.0   \n",
       "1000014              878             1  1.131925                 6361.0   \n",
       "1000014                9           102  0.941280                   30.0   \n",
       "1000014               99             1  1.297207                 1029.0   \n",
       "1000014                8           101  2.125537                   42.0   \n",
       "1000014               89          1265  0.829748                  814.0   \n",
       "1000014                9             1  0.914903                  305.0   \n",
       "\n",
       "            outgo_total_duration  income_total_frequency         ...          \\\n",
       "custorm_id                                                       ...           \n",
       "1000014                   1384.0                       4         ...           \n",
       "1000014                   1521.0                      61         ...           \n",
       "1000014                    914.0                       8         ...           \n",
       "1000014                    248.0                       3         ...           \n",
       "1000014                   7189.0                      36         ...           \n",
       "1000014                    297.0                       2         ...           \n",
       "1000014                   4042.0                      14         ...           \n",
       "1000014                   3818.0                       2         ...           \n",
       "1000014                   4798.0                       2         ...           \n",
       "1000014                   1826.0                      14         ...           \n",
       "\n",
       "            workday3_income_time  workday3_ougo_time  workday3_income_cnt  \\\n",
       "custorm_id                                                                  \n",
       "1000014                      NaN               264.0                  0.0   \n",
       "1000014                     76.0               409.0                  6.0   \n",
       "1000014                     79.0               205.0                  4.0   \n",
       "1000014                     46.0                 NaN                  1.0   \n",
       "1000014                    621.0              2926.0                  6.0   \n",
       "1000014                      NaN                56.0                  0.0   \n",
       "1000014                      NaN              1965.0                  0.0   \n",
       "1000014                      NaN              1678.0                  0.0   \n",
       "1000014                      NaN              1913.0                  0.0   \n",
       "1000014                     48.0               380.0                  4.0   \n",
       "\n",
       "            workday3_ougo_cnt  workday3_engegament_ratio  workday3_avg_time  \\\n",
       "custorm_id                                                                    \n",
       "1000014                   4.0                        NaN          66.000000   \n",
       "1000014                  25.0                   0.313402          15.645161   \n",
       "1000014                   4.0                   0.556338          35.500000   \n",
       "1000014                   0.0                        NaN          46.000000   \n",
       "1000014                   9.0                   0.350155         236.466667   \n",
       "1000014                   3.0                        NaN          18.666667   \n",
       "1000014                   5.0                        NaN         393.000000   \n",
       "1000014                   2.0                        NaN         839.000000   \n",
       "1000014                   2.0                        NaN         956.500000   \n",
       "1000014                  15.0                   0.224299          22.526316   \n",
       "\n",
       "             name  total_time  total_freq  total_avg_duration  \n",
       "custorm_id                                                     \n",
       "1000014        韩凯     58505.0         720           81.256944  \n",
       "1000014         爸     58505.0         720           81.256944  \n",
       "1000014     何智尧深圳     58505.0         720           81.256944  \n",
       "1000014     alaxz     58505.0         720           81.256944  \n",
       "1000014     温小壮成都     58505.0         720           81.256944  \n",
       "1000014        张丹     58505.0         720           81.256944  \n",
       "1000014        小周     58505.0         720           81.256944  \n",
       "1000014     李问桃一姐     58505.0         720           81.256944  \n",
       "1000014       涂合婷     58505.0         720           81.256944  \n",
       "1000014         妈     58505.0         720           81.256944  \n",
       "\n",
       "[10 rows x 71 columns]"
      ]
     },
     "execution_count": 29,
     "metadata": {},
     "output_type": "execute_result"
    }
   ],
   "source": [
    "t1.head(10)"
   ]
  },
  {
   "cell_type": "code",
   "execution_count": 2,
   "metadata": {
    "collapsed": false
   },
   "outputs": [
    {
     "name": "stderr",
     "output_type": "stream",
     "text": [
      "/opt/anaconda2/lib/python2.7/site-packages/IPython/core/interactiveshell.py:2717: DtypeWarning: Columns (1) have mixed types. Specify dtype option on import or set low_memory=False.\n",
      "  interactivity=interactivity, compiler=compiler, result=result)\n"
     ]
    }
   ],
   "source": [
    "t1=pd.read_csv('MSN/ymdh/relative_recogenition1.csv',index_col=0)"
   ]
  },
  {
   "cell_type": "code",
   "execution_count": 15,
   "metadata": {
    "collapsed": false
   },
   "outputs": [],
   "source": [
    "records=records.join(summay,on='custorm_id',lsuffix='x')"
   ]
  },
  {
   "cell_type": "code",
   "execution_count": 3,
   "metadata": {
    "collapsed": false
   },
   "outputs": [],
   "source": []
  },
  {
   "cell_type": "code",
   "execution_count": 5,
   "metadata": {
    "collapsed": false
   },
   "outputs": [],
   "source": [
    "t1.to_csv('MSN/ymdh/relative_recogenition1.csv')"
   ]
  }
 ],
 "metadata": {
  "anaconda-cloud": {},
  "kernelspec": {
   "display_name": "Python [conda root]",
   "language": "python",
   "name": "conda-root-py"
  },
  "language_info": {
   "codemirror_mode": {
    "name": "ipython",
    "version": 2
   },
   "file_extension": ".py",
   "mimetype": "text/x-python",
   "name": "python",
   "nbconvert_exporter": "python",
   "pygments_lexer": "ipython2",
   "version": "2.7.12"
  }
 },
 "nbformat": 4,
 "nbformat_minor": 1
}
