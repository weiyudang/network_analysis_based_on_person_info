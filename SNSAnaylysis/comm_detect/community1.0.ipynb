{
 "cells": [
  {
   "cell_type": "markdown",
   "metadata": {},
   "source": [
    "#   社区发现探索"
   ]
  },
  {
   "cell_type": "markdown",
   "metadata": {},
   "source": [
    "## 1数据读入与图构建"
   ]
  },
  {
   "cell_type": "code",
   "execution_count": 2,
   "metadata": {
    "collapsed": true
   },
   "outputs": [],
   "source": [
    "%matplotlib  inline \n",
    "import pandas as pd\n",
    "import numpy as np\n",
    "from igraph  import Graph as IGraph\n",
    "def getGraph(GV): \n",
    "    '''图的构件，输入的是numpy的数组，如果3表示图是带权重的，否则没有权重\n",
    "    '''\n",
    "    if GV.shape[1]==3:\n",
    "        g=IGraph.TupleList(GV,directed=False,vertex_name_attr='name',weights=True)  ## 构建图\n",
    "    else:\n",
    "        g=IGraph.TupleList(GV,directed=False,vertex_name_attr='name')  ## 构建图\n",
    "    return  g\n",
    "\n",
    "def getStats(g):\n",
    "    '''diameter,density,cliqu_number,avg_path_length,vcount,coef,assortativity,omega,mean_weights'''\n",
    "    return  [g.diameter(),g.density(),g.clique_number(),g.average_path_length(),\\\n",
    "            g.vcount(),\\\n",
    "            g.transitivity_undirected(),## 聚集系数\n",
    "            g.assortativity_degree(directed=False),   ##同配系数\n",
    "            g.omega(),\n",
    "            np.array(g.es['weight']).mean()\n",
    "            ]  \n",
    "        \n",
    "\n",
    "        \n",
    "def GetCommStats(rel_net):\n",
    "    g=getGraph(rel_net)\n",
    "    names=g.vs['name']\n",
    "    weights=g.es['weight']\n",
    "    cluster=IGraph.community_label_propagation(g,weights='weight').as_cover()\n",
    "    if data.shape[1]==3:\n",
    "        pg_df=pd.DataFrame(g.pagerank(weights='weight'),index=names,columns=['pg'])\n",
    "    else:\n",
    "        pg_df=pd.DataFrame(g.pagerank(weights='weight'),index=names,columns=['pg'])\n",
    "\n",
    "    cluster=[line for line in  list(cluster)  if line>6]\n",
    "\n",
    "    columns=['diameter','density','clique_number','average_path_length','nums','coef','pg_mean']\n",
    "    comm_stats=[]\n",
    "    for line in cluster:\n",
    "        pg_mean=pg_df.iloc[line].mean().values[0]\n",
    "        gs=getStats(g.subgraph(line))+[pg_mean]\n",
    "        comm_stats.append(gs)\n",
    "    x=pd.DataFrame(comm_stats,columns=columns)\n",
    "    return x\n",
    "\n",
    "def getClusterStats(g,cluster):\n",
    "    cluster=[line for line in  list(cluster)  if line>6]\n",
    "\n",
    "    columns=['diameter','density','clique_number','average_path_length','nums','coef']\n",
    "    comm_stats=[]\n",
    "    for line in cluster:\n",
    "        pg_mean=pg_df.iloc[line].mean().values[0]\n",
    "        gs=getStats(g.subgraph(line))+[pg_mean]\n",
    "        comm_stats.append(gs)\n",
    "    x=pd.DataFrame(comm_stats,columns=columns)\n",
    "    return x\n",
    "\n",
    "def getCommStats(comm):\n",
    "    '''获取每个社区的特性'''\n",
    "    from multiprocessing  import Pool\n",
    "    pool=Pool(8)\n",
    "    sub_stats=pool.map(getStats,comm.subgraphs())\n",
    "    pool.close()\n",
    "    pool.join()\n",
    "    columns='diameter,density,cliqu_number,avg_path_length,vcount,coef,assortativity,omega,mean_rel'.split(',')\n",
    "#     sub_stats=map(getStats,rel_comm_lpa.subgraphs())\n",
    "    sub_stats=pd.DataFrame(sub_stats,columns=columns)\n",
    "    return sub_stats"
   ]
  },
  {
   "cell_type": "code",
   "execution_count": 3,
   "metadata": {
    "collapsed": false
   },
   "outputs": [
    {
     "name": "stderr",
     "output_type": "stream",
     "text": [
      "/opt/anaconda2/lib/python2.7/site-packages/IPython/core/interactiveshell.py:2717: DtypeWarning: Columns (1) have mixed types. Specify dtype option on import or set low_memory=False.\n",
      "  interactivity=interactivity, compiler=compiler, result=result)\n"
     ]
    }
   ],
   "source": [
    "call_record=pd.read_csv('chapter1data/net_rel.csv',index_col=0)\n",
    "call_record=call_record[call_record.custorm_id!=call_record.cust_b]\n",
    "g=getGraph(call_record.values)"
   ]
  },
  {
   "cell_type": "markdown",
   "metadata": {},
   "source": [
    "### 1.1 描述性统计"
   ]
  },
  {
   "cell_type": "code",
   "execution_count": 4,
   "metadata": {
    "collapsed": false
   },
   "outputs": [
    {
     "name": "stdout",
     "output_type": "stream",
     "text": [
      "节点个数： 5940139\n",
      "边的个数: 12995457\n",
      "图密度: 7.36594395362e-07\n"
     ]
    }
   ],
   "source": [
    "print '节点个数：',g.vcount()\n",
    "print '边的个数:',g.ecount()\n",
    "print '图密度:',g.density()\n",
    "# print '网络直径',g.diameter()\n",
    "# print '网络聚集系数',g.transitivity_undirected()"
   ]
  },
  {
   "cell_type": "markdown",
   "metadata": {},
   "source": [
    "### 1.2  我们只对其最大联通分量进行分析"
   ]
  },
  {
   "cell_type": "code",
   "execution_count": 5,
   "metadata": {
    "collapsed": false
   },
   "outputs": [],
   "source": [
    "MaxScc=g.decompose(maxcompno=True)[0]   ##最大联通分量\n",
    "names=MaxScc.vs['name']"
   ]
  },
  {
   "cell_type": "code",
   "execution_count": 6,
   "metadata": {
    "collapsed": false
   },
   "outputs": [
    {
     "name": "stdout",
     "output_type": "stream",
     "text": [
      "节点个数： 5666396\n",
      "边的个数: 12836014\n",
      "图密度: 7.9955144036e-07\n"
     ]
    }
   ],
   "source": [
    "print '节点个数：',MaxScc.vcount()\n",
    "print '边的个数:',MaxScc.ecount()\n",
    "print '图密度:',MaxScc.density()\n"
   ]
  },
  {
   "cell_type": "code",
   "execution_count": 7,
   "metadata": {
    "collapsed": false,
    "slideshow": {
     "slide_type": "slide"
    }
   },
   "outputs": [],
   "source": [
    "## 可以调节度的大小进行缩放网络\n",
    "min_degree=3\n",
    "v3=MaxScc.vs.select(_degree_gt=min_degree)   ## 选择度大于1的节点并组成子图 ；尽量去除那些叶子节点\n",
    "rel_net=MaxScc.subgraph(v3)               ## 并构成子图求出子图中的最大联通分量\n",
    "rel_net=rel_net.decompose(maxcompno=True)[0]"
   ]
  },
  {
   "cell_type": "code",
   "execution_count": 8,
   "metadata": {
    "collapsed": false,
    "slideshow": {
     "slide_type": "subslide"
    }
   },
   "outputs": [
    {
     "name": "stdout",
     "output_type": "stream",
     "text": [
      "节点个数： 1964891\n",
      "边的个数: 7359208\n",
      "图密度: 3.81227628802e-06\n"
     ]
    }
   ],
   "source": [
    "print '节点个数：',rel_net.vcount()\n",
    "print '边的个数:',rel_net.ecount()\n",
    "print '图密度:',rel_net.density()\n",
    "# print '直径：',rel_net.diameter()\n",
    "# print '聚集系数：',rel_net.transitivity_undirected()"
   ]
  },
  {
   "cell_type": "raw",
   "metadata": {},
   "source": [
    "我们分析的网络节点数共120.5万人，边数共有512万人，我们队这个网络进行社区划分，主要是观察在有权重和权重的社区划分的效果上回有何不同。"
   ]
  },
  {
   "cell_type": "markdown",
   "metadata": {},
   "source": [
    "##  2 社区划分及相关分析"
   ]
  },
  {
   "cell_type": "markdown",
   "metadata": {},
   "source": [
    "### 2.1  社区划分"
   ]
  },
  {
   "cell_type": "code",
   "execution_count": 20,
   "metadata": {
    "collapsed": false
   },
   "outputs": [
    {
     "data": {
      "text/plain": [
       "0.8411610860973822"
      ]
     },
     "execution_count": 20,
     "metadata": {},
     "output_type": "execute_result"
    }
   ],
   "source": [
    "rel_comm_lpa.modularity"
   ]
  },
  {
   "cell_type": "code",
   "execution_count": 23,
   "metadata": {
    "collapsed": false
   },
   "outputs": [
    {
     "data": {
      "text/plain": [
       "0.8411610860973822"
      ]
     },
     "execution_count": 23,
     "metadata": {},
     "output_type": "execute_result"
    }
   ],
   "source": [
    "rel_net.modularity(rel_comm_lpa)"
   ]
  },
  {
   "cell_type": "code",
   "execution_count": 38,
   "metadata": {
    "collapsed": false
   },
   "outputs": [
    {
     "data": {
      "text/plain": [
       "0.8363356351580695"
      ]
     },
     "execution_count": 38,
     "metadata": {},
     "output_type": "execute_result"
    }
   ],
   "source": [
    "rel_net.modularity(rel_comm_lpa,weights='weight')"
   ]
  },
  {
   "cell_type": "code",
   "execution_count": 9,
   "metadata": {
    "collapsed": false
   },
   "outputs": [
    {
     "name": "stdout",
     "output_type": "stream",
     "text": [
      "CPU times: user 8min 8s, sys: 13 ms, total: 8min 8s\n",
      "Wall time: 8min 8s\n"
     ]
    }
   ],
   "source": [
    "%time rel_comm_lpa=rel_net.community_label_propagation()  ##无权重"
   ]
  },
  {
   "cell_type": "code",
   "execution_count": 26,
   "metadata": {
    "collapsed": false
   },
   "outputs": [
    {
     "name": "stdout",
     "output_type": "stream",
     "text": [
      "CPU times: user 4min 30s, sys: 301 ms, total: 4min 30s\n",
      "Wall time: 4min 53s\n"
     ]
    }
   ],
   "source": [
    "%time relW_comm=rel_net.community_label_propagation(weights='weight')  ##有权重"
   ]
  },
  {
   "cell_type": "raw",
   "metadata": {},
   "source": [
    "rel_comm_lpa.n   ## 节点数量\n",
    "rel_comm_lpa.size(43)  ##某一社区的规模\n",
    "rel_comm_lpa.sizes()  ## 返回所有社区的大小\n",
    "rel_comm_lpa.cluster_graph()  ##将每个社区转换为一个节点形成的网络\n",
    "rel_comm_lpa.giant()    ## 返回节点数最大的社区\n",
    "rel_comm_lpa.modularity   ##返回模块度\n",
    "rel_comm_lpa.q\n",
    "\n",
    "rel_comm_lpa.recalculate_modularity()  ##重新计算模块度\n",
    "\n",
    "rel_comm_lpa.subgraph(4)  ##返回某个社区的子图\n",
    "rel_comm_lpa.subgraphs()  ## 返回每个社区的子图\n",
    "\n",
    "rel_comm_lpa.summary()  ##返回社区划分的整体效果"
   ]
  },
  {
   "cell_type": "code",
   "execution_count": null,
   "metadata": {
    "collapsed": true
   },
   "outputs": [],
   "source": []
  },
  {
   "cell_type": "code",
   "execution_count": 91,
   "metadata": {
    "collapsed": false
   },
   "outputs": [],
   "source": [
    "# lpa_clus=[]\n",
    "# import time \n",
    "time1=time.time()\n",
    "time2=time.time()\n",
    "time_delat=time2-time1"
   ]
  },
  {
   "cell_type": "code",
   "execution_count": 92,
   "metadata": {
    "collapsed": true
   },
   "outputs": [
    {
     "name": "stdout",
     "output_type": "stream",
     "text": [
      "CPU times: user 5min 56s, sys: 35 ms, total: 5min 56s\n",
      "Wall time: 5min 56s\n",
      "CPU times: user 6min 14s, sys: 7 ms, total: 6min 14s\n",
      "Wall time: 6min 14s\n",
      "CPU times: user 5min 21s, sys: 23 ms, total: 5min 21s\n",
      "Wall time: 5min 21s\n",
      "CPU times: user 8min 47s, sys: 19 ms, total: 8min 47s\n",
      "Wall time: 8min 47s\n",
      "CPU times: user 6min 44s, sys: 15 ms, total: 6min 44s\n",
      "Wall time: 6min 44s\n",
      "CPU times: user 5min 53s, sys: 17 ms, total: 5min 53s\n",
      "Wall time: 5min 53s\n",
      "CPU times: user 6min 8s, sys: 22 ms, total: 6min 8s\n",
      "Wall time: 6min 8s\n",
      "CPU times: user 6min 25s, sys: 17 ms, total: 6min 25s\n",
      "Wall time: 6min 25s\n",
      "CPU times: user 8min 21s, sys: 38 ms, total: 8min 21s\n",
      "Wall time: 8min 21s\n",
      "CPU times: user 8min 28s, sys: 26 ms, total: 8min 28s\n",
      "Wall time: 8min 28s\n",
      "CPU times: user 8min 15s, sys: 30 ms, total: 8min 15s\n",
      "Wall time: 8min 15s\n",
      "CPU times: user 6min 28s, sys: 11 ms, total: 6min 28s\n",
      "Wall time: 6min 28s\n",
      "CPU times: user 7min 53s, sys: 3 ms, total: 7min 53s\n",
      "Wall time: 7min 52s\n",
      "CPU times: user 5min 34s, sys: 9 ms, total: 5min 34s\n",
      "Wall time: 5min 34s\n",
      "CPU times: user 6min 13s, sys: 9 ms, total: 6min 13s\n",
      "Wall time: 6min 13s\n",
      "CPU times: user 7min 48s, sys: 45 ms, total: 7min 48s\n",
      "Wall time: 7min 48s\n",
      "CPU times: user 5min 51s, sys: 50 ms, total: 5min 51s\n",
      "Wall time: 5min 51s\n",
      "CPU times: user 6min 31s, sys: 45 ms, total: 6min 31s\n",
      "Wall time: 6min 31s\n",
      "CPU times: user 7min 43s, sys: 56 ms, total: 7min 43s\n",
      "Wall time: 7min 43s\n",
      "CPU times: user 11min 1s, sys: 71 ms, total: 11min 1s\n",
      "Wall time: 11min 1s\n"
     ]
    }
   ],
   "source": [
    "for i in range(20):\n",
    "    %time lp=rel_net.community_label_propagation()\n",
    "    lpa_clus.append(lp)"
   ]
  },
  {
   "cell_type": "code",
   "execution_count": 175,
   "metadata": {
    "collapsed": true
   },
   "outputs": [],
   "source": [
    "lp_times=[374,321,327,404,353,488,365,501,508,495,388,472,334,313,468,411,351,391,483,661]"
   ]
  },
  {
   "cell_type": "code",
   "execution_count": 106,
   "metadata": {
    "collapsed": true
   },
   "outputs": [
    {
     "name": "stdout",
     "output_type": "stream",
     "text": [
      "CPU times: user 6min 4s, sys: 138 ms, total: 6min 4s\n",
      "Wall time: 6min 4s\n",
      "CPU times: user 6min 30s, sys: 163 ms, total: 6min 30s\n",
      "Wall time: 6min 30s\n",
      "CPU times: user 7min 22s, sys: 160 ms, total: 7min 23s\n",
      "Wall time: 7min 23s\n",
      "CPU times: user 7min 41s, sys: 153 ms, total: 7min 42s\n",
      "Wall time: 7min 41s\n",
      "CPU times: user 6min 20s, sys: 171 ms, total: 6min 21s\n",
      "Wall time: 6min 21s\n",
      "CPU times: user 8min 12s, sys: 170 ms, total: 8min 12s\n",
      "Wall time: 8min 12s\n",
      "CPU times: user 5min 51s, sys: 176 ms, total: 5min 51s\n",
      "Wall time: 5min 51s\n",
      "CPU times: user 4min 56s, sys: 197 ms, total: 4min 56s\n",
      "Wall time: 4min 56s\n",
      "CPU times: user 5min 5s, sys: 165 ms, total: 5min 5s\n",
      "Wall time: 5min 5s\n",
      "CPU times: user 6min 5s, sys: 174 ms, total: 6min 5s\n",
      "Wall time: 6min 5s\n",
      "CPU times: user 10min 22s, sys: 175 ms, total: 10min 22s\n",
      "Wall time: 10min 22s\n",
      "CPU times: user 5min 33s, sys: 144 ms, total: 5min 33s\n",
      "Wall time: 5min 33s\n",
      "CPU times: user 9min 8s, sys: 152 ms, total: 9min 8s\n",
      "Wall time: 9min 8s\n",
      "CPU times: user 7min 11s, sys: 159 ms, total: 7min 11s\n",
      "Wall time: 7min 11s\n",
      "CPU times: user 4min 4s, sys: 168 ms, total: 4min 5s\n",
      "Wall time: 4min 5s\n",
      "CPU times: user 8min 54s, sys: 166 ms, total: 8min 55s\n",
      "Wall time: 8min 54s\n",
      "CPU times: user 10min 11s, sys: 164 ms, total: 10min 11s\n",
      "Wall time: 10min 11s\n",
      "CPU times: user 3min 58s, sys: 172 ms, total: 3min 58s\n",
      "Wall time: 3min 58s\n",
      "CPU times: user 11min 29s, sys: 176 ms, total: 11min 29s\n",
      "Wall time: 11min 29s\n",
      "CPU times: user 10min 42s, sys: 166 ms, total: 10min 42s\n",
      "Wall time: 10min 42s\n"
     ]
    }
   ],
   "source": [
    "wlpa_clus=[]\n",
    "for i in range(20):\n",
    "    %time lp=rel_net.community_label_propagation(weights='weight')\n",
    "    wlpa_clus.append(lp)"
   ]
  },
  {
   "cell_type": "code",
   "execution_count": 188,
   "metadata": {
    "collapsed": true
   },
   "outputs": [],
   "source": [
    "wlp_times=[364,390,443,481,381,492,351,296,305,365,262,333,408,431,245,536,371,238,499,442]"
   ]
  },
  {
   "cell_type": "code",
   "execution_count": 85,
   "metadata": {
    "collapsed": false
   },
   "outputs": [
    {
     "data": {
      "text/plain": [
       "<itertools.permutations at 0x7fff4b65add0>"
      ]
     },
     "execution_count": 85,
     "metadata": {},
     "output_type": "execute_result"
    }
   ],
   "source": [
    "from itertools import combinations, permutations\n",
    "permutations([1, 2, 3,4], 2)"
   ]
  },
  {
   "cell_type": "code",
   "execution_count": 95,
   "metadata": {
    "collapsed": false
   },
   "outputs": [
    {
     "name": "stdout",
     "output_type": "stream",
     "text": [
      "CPU times: user 15min 20s, sys: 12.8 s, total: 15min 33s\n",
      "Wall time: 15min 33s\n"
     ]
    }
   ],
   "source": [
    "%time lpa_sims=[ig.clustering.compare_communities(clu[0],clu[1],method='nmi')  for clu  in  permutations(lpa_clus,2)]"
   ]
  },
  {
   "cell_type": "code",
   "execution_count": 108,
   "metadata": {
    "collapsed": true
   },
   "outputs": [],
   "source": [
    "wlpa_sims=[ig.clustering.compare_communities(clu[0],clu[1],method='nmi')  for clu  in  permutations(wlpa_clus,2)]"
   ]
  },
  {
   "cell_type": "code",
   "execution_count": 333,
   "metadata": {
    "collapsed": false
   },
   "outputs": [],
   "source": [
    "lpa_sims_vi=[ig.clustering.compare_communities(clu[0],clu[1],method='vi')  for clu  in  permutations(lpa_clus,2)]\n",
    "wlpa_sims_vi=[ig.clustering.compare_communities(clu[0],clu[1],method='vi')  for clu  in  permutations(wlpa_clus,2)]"
   ]
  },
  {
   "cell_type": "code",
   "execution_count": 325,
   "metadata": {
    "collapsed": false
   },
   "outputs": [],
   "source": [
    "ig.clustering.compare_communities?"
   ]
  },
  {
   "cell_type": "code",
   "execution_count": 312,
   "metadata": {
    "collapsed": false
   },
   "outputs": [],
   "source": [
    "import matplotlib.pylab as plt\n",
    "import seaborn as sns\n",
    "sns.set_style('whitegrid')\n",
    "sns.set_context('paper')\n",
    "def getTriHeat(lpa_sims,ax=None):\n",
    "    wlpa_sim_list=[]\n",
    "    i=0\n",
    "    for  line in pd.DataFrame(np.array(lpa_sims).reshape(20,19)).values:\n",
    "        wlpa_sim_list.append(np.insert(line,i,1.0))\n",
    "        i+=1\n",
    "    corr=pd.DataFrame(wlpa_sim_list)\n",
    "    mask = np.zeros_like(corr, dtype=np.bool)\n",
    "    mask[np.triu_indices_from(mask)] = True\n",
    "\n",
    "    # Set up the matplotlib figure\n",
    "#     f, ax = plt.subplots(figsize=(10, 8))\n",
    "\n",
    "    # Generate a custom diverging colormap\n",
    "    cmap = sns.diverging_palette(220, 10, as_cmap=True)\n",
    "\n",
    "    # Draw the heatmap with the mask and correct aspect ratio\n",
    "    sns.heatmap(corr, mask=mask, cmap=cmap, vmax=0.9, ax=ax)\n",
    "    #             square=True, xticklabels=5, yticklabels=5,\n",
    "    #             linewidths=.5, cbar_kws={\"shrink\": .5}, ax=ax)\n",
    "    return ax,corr"
   ]
  },
  {
   "cell_type": "markdown",
   "metadata": {},
   "source": [
    "### - 'NMI'"
   ]
  },
  {
   "cell_type": "code",
   "execution_count": 315,
   "metadata": {
    "collapsed": true
   },
   "outputs": [
    {
     "data": {
      "text/html": [
       "<div>\n",
       "<table border=\"1\" class=\"dataframe\">\n",
       "  <thead>\n",
       "    <tr style=\"text-align: right;\">\n",
       "      <th></th>\n",
       "      <th>0</th>\n",
       "      <th>1</th>\n",
       "      <th>2</th>\n",
       "      <th>3</th>\n",
       "      <th>4</th>\n",
       "      <th>5</th>\n",
       "      <th>6</th>\n",
       "      <th>7</th>\n",
       "      <th>8</th>\n",
       "      <th>9</th>\n",
       "      <th>10</th>\n",
       "      <th>11</th>\n",
       "      <th>12</th>\n",
       "      <th>13</th>\n",
       "      <th>14</th>\n",
       "      <th>15</th>\n",
       "      <th>16</th>\n",
       "      <th>17</th>\n",
       "      <th>18</th>\n",
       "      <th>19</th>\n",
       "    </tr>\n",
       "  </thead>\n",
       "  <tbody>\n",
       "    <tr>\n",
       "      <th>0</th>\n",
       "      <td>1.000000</td>\n",
       "      <td>0.851500</td>\n",
       "      <td>0.912085</td>\n",
       "      <td>0.760089</td>\n",
       "      <td>0.842135</td>\n",
       "      <td>0.817935</td>\n",
       "      <td>0.910024</td>\n",
       "      <td>0.886629</td>\n",
       "      <td>0.732596</td>\n",
       "      <td>0.912885</td>\n",
       "      <td>0.775678</td>\n",
       "      <td>0.892083</td>\n",
       "      <td>0.754496</td>\n",
       "      <td>0.900808</td>\n",
       "      <td>0.849986</td>\n",
       "      <td>0.814242</td>\n",
       "      <td>0.818460</td>\n",
       "      <td>0.882287</td>\n",
       "      <td>0.789908</td>\n",
       "      <td>0.821057</td>\n",
       "    </tr>\n",
       "    <tr>\n",
       "      <th>1</th>\n",
       "      <td>0.851500</td>\n",
       "      <td>1.000000</td>\n",
       "      <td>0.844847</td>\n",
       "      <td>0.716828</td>\n",
       "      <td>0.896012</td>\n",
       "      <td>0.834192</td>\n",
       "      <td>0.857843</td>\n",
       "      <td>0.900709</td>\n",
       "      <td>0.703165</td>\n",
       "      <td>0.852195</td>\n",
       "      <td>0.742328</td>\n",
       "      <td>0.834012</td>\n",
       "      <td>0.721822</td>\n",
       "      <td>0.829583</td>\n",
       "      <td>0.862828</td>\n",
       "      <td>0.778377</td>\n",
       "      <td>0.835865</td>\n",
       "      <td>0.883535</td>\n",
       "      <td>0.764024</td>\n",
       "      <td>0.834341</td>\n",
       "    </tr>\n",
       "    <tr>\n",
       "      <th>2</th>\n",
       "      <td>0.912085</td>\n",
       "      <td>0.844847</td>\n",
       "      <td>1.000000</td>\n",
       "      <td>0.767951</td>\n",
       "      <td>0.842641</td>\n",
       "      <td>0.825291</td>\n",
       "      <td>0.914993</td>\n",
       "      <td>0.868402</td>\n",
       "      <td>0.740258</td>\n",
       "      <td>0.907965</td>\n",
       "      <td>0.784241</td>\n",
       "      <td>0.888765</td>\n",
       "      <td>0.766210</td>\n",
       "      <td>0.903312</td>\n",
       "      <td>0.852469</td>\n",
       "      <td>0.812895</td>\n",
       "      <td>0.820632</td>\n",
       "      <td>0.879454</td>\n",
       "      <td>0.797325</td>\n",
       "      <td>0.821435</td>\n",
       "    </tr>\n",
       "    <tr>\n",
       "      <th>3</th>\n",
       "      <td>0.760089</td>\n",
       "      <td>0.716828</td>\n",
       "      <td>0.767951</td>\n",
       "      <td>1.000000</td>\n",
       "      <td>0.732118</td>\n",
       "      <td>0.788951</td>\n",
       "      <td>0.770702</td>\n",
       "      <td>0.714140</td>\n",
       "      <td>0.834914</td>\n",
       "      <td>0.786779</td>\n",
       "      <td>0.881796</td>\n",
       "      <td>0.779433</td>\n",
       "      <td>0.883921</td>\n",
       "      <td>0.771488</td>\n",
       "      <td>0.771100</td>\n",
       "      <td>0.807262</td>\n",
       "      <td>0.801354</td>\n",
       "      <td>0.736315</td>\n",
       "      <td>0.848937</td>\n",
       "      <td>0.770125</td>\n",
       "    </tr>\n",
       "    <tr>\n",
       "      <th>4</th>\n",
       "      <td>0.842135</td>\n",
       "      <td>0.896012</td>\n",
       "      <td>0.842641</td>\n",
       "      <td>0.732118</td>\n",
       "      <td>1.000000</td>\n",
       "      <td>0.859958</td>\n",
       "      <td>0.852223</td>\n",
       "      <td>0.897048</td>\n",
       "      <td>0.719173</td>\n",
       "      <td>0.838925</td>\n",
       "      <td>0.752254</td>\n",
       "      <td>0.835442</td>\n",
       "      <td>0.730560</td>\n",
       "      <td>0.829091</td>\n",
       "      <td>0.847225</td>\n",
       "      <td>0.801486</td>\n",
       "      <td>0.836651</td>\n",
       "      <td>0.881554</td>\n",
       "      <td>0.776363</td>\n",
       "      <td>0.879471</td>\n",
       "    </tr>\n",
       "    <tr>\n",
       "      <th>5</th>\n",
       "      <td>0.817935</td>\n",
       "      <td>0.834192</td>\n",
       "      <td>0.825291</td>\n",
       "      <td>0.788951</td>\n",
       "      <td>0.859958</td>\n",
       "      <td>1.000000</td>\n",
       "      <td>0.825114</td>\n",
       "      <td>0.837985</td>\n",
       "      <td>0.764663</td>\n",
       "      <td>0.839589</td>\n",
       "      <td>0.805173</td>\n",
       "      <td>0.821626</td>\n",
       "      <td>0.788287</td>\n",
       "      <td>0.817893</td>\n",
       "      <td>0.868485</td>\n",
       "      <td>0.816212</td>\n",
       "      <td>0.848930</td>\n",
       "      <td>0.860288</td>\n",
       "      <td>0.821957</td>\n",
       "      <td>0.893387</td>\n",
       "    </tr>\n",
       "    <tr>\n",
       "      <th>6</th>\n",
       "      <td>0.910024</td>\n",
       "      <td>0.857843</td>\n",
       "      <td>0.914993</td>\n",
       "      <td>0.770702</td>\n",
       "      <td>0.852223</td>\n",
       "      <td>0.825114</td>\n",
       "      <td>1.000000</td>\n",
       "      <td>0.884535</td>\n",
       "      <td>0.739924</td>\n",
       "      <td>0.912490</td>\n",
       "      <td>0.783767</td>\n",
       "      <td>0.899207</td>\n",
       "      <td>0.765579</td>\n",
       "      <td>0.910144</td>\n",
       "      <td>0.849544</td>\n",
       "      <td>0.818249</td>\n",
       "      <td>0.847722</td>\n",
       "      <td>0.880866</td>\n",
       "      <td>0.801678</td>\n",
       "      <td>0.826625</td>\n",
       "    </tr>\n",
       "    <tr>\n",
       "      <th>7</th>\n",
       "      <td>0.886629</td>\n",
       "      <td>0.900709</td>\n",
       "      <td>0.868402</td>\n",
       "      <td>0.714140</td>\n",
       "      <td>0.897048</td>\n",
       "      <td>0.837985</td>\n",
       "      <td>0.884535</td>\n",
       "      <td>1.000000</td>\n",
       "      <td>0.709369</td>\n",
       "      <td>0.863941</td>\n",
       "      <td>0.738956</td>\n",
       "      <td>0.838141</td>\n",
       "      <td>0.714583</td>\n",
       "      <td>0.858725</td>\n",
       "      <td>0.877737</td>\n",
       "      <td>0.793325</td>\n",
       "      <td>0.832873</td>\n",
       "      <td>0.905823</td>\n",
       "      <td>0.754647</td>\n",
       "      <td>0.865771</td>\n",
       "    </tr>\n",
       "    <tr>\n",
       "      <th>8</th>\n",
       "      <td>0.732596</td>\n",
       "      <td>0.703165</td>\n",
       "      <td>0.740258</td>\n",
       "      <td>0.834914</td>\n",
       "      <td>0.719173</td>\n",
       "      <td>0.764663</td>\n",
       "      <td>0.739924</td>\n",
       "      <td>0.709369</td>\n",
       "      <td>1.000000</td>\n",
       "      <td>0.750682</td>\n",
       "      <td>0.842173</td>\n",
       "      <td>0.754209</td>\n",
       "      <td>0.846834</td>\n",
       "      <td>0.743138</td>\n",
       "      <td>0.751177</td>\n",
       "      <td>0.790409</td>\n",
       "      <td>0.778975</td>\n",
       "      <td>0.727584</td>\n",
       "      <td>0.819894</td>\n",
       "      <td>0.759763</td>\n",
       "    </tr>\n",
       "    <tr>\n",
       "      <th>9</th>\n",
       "      <td>0.912885</td>\n",
       "      <td>0.852195</td>\n",
       "      <td>0.907965</td>\n",
       "      <td>0.786779</td>\n",
       "      <td>0.838925</td>\n",
       "      <td>0.839589</td>\n",
       "      <td>0.912490</td>\n",
       "      <td>0.863941</td>\n",
       "      <td>0.750682</td>\n",
       "      <td>1.000000</td>\n",
       "      <td>0.799318</td>\n",
       "      <td>0.905723</td>\n",
       "      <td>0.779168</td>\n",
       "      <td>0.908963</td>\n",
       "      <td>0.858321</td>\n",
       "      <td>0.811596</td>\n",
       "      <td>0.837968</td>\n",
       "      <td>0.889425</td>\n",
       "      <td>0.810817</td>\n",
       "      <td>0.818309</td>\n",
       "    </tr>\n",
       "    <tr>\n",
       "      <th>10</th>\n",
       "      <td>0.775678</td>\n",
       "      <td>0.742328</td>\n",
       "      <td>0.784241</td>\n",
       "      <td>0.881796</td>\n",
       "      <td>0.752254</td>\n",
       "      <td>0.805173</td>\n",
       "      <td>0.783767</td>\n",
       "      <td>0.738956</td>\n",
       "      <td>0.842173</td>\n",
       "      <td>0.799318</td>\n",
       "      <td>1.000000</td>\n",
       "      <td>0.793835</td>\n",
       "      <td>0.871726</td>\n",
       "      <td>0.784628</td>\n",
       "      <td>0.788151</td>\n",
       "      <td>0.826477</td>\n",
       "      <td>0.818347</td>\n",
       "      <td>0.760296</td>\n",
       "      <td>0.871758</td>\n",
       "      <td>0.785959</td>\n",
       "    </tr>\n",
       "    <tr>\n",
       "      <th>11</th>\n",
       "      <td>0.892083</td>\n",
       "      <td>0.834012</td>\n",
       "      <td>0.888765</td>\n",
       "      <td>0.779433</td>\n",
       "      <td>0.835442</td>\n",
       "      <td>0.821626</td>\n",
       "      <td>0.899207</td>\n",
       "      <td>0.838141</td>\n",
       "      <td>0.754209</td>\n",
       "      <td>0.905723</td>\n",
       "      <td>0.793835</td>\n",
       "      <td>1.000000</td>\n",
       "      <td>0.770305</td>\n",
       "      <td>0.896509</td>\n",
       "      <td>0.843985</td>\n",
       "      <td>0.834574</td>\n",
       "      <td>0.826335</td>\n",
       "      <td>0.868562</td>\n",
       "      <td>0.819548</td>\n",
       "      <td>0.813356</td>\n",
       "    </tr>\n",
       "    <tr>\n",
       "      <th>12</th>\n",
       "      <td>0.754496</td>\n",
       "      <td>0.721822</td>\n",
       "      <td>0.766210</td>\n",
       "      <td>0.883921</td>\n",
       "      <td>0.730560</td>\n",
       "      <td>0.788287</td>\n",
       "      <td>0.765579</td>\n",
       "      <td>0.714583</td>\n",
       "      <td>0.846834</td>\n",
       "      <td>0.779168</td>\n",
       "      <td>0.871726</td>\n",
       "      <td>0.770305</td>\n",
       "      <td>1.000000</td>\n",
       "      <td>0.768162</td>\n",
       "      <td>0.770124</td>\n",
       "      <td>0.809093</td>\n",
       "      <td>0.797693</td>\n",
       "      <td>0.740653</td>\n",
       "      <td>0.849203</td>\n",
       "      <td>0.770573</td>\n",
       "    </tr>\n",
       "    <tr>\n",
       "      <th>13</th>\n",
       "      <td>0.900808</td>\n",
       "      <td>0.829583</td>\n",
       "      <td>0.903312</td>\n",
       "      <td>0.771488</td>\n",
       "      <td>0.829091</td>\n",
       "      <td>0.817893</td>\n",
       "      <td>0.910144</td>\n",
       "      <td>0.858725</td>\n",
       "      <td>0.743138</td>\n",
       "      <td>0.908963</td>\n",
       "      <td>0.784628</td>\n",
       "      <td>0.896509</td>\n",
       "      <td>0.768162</td>\n",
       "      <td>1.000000</td>\n",
       "      <td>0.847885</td>\n",
       "      <td>0.834368</td>\n",
       "      <td>0.817554</td>\n",
       "      <td>0.878332</td>\n",
       "      <td>0.805998</td>\n",
       "      <td>0.813373</td>\n",
       "    </tr>\n",
       "    <tr>\n",
       "      <th>14</th>\n",
       "      <td>0.849986</td>\n",
       "      <td>0.862828</td>\n",
       "      <td>0.852469</td>\n",
       "      <td>0.771100</td>\n",
       "      <td>0.847225</td>\n",
       "      <td>0.868485</td>\n",
       "      <td>0.849544</td>\n",
       "      <td>0.877737</td>\n",
       "      <td>0.751177</td>\n",
       "      <td>0.858321</td>\n",
       "      <td>0.788151</td>\n",
       "      <td>0.843985</td>\n",
       "      <td>0.770124</td>\n",
       "      <td>0.847885</td>\n",
       "      <td>1.000000</td>\n",
       "      <td>0.824235</td>\n",
       "      <td>0.834353</td>\n",
       "      <td>0.885352</td>\n",
       "      <td>0.800031</td>\n",
       "      <td>0.884989</td>\n",
       "    </tr>\n",
       "    <tr>\n",
       "      <th>15</th>\n",
       "      <td>0.814242</td>\n",
       "      <td>0.778377</td>\n",
       "      <td>0.812895</td>\n",
       "      <td>0.807262</td>\n",
       "      <td>0.801486</td>\n",
       "      <td>0.816212</td>\n",
       "      <td>0.818249</td>\n",
       "      <td>0.793325</td>\n",
       "      <td>0.790409</td>\n",
       "      <td>0.811596</td>\n",
       "      <td>0.826477</td>\n",
       "      <td>0.834574</td>\n",
       "      <td>0.809093</td>\n",
       "      <td>0.834368</td>\n",
       "      <td>0.824235</td>\n",
       "      <td>1.000000</td>\n",
       "      <td>0.861809</td>\n",
       "      <td>0.787930</td>\n",
       "      <td>0.839278</td>\n",
       "      <td>0.833385</td>\n",
       "    </tr>\n",
       "    <tr>\n",
       "      <th>16</th>\n",
       "      <td>0.818460</td>\n",
       "      <td>0.835865</td>\n",
       "      <td>0.820632</td>\n",
       "      <td>0.801354</td>\n",
       "      <td>0.836651</td>\n",
       "      <td>0.848930</td>\n",
       "      <td>0.847722</td>\n",
       "      <td>0.832873</td>\n",
       "      <td>0.778975</td>\n",
       "      <td>0.837968</td>\n",
       "      <td>0.818347</td>\n",
       "      <td>0.826335</td>\n",
       "      <td>0.797693</td>\n",
       "      <td>0.817554</td>\n",
       "      <td>0.834353</td>\n",
       "      <td>0.861809</td>\n",
       "      <td>1.000000</td>\n",
       "      <td>0.815204</td>\n",
       "      <td>0.831323</td>\n",
       "      <td>0.851915</td>\n",
       "    </tr>\n",
       "    <tr>\n",
       "      <th>17</th>\n",
       "      <td>0.882287</td>\n",
       "      <td>0.883535</td>\n",
       "      <td>0.879454</td>\n",
       "      <td>0.736315</td>\n",
       "      <td>0.881554</td>\n",
       "      <td>0.860288</td>\n",
       "      <td>0.880866</td>\n",
       "      <td>0.905823</td>\n",
       "      <td>0.727584</td>\n",
       "      <td>0.889425</td>\n",
       "      <td>0.760296</td>\n",
       "      <td>0.868562</td>\n",
       "      <td>0.740653</td>\n",
       "      <td>0.878332</td>\n",
       "      <td>0.885352</td>\n",
       "      <td>0.787930</td>\n",
       "      <td>0.815204</td>\n",
       "      <td>1.000000</td>\n",
       "      <td>0.782650</td>\n",
       "      <td>0.866587</td>\n",
       "    </tr>\n",
       "    <tr>\n",
       "      <th>18</th>\n",
       "      <td>0.789908</td>\n",
       "      <td>0.764024</td>\n",
       "      <td>0.797325</td>\n",
       "      <td>0.848937</td>\n",
       "      <td>0.776363</td>\n",
       "      <td>0.821957</td>\n",
       "      <td>0.801678</td>\n",
       "      <td>0.754647</td>\n",
       "      <td>0.819894</td>\n",
       "      <td>0.810817</td>\n",
       "      <td>0.871758</td>\n",
       "      <td>0.819548</td>\n",
       "      <td>0.849203</td>\n",
       "      <td>0.805998</td>\n",
       "      <td>0.800031</td>\n",
       "      <td>0.839278</td>\n",
       "      <td>0.831323</td>\n",
       "      <td>0.782650</td>\n",
       "      <td>1.000000</td>\n",
       "      <td>0.804185</td>\n",
       "    </tr>\n",
       "    <tr>\n",
       "      <th>19</th>\n",
       "      <td>0.821057</td>\n",
       "      <td>0.834341</td>\n",
       "      <td>0.821435</td>\n",
       "      <td>0.770125</td>\n",
       "      <td>0.879471</td>\n",
       "      <td>0.893387</td>\n",
       "      <td>0.826625</td>\n",
       "      <td>0.865771</td>\n",
       "      <td>0.759763</td>\n",
       "      <td>0.818309</td>\n",
       "      <td>0.785959</td>\n",
       "      <td>0.813356</td>\n",
       "      <td>0.770573</td>\n",
       "      <td>0.813373</td>\n",
       "      <td>0.884989</td>\n",
       "      <td>0.833385</td>\n",
       "      <td>0.851915</td>\n",
       "      <td>0.866587</td>\n",
       "      <td>0.804185</td>\n",
       "      <td>1.000000</td>\n",
       "    </tr>\n",
       "  </tbody>\n",
       "</table>\n",
       "</div>"
      ],
      "text/plain": [
       "          0         1         2         3         4         5         6   \\\n",
       "0   1.000000  0.851500  0.912085  0.760089  0.842135  0.817935  0.910024   \n",
       "1   0.851500  1.000000  0.844847  0.716828  0.896012  0.834192  0.857843   \n",
       "2   0.912085  0.844847  1.000000  0.767951  0.842641  0.825291  0.914993   \n",
       "3   0.760089  0.716828  0.767951  1.000000  0.732118  0.788951  0.770702   \n",
       "4   0.842135  0.896012  0.842641  0.732118  1.000000  0.859958  0.852223   \n",
       "5   0.817935  0.834192  0.825291  0.788951  0.859958  1.000000  0.825114   \n",
       "6   0.910024  0.857843  0.914993  0.770702  0.852223  0.825114  1.000000   \n",
       "7   0.886629  0.900709  0.868402  0.714140  0.897048  0.837985  0.884535   \n",
       "8   0.732596  0.703165  0.740258  0.834914  0.719173  0.764663  0.739924   \n",
       "9   0.912885  0.852195  0.907965  0.786779  0.838925  0.839589  0.912490   \n",
       "10  0.775678  0.742328  0.784241  0.881796  0.752254  0.805173  0.783767   \n",
       "11  0.892083  0.834012  0.888765  0.779433  0.835442  0.821626  0.899207   \n",
       "12  0.754496  0.721822  0.766210  0.883921  0.730560  0.788287  0.765579   \n",
       "13  0.900808  0.829583  0.903312  0.771488  0.829091  0.817893  0.910144   \n",
       "14  0.849986  0.862828  0.852469  0.771100  0.847225  0.868485  0.849544   \n",
       "15  0.814242  0.778377  0.812895  0.807262  0.801486  0.816212  0.818249   \n",
       "16  0.818460  0.835865  0.820632  0.801354  0.836651  0.848930  0.847722   \n",
       "17  0.882287  0.883535  0.879454  0.736315  0.881554  0.860288  0.880866   \n",
       "18  0.789908  0.764024  0.797325  0.848937  0.776363  0.821957  0.801678   \n",
       "19  0.821057  0.834341  0.821435  0.770125  0.879471  0.893387  0.826625   \n",
       "\n",
       "          7         8         9         10        11        12        13  \\\n",
       "0   0.886629  0.732596  0.912885  0.775678  0.892083  0.754496  0.900808   \n",
       "1   0.900709  0.703165  0.852195  0.742328  0.834012  0.721822  0.829583   \n",
       "2   0.868402  0.740258  0.907965  0.784241  0.888765  0.766210  0.903312   \n",
       "3   0.714140  0.834914  0.786779  0.881796  0.779433  0.883921  0.771488   \n",
       "4   0.897048  0.719173  0.838925  0.752254  0.835442  0.730560  0.829091   \n",
       "5   0.837985  0.764663  0.839589  0.805173  0.821626  0.788287  0.817893   \n",
       "6   0.884535  0.739924  0.912490  0.783767  0.899207  0.765579  0.910144   \n",
       "7   1.000000  0.709369  0.863941  0.738956  0.838141  0.714583  0.858725   \n",
       "8   0.709369  1.000000  0.750682  0.842173  0.754209  0.846834  0.743138   \n",
       "9   0.863941  0.750682  1.000000  0.799318  0.905723  0.779168  0.908963   \n",
       "10  0.738956  0.842173  0.799318  1.000000  0.793835  0.871726  0.784628   \n",
       "11  0.838141  0.754209  0.905723  0.793835  1.000000  0.770305  0.896509   \n",
       "12  0.714583  0.846834  0.779168  0.871726  0.770305  1.000000  0.768162   \n",
       "13  0.858725  0.743138  0.908963  0.784628  0.896509  0.768162  1.000000   \n",
       "14  0.877737  0.751177  0.858321  0.788151  0.843985  0.770124  0.847885   \n",
       "15  0.793325  0.790409  0.811596  0.826477  0.834574  0.809093  0.834368   \n",
       "16  0.832873  0.778975  0.837968  0.818347  0.826335  0.797693  0.817554   \n",
       "17  0.905823  0.727584  0.889425  0.760296  0.868562  0.740653  0.878332   \n",
       "18  0.754647  0.819894  0.810817  0.871758  0.819548  0.849203  0.805998   \n",
       "19  0.865771  0.759763  0.818309  0.785959  0.813356  0.770573  0.813373   \n",
       "\n",
       "          14        15        16        17        18        19  \n",
       "0   0.849986  0.814242  0.818460  0.882287  0.789908  0.821057  \n",
       "1   0.862828  0.778377  0.835865  0.883535  0.764024  0.834341  \n",
       "2   0.852469  0.812895  0.820632  0.879454  0.797325  0.821435  \n",
       "3   0.771100  0.807262  0.801354  0.736315  0.848937  0.770125  \n",
       "4   0.847225  0.801486  0.836651  0.881554  0.776363  0.879471  \n",
       "5   0.868485  0.816212  0.848930  0.860288  0.821957  0.893387  \n",
       "6   0.849544  0.818249  0.847722  0.880866  0.801678  0.826625  \n",
       "7   0.877737  0.793325  0.832873  0.905823  0.754647  0.865771  \n",
       "8   0.751177  0.790409  0.778975  0.727584  0.819894  0.759763  \n",
       "9   0.858321  0.811596  0.837968  0.889425  0.810817  0.818309  \n",
       "10  0.788151  0.826477  0.818347  0.760296  0.871758  0.785959  \n",
       "11  0.843985  0.834574  0.826335  0.868562  0.819548  0.813356  \n",
       "12  0.770124  0.809093  0.797693  0.740653  0.849203  0.770573  \n",
       "13  0.847885  0.834368  0.817554  0.878332  0.805998  0.813373  \n",
       "14  1.000000  0.824235  0.834353  0.885352  0.800031  0.884989  \n",
       "15  0.824235  1.000000  0.861809  0.787930  0.839278  0.833385  \n",
       "16  0.834353  0.861809  1.000000  0.815204  0.831323  0.851915  \n",
       "17  0.885352  0.787930  0.815204  1.000000  0.782650  0.866587  \n",
       "18  0.800031  0.839278  0.831323  0.782650  1.000000  0.804185  \n",
       "19  0.884989  0.833385  0.851915  0.866587  0.804185  1.000000  "
      ]
     },
     "execution_count": 315,
     "metadata": {},
     "output_type": "execute_result"
    }
   ],
   "source": [
    "wlpa_df"
   ]
  },
  {
   "cell_type": "code",
   "execution_count": 313,
   "metadata": {
    "collapsed": false
   },
   "outputs": [
    {
     "data": {
      "text/plain": [
       "<matplotlib.text.Text at 0x7ffee4b2f9d0>"
      ]
     },
     "execution_count": 313,
     "metadata": {},
     "output_type": "execute_result"
    },
    {
     "data": {
      "image/png": "[encoded data removed]",
      "text/plain": [
       "<matplotlib.figure.Figure at 0x7ffeeec0bb10>"
      ]
     },
     "metadata": {},
     "output_type": "display_data"
    }
   ],
   "source": [
    "fig, (axe1,axe2) = plt.subplots(nrows=1, ncols=2, figsize=(10, 4),sharex=True)\n",
    "\n",
    "ax1,wlpa_df=getTriHeat(wlpa_sims,ax=axe1)\n",
    "axe1.set_title('LPA')\n",
    "ax,lpa_df=getTriHeat(lpa_sims,ax=axe2)\n",
    "axe2.set_title('LPA-GT')"
   ]
  },
  {
   "cell_type": "code",
   "execution_count": 330,
   "metadata": {
    "collapsed": false
   },
   "outputs": [
    {
     "data": {
      "text/plain": [
       "0.85149963916574711"
      ]
     },
     "execution_count": 330,
     "metadata": {},
     "output_type": "execute_result"
    }
   ],
   "source": [
    "np.array(wlpa_sims)[:1].mean()"
   ]
  },
  {
   "cell_type": "code",
   "execution_count": 331,
   "metadata": {
    "collapsed": false
   },
   "outputs": [
    {
     "data": {
      "text/plain": [
       "0.89499512908417367"
      ]
     },
     "execution_count": 331,
     "metadata": {},
     "output_type": "execute_result"
    }
   ],
   "source": [
    "np.array(lpa_sims)[:1].mean()"
   ]
  },
  {
   "cell_type": "code",
   "execution_count": 171,
   "metadata": {
    "collapsed": false
   },
   "outputs": [
    {
     "data": {
      "text/plain": [
       "0.81687420441061"
      ]
     },
     "execution_count": 171,
     "metadata": {},
     "output_type": "execute_result"
    }
   ],
   "source": [
    "wlpa_df[wlpa_df<1.0].mean().mean()"
   ]
  },
  {
   "cell_type": "code",
   "execution_count": 172,
   "metadata": {
    "collapsed": false
   },
   "outputs": [
    {
     "data": {
      "text/plain": [
       "0.8921074959297871"
      ]
     },
     "execution_count": 172,
     "metadata": {},
     "output_type": "execute_result"
    }
   ],
   "source": [
    "lpa_df[lpa_df<1.0].mean().mean()"
   ]
  },
  {
   "cell_type": "markdown",
   "metadata": {},
   "source": [
    "#### 2.1 时间效率"
   ]
  },
  {
   "cell_type": "code",
   "execution_count": 193,
   "metadata": {
    "collapsed": false
   },
   "outputs": [],
   "source": [
    "lp_df=pd.DataFrame([lp_times,wlp_times],index=['LPA','LPA-GT']).T"
   ]
  },
  {
   "cell_type": "code",
   "execution_count": 194,
   "metadata": {
    "collapsed": false
   },
   "outputs": [
    {
     "data": {
      "text/html": [
       "<div>\n",
       "<table border=\"1\" class=\"dataframe\">\n",
       "  <thead>\n",
       "    <tr style=\"text-align: right;\">\n",
       "      <th></th>\n",
       "      <th>LPA</th>\n",
       "      <th>LPA-GT</th>\n",
       "    </tr>\n",
       "  </thead>\n",
       "  <tbody>\n",
       "    <tr>\n",
       "      <th>count</th>\n",
       "      <td>20.000000</td>\n",
       "      <td>20.000000</td>\n",
       "    </tr>\n",
       "    <tr>\n",
       "      <th>mean</th>\n",
       "      <td>420.400000</td>\n",
       "      <td>381.650000</td>\n",
       "    </tr>\n",
       "    <tr>\n",
       "      <th>std</th>\n",
       "      <td>87.508436</td>\n",
       "      <td>86.173799</td>\n",
       "    </tr>\n",
       "    <tr>\n",
       "      <th>min</th>\n",
       "      <td>313.000000</td>\n",
       "      <td>238.000000</td>\n",
       "    </tr>\n",
       "    <tr>\n",
       "      <th>25%</th>\n",
       "      <td>352.500000</td>\n",
       "      <td>326.000000</td>\n",
       "    </tr>\n",
       "    <tr>\n",
       "      <th>50%</th>\n",
       "      <td>397.500000</td>\n",
       "      <td>376.000000</td>\n",
       "    </tr>\n",
       "    <tr>\n",
       "      <th>75%</th>\n",
       "      <td>484.250000</td>\n",
       "      <td>442.250000</td>\n",
       "    </tr>\n",
       "    <tr>\n",
       "      <th>max</th>\n",
       "      <td>661.000000</td>\n",
       "      <td>536.000000</td>\n",
       "    </tr>\n",
       "  </tbody>\n",
       "</table>\n",
       "</div>"
      ],
      "text/plain": [
       "              LPA      LPA-GT\n",
       "count   20.000000   20.000000\n",
       "mean   420.400000  381.650000\n",
       "std     87.508436   86.173799\n",
       "min    313.000000  238.000000\n",
       "25%    352.500000  326.000000\n",
       "50%    397.500000  376.000000\n",
       "75%    484.250000  442.250000\n",
       "max    661.000000  536.000000"
      ]
     },
     "execution_count": 194,
     "metadata": {},
     "output_type": "execute_result"
    }
   ],
   "source": [
    "lp_df.describe()"
   ]
  },
  {
   "cell_type": "code",
   "execution_count": 235,
   "metadata": {
    "collapsed": false
   },
   "outputs": [],
   "source": [
    "wLpa_q=[rel_net.modularity(line.membership,weights=ww)  for line in wlpa_clus]\n",
    "# Lpa_q=[rel_net.modularity(line,weights='weight')  for line in lpa_clus]"
   ]
  },
  {
   "cell_type": "markdown",
   "metadata": {},
   "source": [
    "####  模块度"
   ]
  },
  {
   "cell_type": "code",
   "execution_count": 243,
   "metadata": {
    "collapsed": false
   },
   "outputs": [
    {
     "data": {
      "text/html": [
       "<div>\n",
       "<table border=\"1\" class=\"dataframe\">\n",
       "  <thead>\n",
       "    <tr style=\"text-align: right;\">\n",
       "      <th></th>\n",
       "      <th>LPA</th>\n",
       "      <th>LPA-GT</th>\n",
       "    </tr>\n",
       "  </thead>\n",
       "  <tbody>\n",
       "    <tr>\n",
       "      <th>count</th>\n",
       "      <td>20.000000</td>\n",
       "      <td>20.000000</td>\n",
       "    </tr>\n",
       "    <tr>\n",
       "      <th>mean</th>\n",
       "      <td>0.835654</td>\n",
       "      <td>0.776537</td>\n",
       "    </tr>\n",
       "    <tr>\n",
       "      <th>std</th>\n",
       "      <td>0.001582</td>\n",
       "      <td>0.023896</td>\n",
       "    </tr>\n",
       "    <tr>\n",
       "      <th>min</th>\n",
       "      <td>0.831709</td>\n",
       "      <td>0.728650</td>\n",
       "    </tr>\n",
       "    <tr>\n",
       "      <th>25%</th>\n",
       "      <td>0.834875</td>\n",
       "      <td>0.767647</td>\n",
       "    </tr>\n",
       "    <tr>\n",
       "      <th>50%</th>\n",
       "      <td>0.835807</td>\n",
       "      <td>0.776964</td>\n",
       "    </tr>\n",
       "    <tr>\n",
       "      <th>75%</th>\n",
       "      <td>0.836502</td>\n",
       "      <td>0.793531</td>\n",
       "    </tr>\n",
       "    <tr>\n",
       "      <th>max</th>\n",
       "      <td>0.838266</td>\n",
       "      <td>0.817132</td>\n",
       "    </tr>\n",
       "  </tbody>\n",
       "</table>\n",
       "</div>"
      ],
      "text/plain": [
       "             LPA     LPA-GT\n",
       "count  20.000000  20.000000\n",
       "mean    0.835654   0.776537\n",
       "std     0.001582   0.023896\n",
       "min     0.831709   0.728650\n",
       "25%     0.834875   0.767647\n",
       "50%     0.835807   0.776964\n",
       "75%     0.836502   0.793531\n",
       "max     0.838266   0.817132"
      ]
     },
     "execution_count": 243,
     "metadata": {},
     "output_type": "execute_result"
    }
   ],
   "source": [
    "q=pd.DataFrame([Lpa_q,wLpa_q],index=['LPA','LPA-GT']).T\n",
    "q.describe()"
   ]
  },
  {
   "cell_type": "code",
   "execution_count": 244,
   "metadata": {
    "collapsed": false
   },
   "outputs": [
    {
     "data": {
      "text/plain": [
       "<matplotlib.axes._subplots.AxesSubplot at 0x7ffeef22afd0>"
      ]
     },
     "execution_count": 244,
     "metadata": {},
     "output_type": "execute_result"
    },
    {
     "data": {
      "image/png": "[encoded data removed]",
      "text/plain": [
       "<matplotlib.figure.Figure at 0x7fff253cf2d0>"
      ]
     },
     "metadata": {},
     "output_type": "display_data"
    }
   ],
   "source": [
    "q.plot()"
   ]
  },
  {
   "cell_type": "markdown",
   "metadata": {},
   "source": [
    "-  规模"
   ]
  },
  {
   "cell_type": "code",
   "execution_count": 264,
   "metadata": {
    "collapsed": false
   },
   "outputs": [],
   "source": [
    "WL_size=[len(line.sizes())  for line  in  wlpa_clus]\n",
    "# L_size=[len(line.sizes())  for line  in  lpa_clus]"
   ]
  },
  {
   "cell_type": "code",
   "execution_count": 265,
   "metadata": {
    "collapsed": true
   },
   "outputs": [],
   "source": [
    "clu_size=pd.DataFrame([WL_size,L_size],index=['LPA-GT','LPA']).T"
   ]
  },
  {
   "cell_type": "code",
   "execution_count": 324,
   "metadata": {
    "collapsed": true
   },
   "outputs": [
    {
     "data": {
      "text/html": [
       "<div>\n",
       "<table border=\"1\" class=\"dataframe\">\n",
       "  <thead>\n",
       "    <tr style=\"text-align: right;\">\n",
       "      <th></th>\n",
       "      <th>LPA-GT</th>\n",
       "      <th>LPA</th>\n",
       "    </tr>\n",
       "  </thead>\n",
       "  <tbody>\n",
       "    <tr>\n",
       "      <th>0</th>\n",
       "      <td>99387</td>\n",
       "      <td>13624</td>\n",
       "    </tr>\n",
       "    <tr>\n",
       "      <th>1</th>\n",
       "      <td>123446</td>\n",
       "      <td>13957</td>\n",
       "    </tr>\n",
       "    <tr>\n",
       "      <th>2</th>\n",
       "      <td>93319</td>\n",
       "      <td>13489</td>\n",
       "    </tr>\n",
       "    <tr>\n",
       "      <th>3</th>\n",
       "      <td>42136</td>\n",
       "      <td>13733</td>\n",
       "    </tr>\n",
       "    <tr>\n",
       "      <th>4</th>\n",
       "      <td>117063</td>\n",
       "      <td>13657</td>\n",
       "    </tr>\n",
       "    <tr>\n",
       "      <th>5</th>\n",
       "      <td>83060</td>\n",
       "      <td>13617</td>\n",
       "    </tr>\n",
       "    <tr>\n",
       "      <th>6</th>\n",
       "      <td>95170</td>\n",
       "      <td>13991</td>\n",
       "    </tr>\n",
       "    <tr>\n",
       "      <th>7</th>\n",
       "      <td>126116</td>\n",
       "      <td>13659</td>\n",
       "    </tr>\n",
       "    <tr>\n",
       "      <th>8</th>\n",
       "      <td>41190</td>\n",
       "      <td>13895</td>\n",
       "    </tr>\n",
       "    <tr>\n",
       "      <th>9</th>\n",
       "      <td>87193</td>\n",
       "      <td>14090</td>\n",
       "    </tr>\n",
       "    <tr>\n",
       "      <th>10</th>\n",
       "      <td>44857</td>\n",
       "      <td>13729</td>\n",
       "    </tr>\n",
       "    <tr>\n",
       "      <th>11</th>\n",
       "      <td>83948</td>\n",
       "      <td>13813</td>\n",
       "    </tr>\n",
       "    <tr>\n",
       "      <th>12</th>\n",
       "      <td>40785</td>\n",
       "      <td>13773</td>\n",
       "    </tr>\n",
       "    <tr>\n",
       "      <th>13</th>\n",
       "      <td>87857</td>\n",
       "      <td>13577</td>\n",
       "    </tr>\n",
       "    <tr>\n",
       "      <th>14</th>\n",
       "      <td>94750</td>\n",
       "      <td>13691</td>\n",
       "    </tr>\n",
       "    <tr>\n",
       "      <th>15</th>\n",
       "      <td>62769</td>\n",
       "      <td>13818</td>\n",
       "    </tr>\n",
       "    <tr>\n",
       "      <th>16</th>\n",
       "      <td>72715</td>\n",
       "      <td>13707</td>\n",
       "    </tr>\n",
       "    <tr>\n",
       "      <th>17</th>\n",
       "      <td>110140</td>\n",
       "      <td>13926</td>\n",
       "    </tr>\n",
       "    <tr>\n",
       "      <th>18</th>\n",
       "      <td>46946</td>\n",
       "      <td>14176</td>\n",
       "    </tr>\n",
       "    <tr>\n",
       "      <th>19</th>\n",
       "      <td>90771</td>\n",
       "      <td>13941</td>\n",
       "    </tr>\n",
       "  </tbody>\n",
       "</table>\n",
       "</div>"
      ],
      "text/plain": [
       "    LPA-GT    LPA\n",
       "0    99387  13624\n",
       "1   123446  13957\n",
       "2    93319  13489\n",
       "3    42136  13733\n",
       "4   117063  13657\n",
       "5    83060  13617\n",
       "6    95170  13991\n",
       "7   126116  13659\n",
       "8    41190  13895\n",
       "9    87193  14090\n",
       "10   44857  13729\n",
       "11   83948  13813\n",
       "12   40785  13773\n",
       "13   87857  13577\n",
       "14   94750  13691\n",
       "15   62769  13818\n",
       "16   72715  13707\n",
       "17  110140  13926\n",
       "18   46946  14176\n",
       "19   90771  13941"
      ]
     },
     "execution_count": 324,
     "metadata": {},
     "output_type": "execute_result"
    }
   ],
   "source": []
  },
  {
   "cell_type": "markdown",
   "metadata": {},
   "source": [
    "#### - 最大社区"
   ]
  },
  {
   "cell_type": "code",
   "execution_count": 321,
   "metadata": {
    "collapsed": true
   },
   "outputs": [],
   "source": [
    "WL_Gsize=[np.array(line.sizes()).mean()  for line  in  wlpa_clus]\n",
    "L_Gsize=[np.array(line.sizes()).mean()  for line  in  lpa_clus]"
   ]
  },
  {
   "cell_type": "code",
   "execution_count": 322,
   "metadata": {
    "collapsed": false
   },
   "outputs": [],
   "source": [
    "clu_Gsize=pd.DataFrame([WL_Gsize,L_Gsize],index=['LPA-GT','LPA']).T"
   ]
  },
  {
   "cell_type": "code",
   "execution_count": 323,
   "metadata": {
    "collapsed": true
   },
   "outputs": [
    {
     "data": {
      "text/html": [
       "<div>\n",
       "<table border=\"1\" class=\"dataframe\">\n",
       "  <thead>\n",
       "    <tr style=\"text-align: right;\">\n",
       "      <th></th>\n",
       "      <th>LPA-GT</th>\n",
       "      <th>LPA</th>\n",
       "    </tr>\n",
       "  </thead>\n",
       "  <tbody>\n",
       "    <tr>\n",
       "      <th>0</th>\n",
       "      <td>19.770101</td>\n",
       "      <td>144.222769</td>\n",
       "    </tr>\n",
       "    <tr>\n",
       "      <th>1</th>\n",
       "      <td>15.917008</td>\n",
       "      <td>140.781758</td>\n",
       "    </tr>\n",
       "    <tr>\n",
       "      <th>2</th>\n",
       "      <td>21.055637</td>\n",
       "      <td>145.666172</td>\n",
       "    </tr>\n",
       "    <tr>\n",
       "      <th>3</th>\n",
       "      <td>46.632120</td>\n",
       "      <td>143.078060</td>\n",
       "    </tr>\n",
       "    <tr>\n",
       "      <th>4</th>\n",
       "      <td>16.784902</td>\n",
       "      <td>143.874277</td>\n",
       "    </tr>\n",
       "    <tr>\n",
       "      <th>5</th>\n",
       "      <td>23.656285</td>\n",
       "      <td>144.296908</td>\n",
       "    </tr>\n",
       "    <tr>\n",
       "      <th>6</th>\n",
       "      <td>20.646117</td>\n",
       "      <td>140.439640</td>\n",
       "    </tr>\n",
       "    <tr>\n",
       "      <th>7</th>\n",
       "      <td>15.580029</td>\n",
       "      <td>143.853210</td>\n",
       "    </tr>\n",
       "    <tr>\n",
       "      <th>8</th>\n",
       "      <td>47.703108</td>\n",
       "      <td>141.409932</td>\n",
       "    </tr>\n",
       "    <tr>\n",
       "      <th>9</th>\n",
       "      <td>22.534963</td>\n",
       "      <td>139.452874</td>\n",
       "    </tr>\n",
       "    <tr>\n",
       "      <th>10</th>\n",
       "      <td>43.803442</td>\n",
       "      <td>143.119747</td>\n",
       "    </tr>\n",
       "    <tr>\n",
       "      <th>11</th>\n",
       "      <td>23.406049</td>\n",
       "      <td>142.249403</td>\n",
       "    </tr>\n",
       "    <tr>\n",
       "      <th>12</th>\n",
       "      <td>48.176805</td>\n",
       "      <td>142.662528</td>\n",
       "    </tr>\n",
       "    <tr>\n",
       "      <th>13</th>\n",
       "      <td>22.364649</td>\n",
       "      <td>144.722030</td>\n",
       "    </tr>\n",
       "    <tr>\n",
       "      <th>14</th>\n",
       "      <td>20.737636</td>\n",
       "      <td>143.516982</td>\n",
       "    </tr>\n",
       "    <tr>\n",
       "      <th>15</th>\n",
       "      <td>31.303526</td>\n",
       "      <td>142.197930</td>\n",
       "    </tr>\n",
       "    <tr>\n",
       "      <th>16</th>\n",
       "      <td>27.021811</td>\n",
       "      <td>143.349456</td>\n",
       "    </tr>\n",
       "    <tr>\n",
       "      <th>17</th>\n",
       "      <td>17.839940</td>\n",
       "      <td>141.095146</td>\n",
       "    </tr>\n",
       "    <tr>\n",
       "      <th>18</th>\n",
       "      <td>41.854279</td>\n",
       "      <td>138.606871</td>\n",
       "    </tr>\n",
       "    <tr>\n",
       "      <th>19</th>\n",
       "      <td>21.646682</td>\n",
       "      <td>140.943333</td>\n",
       "    </tr>\n",
       "  </tbody>\n",
       "</table>\n",
       "</div>"
      ],
      "text/plain": [
       "       LPA-GT         LPA\n",
       "0   19.770101  144.222769\n",
       "1   15.917008  140.781758\n",
       "2   21.055637  145.666172\n",
       "3   46.632120  143.078060\n",
       "4   16.784902  143.874277\n",
       "5   23.656285  144.296908\n",
       "6   20.646117  140.439640\n",
       "7   15.580029  143.853210\n",
       "8   47.703108  141.409932\n",
       "9   22.534963  139.452874\n",
       "10  43.803442  143.119747\n",
       "11  23.406049  142.249403\n",
       "12  48.176805  142.662528\n",
       "13  22.364649  144.722030\n",
       "14  20.737636  143.516982\n",
       "15  31.303526  142.197930\n",
       "16  27.021811  143.349456\n",
       "17  17.839940  141.095146\n",
       "18  41.854279  138.606871\n",
       "19  21.646682  140.943333"
      ]
     },
     "execution_count": 323,
     "metadata": {},
     "output_type": "execute_result"
    }
   ],
   "source": [
    "clu_Gsize"
   ]
  },
  {
   "cell_type": "code",
   "execution_count": 292,
   "metadata": {
    "collapsed": false
   },
   "outputs": [],
   "source": [
    "def getGrat(line):\n",
    "    s=np.array(line.sizes())\n",
    "    g_rate=s[s>1000].shape[0]/float(s.shape[0])\n",
    "    return g_rate"
   ]
  },
  {
   "cell_type": "code",
   "execution_count": 280,
   "metadata": {
    "collapsed": false
   },
   "outputs": [
    {
     "data": {
      "text/plain": [
       "<matplotlib.axes._subplots.AxesSubplot at 0x7fff257bb490>"
      ]
     },
     "execution_count": 280,
     "metadata": {},
     "output_type": "execute_result"
    },
    {
     "data": {
      "image/png": "[encoded data removed]",
      "text/plain": [
       "<matplotlib.figure.Figure at 0x7fff333428d0>"
      ]
     },
     "metadata": {},
     "output_type": "display_data"
    }
   ],
   "source": [
    "clu_Gsize.plot()"
   ]
  },
  {
   "cell_type": "code",
   "execution_count": 294,
   "metadata": {
    "collapsed": true
   },
   "outputs": [],
   "source": [
    "WL_Gratio=[getGrat(line)  for line  in  wlpa_clus]\n",
    "L_Gratio=[getGrat(line)  for line  in  lpa_clus]\n",
    "clu_Gratio=pd.DataFrame([WL_Gratio,L_Gratio],index=['LPA-GT','LPA']).T"
   ]
  },
  {
   "cell_type": "code",
   "execution_count": 296,
   "metadata": {
    "collapsed": false
   },
   "outputs": [
    {
     "data": {
      "text/plain": [
       "<matplotlib.axes._subplots.AxesSubplot at 0x7fff31475b90>"
      ]
     },
     "execution_count": 296,
     "metadata": {},
     "output_type": "execute_result"
    },
    {
     "data": {
      "image/png": "[encoded data removed]",
      "text/plain": [
       "<matplotlib.figure.Figure at 0x7fff253b7ed0>"
      ]
     },
     "metadata": {},
     "output_type": "display_data"
    }
   ],
   "source": [
    "clu_Gratio.plot()"
   ]
  },
  {
   "cell_type": "markdown",
   "metadata": {},
   "source": [
    "### 2.2  整体观察"
   ]
  },
  {
   "cell_type": "code",
   "execution_count": 29,
   "metadata": {
    "collapsed": true
   },
   "outputs": [],
   "source": [
    "cunity={'Uweight':rel_comm_lpa,'Weight':relW_comm}\n",
    "cunity_values=cunity.itervalues()"
   ]
  },
  {
   "cell_type": "code",
   "execution_count": 30,
   "metadata": {
    "collapsed": false
   },
   "outputs": [
    {
     "name": "stdout",
     "output_type": "stream",
     "text": [
      "Weight : 0.731550161228\n",
      "Uweight : 0.841161086097\n"
     ]
    }
   ],
   "source": [
    "for x,y in cunity.iteritems():\n",
    "    print x,':',y.modularity"
   ]
  },
  {
   "cell_type": "code",
   "execution_count": 12,
   "metadata": {
    "collapsed": false
   },
   "outputs": [
    {
     "name": "stdout",
     "output_type": "stream",
     "text": [
      "Weight summary: Clustering with 1964891 elements and 113716 clusters\n",
      "Uweight summary: Clustering with 1964891 elements and 13653 clusters\n"
     ]
    }
   ],
   "source": [
    "for x,y in cunity.iteritems():\n",
    "    print x,'summary:',y.summary()"
   ]
  },
  {
   "cell_type": "raw",
   "metadata": {},
   "source": [
    "无权网络共68084个节点共分成了1797个社区  而无权网络却被分成了5642个社区"
   ]
  },
  {
   "cell_type": "code",
   "execution_count": 13,
   "metadata": {
    "collapsed": false
   },
   "outputs": [],
   "source": [
    "def getCommSize(rel_comm_lpa):\n",
    "    bins=range(1,25)+[26,40,50,4602]\n",
    "    comm=pd.DataFrame(rel_comm_lpa.sizes(),columns=['size'])\n",
    "    comm_sizes=comm['size'].value_counts().sort_index()\n",
    "    size_bins=pd.cut(comm_sizes.index,bins=bins,labels=bins[1:])\n",
    "    comm_sizes.index=size_bins\n",
    "    return comm_sizes,comm\n",
    "comm_sizes,CommS=getCommSize(rel_comm_lpa)\n",
    "Wcomm_sizes,WCommS=getCommSize(relW_comm)"
   ]
  },
  {
   "cell_type": "code",
   "execution_count": 14,
   "metadata": {
    "collapsed": false
   },
   "outputs": [],
   "source": [
    "bins_per=np.arange(0.05,1.0,0.05)\n",
    "comm_per=CommS.quantile(bins_per)\n",
    "comm_per['WLPA']=WCommS.quantile(bins_per)"
   ]
  },
  {
   "cell_type": "code",
   "execution_count": 15,
   "metadata": {
    "collapsed": false
   },
   "outputs": [
    {
     "data": {
      "text/plain": [
       "<matplotlib.text.Text at 0x7fffa8cb1250>"
      ]
     },
     "execution_count": 15,
     "metadata": {},
     "output_type": "execute_result"
    },
    {
     "data": {
      "image/png": "[encoded data removed]",
      "text/plain": [
       "<matplotlib.figure.Figure at 0x7fff2cfe54d0>"
      ]
     },
     "metadata": {},
     "output_type": "display_data"
    }
   ],
   "source": [
    "import matplotlib.pyplot  as plt\n",
    "# fig, axes = plt.subplots(nrows=1, ncols=2, figsize=(9, 4))\n",
    "fig, (ax1,ax2) = plt.subplots(nrows=2, ncols=2, figsize=(9, 8))\n",
    "ax1=fig.add_subplot(111)\n",
    "ax1.plot(comm_per.index,comm_per['size'],'-ks',label='LPA')\n",
    "ax1.legend()\n",
    "ax2=ax1.twinx()\n",
    "ax2.plot(comm_per.index,comm_per['WLPA'],'-ro',label='WLPA')\n",
    "ax1.set_xlim([0,0.96])\n",
    "ax2.set_xlim([0,0.96])\n",
    "ax1.set_ylabel('LPA')\n",
    "ax2.set_ylabel('WLPA')\n",
    "\n",
    "# fig.legend((ax1,ax2),('w','l'),2)"
   ]
  },
  {
   "cell_type": "code",
   "execution_count": null,
   "metadata": {
    "collapsed": false
   },
   "outputs": [],
   "source": [
    "WCommS.quantile(bins_per).plot()"
   ]
  },
  {
   "cell_type": "markdown",
   "metadata": {},
   "source": [
    "#### 2.2.1 社区规模"
   ]
  },
  {
   "cell_type": "code",
   "execution_count": 17,
   "metadata": {
    "collapsed": true
   },
   "outputs": [
    {
     "ename": "NameError",
     "evalue": "name 'uwcomm_sizes' is not defined",
     "output_type": "error",
     "traceback": [
      "\u001b[0;31m---------------------------------------------------------------------------\u001b[0m",
      "\u001b[0;31mNameError\u001b[0m                                 Traceback (most recent call last)",
      "\u001b[0;32m<ipython-input-17-0d7bed15dc32>\u001b[0m in \u001b[0;36m<module>\u001b[0;34m()\u001b[0m\n\u001b[0;32m----> 1\u001b[0;31m \u001b[0max\u001b[0m\u001b[0;34m=\u001b[0m\u001b[0muwcomm_sizes\u001b[0m\u001b[0;34m.\u001b[0m\u001b[0mgroupby\u001b[0m\u001b[0;34m(\u001b[0m\u001b[0mlevel\u001b[0m\u001b[0;34m=\u001b[0m\u001b[0;36m0\u001b[0m\u001b[0;34m)\u001b[0m\u001b[0;34m.\u001b[0m\u001b[0msum\u001b[0m\u001b[0;34m(\u001b[0m\u001b[0;34m)\u001b[0m\u001b[0;34m.\u001b[0m\u001b[0mplot\u001b[0m\u001b[0;34m.\u001b[0m\u001b[0mbar\u001b[0m\u001b[0;34m(\u001b[0m\u001b[0mcolor\u001b[0m\u001b[0;34m=\u001b[0m\u001b[0;34m'red'\u001b[0m\u001b[0;34m,\u001b[0m\u001b[0mlabel\u001b[0m\u001b[0;34m=\u001b[0m\u001b[0;34m'comm_size'\u001b[0m\u001b[0;34m)\u001b[0m\u001b[0;34m\u001b[0m\u001b[0m\n\u001b[0m\u001b[1;32m      2\u001b[0m \u001b[0max\u001b[0m\u001b[0;34m.\u001b[0m\u001b[0mlegend\u001b[0m\u001b[0;34m(\u001b[0m\u001b[0;34m)\u001b[0m\u001b[0;34m\u001b[0m\u001b[0m\n",
      "\u001b[0;31mNameError\u001b[0m: name 'uwcomm_sizes' is not defined"
     ]
    }
   ],
   "source": [
    "ax=uwcomm_sizes.groupby(level=0).sum().plot.bar(color='red',label='comm_size')\n",
    "ax.legend()"
   ]
  },
  {
   "cell_type": "code",
   "execution_count": null,
   "metadata": {
    "collapsed": false
   },
   "outputs": [],
   "source": [
    "ax=comm_sizes.groupby(level=0).sum().plot.bar(color='red',label='comm_size')\n",
    "ax.legend()"
   ]
  },
  {
   "cell_type": "code",
   "execution_count": null,
   "metadata": {
    "collapsed": false
   },
   "outputs": [],
   "source": [
    "subg=rel_comm_lpa.subgraph(99)"
   ]
  },
  {
   "cell_type": "raw",
   "metadata": {},
   "source": [
    "subg.strength()  ## 返回带全的度\n",
    "q=subg.k_core(5)  ## 返回k-cord\n",
    "subg.largest_cliques()\n",
    "subg.neighborhood(2,3)  ##返回某点在n不得邻居\n",
    "subg.neighborhood_size(2,order=4)  ##返回某节点在n步的邻居节点规模\n",
    "subg.neighbors()  ##某节点的邻居节点\n",
    "subg.radius()   ##半径"
   ]
  },
  {
   "cell_type": "code",
   "execution_count": 10,
   "metadata": {
    "collapsed": false
   },
   "outputs": [
    {
     "name": "stdout",
     "output_type": "stream",
     "text": [
      "CPU times: user 1min 57s, sys: 2.6 s, total: 2min\n",
      "Wall time: 1h 55min 26s\n"
     ]
    }
   ],
   "source": [
    "%time sub_stats=getCommStats(rel_comm_lpa)"
   ]
  },
  {
   "cell_type": "code",
   "execution_count": 19,
   "metadata": {
    "collapsed": false
   },
   "outputs": [
    {
     "name": "stdout",
     "output_type": "stream",
     "text": [
      "CPU times: user 11min 36s, sys: 2.93 s, total: 11min 39s\n",
      "Wall time: 2h 30min 20s\n"
     ]
    }
   ],
   "source": [
    "%time  Wsubg_stats=getCommStats(relW_comm)"
   ]
  },
  {
   "cell_type": "code",
   "execution_count": 709,
   "metadata": {
    "collapsed": false
   },
   "outputs": [],
   "source": [
    "# max_comm=rel_comm_lpa.subgraph(120)\n",
    "max_comm.write_pajek('chapter1data/max120.net')"
   ]
  },
  {
   "cell_type": "code",
   "execution_count": 746,
   "metadata": {
    "collapsed": false
   },
   "outputs": [],
   "source": [
    "sub_stats.to_csv('chapter1data/LPA_comm0327.csv')"
   ]
  },
  {
   "cell_type": "code",
   "execution_count": 744,
   "metadata": {
    "collapsed": false
   },
   "outputs": [],
   "source": [
    "Wsubg_stats.to_csv('chapter1data/WLPA_comm0327.csv')"
   ]
  },
  {
   "cell_type": "code",
   "execution_count": 21,
   "metadata": {
    "collapsed": false
   },
   "outputs": [
    {
     "data": {
      "text/html": [
       "<div>\n",
       "<table border=\"1\" class=\"dataframe\">\n",
       "  <thead>\n",
       "    <tr style=\"text-align: right;\">\n",
       "      <th></th>\n",
       "      <th>diameter</th>\n",
       "      <th>density</th>\n",
       "      <th>cliqu_number</th>\n",
       "      <th>avg_path_length</th>\n",
       "      <th>vcount</th>\n",
       "      <th>coef</th>\n",
       "      <th>assortativity</th>\n",
       "      <th>omega</th>\n",
       "      <th>mean_rel</th>\n",
       "    </tr>\n",
       "  </thead>\n",
       "  <tbody>\n",
       "    <tr>\n",
       "      <th>count</th>\n",
       "      <td>13653.000000</td>\n",
       "      <td>13653.000000</td>\n",
       "      <td>13653.000000</td>\n",
       "      <td>13653.000000</td>\n",
       "      <td>13653.000000</td>\n",
       "      <td>10343.000000</td>\n",
       "      <td>9847.000000</td>\n",
       "      <td>13653.000000</td>\n",
       "      <td>13653.000000</td>\n",
       "    </tr>\n",
       "    <tr>\n",
       "      <th>mean</th>\n",
       "      <td>2.849410</td>\n",
       "      <td>0.981911</td>\n",
       "      <td>2.805830</td>\n",
       "      <td>1.615909</td>\n",
       "      <td>143.916429</td>\n",
       "      <td>0.353881</td>\n",
       "      <td>-0.363374</td>\n",
       "      <td>2.805830</td>\n",
       "      <td>4.079765</td>\n",
       "    </tr>\n",
       "    <tr>\n",
       "      <th>std</th>\n",
       "      <td>2.356182</td>\n",
       "      <td>0.684769</td>\n",
       "      <td>0.928133</td>\n",
       "      <td>0.767636</td>\n",
       "      <td>1588.467215</td>\n",
       "      <td>0.334020</td>\n",
       "      <td>0.340811</td>\n",
       "      <td>0.928133</td>\n",
       "      <td>0.535984</td>\n",
       "    </tr>\n",
       "    <tr>\n",
       "      <th>min</th>\n",
       "      <td>1.000000</td>\n",
       "      <td>0.000055</td>\n",
       "      <td>2.000000</td>\n",
       "      <td>1.000000</td>\n",
       "      <td>2.000000</td>\n",
       "      <td>0.000000</td>\n",
       "      <td>-1.000000</td>\n",
       "      <td>2.000000</td>\n",
       "      <td>0.690000</td>\n",
       "    </tr>\n",
       "    <tr>\n",
       "      <th>25%</th>\n",
       "      <td>1.000000</td>\n",
       "      <td>0.409091</td>\n",
       "      <td>2.000000</td>\n",
       "      <td>1.000000</td>\n",
       "      <td>3.000000</td>\n",
       "      <td>0.000000</td>\n",
       "      <td>-0.666667</td>\n",
       "      <td>2.000000</td>\n",
       "      <td>3.776374</td>\n",
       "    </tr>\n",
       "    <tr>\n",
       "      <th>50%</th>\n",
       "      <td>2.000000</td>\n",
       "      <td>0.800000</td>\n",
       "      <td>3.000000</td>\n",
       "      <td>1.333333</td>\n",
       "      <td>4.000000</td>\n",
       "      <td>0.300000</td>\n",
       "      <td>-0.333333</td>\n",
       "      <td>3.000000</td>\n",
       "      <td>4.030000</td>\n",
       "    </tr>\n",
       "    <tr>\n",
       "      <th>75%</th>\n",
       "      <td>4.000000</td>\n",
       "      <td>1.666667</td>\n",
       "      <td>3.000000</td>\n",
       "      <td>1.892857</td>\n",
       "      <td>8.000000</td>\n",
       "      <td>0.600000</td>\n",
       "      <td>-0.101879</td>\n",
       "      <td>3.000000</td>\n",
       "      <td>4.346000</td>\n",
       "    </tr>\n",
       "    <tr>\n",
       "      <th>max</th>\n",
       "      <td>19.000000</td>\n",
       "      <td>2.000000</td>\n",
       "      <td>9.000000</td>\n",
       "      <td>7.374552</td>\n",
       "      <td>77596.000000</td>\n",
       "      <td>1.000000</td>\n",
       "      <td>0.690909</td>\n",
       "      <td>9.000000</td>\n",
       "      <td>7.350000</td>\n",
       "    </tr>\n",
       "  </tbody>\n",
       "</table>\n",
       "</div>"
      ],
      "text/plain": [
       "           diameter       density  cliqu_number  avg_path_length  \\\n",
       "count  13653.000000  13653.000000  13653.000000     13653.000000   \n",
       "mean       2.849410      0.981911      2.805830         1.615909   \n",
       "std        2.356182      0.684769      0.928133         0.767636   \n",
       "min        1.000000      0.000055      2.000000         1.000000   \n",
       "25%        1.000000      0.409091      2.000000         1.000000   \n",
       "50%        2.000000      0.800000      3.000000         1.333333   \n",
       "75%        4.000000      1.666667      3.000000         1.892857   \n",
       "max       19.000000      2.000000      9.000000         7.374552   \n",
       "\n",
       "             vcount          coef  assortativity         omega      mean_rel  \n",
       "count  13653.000000  10343.000000    9847.000000  13653.000000  13653.000000  \n",
       "mean     143.916429      0.353881      -0.363374      2.805830      4.079765  \n",
       "std     1588.467215      0.334020       0.340811      0.928133      0.535984  \n",
       "min        2.000000      0.000000      -1.000000      2.000000      0.690000  \n",
       "25%        3.000000      0.000000      -0.666667      2.000000      3.776374  \n",
       "50%        4.000000      0.300000      -0.333333      3.000000      4.030000  \n",
       "75%        8.000000      0.600000      -0.101879      3.000000      4.346000  \n",
       "max    77596.000000      1.000000       0.690909      9.000000      7.350000  "
      ]
     },
     "execution_count": 21,
     "metadata": {},
     "output_type": "execute_result"
    }
   ],
   "source": [
    "sub_stats.describe()"
   ]
  },
  {
   "cell_type": "code",
   "execution_count": 22,
   "metadata": {
    "collapsed": false
   },
   "outputs": [
    {
     "data": {
      "text/html": [
       "<div>\n",
       "<table border=\"1\" class=\"dataframe\">\n",
       "  <thead>\n",
       "    <tr style=\"text-align: right;\">\n",
       "      <th></th>\n",
       "      <th>diameter</th>\n",
       "      <th>density</th>\n",
       "      <th>cliqu_number</th>\n",
       "      <th>avg_path_length</th>\n",
       "      <th>vcount</th>\n",
       "      <th>coef</th>\n",
       "      <th>assortativity</th>\n",
       "      <th>omega</th>\n",
       "      <th>mean_rel</th>\n",
       "    </tr>\n",
       "  </thead>\n",
       "  <tbody>\n",
       "    <tr>\n",
       "      <th>count</th>\n",
       "      <td>113716.000000</td>\n",
       "      <td>113716.000000</td>\n",
       "      <td>113716.000000</td>\n",
       "      <td>113716.000000</td>\n",
       "      <td>113716.000000</td>\n",
       "      <td>81710.000000</td>\n",
       "      <td>80091.000000</td>\n",
       "      <td>113716.000000</td>\n",
       "      <td>113716.000000</td>\n",
       "    </tr>\n",
       "    <tr>\n",
       "      <th>mean</th>\n",
       "      <td>2.401157</td>\n",
       "      <td>0.777028</td>\n",
       "      <td>2.246482</td>\n",
       "      <td>1.509790</td>\n",
       "      <td>17.278932</td>\n",
       "      <td>0.127947</td>\n",
       "      <td>-0.626442</td>\n",
       "      <td>2.246482</td>\n",
       "      <td>4.561273</td>\n",
       "    </tr>\n",
       "    <tr>\n",
       "      <th>std</th>\n",
       "      <td>1.456518</td>\n",
       "      <td>0.480370</td>\n",
       "      <td>0.540985</td>\n",
       "      <td>0.514802</td>\n",
       "      <td>576.638626</td>\n",
       "      <td>0.249803</td>\n",
       "      <td>0.336699</td>\n",
       "      <td>0.540985</td>\n",
       "      <td>0.649243</td>\n",
       "    </tr>\n",
       "    <tr>\n",
       "      <th>min</th>\n",
       "      <td>1.000000</td>\n",
       "      <td>0.000090</td>\n",
       "      <td>2.000000</td>\n",
       "      <td>1.000000</td>\n",
       "      <td>2.000000</td>\n",
       "      <td>0.000000</td>\n",
       "      <td>-1.000000</td>\n",
       "      <td>2.000000</td>\n",
       "      <td>1.790000</td>\n",
       "    </tr>\n",
       "    <tr>\n",
       "      <th>25%</th>\n",
       "      <td>1.000000</td>\n",
       "      <td>0.444444</td>\n",
       "      <td>2.000000</td>\n",
       "      <td>1.000000</td>\n",
       "      <td>2.000000</td>\n",
       "      <td>0.000000</td>\n",
       "      <td>-1.000000</td>\n",
       "      <td>2.000000</td>\n",
       "      <td>4.116667</td>\n",
       "    </tr>\n",
       "    <tr>\n",
       "      <th>50%</th>\n",
       "      <td>2.000000</td>\n",
       "      <td>0.666667</td>\n",
       "      <td>2.000000</td>\n",
       "      <td>1.333333</td>\n",
       "      <td>3.000000</td>\n",
       "      <td>0.000000</td>\n",
       "      <td>-0.666667</td>\n",
       "      <td>2.000000</td>\n",
       "      <td>4.522614</td>\n",
       "    </tr>\n",
       "    <tr>\n",
       "      <th>75%</th>\n",
       "      <td>3.000000</td>\n",
       "      <td>1.000000</td>\n",
       "      <td>2.000000</td>\n",
       "      <td>1.800000</td>\n",
       "      <td>5.000000</td>\n",
       "      <td>0.153846</td>\n",
       "      <td>-0.346457</td>\n",
       "      <td>2.000000</td>\n",
       "      <td>4.956667</td>\n",
       "    </tr>\n",
       "    <tr>\n",
       "      <th>max</th>\n",
       "      <td>17.000000</td>\n",
       "      <td>2.000000</td>\n",
       "      <td>9.000000</td>\n",
       "      <td>6.466881</td>\n",
       "      <td>71674.000000</td>\n",
       "      <td>1.000000</td>\n",
       "      <td>1.000000</td>\n",
       "      <td>9.000000</td>\n",
       "      <td>7.490000</td>\n",
       "    </tr>\n",
       "  </tbody>\n",
       "</table>\n",
       "</div>"
      ],
      "text/plain": [
       "            diameter        density   cliqu_number  avg_path_length  \\\n",
       "count  113716.000000  113716.000000  113716.000000    113716.000000   \n",
       "mean        2.401157       0.777028       2.246482         1.509790   \n",
       "std         1.456518       0.480370       0.540985         0.514802   \n",
       "min         1.000000       0.000090       2.000000         1.000000   \n",
       "25%         1.000000       0.444444       2.000000         1.000000   \n",
       "50%         2.000000       0.666667       2.000000         1.333333   \n",
       "75%         3.000000       1.000000       2.000000         1.800000   \n",
       "max        17.000000       2.000000       9.000000         6.466881   \n",
       "\n",
       "              vcount          coef  assortativity          omega  \\\n",
       "count  113716.000000  81710.000000   80091.000000  113716.000000   \n",
       "mean       17.278932      0.127947      -0.626442       2.246482   \n",
       "std       576.638626      0.249803       0.336699       0.540985   \n",
       "min         2.000000      0.000000      -1.000000       2.000000   \n",
       "25%         2.000000      0.000000      -1.000000       2.000000   \n",
       "50%         3.000000      0.000000      -0.666667       2.000000   \n",
       "75%         5.000000      0.153846      -0.346457       2.000000   \n",
       "max     71674.000000      1.000000       1.000000       9.000000   \n",
       "\n",
       "            mean_rel  \n",
       "count  113716.000000  \n",
       "mean        4.561273  \n",
       "std         0.649243  \n",
       "min         1.790000  \n",
       "25%         4.116667  \n",
       "50%         4.522614  \n",
       "75%         4.956667  \n",
       "max         7.490000  "
      ]
     },
     "execution_count": 22,
     "metadata": {},
     "output_type": "execute_result"
    }
   ],
   "source": [
    "Wsubg_stats.describe()"
   ]
  },
  {
   "cell_type": "code",
   "execution_count": 23,
   "metadata": {
    "collapsed": true
   },
   "outputs": [],
   "source": [
    "sub_df=sub_stats[sub_stats.vcount>10]   ### 对社区大于10的个数进行统计\n",
    "wsub_df=Wsubg_stats[Wsubg_stats.vcount>10]"
   ]
  },
  {
   "cell_type": "code",
   "execution_count": 742,
   "metadata": {
    "collapsed": false
   },
   "outputs": [],
   "source": [
    "comm_mean=pd.DataFrame(np.array([sub_stats.describe().T['mean'].values,Wsubg_stats.describe().T['mean'].values]),index=['LPA','WLPA'],columns=sub_stats.columns)"
   ]
  },
  {
   "cell_type": "code",
   "execution_count": 743,
   "metadata": {
    "collapsed": false
   },
   "outputs": [
    {
     "data": {
      "text/html": [
       "<div>\n",
       "<table border=\"1\" class=\"dataframe\">\n",
       "  <thead>\n",
       "    <tr style=\"text-align: right;\">\n",
       "      <th></th>\n",
       "      <th>diameter</th>\n",
       "      <th>density</th>\n",
       "      <th>cliqu_number</th>\n",
       "      <th>avg_path_length</th>\n",
       "      <th>vcount</th>\n",
       "      <th>coef</th>\n",
       "      <th>assortativity</th>\n",
       "      <th>omega</th>\n",
       "      <th>mean_rel</th>\n",
       "    </tr>\n",
       "  </thead>\n",
       "  <tbody>\n",
       "    <tr>\n",
       "      <th>LPA</th>\n",
       "      <td>2.850898</td>\n",
       "      <td>0.985510</td>\n",
       "      <td>2.797949</td>\n",
       "      <td>1.616362</td>\n",
       "      <td>142.911557</td>\n",
       "      <td>0.352974</td>\n",
       "      <td>-0.36584</td>\n",
       "      <td>2.797949</td>\n",
       "      <td>4.079965</td>\n",
       "    </tr>\n",
       "    <tr>\n",
       "      <th>WLPA</th>\n",
       "      <td>2.398906</td>\n",
       "      <td>0.779955</td>\n",
       "      <td>2.251079</td>\n",
       "      <td>1.507769</td>\n",
       "      <td>17.591103</td>\n",
       "      <td>0.130272</td>\n",
       "      <td>-0.62594</td>\n",
       "      <td>2.251079</td>\n",
       "      <td>4.558786</td>\n",
       "    </tr>\n",
       "  </tbody>\n",
       "</table>\n",
       "</div>"
      ],
      "text/plain": [
       "      diameter   density  cliqu_number  avg_path_length      vcount      coef  \\\n",
       "LPA   2.850898  0.985510      2.797949         1.616362  142.911557  0.352974   \n",
       "WLPA  2.398906  0.779955      2.251079         1.507769   17.591103  0.130272   \n",
       "\n",
       "      assortativity     omega  mean_rel  \n",
       "LPA        -0.36584  2.797949  4.079965  \n",
       "WLPA       -0.62594  2.251079  4.558786  "
      ]
     },
     "execution_count": 743,
     "metadata": {},
     "output_type": "execute_result"
    }
   ],
   "source": [
    "import seaborn as sns\n",
    "comm_mean"
   ]
  },
  {
   "cell_type": "code",
   "execution_count": 941,
   "metadata": {
    "collapsed": false
   },
   "outputs": [
    {
     "data": {
      "text/html": [
       "<div>\n",
       "<table border=\"1\" class=\"dataframe\">\n",
       "  <thead>\n",
       "    <tr style=\"text-align: right;\">\n",
       "      <th></th>\n",
       "      <th>diameter</th>\n",
       "      <th>density</th>\n",
       "      <th>cliqu_number</th>\n",
       "      <th>avg_path_length</th>\n",
       "      <th>vcount</th>\n",
       "      <th>coef</th>\n",
       "      <th>assortativity</th>\n",
       "      <th>omega</th>\n",
       "      <th>mean_rel</th>\n",
       "    </tr>\n",
       "  </thead>\n",
       "  <tbody>\n",
       "    <tr>\n",
       "      <th>count</th>\n",
       "      <td>2643.000000</td>\n",
       "      <td>2643.000000</td>\n",
       "      <td>2643.000000</td>\n",
       "      <td>2643.000000</td>\n",
       "      <td>2643.000000</td>\n",
       "      <td>2643.000000</td>\n",
       "      <td>2643.000000</td>\n",
       "      <td>2643.000000</td>\n",
       "      <td>2643.000000</td>\n",
       "    </tr>\n",
       "    <tr>\n",
       "      <th>mean</th>\n",
       "      <td>6.432085</td>\n",
       "      <td>0.176550</td>\n",
       "      <td>4.044646</td>\n",
       "      <td>2.795034</td>\n",
       "      <td>726.596292</td>\n",
       "      <td>0.218543</td>\n",
       "      <td>-0.084028</td>\n",
       "      <td>4.044646</td>\n",
       "      <td>3.980352</td>\n",
       "    </tr>\n",
       "    <tr>\n",
       "      <th>std</th>\n",
       "      <td>2.894993</td>\n",
       "      <td>0.128944</td>\n",
       "      <td>0.964693</td>\n",
       "      <td>0.890958</td>\n",
       "      <td>3570.721841</td>\n",
       "      <td>0.130032</td>\n",
       "      <td>0.154336</td>\n",
       "      <td>0.964693</td>\n",
       "      <td>0.239954</td>\n",
       "    </tr>\n",
       "    <tr>\n",
       "      <th>min</th>\n",
       "      <td>2.000000</td>\n",
       "      <td>0.000068</td>\n",
       "      <td>2.000000</td>\n",
       "      <td>1.436364</td>\n",
       "      <td>11.000000</td>\n",
       "      <td>0.000000</td>\n",
       "      <td>-0.805540</td>\n",
       "      <td>2.000000</td>\n",
       "      <td>3.079412</td>\n",
       "    </tr>\n",
       "    <tr>\n",
       "      <th>25%</th>\n",
       "      <td>4.000000</td>\n",
       "      <td>0.048569</td>\n",
       "      <td>3.000000</td>\n",
       "      <td>2.143324</td>\n",
       "      <td>15.000000</td>\n",
       "      <td>0.106697</td>\n",
       "      <td>-0.168285</td>\n",
       "      <td>3.000000</td>\n",
       "      <td>3.828327</td>\n",
       "    </tr>\n",
       "    <tr>\n",
       "      <th>50%</th>\n",
       "      <td>5.000000</td>\n",
       "      <td>0.181818</td>\n",
       "      <td>4.000000</td>\n",
       "      <td>2.504762</td>\n",
       "      <td>25.000000</td>\n",
       "      <td>0.219447</td>\n",
       "      <td>-0.059843</td>\n",
       "      <td>4.000000</td>\n",
       "      <td>3.960588</td>\n",
       "    </tr>\n",
       "    <tr>\n",
       "      <th>75%</th>\n",
       "      <td>8.000000</td>\n",
       "      <td>0.272727</td>\n",
       "      <td>5.000000</td>\n",
       "      <td>3.274634</td>\n",
       "      <td>126.000000</td>\n",
       "      <td>0.319149</td>\n",
       "      <td>0.015672</td>\n",
       "      <td>5.000000</td>\n",
       "      <td>4.122210</td>\n",
       "    </tr>\n",
       "    <tr>\n",
       "      <th>max</th>\n",
       "      <td>21.000000</td>\n",
       "      <td>0.727273</td>\n",
       "      <td>9.000000</td>\n",
       "      <td>7.025906</td>\n",
       "      <td>68034.000000</td>\n",
       "      <td>0.656805</td>\n",
       "      <td>0.575904</td>\n",
       "      <td>9.000000</td>\n",
       "      <td>5.188065</td>\n",
       "    </tr>\n",
       "  </tbody>\n",
       "</table>\n",
       "</div>"
      ],
      "text/plain": [
       "          diameter      density  cliqu_number  avg_path_length        vcount  \\\n",
       "count  2643.000000  2643.000000   2643.000000      2643.000000   2643.000000   \n",
       "mean      6.432085     0.176550      4.044646         2.795034    726.596292   \n",
       "std       2.894993     0.128944      0.964693         0.890958   3570.721841   \n",
       "min       2.000000     0.000068      2.000000         1.436364     11.000000   \n",
       "25%       4.000000     0.048569      3.000000         2.143324     15.000000   \n",
       "50%       5.000000     0.181818      4.000000         2.504762     25.000000   \n",
       "75%       8.000000     0.272727      5.000000         3.274634    126.000000   \n",
       "max      21.000000     0.727273      9.000000         7.025906  68034.000000   \n",
       "\n",
       "              coef  assortativity        omega     mean_rel  \n",
       "count  2643.000000    2643.000000  2643.000000  2643.000000  \n",
       "mean      0.218543      -0.084028     4.044646     3.980352  \n",
       "std       0.130032       0.154336     0.964693     0.239954  \n",
       "min       0.000000      -0.805540     2.000000     3.079412  \n",
       "25%       0.106697      -0.168285     3.000000     3.828327  \n",
       "50%       0.219447      -0.059843     4.000000     3.960588  \n",
       "75%       0.319149       0.015672     5.000000     4.122210  \n",
       "max       0.656805       0.575904     9.000000     5.188065  "
      ]
     },
     "execution_count": 941,
     "metadata": {},
     "output_type": "execute_result"
    }
   ],
   "source": [
    "sub_df.describe()"
   ]
  },
  {
   "cell_type": "code",
   "execution_count": 942,
   "metadata": {
    "collapsed": false
   },
   "outputs": [
    {
     "data": {
      "text/html": [
       "<div>\n",
       "<table border=\"1\" class=\"dataframe\">\n",
       "  <thead>\n",
       "    <tr style=\"text-align: right;\">\n",
       "      <th></th>\n",
       "      <th>diameter</th>\n",
       "      <th>density</th>\n",
       "      <th>cliqu_number</th>\n",
       "      <th>avg_path_length</th>\n",
       "      <th>vcount</th>\n",
       "      <th>coef</th>\n",
       "      <th>assortativity</th>\n",
       "      <th>omega</th>\n",
       "      <th>mean_rel</th>\n",
       "    </tr>\n",
       "  </thead>\n",
       "  <tbody>\n",
       "    <tr>\n",
       "      <th>count</th>\n",
       "      <td>8764.000000</td>\n",
       "      <td>8764.000000</td>\n",
       "      <td>8764.000000</td>\n",
       "      <td>8764.000000</td>\n",
       "      <td>8764.000000</td>\n",
       "      <td>8764.000000</td>\n",
       "      <td>8764.000000</td>\n",
       "      <td>8764.000000</td>\n",
       "      <td>8764.000000</td>\n",
       "    </tr>\n",
       "    <tr>\n",
       "      <th>mean</th>\n",
       "      <td>5.455842</td>\n",
       "      <td>0.183858</td>\n",
       "      <td>3.175148</td>\n",
       "      <td>2.578796</td>\n",
       "      <td>179.226837</td>\n",
       "      <td>0.156570</td>\n",
       "      <td>-0.276206</td>\n",
       "      <td>3.175148</td>\n",
       "      <td>4.380193</td>\n",
       "    </tr>\n",
       "    <tr>\n",
       "      <th>std</th>\n",
       "      <td>1.713201</td>\n",
       "      <td>0.086551</td>\n",
       "      <td>0.971824</td>\n",
       "      <td>0.505697</td>\n",
       "      <td>2000.105850</td>\n",
       "      <td>0.134093</td>\n",
       "      <td>0.248769</td>\n",
       "      <td>0.971824</td>\n",
       "      <td>0.422385</td>\n",
       "    </tr>\n",
       "    <tr>\n",
       "      <th>min</th>\n",
       "      <td>2.000000</td>\n",
       "      <td>0.000076</td>\n",
       "      <td>2.000000</td>\n",
       "      <td>1.454545</td>\n",
       "      <td>11.000000</td>\n",
       "      <td>0.000000</td>\n",
       "      <td>-1.000000</td>\n",
       "      <td>2.000000</td>\n",
       "      <td>3.125000</td>\n",
       "    </tr>\n",
       "    <tr>\n",
       "      <th>25%</th>\n",
       "      <td>4.000000</td>\n",
       "      <td>0.129527</td>\n",
       "      <td>3.000000</td>\n",
       "      <td>2.242424</td>\n",
       "      <td>12.000000</td>\n",
       "      <td>0.007879</td>\n",
       "      <td>-0.457883</td>\n",
       "      <td>3.000000</td>\n",
       "      <td>4.040899</td>\n",
       "    </tr>\n",
       "    <tr>\n",
       "      <th>50%</th>\n",
       "      <td>5.000000</td>\n",
       "      <td>0.181818</td>\n",
       "      <td>3.000000</td>\n",
       "      <td>2.509091</td>\n",
       "      <td>16.000000</td>\n",
       "      <td>0.141959</td>\n",
       "      <td>-0.256545</td>\n",
       "      <td>3.000000</td>\n",
       "      <td>4.347113</td>\n",
       "    </tr>\n",
       "    <tr>\n",
       "      <th>75%</th>\n",
       "      <td>6.000000</td>\n",
       "      <td>0.236364</td>\n",
       "      <td>4.000000</td>\n",
       "      <td>2.816667</td>\n",
       "      <td>24.000000</td>\n",
       "      <td>0.257143</td>\n",
       "      <td>-0.080507</td>\n",
       "      <td>4.000000</td>\n",
       "      <td>4.691039</td>\n",
       "    </tr>\n",
       "    <tr>\n",
       "      <th>max</th>\n",
       "      <td>18.000000</td>\n",
       "      <td>0.606061</td>\n",
       "      <td>9.000000</td>\n",
       "      <td>6.488740</td>\n",
       "      <td>78181.000000</td>\n",
       "      <td>0.640000</td>\n",
       "      <td>0.607335</td>\n",
       "      <td>9.000000</td>\n",
       "      <td>5.874286</td>\n",
       "    </tr>\n",
       "  </tbody>\n",
       "</table>\n",
       "</div>"
      ],
      "text/plain": [
       "          diameter      density  cliqu_number  avg_path_length        vcount  \\\n",
       "count  8764.000000  8764.000000   8764.000000      8764.000000   8764.000000   \n",
       "mean      5.455842     0.183858      3.175148         2.578796    179.226837   \n",
       "std       1.713201     0.086551      0.971824         0.505697   2000.105850   \n",
       "min       2.000000     0.000076      2.000000         1.454545     11.000000   \n",
       "25%       4.000000     0.129527      3.000000         2.242424     12.000000   \n",
       "50%       5.000000     0.181818      3.000000         2.509091     16.000000   \n",
       "75%       6.000000     0.236364      4.000000         2.816667     24.000000   \n",
       "max      18.000000     0.606061      9.000000         6.488740  78181.000000   \n",
       "\n",
       "              coef  assortativity        omega     mean_rel  \n",
       "count  8764.000000    8764.000000  8764.000000  8764.000000  \n",
       "mean      0.156570      -0.276206     3.175148     4.380193  \n",
       "std       0.134093       0.248769     0.971824     0.422385  \n",
       "min       0.000000      -1.000000     2.000000     3.125000  \n",
       "25%       0.007879      -0.457883     3.000000     4.040899  \n",
       "50%       0.141959      -0.256545     3.000000     4.347113  \n",
       "75%       0.257143      -0.080507     4.000000     4.691039  \n",
       "max       0.640000       0.607335     9.000000     5.874286  "
      ]
     },
     "execution_count": 942,
     "metadata": {},
     "output_type": "execute_result"
    }
   ],
   "source": [
    "wsub_df.describe()"
   ]
  },
  {
   "cell_type": "code",
   "execution_count": 1062,
   "metadata": {
    "collapsed": false
   },
   "outputs": [
    {
     "data": {
      "text/html": [
       "<div>\n",
       "<table border=\"1\" class=\"dataframe\">\n",
       "  <thead>\n",
       "    <tr style=\"text-align: right;\">\n",
       "      <th></th>\n",
       "      <th>diameter</th>\n",
       "      <th>density</th>\n",
       "      <th>cliqu_number</th>\n",
       "      <th>avg_path_length</th>\n",
       "      <th>vcount</th>\n",
       "      <th>coef</th>\n",
       "      <th>assortativity</th>\n",
       "      <th>omega</th>\n",
       "      <th>mean_rel</th>\n",
       "    </tr>\n",
       "  </thead>\n",
       "  <tbody>\n",
       "    <tr>\n",
       "      <th>11</th>\n",
       "      <td>21</td>\n",
       "      <td>0.000068</td>\n",
       "      <td>5</td>\n",
       "      <td>6.590169</td>\n",
       "      <td>68034</td>\n",
       "      <td>0.002802</td>\n",
       "      <td>-0.015873</td>\n",
       "      <td>5</td>\n",
       "      <td>4.09839</td>\n",
       "    </tr>\n",
       "  </tbody>\n",
       "</table>\n",
       "</div>"
      ],
      "text/plain": [
       "    diameter   density  cliqu_number  avg_path_length  vcount      coef  \\\n",
       "11        21  0.000068             5         6.590169   68034  0.002802   \n",
       "\n",
       "    assortativity  omega  mean_rel  \n",
       "11      -0.015873      5   4.09839  "
      ]
     },
     "execution_count": 1062,
     "metadata": {},
     "output_type": "execute_result"
    }
   ],
   "source": [
    "sub_df[sub_df.vcount>68000]"
   ]
  },
  {
   "cell_type": "code",
   "execution_count": 1064,
   "metadata": {
    "collapsed": true
   },
   "outputs": [],
   "source": [
    "cc=rel_comm_lpa.subgraph(11)"
   ]
  },
  {
   "cell_type": "code",
   "execution_count": 1068,
   "metadata": {
    "collapsed": false
   },
   "outputs": [
    {
     "data": {
      "text/plain": [
       "4.6465296763383011"
      ]
     },
     "execution_count": 1068,
     "metadata": {},
     "output_type": "execute_result"
    }
   ],
   "source": [
    "np.array(cc.degree()).mean()"
   ]
  },
  {
   "cell_type": "markdown",
   "metadata": {},
   "source": [
    "#### 2.2.2  社区直径"
   ]
  },
  {
   "cell_type": "code",
   "execution_count": 943,
   "metadata": {
    "collapsed": false
   },
   "outputs": [
    {
     "data": {
      "text/plain": [
       "<matplotlib.axes._subplots.AxesSubplot at 0x7ffef9684f50>"
      ]
     },
     "execution_count": 943,
     "metadata": {},
     "output_type": "execute_result"
    },
    {
     "data": {
      "image/png": "[encoded data removed]",
      "text/plain": [
       "<matplotlib.figure.Figure at 0x7fff69f86d90>"
      ]
     },
     "metadata": {},
     "output_type": "display_data"
    }
   ],
   "source": [
    "sub_df.diameter.value_counts().sort_index().plot.bar()   ###直径"
   ]
  },
  {
   "cell_type": "code",
   "execution_count": 944,
   "metadata": {
    "collapsed": false
   },
   "outputs": [
    {
     "data": {
      "text/plain": [
       "<matplotlib.axes._subplots.AxesSubplot at 0x7ffef7349290>"
      ]
     },
     "execution_count": 944,
     "metadata": {},
     "output_type": "execute_result"
    },
    {
     "data": {
      "image/png": "[encoded data removed]",
      "text/plain": [
       "<matplotlib.figure.Figure at 0x7ffefa4fcf50>"
      ]
     },
     "metadata": {},
     "output_type": "display_data"
    }
   ],
   "source": [
    "sub_df.density.plot.hist(bins=30)   ## 网络密度"
   ]
  },
  {
   "cell_type": "code",
   "execution_count": 945,
   "metadata": {
    "collapsed": false
   },
   "outputs": [
    {
     "data": {
      "text/plain": [
       "<matplotlib.axes._subplots.AxesSubplot at 0x7fff068d1d90>"
      ]
     },
     "execution_count": 945,
     "metadata": {},
     "output_type": "execute_result"
    },
    {
     "data": {
      "image/png": "[encoded data removed]",
      "text/plain": [
       "<matplotlib.figure.Figure at 0x7ffef9081710>"
      ]
     },
     "metadata": {},
     "output_type": "display_data"
    }
   ],
   "source": [
    "sub_df.avg_path_length.hist(bins=30)  ## 平均路径长度"
   ]
  },
  {
   "cell_type": "code",
   "execution_count": 43,
   "metadata": {
    "collapsed": false
   },
   "outputs": [],
   "source": [
    "pl=lambda  lable:sub_df.groupby('vcount')[lable].mean().plot(logx=True,figsize=(5,4))"
   ]
  },
  {
   "cell_type": "code",
   "execution_count": 42,
   "metadata": {
    "collapsed": false
   },
   "outputs": [
    {
     "data": {
      "text/plain": [
       "Index([u'diameter', u'density', u'cliqu_number', u'avg_path_length', u'vcount',\n",
       "       u'coef', u'assortativity', u'omega', u'mean_rel'],\n",
       "      dtype='object')"
      ]
     },
     "execution_count": 42,
     "metadata": {},
     "output_type": "execute_result"
    }
   ],
   "source": [
    "sub_df.columns"
   ]
  },
  {
   "cell_type": "code",
   "execution_count": 50,
   "metadata": {
    "collapsed": false
   },
   "outputs": [
    {
     "data": {
      "text/plain": [
       "<matplotlib.axes._subplots.AxesSubplot at 0x7ffed9219490>"
      ]
     },
     "execution_count": 50,
     "metadata": {},
     "output_type": "execute_result"
    },
    {
     "data": {
      "image/png": "[encoded data removed]",
      "text/plain": [
       "<matplotlib.figure.Figure at 0x7ffed924a1d0>"
      ]
     },
     "metadata": {},
     "output_type": "display_data"
    }
   ],
   "source": [
    "pl('diameter')"
   ]
  },
  {
   "cell_type": "code",
   "execution_count": 49,
   "metadata": {
    "collapsed": false
   },
   "outputs": [
    {
     "data": {
      "text/plain": [
       "<matplotlib.axes._subplots.AxesSubplot at 0x7ffeda197250>"
      ]
     },
     "execution_count": 49,
     "metadata": {},
     "output_type": "execute_result"
    },
    {
     "data": {
      "image/png": "[encoded data removed]",
      "text/plain": [
       "<matplotlib.figure.Figure at 0x7ffeda4ff990>"
      ]
     },
     "metadata": {},
     "output_type": "display_data"
    }
   ],
   "source": [
    "pl('density')"
   ]
  },
  {
   "cell_type": "code",
   "execution_count": 48,
   "metadata": {
    "collapsed": false
   },
   "outputs": [
    {
     "data": {
      "text/plain": [
       "<matplotlib.axes._subplots.AxesSubplot at 0x7ffed6b3c990>"
      ]
     },
     "execution_count": 48,
     "metadata": {},
     "output_type": "execute_result"
    },
    {
     "data": {
      "image/png": "[encoded data removed]",
      "text/plain": [
       "<matplotlib.figure.Figure at 0x7ffed77cb310>"
      ]
     },
     "metadata": {},
     "output_type": "display_data"
    }
   ],
   "source": [
    "pl('assortativity')"
   ]
  },
  {
   "cell_type": "code",
   "execution_count": 45,
   "metadata": {
    "collapsed": false
   },
   "outputs": [
    {
     "data": {
      "text/plain": [
       "<matplotlib.axes._subplots.AxesSubplot at 0x7ffed8bafa90>"
      ]
     },
     "execution_count": 45,
     "metadata": {},
     "output_type": "execute_result"
    },
    {
     "data": {
      "image/png": "[encoded data removed]",
      "text/plain": [
       "<matplotlib.figure.Figure at 0x7ffedcc19050>"
      ]
     },
     "metadata": {},
     "output_type": "display_data"
    }
   ],
   "source": [
    "pl('coef')"
   ]
  },
  {
   "cell_type": "code",
   "execution_count": 44,
   "metadata": {
    "collapsed": false
   },
   "outputs": [
    {
     "data": {
      "text/plain": [
       "<matplotlib.axes._subplots.AxesSubplot at 0x7ffedcaebc90>"
      ]
     },
     "execution_count": 44,
     "metadata": {},
     "output_type": "execute_result"
    },
    {
     "data": {
      "image/png": "[encoded data removed]",
      "text/plain": [
       "<matplotlib.figure.Figure at 0x7ffedcc19d10>"
      ]
     },
     "metadata": {},
     "output_type": "display_data"
    }
   ],
   "source": [
    "pl('avg_path_length')"
   ]
  },
  {
   "cell_type": "code",
   "execution_count": 1008,
   "metadata": {
    "collapsed": false
   },
   "outputs": [
    {
     "data": {
      "text/plain": [
       "<matplotlib.axes._subplots.AxesSubplot at 0x7fff9bea49d0>"
      ]
     },
     "execution_count": 1008,
     "metadata": {},
     "output_type": "execute_result"
    },
    {
     "data": {
      "image/png": "[encoded data removed]",
      "text/plain": [
       "<matplotlib.figure.Figure at 0x7fff9bc82850>"
      ]
     },
     "metadata": {},
     "output_type": "display_data"
    }
   ],
   "source": [
    "def  getPlot(f='avg_path_length'):\n",
    "    ax=sns.kdeplot(wsub_df[f],legend=False,label='WLPA',marker='2',color='k')\n",
    "    sns.kdeplot(sub_df[f],ax=ax,label='LPA',color='r',linestyle='--',)\n",
    "    ax.set_xlabel(f)\n",
    "    return ax\n",
    "getPlot()"
   ]
  },
  {
   "cell_type": "code",
   "execution_count": 1033,
   "metadata": {
    "collapsed": false
   },
   "outputs": [
    {
     "data": {
      "text/plain": [
       "Index([u'diameter', u'density', u'avg_path_length', u'vcount', u'coef',\n",
       "       u'assortativity', u'omega', u'mean_rel'],\n",
       "      dtype='object')"
      ]
     },
     "execution_count": 1033,
     "metadata": {},
     "output_type": "execute_result"
    }
   ],
   "source": [
    "colum_name=sub_df.columns[[0,1,3,4,5,6,7,8]]\n",
    "colum_name"
   ]
  },
  {
   "cell_type": "code",
   "execution_count": 1034,
   "metadata": {
    "collapsed": false
   },
   "outputs": [
    {
     "data": {
      "image/png": "[encoded data removed]",
      "text/plain": [
       "<matplotlib.figure.Figure at 0x7fff9e38a490>"
      ]
     },
     "metadata": {},
     "output_type": "display_data"
    }
   ],
   "source": [
    "st=221\n",
    "plt.figure(22,figsize=(9,8))\n",
    "for i in range(4):\n",
    "    plt.subplot(st)\n",
    "    getPlot(colum_name[i])\n",
    "    st+=1"
   ]
  },
  {
   "cell_type": "code",
   "execution_count": 1035,
   "metadata": {
    "collapsed": false
   },
   "outputs": [
    {
     "data": {
      "image/png": "[encoded data removed]",
      "text/plain": [
       "<matplotlib.figure.Figure at 0x7fff9e508410>"
      ]
     },
     "metadata": {},
     "output_type": "display_data"
    }
   ],
   "source": [
    "st=221\n",
    "plt.figure(22,figsize=(9,8))\n",
    "for i in range(4,8):\n",
    "    plt.subplot(st)\n",
    "    getPlot(colum_name[i])\n",
    "    st+=1"
   ]
  },
  {
   "cell_type": "code",
   "execution_count": 1039,
   "metadata": {
    "collapsed": false
   },
   "outputs": [
    {
     "data": {
      "text/plain": [
       "<matplotlib.axes._subplots.AxesSubplot at 0x7fff96e82e50>"
      ]
     },
     "execution_count": 1039,
     "metadata": {},
     "output_type": "execute_result"
    },
    {
     "data": {
      "image/png": "[encoded data removed]",
      "text/plain": [
       "<matplotlib.figure.Figure at 0x7fff96e902d0>"
      ]
     },
     "metadata": {},
     "output_type": "display_data"
    }
   ],
   "source": [
    "sub_now_diff.density.plot(xlim=(10,200))"
   ]
  },
  {
   "cell_type": "markdown",
   "metadata": {},
   "source": [
    "###   同等规模的社区分析"
   ]
  },
  {
   "cell_type": "code",
   "execution_count": 754,
   "metadata": {
    "collapsed": false
   },
   "outputs": [],
   "source": [
    "# wsub_df,sub_df\n",
    "# sub_stats,Wsubg_stats\n",
    "# rel_comm_lpa,relW_comm"
   ]
  },
  {
   "cell_type": "code",
   "execution_count": 756,
   "metadata": {
    "collapsed": false
   },
   "outputs": [
    {
     "data": {
      "text/plain": [
       "1352"
      ]
     },
     "execution_count": 756,
     "metadata": {},
     "output_type": "execute_result"
    }
   ],
   "source": [
    "rel_comm_lpa.subgraph(3).vcount()"
   ]
  },
  {
   "cell_type": "code",
   "execution_count": 765,
   "metadata": {
    "collapsed": false
   },
   "outputs": [],
   "source": [
    "sub_vcount_dec=sub_df.groupby('vcount').mean()\n",
    "wsub_vcount_dec=wsub_df.groupby('vcount').mean()"
   ]
  },
  {
   "cell_type": "code",
   "execution_count": 769,
   "metadata": {
    "collapsed": false
   },
   "outputs": [
    {
     "data": {
      "text/html": [
       "<div>\n",
       "<table border=\"1\" class=\"dataframe\">\n",
       "  <thead>\n",
       "    <tr style=\"text-align: right;\">\n",
       "      <th></th>\n",
       "      <th>diameter</th>\n",
       "      <th>density</th>\n",
       "      <th>cliqu_number</th>\n",
       "      <th>avg_path_length</th>\n",
       "      <th>coef</th>\n",
       "      <th>assortativity</th>\n",
       "      <th>omega</th>\n",
       "      <th>mean_rel</th>\n",
       "    </tr>\n",
       "    <tr>\n",
       "      <th>vcount</th>\n",
       "      <th></th>\n",
       "      <th></th>\n",
       "      <th></th>\n",
       "      <th></th>\n",
       "      <th></th>\n",
       "      <th></th>\n",
       "      <th></th>\n",
       "      <th></th>\n",
       "    </tr>\n",
       "  </thead>\n",
       "  <tbody>\n",
       "    <tr>\n",
       "      <th>14</th>\n",
       "      <td>4.531250</td>\n",
       "      <td>0.296703</td>\n",
       "      <td>3.531250</td>\n",
       "      <td>2.202352</td>\n",
       "      <td>0.301906</td>\n",
       "      <td>-0.149628</td>\n",
       "      <td>3.531250</td>\n",
       "      <td>3.998663</td>\n",
       "    </tr>\n",
       "    <tr>\n",
       "      <th>15</th>\n",
       "      <td>4.389831</td>\n",
       "      <td>0.291445</td>\n",
       "      <td>3.661017</td>\n",
       "      <td>2.163600</td>\n",
       "      <td>0.317007</td>\n",
       "      <td>-0.140236</td>\n",
       "      <td>3.661017</td>\n",
       "      <td>3.996824</td>\n",
       "    </tr>\n",
       "    <tr>\n",
       "      <th>16</th>\n",
       "      <td>4.801980</td>\n",
       "      <td>0.260974</td>\n",
       "      <td>3.475248</td>\n",
       "      <td>2.289686</td>\n",
       "      <td>0.273646</td>\n",
       "      <td>-0.129192</td>\n",
       "      <td>3.475248</td>\n",
       "      <td>4.017533</td>\n",
       "    </tr>\n",
       "    <tr>\n",
       "      <th>17</th>\n",
       "      <td>4.678161</td>\n",
       "      <td>0.265382</td>\n",
       "      <td>3.804598</td>\n",
       "      <td>2.243492</td>\n",
       "      <td>0.303123</td>\n",
       "      <td>-0.118129</td>\n",
       "      <td>3.804598</td>\n",
       "      <td>4.000307</td>\n",
       "    </tr>\n",
       "    <tr>\n",
       "      <th>18</th>\n",
       "      <td>4.738095</td>\n",
       "      <td>0.242453</td>\n",
       "      <td>3.678571</td>\n",
       "      <td>2.301821</td>\n",
       "      <td>0.279212</td>\n",
       "      <td>-0.127641</td>\n",
       "      <td>3.678571</td>\n",
       "      <td>3.960437</td>\n",
       "    </tr>\n",
       "    <tr>\n",
       "      <th>19</th>\n",
       "      <td>5.062500</td>\n",
       "      <td>0.221735</td>\n",
       "      <td>3.625000</td>\n",
       "      <td>2.409215</td>\n",
       "      <td>0.266718</td>\n",
       "      <td>-0.074072</td>\n",
       "      <td>3.625000</td>\n",
       "      <td>3.989234</td>\n",
       "    </tr>\n",
       "    <tr>\n",
       "      <th>20</th>\n",
       "      <td>5.170732</td>\n",
       "      <td>0.213094</td>\n",
       "      <td>3.658537</td>\n",
       "      <td>2.421438</td>\n",
       "      <td>0.249327</td>\n",
       "      <td>-0.130872</td>\n",
       "      <td>3.658537</td>\n",
       "      <td>4.026397</td>\n",
       "    </tr>\n",
       "  </tbody>\n",
       "</table>\n",
       "</div>"
      ],
      "text/plain": [
       "        diameter   density  cliqu_number  avg_path_length      coef  \\\n",
       "vcount                                                                \n",
       "14      4.531250  0.296703      3.531250         2.202352  0.301906   \n",
       "15      4.389831  0.291445      3.661017         2.163600  0.317007   \n",
       "16      4.801980  0.260974      3.475248         2.289686  0.273646   \n",
       "17      4.678161  0.265382      3.804598         2.243492  0.303123   \n",
       "18      4.738095  0.242453      3.678571         2.301821  0.279212   \n",
       "19      5.062500  0.221735      3.625000         2.409215  0.266718   \n",
       "20      5.170732  0.213094      3.658537         2.421438  0.249327   \n",
       "\n",
       "        assortativity     omega  mean_rel  \n",
       "vcount                                     \n",
       "14          -0.149628  3.531250  3.998663  \n",
       "15          -0.140236  3.661017  3.996824  \n",
       "16          -0.129192  3.475248  4.017533  \n",
       "17          -0.118129  3.804598  4.000307  \n",
       "18          -0.127641  3.678571  3.960437  \n",
       "19          -0.074072  3.625000  3.989234  \n",
       "20          -0.130872  3.658537  4.026397  "
      ]
     },
     "execution_count": 769,
     "metadata": {},
     "output_type": "execute_result"
    }
   ],
   "source": [
    "sub_vcount_dec[3:10]"
   ]
  },
  {
   "cell_type": "code",
   "execution_count": 774,
   "metadata": {
    "collapsed": false
   },
   "outputs": [],
   "source": [
    "sub_now_diff=(wsub_vcount_dec-sub_vcount_dec).dropna()    #同等规模的网络指标差"
   ]
  },
  {
   "cell_type": "code",
   "execution_count": 878,
   "metadata": {
    "collapsed": true
   },
   "outputs": [
    {
     "data": {
      "text/html": [
       "<div>\n",
       "<table border=\"1\" class=\"dataframe\">\n",
       "  <thead>\n",
       "    <tr style=\"text-align: right;\">\n",
       "      <th></th>\n",
       "      <th>diameter</th>\n",
       "      <th>density</th>\n",
       "      <th>cliqu_number</th>\n",
       "      <th>avg_path_length</th>\n",
       "      <th>vcount</th>\n",
       "      <th>coef</th>\n",
       "      <th>assortativity</th>\n",
       "      <th>omega</th>\n",
       "      <th>mean_rel</th>\n",
       "    </tr>\n",
       "  </thead>\n",
       "  <tbody>\n",
       "    <tr>\n",
       "      <th>0</th>\n",
       "      <td>10</td>\n",
       "      <td>0.007048</td>\n",
       "      <td>4</td>\n",
       "      <td>4.006278</td>\n",
       "      <td>811</td>\n",
       "      <td>0.046130</td>\n",
       "      <td>-0.048190</td>\n",
       "      <td>4</td>\n",
       "      <td>4.231024</td>\n",
       "    </tr>\n",
       "    <tr>\n",
       "      <th>23</th>\n",
       "      <td>11</td>\n",
       "      <td>0.007713</td>\n",
       "      <td>4</td>\n",
       "      <td>4.507766</td>\n",
       "      <td>645</td>\n",
       "      <td>0.082356</td>\n",
       "      <td>-0.000315</td>\n",
       "      <td>4</td>\n",
       "      <td>3.934794</td>\n",
       "    </tr>\n",
       "    <tr>\n",
       "      <th>26</th>\n",
       "      <td>9</td>\n",
       "      <td>0.010094</td>\n",
       "      <td>4</td>\n",
       "      <td>3.834869</td>\n",
       "      <td>671</td>\n",
       "      <td>0.085245</td>\n",
       "      <td>0.053556</td>\n",
       "      <td>4</td>\n",
       "      <td>3.884755</td>\n",
       "    </tr>\n",
       "    <tr>\n",
       "      <th>76</th>\n",
       "      <td>11</td>\n",
       "      <td>0.008663</td>\n",
       "      <td>5</td>\n",
       "      <td>3.784632</td>\n",
       "      <td>884</td>\n",
       "      <td>0.085279</td>\n",
       "      <td>0.060497</td>\n",
       "      <td>5</td>\n",
       "      <td>3.838755</td>\n",
       "    </tr>\n",
       "    <tr>\n",
       "      <th>83</th>\n",
       "      <td>10</td>\n",
       "      <td>0.006741</td>\n",
       "      <td>5</td>\n",
       "      <td>4.292213</td>\n",
       "      <td>771</td>\n",
       "      <td>0.070680</td>\n",
       "      <td>-0.028004</td>\n",
       "      <td>5</td>\n",
       "      <td>4.074843</td>\n",
       "    </tr>\n",
       "    <tr>\n",
       "      <th>93</th>\n",
       "      <td>9</td>\n",
       "      <td>0.017420</td>\n",
       "      <td>6</td>\n",
       "      <td>3.348696</td>\n",
       "      <td>537</td>\n",
       "      <td>0.117879</td>\n",
       "      <td>0.051375</td>\n",
       "      <td>6</td>\n",
       "      <td>3.864795</td>\n",
       "    </tr>\n",
       "    <tr>\n",
       "      <th>99</th>\n",
       "      <td>10</td>\n",
       "      <td>0.009833</td>\n",
       "      <td>4</td>\n",
       "      <td>4.036160</td>\n",
       "      <td>546</td>\n",
       "      <td>0.067790</td>\n",
       "      <td>0.025010</td>\n",
       "      <td>4</td>\n",
       "      <td>4.140526</td>\n",
       "    </tr>\n",
       "    <tr>\n",
       "      <th>101</th>\n",
       "      <td>10</td>\n",
       "      <td>0.015422</td>\n",
       "      <td>5</td>\n",
       "      <td>3.546637</td>\n",
       "      <td>644</td>\n",
       "      <td>0.103105</td>\n",
       "      <td>0.066111</td>\n",
       "      <td>5</td>\n",
       "      <td>3.853154</td>\n",
       "    </tr>\n",
       "    <tr>\n",
       "      <th>113</th>\n",
       "      <td>9</td>\n",
       "      <td>0.009893</td>\n",
       "      <td>5</td>\n",
       "      <td>3.463167</td>\n",
       "      <td>962</td>\n",
       "      <td>0.078013</td>\n",
       "      <td>0.069952</td>\n",
       "      <td>5</td>\n",
       "      <td>3.895581</td>\n",
       "    </tr>\n",
       "    <tr>\n",
       "      <th>119</th>\n",
       "      <td>13</td>\n",
       "      <td>0.011040</td>\n",
       "      <td>5</td>\n",
       "      <td>4.087016</td>\n",
       "      <td>523</td>\n",
       "      <td>0.096398</td>\n",
       "      <td>0.022796</td>\n",
       "      <td>5</td>\n",
       "      <td>3.815753</td>\n",
       "    </tr>\n",
       "    <tr>\n",
       "      <th>123</th>\n",
       "      <td>9</td>\n",
       "      <td>0.011811</td>\n",
       "      <td>5</td>\n",
       "      <td>3.467255</td>\n",
       "      <td>705</td>\n",
       "      <td>0.075687</td>\n",
       "      <td>0.024262</td>\n",
       "      <td>5</td>\n",
       "      <td>3.873678</td>\n",
       "    </tr>\n",
       "    <tr>\n",
       "      <th>127</th>\n",
       "      <td>11</td>\n",
       "      <td>0.006908</td>\n",
       "      <td>4</td>\n",
       "      <td>4.482520</td>\n",
       "      <td>766</td>\n",
       "      <td>0.081566</td>\n",
       "      <td>0.148138</td>\n",
       "      <td>4</td>\n",
       "      <td>3.872090</td>\n",
       "    </tr>\n",
       "    <tr>\n",
       "      <th>133</th>\n",
       "      <td>9</td>\n",
       "      <td>0.007945</td>\n",
       "      <td>6</td>\n",
       "      <td>3.767559</td>\n",
       "      <td>982</td>\n",
       "      <td>0.075958</td>\n",
       "      <td>0.068584</td>\n",
       "      <td>6</td>\n",
       "      <td>3.889992</td>\n",
       "    </tr>\n",
       "    <tr>\n",
       "      <th>135</th>\n",
       "      <td>10</td>\n",
       "      <td>0.004801</td>\n",
       "      <td>4</td>\n",
       "      <td>4.589200</td>\n",
       "      <td>980</td>\n",
       "      <td>0.038791</td>\n",
       "      <td>-0.031830</td>\n",
       "      <td>4</td>\n",
       "      <td>4.192158</td>\n",
       "    </tr>\n",
       "    <tr>\n",
       "      <th>139</th>\n",
       "      <td>12</td>\n",
       "      <td>0.007846</td>\n",
       "      <td>4</td>\n",
       "      <td>4.042862</td>\n",
       "      <td>712</td>\n",
       "      <td>0.048240</td>\n",
       "      <td>0.002658</td>\n",
       "      <td>4</td>\n",
       "      <td>4.098902</td>\n",
       "    </tr>\n",
       "    <tr>\n",
       "      <th>191</th>\n",
       "      <td>8</td>\n",
       "      <td>0.019436</td>\n",
       "      <td>5</td>\n",
       "      <td>3.182091</td>\n",
       "      <td>531</td>\n",
       "      <td>0.105352</td>\n",
       "      <td>0.062325</td>\n",
       "      <td>5</td>\n",
       "      <td>3.778563</td>\n",
       "    </tr>\n",
       "    <tr>\n",
       "      <th>210</th>\n",
       "      <td>10</td>\n",
       "      <td>0.012597</td>\n",
       "      <td>5</td>\n",
       "      <td>3.424480</td>\n",
       "      <td>705</td>\n",
       "      <td>0.086485</td>\n",
       "      <td>0.054661</td>\n",
       "      <td>5</td>\n",
       "      <td>3.905441</td>\n",
       "    </tr>\n",
       "    <tr>\n",
       "      <th>216</th>\n",
       "      <td>9</td>\n",
       "      <td>0.011692</td>\n",
       "      <td>6</td>\n",
       "      <td>3.642434</td>\n",
       "      <td>685</td>\n",
       "      <td>0.112962</td>\n",
       "      <td>0.056817</td>\n",
       "      <td>6</td>\n",
       "      <td>3.889587</td>\n",
       "    </tr>\n",
       "    <tr>\n",
       "      <th>225</th>\n",
       "      <td>10</td>\n",
       "      <td>0.006962</td>\n",
       "      <td>5</td>\n",
       "      <td>4.025006</td>\n",
       "      <td>813</td>\n",
       "      <td>0.054221</td>\n",
       "      <td>-0.021185</td>\n",
       "      <td>5</td>\n",
       "      <td>4.206053</td>\n",
       "    </tr>\n",
       "    <tr>\n",
       "      <th>241</th>\n",
       "      <td>11</td>\n",
       "      <td>0.007287</td>\n",
       "      <td>4</td>\n",
       "      <td>4.492776</td>\n",
       "      <td>593</td>\n",
       "      <td>0.037943</td>\n",
       "      <td>-0.016690</td>\n",
       "      <td>4</td>\n",
       "      <td>3.998546</td>\n",
       "    </tr>\n",
       "    <tr>\n",
       "      <th>244</th>\n",
       "      <td>8</td>\n",
       "      <td>0.015519</td>\n",
       "      <td>7</td>\n",
       "      <td>3.143508</td>\n",
       "      <td>824</td>\n",
       "      <td>0.104665</td>\n",
       "      <td>0.042707</td>\n",
       "      <td>7</td>\n",
       "      <td>3.963867</td>\n",
       "    </tr>\n",
       "    <tr>\n",
       "      <th>245</th>\n",
       "      <td>10</td>\n",
       "      <td>0.014713</td>\n",
       "      <td>6</td>\n",
       "      <td>3.310182</td>\n",
       "      <td>770</td>\n",
       "      <td>0.090983</td>\n",
       "      <td>0.037332</td>\n",
       "      <td>6</td>\n",
       "      <td>3.868533</td>\n",
       "    </tr>\n",
       "    <tr>\n",
       "      <th>254</th>\n",
       "      <td>9</td>\n",
       "      <td>0.017895</td>\n",
       "      <td>5</td>\n",
       "      <td>3.166288</td>\n",
       "      <td>578</td>\n",
       "      <td>0.108927</td>\n",
       "      <td>0.017578</td>\n",
       "      <td>5</td>\n",
       "      <td>3.889209</td>\n",
       "    </tr>\n",
       "    <tr>\n",
       "      <th>262</th>\n",
       "      <td>9</td>\n",
       "      <td>0.016842</td>\n",
       "      <td>8</td>\n",
       "      <td>2.998099</td>\n",
       "      <td>860</td>\n",
       "      <td>0.115645</td>\n",
       "      <td>0.020740</td>\n",
       "      <td>8</td>\n",
       "      <td>3.855822</td>\n",
       "    </tr>\n",
       "    <tr>\n",
       "      <th>263</th>\n",
       "      <td>10</td>\n",
       "      <td>0.010944</td>\n",
       "      <td>6</td>\n",
       "      <td>3.779353</td>\n",
       "      <td>644</td>\n",
       "      <td>0.098858</td>\n",
       "      <td>0.100168</td>\n",
       "      <td>6</td>\n",
       "      <td>4.013725</td>\n",
       "    </tr>\n",
       "    <tr>\n",
       "      <th>284</th>\n",
       "      <td>10</td>\n",
       "      <td>0.013694</td>\n",
       "      <td>5</td>\n",
       "      <td>3.308508</td>\n",
       "      <td>756</td>\n",
       "      <td>0.083455</td>\n",
       "      <td>0.022517</td>\n",
       "      <td>5</td>\n",
       "      <td>3.915041</td>\n",
       "    </tr>\n",
       "    <tr>\n",
       "      <th>292</th>\n",
       "      <td>8</td>\n",
       "      <td>0.013537</td>\n",
       "      <td>7</td>\n",
       "      <td>3.122125</td>\n",
       "      <td>951</td>\n",
       "      <td>0.100354</td>\n",
       "      <td>0.036503</td>\n",
       "      <td>7</td>\n",
       "      <td>3.872826</td>\n",
       "    </tr>\n",
       "    <tr>\n",
       "      <th>295</th>\n",
       "      <td>12</td>\n",
       "      <td>0.006017</td>\n",
       "      <td>3</td>\n",
       "      <td>4.935979</td>\n",
       "      <td>678</td>\n",
       "      <td>0.036197</td>\n",
       "      <td>-0.038646</td>\n",
       "      <td>3</td>\n",
       "      <td>4.191948</td>\n",
       "    </tr>\n",
       "    <tr>\n",
       "      <th>308</th>\n",
       "      <td>10</td>\n",
       "      <td>0.007812</td>\n",
       "      <td>4</td>\n",
       "      <td>4.094665</td>\n",
       "      <td>675</td>\n",
       "      <td>0.044310</td>\n",
       "      <td>-0.094822</td>\n",
       "      <td>4</td>\n",
       "      <td>4.076685</td>\n",
       "    </tr>\n",
       "    <tr>\n",
       "      <th>311</th>\n",
       "      <td>9</td>\n",
       "      <td>0.008463</td>\n",
       "      <td>4</td>\n",
       "      <td>3.970426</td>\n",
       "      <td>661</td>\n",
       "      <td>0.063701</td>\n",
       "      <td>-0.068893</td>\n",
       "      <td>4</td>\n",
       "      <td>3.872010</td>\n",
       "    </tr>\n",
       "    <tr>\n",
       "      <th>...</th>\n",
       "      <td>...</td>\n",
       "      <td>...</td>\n",
       "      <td>...</td>\n",
       "      <td>...</td>\n",
       "      <td>...</td>\n",
       "      <td>...</td>\n",
       "      <td>...</td>\n",
       "      <td>...</td>\n",
       "      <td>...</td>\n",
       "    </tr>\n",
       "    <tr>\n",
       "      <th>617</th>\n",
       "      <td>12</td>\n",
       "      <td>0.011097</td>\n",
       "      <td>5</td>\n",
       "      <td>3.568180</td>\n",
       "      <td>778</td>\n",
       "      <td>0.076841</td>\n",
       "      <td>0.038867</td>\n",
       "      <td>5</td>\n",
       "      <td>3.839308</td>\n",
       "    </tr>\n",
       "    <tr>\n",
       "      <th>626</th>\n",
       "      <td>9</td>\n",
       "      <td>0.006991</td>\n",
       "      <td>5</td>\n",
       "      <td>3.847366</td>\n",
       "      <td>917</td>\n",
       "      <td>0.052630</td>\n",
       "      <td>0.026576</td>\n",
       "      <td>5</td>\n",
       "      <td>3.934036</td>\n",
       "    </tr>\n",
       "    <tr>\n",
       "      <th>650</th>\n",
       "      <td>9</td>\n",
       "      <td>0.024843</td>\n",
       "      <td>7</td>\n",
       "      <td>2.983086</td>\n",
       "      <td>502</td>\n",
       "      <td>0.121344</td>\n",
       "      <td>-0.022484</td>\n",
       "      <td>7</td>\n",
       "      <td>3.989376</td>\n",
       "    </tr>\n",
       "    <tr>\n",
       "      <th>656</th>\n",
       "      <td>8</td>\n",
       "      <td>0.014029</td>\n",
       "      <td>5</td>\n",
       "      <td>3.378206</td>\n",
       "      <td>554</td>\n",
       "      <td>0.074153</td>\n",
       "      <td>-0.055521</td>\n",
       "      <td>5</td>\n",
       "      <td>3.872192</td>\n",
       "    </tr>\n",
       "    <tr>\n",
       "      <th>662</th>\n",
       "      <td>10</td>\n",
       "      <td>0.008628</td>\n",
       "      <td>3</td>\n",
       "      <td>4.451744</td>\n",
       "      <td>505</td>\n",
       "      <td>0.042885</td>\n",
       "      <td>-0.056202</td>\n",
       "      <td>3</td>\n",
       "      <td>3.963461</td>\n",
       "    </tr>\n",
       "    <tr>\n",
       "      <th>707</th>\n",
       "      <td>10</td>\n",
       "      <td>0.008448</td>\n",
       "      <td>4</td>\n",
       "      <td>4.209655</td>\n",
       "      <td>615</td>\n",
       "      <td>0.054330</td>\n",
       "      <td>-0.015012</td>\n",
       "      <td>4</td>\n",
       "      <td>4.142489</td>\n",
       "    </tr>\n",
       "    <tr>\n",
       "      <th>709</th>\n",
       "      <td>9</td>\n",
       "      <td>0.011152</td>\n",
       "      <td>5</td>\n",
       "      <td>4.041306</td>\n",
       "      <td>503</td>\n",
       "      <td>0.084573</td>\n",
       "      <td>-0.008739</td>\n",
       "      <td>5</td>\n",
       "      <td>3.886136</td>\n",
       "    </tr>\n",
       "    <tr>\n",
       "      <th>723</th>\n",
       "      <td>12</td>\n",
       "      <td>0.008015</td>\n",
       "      <td>4</td>\n",
       "      <td>4.508377</td>\n",
       "      <td>559</td>\n",
       "      <td>0.059718</td>\n",
       "      <td>-0.025821</td>\n",
       "      <td>4</td>\n",
       "      <td>3.855448</td>\n",
       "    </tr>\n",
       "    <tr>\n",
       "      <th>746</th>\n",
       "      <td>10</td>\n",
       "      <td>0.007267</td>\n",
       "      <td>4</td>\n",
       "      <td>4.339524</td>\n",
       "      <td>619</td>\n",
       "      <td>0.041405</td>\n",
       "      <td>-0.003667</td>\n",
       "      <td>4</td>\n",
       "      <td>4.031727</td>\n",
       "    </tr>\n",
       "    <tr>\n",
       "      <th>794</th>\n",
       "      <td>10</td>\n",
       "      <td>0.010842</td>\n",
       "      <td>4</td>\n",
       "      <td>3.912945</td>\n",
       "      <td>547</td>\n",
       "      <td>0.061052</td>\n",
       "      <td>0.054315</td>\n",
       "      <td>4</td>\n",
       "      <td>3.884453</td>\n",
       "    </tr>\n",
       "    <tr>\n",
       "      <th>871</th>\n",
       "      <td>12</td>\n",
       "      <td>0.008392</td>\n",
       "      <td>5</td>\n",
       "      <td>3.956777</td>\n",
       "      <td>840</td>\n",
       "      <td>0.084459</td>\n",
       "      <td>0.098006</td>\n",
       "      <td>5</td>\n",
       "      <td>3.831667</td>\n",
       "    </tr>\n",
       "    <tr>\n",
       "      <th>875</th>\n",
       "      <td>8</td>\n",
       "      <td>0.011804</td>\n",
       "      <td>5</td>\n",
       "      <td>3.664070</td>\n",
       "      <td>597</td>\n",
       "      <td>0.091927</td>\n",
       "      <td>0.062338</td>\n",
       "      <td>5</td>\n",
       "      <td>3.812443</td>\n",
       "    </tr>\n",
       "    <tr>\n",
       "      <th>891</th>\n",
       "      <td>9</td>\n",
       "      <td>0.009698</td>\n",
       "      <td>5</td>\n",
       "      <td>3.828251</td>\n",
       "      <td>620</td>\n",
       "      <td>0.054908</td>\n",
       "      <td>-0.010832</td>\n",
       "      <td>5</td>\n",
       "      <td>4.141080</td>\n",
       "    </tr>\n",
       "    <tr>\n",
       "      <th>939</th>\n",
       "      <td>8</td>\n",
       "      <td>0.007260</td>\n",
       "      <td>6</td>\n",
       "      <td>3.817701</td>\n",
       "      <td>962</td>\n",
       "      <td>0.060192</td>\n",
       "      <td>-0.006865</td>\n",
       "      <td>6</td>\n",
       "      <td>3.932336</td>\n",
       "    </tr>\n",
       "    <tr>\n",
       "      <th>953</th>\n",
       "      <td>9</td>\n",
       "      <td>0.012608</td>\n",
       "      <td>6</td>\n",
       "      <td>3.562845</td>\n",
       "      <td>634</td>\n",
       "      <td>0.084043</td>\n",
       "      <td>0.113552</td>\n",
       "      <td>6</td>\n",
       "      <td>3.976822</td>\n",
       "    </tr>\n",
       "    <tr>\n",
       "      <th>990</th>\n",
       "      <td>11</td>\n",
       "      <td>0.007606</td>\n",
       "      <td>5</td>\n",
       "      <td>4.171428</td>\n",
       "      <td>697</td>\n",
       "      <td>0.058092</td>\n",
       "      <td>0.001427</td>\n",
       "      <td>5</td>\n",
       "      <td>4.148482</td>\n",
       "    </tr>\n",
       "    <tr>\n",
       "      <th>1007</th>\n",
       "      <td>9</td>\n",
       "      <td>0.006431</td>\n",
       "      <td>4</td>\n",
       "      <td>4.056362</td>\n",
       "      <td>809</td>\n",
       "      <td>0.043266</td>\n",
       "      <td>-0.074500</td>\n",
       "      <td>4</td>\n",
       "      <td>4.019144</td>\n",
       "    </tr>\n",
       "    <tr>\n",
       "      <th>1034</th>\n",
       "      <td>10</td>\n",
       "      <td>0.008218</td>\n",
       "      <td>6</td>\n",
       "      <td>3.942708</td>\n",
       "      <td>754</td>\n",
       "      <td>0.064773</td>\n",
       "      <td>0.021772</td>\n",
       "      <td>6</td>\n",
       "      <td>4.047218</td>\n",
       "    </tr>\n",
       "    <tr>\n",
       "      <th>1068</th>\n",
       "      <td>11</td>\n",
       "      <td>0.012871</td>\n",
       "      <td>5</td>\n",
       "      <td>3.847451</td>\n",
       "      <td>546</td>\n",
       "      <td>0.117968</td>\n",
       "      <td>0.099127</td>\n",
       "      <td>5</td>\n",
       "      <td>3.888178</td>\n",
       "    </tr>\n",
       "    <tr>\n",
       "      <th>1097</th>\n",
       "      <td>11</td>\n",
       "      <td>0.008337</td>\n",
       "      <td>4</td>\n",
       "      <td>4.264752</td>\n",
       "      <td>533</td>\n",
       "      <td>0.038340</td>\n",
       "      <td>-0.048034</td>\n",
       "      <td>4</td>\n",
       "      <td>4.081574</td>\n",
       "    </tr>\n",
       "    <tr>\n",
       "      <th>1159</th>\n",
       "      <td>16</td>\n",
       "      <td>0.004765</td>\n",
       "      <td>4</td>\n",
       "      <td>4.834578</td>\n",
       "      <td>800</td>\n",
       "      <td>0.024965</td>\n",
       "      <td>-0.064636</td>\n",
       "      <td>4</td>\n",
       "      <td>4.282141</td>\n",
       "    </tr>\n",
       "    <tr>\n",
       "      <th>1164</th>\n",
       "      <td>9</td>\n",
       "      <td>0.017003</td>\n",
       "      <td>6</td>\n",
       "      <td>3.373693</td>\n",
       "      <td>507</td>\n",
       "      <td>0.109356</td>\n",
       "      <td>0.073362</td>\n",
       "      <td>6</td>\n",
       "      <td>4.020225</td>\n",
       "    </tr>\n",
       "    <tr>\n",
       "      <th>1184</th>\n",
       "      <td>12</td>\n",
       "      <td>0.009075</td>\n",
       "      <td>4</td>\n",
       "      <td>3.740866</td>\n",
       "      <td>652</td>\n",
       "      <td>0.043719</td>\n",
       "      <td>-0.092753</td>\n",
       "      <td>4</td>\n",
       "      <td>4.023853</td>\n",
       "    </tr>\n",
       "    <tr>\n",
       "      <th>1292</th>\n",
       "      <td>9</td>\n",
       "      <td>0.007378</td>\n",
       "      <td>4</td>\n",
       "      <td>4.134807</td>\n",
       "      <td>714</td>\n",
       "      <td>0.038384</td>\n",
       "      <td>-0.035780</td>\n",
       "      <td>4</td>\n",
       "      <td>3.919984</td>\n",
       "    </tr>\n",
       "    <tr>\n",
       "      <th>1295</th>\n",
       "      <td>9</td>\n",
       "      <td>0.010922</td>\n",
       "      <td>5</td>\n",
       "      <td>3.949372</td>\n",
       "      <td>536</td>\n",
       "      <td>0.084052</td>\n",
       "      <td>0.090604</td>\n",
       "      <td>5</td>\n",
       "      <td>4.068902</td>\n",
       "    </tr>\n",
       "    <tr>\n",
       "      <th>1297</th>\n",
       "      <td>9</td>\n",
       "      <td>0.008858</td>\n",
       "      <td>3</td>\n",
       "      <td>3.988702</td>\n",
       "      <td>526</td>\n",
       "      <td>0.036308</td>\n",
       "      <td>-0.072311</td>\n",
       "      <td>3</td>\n",
       "      <td>4.113573</td>\n",
       "    </tr>\n",
       "    <tr>\n",
       "      <th>1360</th>\n",
       "      <td>11</td>\n",
       "      <td>0.007799</td>\n",
       "      <td>4</td>\n",
       "      <td>4.218583</td>\n",
       "      <td>634</td>\n",
       "      <td>0.048515</td>\n",
       "      <td>-0.038251</td>\n",
       "      <td>4</td>\n",
       "      <td>4.211514</td>\n",
       "    </tr>\n",
       "    <tr>\n",
       "      <th>1450</th>\n",
       "      <td>10</td>\n",
       "      <td>0.009176</td>\n",
       "      <td>4</td>\n",
       "      <td>4.119175</td>\n",
       "      <td>570</td>\n",
       "      <td>0.053809</td>\n",
       "      <td>-0.022387</td>\n",
       "      <td>4</td>\n",
       "      <td>4.099953</td>\n",
       "    </tr>\n",
       "    <tr>\n",
       "      <th>1531</th>\n",
       "      <td>9</td>\n",
       "      <td>0.008707</td>\n",
       "      <td>4</td>\n",
       "      <td>4.137373</td>\n",
       "      <td>581</td>\n",
       "      <td>0.052236</td>\n",
       "      <td>-0.013478</td>\n",
       "      <td>4</td>\n",
       "      <td>3.913947</td>\n",
       "    </tr>\n",
       "    <tr>\n",
       "      <th>1600</th>\n",
       "      <td>11</td>\n",
       "      <td>0.010493</td>\n",
       "      <td>5</td>\n",
       "      <td>3.776964</td>\n",
       "      <td>658</td>\n",
       "      <td>0.071786</td>\n",
       "      <td>0.051781</td>\n",
       "      <td>5</td>\n",
       "      <td>3.765454</td>\n",
       "    </tr>\n",
       "  </tbody>\n",
       "</table>\n",
       "<p>109 rows × 9 columns</p>\n",
       "</div>"
      ],
      "text/plain": [
       "      diameter   density  cliqu_number  avg_path_length  vcount      coef  \\\n",
       "0           10  0.007048             4         4.006278     811  0.046130   \n",
       "23          11  0.007713             4         4.507766     645  0.082356   \n",
       "26           9  0.010094             4         3.834869     671  0.085245   \n",
       "76          11  0.008663             5         3.784632     884  0.085279   \n",
       "83          10  0.006741             5         4.292213     771  0.070680   \n",
       "93           9  0.017420             6         3.348696     537  0.117879   \n",
       "99          10  0.009833             4         4.036160     546  0.067790   \n",
       "101         10  0.015422             5         3.546637     644  0.103105   \n",
       "113          9  0.009893             5         3.463167     962  0.078013   \n",
       "119         13  0.011040             5         4.087016     523  0.096398   \n",
       "123          9  0.011811             5         3.467255     705  0.075687   \n",
       "127         11  0.006908             4         4.482520     766  0.081566   \n",
       "133          9  0.007945             6         3.767559     982  0.075958   \n",
       "135         10  0.004801             4         4.589200     980  0.038791   \n",
       "139         12  0.007846             4         4.042862     712  0.048240   \n",
       "191          8  0.019436             5         3.182091     531  0.105352   \n",
       "210         10  0.012597             5         3.424480     705  0.086485   \n",
       "216          9  0.011692             6         3.642434     685  0.112962   \n",
       "225         10  0.006962             5         4.025006     813  0.054221   \n",
       "241         11  0.007287             4         4.492776     593  0.037943   \n",
       "244          8  0.015519             7         3.143508     824  0.104665   \n",
       "245         10  0.014713             6         3.310182     770  0.090983   \n",
       "254          9  0.017895             5         3.166288     578  0.108927   \n",
       "262          9  0.016842             8         2.998099     860  0.115645   \n",
       "263         10  0.010944             6         3.779353     644  0.098858   \n",
       "284         10  0.013694             5         3.308508     756  0.083455   \n",
       "292          8  0.013537             7         3.122125     951  0.100354   \n",
       "295         12  0.006017             3         4.935979     678  0.036197   \n",
       "308         10  0.007812             4         4.094665     675  0.044310   \n",
       "311          9  0.008463             4         3.970426     661  0.063701   \n",
       "...        ...       ...           ...              ...     ...       ...   \n",
       "617         12  0.011097             5         3.568180     778  0.076841   \n",
       "626          9  0.006991             5         3.847366     917  0.052630   \n",
       "650          9  0.024843             7         2.983086     502  0.121344   \n",
       "656          8  0.014029             5         3.378206     554  0.074153   \n",
       "662         10  0.008628             3         4.451744     505  0.042885   \n",
       "707         10  0.008448             4         4.209655     615  0.054330   \n",
       "709          9  0.011152             5         4.041306     503  0.084573   \n",
       "723         12  0.008015             4         4.508377     559  0.059718   \n",
       "746         10  0.007267             4         4.339524     619  0.041405   \n",
       "794         10  0.010842             4         3.912945     547  0.061052   \n",
       "871         12  0.008392             5         3.956777     840  0.084459   \n",
       "875          8  0.011804             5         3.664070     597  0.091927   \n",
       "891          9  0.009698             5         3.828251     620  0.054908   \n",
       "939          8  0.007260             6         3.817701     962  0.060192   \n",
       "953          9  0.012608             6         3.562845     634  0.084043   \n",
       "990         11  0.007606             5         4.171428     697  0.058092   \n",
       "1007         9  0.006431             4         4.056362     809  0.043266   \n",
       "1034        10  0.008218             6         3.942708     754  0.064773   \n",
       "1068        11  0.012871             5         3.847451     546  0.117968   \n",
       "1097        11  0.008337             4         4.264752     533  0.038340   \n",
       "1159        16  0.004765             4         4.834578     800  0.024965   \n",
       "1164         9  0.017003             6         3.373693     507  0.109356   \n",
       "1184        12  0.009075             4         3.740866     652  0.043719   \n",
       "1292         9  0.007378             4         4.134807     714  0.038384   \n",
       "1295         9  0.010922             5         3.949372     536  0.084052   \n",
       "1297         9  0.008858             3         3.988702     526  0.036308   \n",
       "1360        11  0.007799             4         4.218583     634  0.048515   \n",
       "1450        10  0.009176             4         4.119175     570  0.053809   \n",
       "1531         9  0.008707             4         4.137373     581  0.052236   \n",
       "1600        11  0.010493             5         3.776964     658  0.071786   \n",
       "\n",
       "      assortativity  omega  mean_rel  \n",
       "0         -0.048190      4  4.231024  \n",
       "23        -0.000315      4  3.934794  \n",
       "26         0.053556      4  3.884755  \n",
       "76         0.060497      5  3.838755  \n",
       "83        -0.028004      5  4.074843  \n",
       "93         0.051375      6  3.864795  \n",
       "99         0.025010      4  4.140526  \n",
       "101        0.066111      5  3.853154  \n",
       "113        0.069952      5  3.895581  \n",
       "119        0.022796      5  3.815753  \n",
       "123        0.024262      5  3.873678  \n",
       "127        0.148138      4  3.872090  \n",
       "133        0.068584      6  3.889992  \n",
       "135       -0.031830      4  4.192158  \n",
       "139        0.002658      4  4.098902  \n",
       "191        0.062325      5  3.778563  \n",
       "210        0.054661      5  3.905441  \n",
       "216        0.056817      6  3.889587  \n",
       "225       -0.021185      5  4.206053  \n",
       "241       -0.016690      4  3.998546  \n",
       "244        0.042707      7  3.963867  \n",
       "245        0.037332      6  3.868533  \n",
       "254        0.017578      5  3.889209  \n",
       "262        0.020740      8  3.855822  \n",
       "263        0.100168      6  4.013725  \n",
       "284        0.022517      5  3.915041  \n",
       "292        0.036503      7  3.872826  \n",
       "295       -0.038646      3  4.191948  \n",
       "308       -0.094822      4  4.076685  \n",
       "311       -0.068893      4  3.872010  \n",
       "...             ...    ...       ...  \n",
       "617        0.038867      5  3.839308  \n",
       "626        0.026576      5  3.934036  \n",
       "650       -0.022484      7  3.989376  \n",
       "656       -0.055521      5  3.872192  \n",
       "662       -0.056202      3  3.963461  \n",
       "707       -0.015012      4  4.142489  \n",
       "709       -0.008739      5  3.886136  \n",
       "723       -0.025821      4  3.855448  \n",
       "746       -0.003667      4  4.031727  \n",
       "794        0.054315      4  3.884453  \n",
       "871        0.098006      5  3.831667  \n",
       "875        0.062338      5  3.812443  \n",
       "891       -0.010832      5  4.141080  \n",
       "939       -0.006865      6  3.932336  \n",
       "953        0.113552      6  3.976822  \n",
       "990        0.001427      5  4.148482  \n",
       "1007      -0.074500      4  4.019144  \n",
       "1034       0.021772      6  4.047218  \n",
       "1068       0.099127      5  3.888178  \n",
       "1097      -0.048034      4  4.081574  \n",
       "1159      -0.064636      4  4.282141  \n",
       "1164       0.073362      6  4.020225  \n",
       "1184      -0.092753      4  4.023853  \n",
       "1292      -0.035780      4  3.919984  \n",
       "1295       0.090604      5  4.068902  \n",
       "1297      -0.072311      3  4.113573  \n",
       "1360      -0.038251      4  4.211514  \n",
       "1450      -0.022387      4  4.099953  \n",
       "1531      -0.013478      4  3.913947  \n",
       "1600       0.051781      5  3.765454  \n",
       "\n",
       "[109 rows x 9 columns]"
      ]
     },
     "execution_count": 878,
     "metadata": {},
     "output_type": "execute_result"
    }
   ],
   "source": [
    "sub_stats[(sub_stats.vcount>500)&(sub_stats.vcount<1000)]"
   ]
  },
  {
   "cell_type": "code",
   "execution_count": 791,
   "metadata": {
    "collapsed": true
   },
   "outputs": [
    {
     "data": {
      "text/html": [
       "<div>\n",
       "<table border=\"1\" class=\"dataframe\">\n",
       "  <thead>\n",
       "    <tr style=\"text-align: right;\">\n",
       "      <th></th>\n",
       "      <th>diameter</th>\n",
       "      <th>density</th>\n",
       "      <th>cliqu_number</th>\n",
       "      <th>avg_path_length</th>\n",
       "      <th>vcount</th>\n",
       "      <th>coef</th>\n",
       "      <th>assortativity</th>\n",
       "      <th>omega</th>\n",
       "      <th>mean_rel</th>\n",
       "    </tr>\n",
       "  </thead>\n",
       "  <tbody>\n",
       "    <tr>\n",
       "      <th>161</th>\n",
       "      <td>7</td>\n",
       "      <td>0.084898</td>\n",
       "      <td>4</td>\n",
       "      <td>3.130612</td>\n",
       "      <td>50</td>\n",
       "      <td>0.199052</td>\n",
       "      <td>0.091912</td>\n",
       "      <td>4</td>\n",
       "      <td>3.962115</td>\n",
       "    </tr>\n",
       "    <tr>\n",
       "      <th>740</th>\n",
       "      <td>7</td>\n",
       "      <td>0.078367</td>\n",
       "      <td>4</td>\n",
       "      <td>2.941224</td>\n",
       "      <td>50</td>\n",
       "      <td>0.172277</td>\n",
       "      <td>-0.192481</td>\n",
       "      <td>4</td>\n",
       "      <td>4.139583</td>\n",
       "    </tr>\n",
       "    <tr>\n",
       "      <th>1243</th>\n",
       "      <td>6</td>\n",
       "      <td>0.075102</td>\n",
       "      <td>4</td>\n",
       "      <td>2.925714</td>\n",
       "      <td>50</td>\n",
       "      <td>0.091371</td>\n",
       "      <td>-0.131392</td>\n",
       "      <td>4</td>\n",
       "      <td>4.567391</td>\n",
       "    </tr>\n",
       "    <tr>\n",
       "      <th>2088</th>\n",
       "      <td>6</td>\n",
       "      <td>0.120000</td>\n",
       "      <td>4</td>\n",
       "      <td>2.572245</td>\n",
       "      <td>50</td>\n",
       "      <td>0.208696</td>\n",
       "      <td>-0.237668</td>\n",
       "      <td>4</td>\n",
       "      <td>4.075238</td>\n",
       "    </tr>\n",
       "    <tr>\n",
       "      <th>2157</th>\n",
       "      <td>6</td>\n",
       "      <td>0.097143</td>\n",
       "      <td>5</td>\n",
       "      <td>2.779592</td>\n",
       "      <td>50</td>\n",
       "      <td>0.253406</td>\n",
       "      <td>-0.137362</td>\n",
       "      <td>5</td>\n",
       "      <td>4.067731</td>\n",
       "    </tr>\n",
       "    <tr>\n",
       "      <th>2203</th>\n",
       "      <td>6</td>\n",
       "      <td>0.102041</td>\n",
       "      <td>4</td>\n",
       "      <td>2.764898</td>\n",
       "      <td>50</td>\n",
       "      <td>0.193151</td>\n",
       "      <td>-0.098724</td>\n",
       "      <td>4</td>\n",
       "      <td>3.844000</td>\n",
       "    </tr>\n",
       "    <tr>\n",
       "      <th>2291</th>\n",
       "      <td>9</td>\n",
       "      <td>0.073469</td>\n",
       "      <td>4</td>\n",
       "      <td>3.481633</td>\n",
       "      <td>50</td>\n",
       "      <td>0.163324</td>\n",
       "      <td>0.085515</td>\n",
       "      <td>4</td>\n",
       "      <td>4.396444</td>\n",
       "    </tr>\n",
       "    <tr>\n",
       "      <th>2424</th>\n",
       "      <td>6</td>\n",
       "      <td>0.115102</td>\n",
       "      <td>5</td>\n",
       "      <td>2.613061</td>\n",
       "      <td>50</td>\n",
       "      <td>0.250000</td>\n",
       "      <td>-0.006722</td>\n",
       "      <td>5</td>\n",
       "      <td>4.261418</td>\n",
       "    </tr>\n",
       "    <tr>\n",
       "      <th>2623</th>\n",
       "      <td>5</td>\n",
       "      <td>0.140408</td>\n",
       "      <td>5</td>\n",
       "      <td>2.320816</td>\n",
       "      <td>50</td>\n",
       "      <td>0.237867</td>\n",
       "      <td>-0.161689</td>\n",
       "      <td>5</td>\n",
       "      <td>3.943081</td>\n",
       "    </tr>\n",
       "    <tr>\n",
       "      <th>3475</th>\n",
       "      <td>5</td>\n",
       "      <td>0.182041</td>\n",
       "      <td>7</td>\n",
       "      <td>2.051429</td>\n",
       "      <td>50</td>\n",
       "      <td>0.268487</td>\n",
       "      <td>-0.242926</td>\n",
       "      <td>7</td>\n",
       "      <td>3.756996</td>\n",
       "    </tr>\n",
       "    <tr>\n",
       "      <th>3671</th>\n",
       "      <td>5</td>\n",
       "      <td>0.137143</td>\n",
       "      <td>5</td>\n",
       "      <td>2.421224</td>\n",
       "      <td>50</td>\n",
       "      <td>0.256874</td>\n",
       "      <td>-0.022801</td>\n",
       "      <td>5</td>\n",
       "      <td>3.858452</td>\n",
       "    </tr>\n",
       "    <tr>\n",
       "      <th>3706</th>\n",
       "      <td>7</td>\n",
       "      <td>0.063673</td>\n",
       "      <td>4</td>\n",
       "      <td>3.131429</td>\n",
       "      <td>50</td>\n",
       "      <td>0.116883</td>\n",
       "      <td>-0.290286</td>\n",
       "      <td>4</td>\n",
       "      <td>4.517564</td>\n",
       "    </tr>\n",
       "    <tr>\n",
       "      <th>4134</th>\n",
       "      <td>6</td>\n",
       "      <td>0.112653</td>\n",
       "      <td>4</td>\n",
       "      <td>2.712653</td>\n",
       "      <td>50</td>\n",
       "      <td>0.215777</td>\n",
       "      <td>0.099405</td>\n",
       "      <td>4</td>\n",
       "      <td>4.013623</td>\n",
       "    </tr>\n",
       "    <tr>\n",
       "      <th>6143</th>\n",
       "      <td>8</td>\n",
       "      <td>0.089796</td>\n",
       "      <td>5</td>\n",
       "      <td>2.992653</td>\n",
       "      <td>50</td>\n",
       "      <td>0.198738</td>\n",
       "      <td>-0.030412</td>\n",
       "      <td>5</td>\n",
       "      <td>3.865273</td>\n",
       "    </tr>\n",
       "    <tr>\n",
       "      <th>7157</th>\n",
       "      <td>6</td>\n",
       "      <td>0.098776</td>\n",
       "      <td>4</td>\n",
       "      <td>2.824490</td>\n",
       "      <td>50</td>\n",
       "      <td>0.212121</td>\n",
       "      <td>-0.092440</td>\n",
       "      <td>4</td>\n",
       "      <td>4.040248</td>\n",
       "    </tr>\n",
       "    <tr>\n",
       "      <th>7892</th>\n",
       "      <td>7</td>\n",
       "      <td>0.057143</td>\n",
       "      <td>3</td>\n",
       "      <td>3.083265</td>\n",
       "      <td>50</td>\n",
       "      <td>0.048518</td>\n",
       "      <td>-0.322373</td>\n",
       "      <td>3</td>\n",
       "      <td>4.655857</td>\n",
       "    </tr>\n",
       "    <tr>\n",
       "      <th>14602</th>\n",
       "      <td>6</td>\n",
       "      <td>0.153469</td>\n",
       "      <td>5</td>\n",
       "      <td>2.202449</td>\n",
       "      <td>50</td>\n",
       "      <td>0.173913</td>\n",
       "      <td>-0.499109</td>\n",
       "      <td>5</td>\n",
       "      <td>3.663936</td>\n",
       "    </tr>\n",
       "    <tr>\n",
       "      <th>22169</th>\n",
       "      <td>5</td>\n",
       "      <td>0.144490</td>\n",
       "      <td>5</td>\n",
       "      <td>2.339592</td>\n",
       "      <td>50</td>\n",
       "      <td>0.295717</td>\n",
       "      <td>-0.044063</td>\n",
       "      <td>5</td>\n",
       "      <td>4.249153</td>\n",
       "    </tr>\n",
       "    <tr>\n",
       "      <th>40189</th>\n",
       "      <td>6</td>\n",
       "      <td>0.071020</td>\n",
       "      <td>4</td>\n",
       "      <td>2.941224</td>\n",
       "      <td>50</td>\n",
       "      <td>0.126761</td>\n",
       "      <td>-0.264840</td>\n",
       "      <td>4</td>\n",
       "      <td>4.460690</td>\n",
       "    </tr>\n",
       "  </tbody>\n",
       "</table>\n",
       "</div>"
      ],
      "text/plain": [
       "       diameter   density  cliqu_number  avg_path_length  vcount      coef  \\\n",
       "161           7  0.084898             4         3.130612      50  0.199052   \n",
       "740           7  0.078367             4         2.941224      50  0.172277   \n",
       "1243          6  0.075102             4         2.925714      50  0.091371   \n",
       "2088          6  0.120000             4         2.572245      50  0.208696   \n",
       "2157          6  0.097143             5         2.779592      50  0.253406   \n",
       "2203          6  0.102041             4         2.764898      50  0.193151   \n",
       "2291          9  0.073469             4         3.481633      50  0.163324   \n",
       "2424          6  0.115102             5         2.613061      50  0.250000   \n",
       "2623          5  0.140408             5         2.320816      50  0.237867   \n",
       "3475          5  0.182041             7         2.051429      50  0.268487   \n",
       "3671          5  0.137143             5         2.421224      50  0.256874   \n",
       "3706          7  0.063673             4         3.131429      50  0.116883   \n",
       "4134          6  0.112653             4         2.712653      50  0.215777   \n",
       "6143          8  0.089796             5         2.992653      50  0.198738   \n",
       "7157          6  0.098776             4         2.824490      50  0.212121   \n",
       "7892          7  0.057143             3         3.083265      50  0.048518   \n",
       "14602         6  0.153469             5         2.202449      50  0.173913   \n",
       "22169         5  0.144490             5         2.339592      50  0.295717   \n",
       "40189         6  0.071020             4         2.941224      50  0.126761   \n",
       "\n",
       "       assortativity  omega  mean_rel  \n",
       "161         0.091912      4  3.962115  \n",
       "740        -0.192481      4  4.139583  \n",
       "1243       -0.131392      4  4.567391  \n",
       "2088       -0.237668      4  4.075238  \n",
       "2157       -0.137362      5  4.067731  \n",
       "2203       -0.098724      4  3.844000  \n",
       "2291        0.085515      4  4.396444  \n",
       "2424       -0.006722      5  4.261418  \n",
       "2623       -0.161689      5  3.943081  \n",
       "3475       -0.242926      7  3.756996  \n",
       "3671       -0.022801      5  3.858452  \n",
       "3706       -0.290286      4  4.517564  \n",
       "4134        0.099405      4  4.013623  \n",
       "6143       -0.030412      5  3.865273  \n",
       "7157       -0.092440      4  4.040248  \n",
       "7892       -0.322373      3  4.655857  \n",
       "14602      -0.499109      5  3.663936  \n",
       "22169      -0.044063      5  4.249153  \n",
       "40189      -0.264840      4  4.460690  "
      ]
     },
     "execution_count": 791,
     "metadata": {},
     "output_type": "execute_result"
    }
   ],
   "source": [
    "Wsubg_stats[Wsubg_stats.vcount==50]"
   ]
  },
  {
   "cell_type": "code",
   "execution_count": 935,
   "metadata": {
    "collapsed": false
   },
   "outputs": [
    {
     "data": {
      "text/plain": [
       "<matplotlib.axes._subplots.AxesSubplot at 0x7ffef9b7f1d0>"
      ]
     },
     "execution_count": 935,
     "metadata": {},
     "output_type": "execute_result"
    },
    {
     "data": {
      "image/png": "[encoded data removed]",
      "text/plain": [
       "<matplotlib.figure.Figure at 0x7fff69f86dd0>"
      ]
     },
     "metadata": {},
     "output_type": "display_data"
    }
   ],
   "source": [
    "sub_now_diff.density.plot(xlim=(50,1000))"
   ]
  },
  {
   "cell_type": "markdown",
   "metadata": {},
   "source": [
    "- 社区规模为50。同等社区规模下的比较"
   ]
  },
  {
   "cell_type": "code",
   "execution_count": 336,
   "metadata": {
    "collapsed": false
   },
   "outputs": [
    {
     "data": {
      "text/html": [
       "<div>\n",
       "<table border=\"1\" class=\"dataframe\">\n",
       "  <thead>\n",
       "    <tr style=\"text-align: right;\">\n",
       "      <th></th>\n",
       "      <th>diameter</th>\n",
       "      <th>density</th>\n",
       "      <th>cliqu_number</th>\n",
       "      <th>avg_path_length</th>\n",
       "      <th>vcount</th>\n",
       "      <th>coef</th>\n",
       "      <th>assortativity</th>\n",
       "      <th>omega</th>\n",
       "      <th>mean_rel</th>\n",
       "    </tr>\n",
       "  </thead>\n",
       "  <tbody>\n",
       "    <tr>\n",
       "      <th>0</th>\n",
       "      <td>9</td>\n",
       "      <td>0.101224</td>\n",
       "      <td>4</td>\n",
       "      <td>3.068571</td>\n",
       "      <td>50</td>\n",
       "      <td>0.194929</td>\n",
       "      <td>-0.048153</td>\n",
       "      <td>4</td>\n",
       "      <td>4.007823</td>\n",
       "    </tr>\n",
       "    <tr>\n",
       "      <th>1707</th>\n",
       "      <td>8</td>\n",
       "      <td>0.076735</td>\n",
       "      <td>3</td>\n",
       "      <td>3.230204</td>\n",
       "      <td>50</td>\n",
       "      <td>0.121037</td>\n",
       "      <td>-0.123216</td>\n",
       "      <td>3</td>\n",
       "      <td>3.986809</td>\n",
       "    </tr>\n",
       "    <tr>\n",
       "      <th>1869</th>\n",
       "      <td>6</td>\n",
       "      <td>0.079184</td>\n",
       "      <td>4</td>\n",
       "      <td>3.194286</td>\n",
       "      <td>50</td>\n",
       "      <td>0.130435</td>\n",
       "      <td>0.074055</td>\n",
       "      <td>4</td>\n",
       "      <td>4.035361</td>\n",
       "    </tr>\n",
       "    <tr>\n",
       "      <th>1954</th>\n",
       "      <td>7</td>\n",
       "      <td>0.128163</td>\n",
       "      <td>4</td>\n",
       "      <td>2.525714</td>\n",
       "      <td>50</td>\n",
       "      <td>0.182663</td>\n",
       "      <td>-0.010559</td>\n",
       "      <td>4</td>\n",
       "      <td>4.254140</td>\n",
       "    </tr>\n",
       "    <tr>\n",
       "      <th>2355</th>\n",
       "      <td>5</td>\n",
       "      <td>0.111020</td>\n",
       "      <td>4</td>\n",
       "      <td>2.437551</td>\n",
       "      <td>50</td>\n",
       "      <td>0.189637</td>\n",
       "      <td>-0.193256</td>\n",
       "      <td>4</td>\n",
       "      <td>4.043235</td>\n",
       "    </tr>\n",
       "    <tr>\n",
       "      <th>2804</th>\n",
       "      <td>4</td>\n",
       "      <td>0.192653</td>\n",
       "      <td>5</td>\n",
       "      <td>1.924898</td>\n",
       "      <td>50</td>\n",
       "      <td>0.226714</td>\n",
       "      <td>-0.352365</td>\n",
       "      <td>5</td>\n",
       "      <td>3.870593</td>\n",
       "    </tr>\n",
       "    <tr>\n",
       "      <th>3428</th>\n",
       "      <td>8</td>\n",
       "      <td>0.089796</td>\n",
       "      <td>3</td>\n",
       "      <td>3.026939</td>\n",
       "      <td>50</td>\n",
       "      <td>0.134766</td>\n",
       "      <td>0.031063</td>\n",
       "      <td>3</td>\n",
       "      <td>3.827909</td>\n",
       "    </tr>\n",
       "    <tr>\n",
       "      <th>3547</th>\n",
       "      <td>8</td>\n",
       "      <td>0.086531</td>\n",
       "      <td>5</td>\n",
       "      <td>3.187755</td>\n",
       "      <td>50</td>\n",
       "      <td>0.236398</td>\n",
       "      <td>-0.057645</td>\n",
       "      <td>5</td>\n",
       "      <td>4.190943</td>\n",
       "    </tr>\n",
       "    <tr>\n",
       "      <th>3606</th>\n",
       "      <td>6</td>\n",
       "      <td>0.091429</td>\n",
       "      <td>4</td>\n",
       "      <td>2.982857</td>\n",
       "      <td>50</td>\n",
       "      <td>0.189293</td>\n",
       "      <td>-0.058571</td>\n",
       "      <td>4</td>\n",
       "      <td>3.648750</td>\n",
       "    </tr>\n",
       "    <tr>\n",
       "      <th>3781</th>\n",
       "      <td>5</td>\n",
       "      <td>0.125714</td>\n",
       "      <td>5</td>\n",
       "      <td>2.328980</td>\n",
       "      <td>50</td>\n",
       "      <td>0.245560</td>\n",
       "      <td>-0.236608</td>\n",
       "      <td>5</td>\n",
       "      <td>3.798182</td>\n",
       "    </tr>\n",
       "  </tbody>\n",
       "</table>\n",
       "</div>"
      ],
      "text/plain": [
       "      diameter   density  cliqu_number  avg_path_length  vcount      coef  \\\n",
       "0            9  0.101224             4         3.068571      50  0.194929   \n",
       "1707         8  0.076735             3         3.230204      50  0.121037   \n",
       "1869         6  0.079184             4         3.194286      50  0.130435   \n",
       "1954         7  0.128163             4         2.525714      50  0.182663   \n",
       "2355         5  0.111020             4         2.437551      50  0.189637   \n",
       "2804         4  0.192653             5         1.924898      50  0.226714   \n",
       "3428         8  0.089796             3         3.026939      50  0.134766   \n",
       "3547         8  0.086531             5         3.187755      50  0.236398   \n",
       "3606         6  0.091429             4         2.982857      50  0.189293   \n",
       "3781         5  0.125714             5         2.328980      50  0.245560   \n",
       "\n",
       "      assortativity  omega  mean_rel  \n",
       "0         -0.048153      4  4.007823  \n",
       "1707      -0.123216      3  3.986809  \n",
       "1869       0.074055      4  4.035361  \n",
       "1954      -0.010559      4  4.254140  \n",
       "2355      -0.193256      4  4.043235  \n",
       "2804      -0.352365      5  3.870593  \n",
       "3428       0.031063      3  3.827909  \n",
       "3547      -0.057645      5  4.190943  \n",
       "3606      -0.058571      4  3.648750  \n",
       "3781      -0.236608      5  3.798182  "
      ]
     },
     "execution_count": 336,
     "metadata": {},
     "output_type": "execute_result"
    }
   ],
   "source": [
    "sub_stats[sub_stats.vcount==50]"
   ]
  },
  {
   "cell_type": "code",
   "execution_count": 354,
   "metadata": {
    "collapsed": false
   },
   "outputs": [],
   "source": [
    "WlpaS=pd.DataFrame(relW_comm.sizes(),columns=['s'])\n",
    "lpaS=pd.DataFrame(rel_comm_lpa.sizes(),columns=['s'])"
   ]
  },
  {
   "cell_type": "code",
   "execution_count": 366,
   "metadata": {
    "collapsed": false
   },
   "outputs": [],
   "source": [
    "w50=WlpaS[WlpaS.s==50]\n",
    "l50=lpaS[lpaS.s==50]"
   ]
  },
  {
   "cell_type": "code",
   "execution_count": 375,
   "metadata": {
    "collapsed": false
   },
   "outputs": [
    {
     "name": "stderr",
     "output_type": "stream",
     "text": [
      "/opt/anaconda2/lib/python2.7/site-packages/ipykernel/__main__.py:1: SettingWithCopyWarning: \n",
      "A value is trying to be set on a copy of a slice from a DataFrame.\n",
      "Try using .loc[row_indexer,col_indexer] = value instead\n",
      "\n",
      "See the caveats in the documentation: http://pandas.pydata.org/pandas-docs/stable/indexing.html#indexing-view-versus-copy\n",
      "  if __name__ == '__main__':\n",
      "/opt/anaconda2/lib/python2.7/site-packages/ipykernel/__main__.py:2: SettingWithCopyWarning: \n",
      "A value is trying to be set on a copy of a slice from a DataFrame.\n",
      "Try using .loc[row_indexer,col_indexer] = value instead\n",
      "\n",
      "See the caveats in the documentation: http://pandas.pydata.org/pandas-docs/stable/indexing.html#indexing-view-versus-copy\n",
      "  from ipykernel import kernelapp as app\n"
     ]
    }
   ],
   "source": [
    "l50['dia']=[rel_comm_lpa.subgraph(line).diameter()  for line in l50.index.values]\n",
    "w50['dia']=[relW_comm.subgraph(line).diameter()  for line in w50.index.values]"
   ]
  },
  {
   "cell_type": "code",
   "execution_count": 376,
   "metadata": {
    "collapsed": false
   },
   "outputs": [
    {
     "data": {
      "text/html": [
       "<div>\n",
       "<table border=\"1\" class=\"dataframe\">\n",
       "  <thead>\n",
       "    <tr style=\"text-align: right;\">\n",
       "      <th></th>\n",
       "      <th>s</th>\n",
       "      <th>den</th>\n",
       "      <th>dia</th>\n",
       "    </tr>\n",
       "  </thead>\n",
       "  <tbody>\n",
       "    <tr>\n",
       "      <th>0</th>\n",
       "      <td>50</td>\n",
       "      <td>0.101224</td>\n",
       "      <td>9</td>\n",
       "    </tr>\n",
       "    <tr>\n",
       "      <th>1707</th>\n",
       "      <td>50</td>\n",
       "      <td>0.076735</td>\n",
       "      <td>8</td>\n",
       "    </tr>\n",
       "    <tr>\n",
       "      <th>1869</th>\n",
       "      <td>50</td>\n",
       "      <td>0.079184</td>\n",
       "      <td>6</td>\n",
       "    </tr>\n",
       "    <tr>\n",
       "      <th>1954</th>\n",
       "      <td>50</td>\n",
       "      <td>0.128163</td>\n",
       "      <td>7</td>\n",
       "    </tr>\n",
       "    <tr>\n",
       "      <th>2355</th>\n",
       "      <td>50</td>\n",
       "      <td>0.111020</td>\n",
       "      <td>5</td>\n",
       "    </tr>\n",
       "    <tr>\n",
       "      <th>2804</th>\n",
       "      <td>50</td>\n",
       "      <td>0.192653</td>\n",
       "      <td>4</td>\n",
       "    </tr>\n",
       "    <tr>\n",
       "      <th>3428</th>\n",
       "      <td>50</td>\n",
       "      <td>0.089796</td>\n",
       "      <td>8</td>\n",
       "    </tr>\n",
       "    <tr>\n",
       "      <th>3547</th>\n",
       "      <td>50</td>\n",
       "      <td>0.086531</td>\n",
       "      <td>8</td>\n",
       "    </tr>\n",
       "    <tr>\n",
       "      <th>3606</th>\n",
       "      <td>50</td>\n",
       "      <td>0.091429</td>\n",
       "      <td>6</td>\n",
       "    </tr>\n",
       "    <tr>\n",
       "      <th>3781</th>\n",
       "      <td>50</td>\n",
       "      <td>0.125714</td>\n",
       "      <td>5</td>\n",
       "    </tr>\n",
       "  </tbody>\n",
       "</table>\n",
       "</div>"
      ],
      "text/plain": [
       "       s       den  dia\n",
       "0     50  0.101224    9\n",
       "1707  50  0.076735    8\n",
       "1869  50  0.079184    6\n",
       "1954  50  0.128163    7\n",
       "2355  50  0.111020    5\n",
       "2804  50  0.192653    4\n",
       "3428  50  0.089796    8\n",
       "3547  50  0.086531    8\n",
       "3606  50  0.091429    6\n",
       "3781  50  0.125714    5"
      ]
     },
     "execution_count": 376,
     "metadata": {},
     "output_type": "execute_result"
    }
   ],
   "source": [
    "l50."
   ]
  },
  {
   "cell_type": "code",
   "execution_count": 677,
   "metadata": {
    "collapsed": false
   },
   "outputs": [
    {
     "data": {
      "text/html": [
       "<div>\n",
       "<table border=\"1\" class=\"dataframe\">\n",
       "  <thead>\n",
       "    <tr style=\"text-align: right;\">\n",
       "      <th></th>\n",
       "      <th>s</th>\n",
       "    </tr>\n",
       "  </thead>\n",
       "  <tbody>\n",
       "    <tr>\n",
       "      <th>12</th>\n",
       "      <td>7793</td>\n",
       "    </tr>\n",
       "    <tr>\n",
       "      <th>28</th>\n",
       "      <td>8760</td>\n",
       "    </tr>\n",
       "    <tr>\n",
       "      <th>51</th>\n",
       "      <td>8156</td>\n",
       "    </tr>\n",
       "    <tr>\n",
       "      <th>73</th>\n",
       "      <td>7766</td>\n",
       "    </tr>\n",
       "    <tr>\n",
       "      <th>76</th>\n",
       "      <td>7426</td>\n",
       "    </tr>\n",
       "    <tr>\n",
       "      <th>80</th>\n",
       "      <td>8848</td>\n",
       "    </tr>\n",
       "    <tr>\n",
       "      <th>95</th>\n",
       "      <td>8528</td>\n",
       "    </tr>\n",
       "    <tr>\n",
       "      <th>106</th>\n",
       "      <td>9383</td>\n",
       "    </tr>\n",
       "    <tr>\n",
       "      <th>126</th>\n",
       "      <td>9126</td>\n",
       "    </tr>\n",
       "    <tr>\n",
       "      <th>136</th>\n",
       "      <td>7962</td>\n",
       "    </tr>\n",
       "    <tr>\n",
       "      <th>150</th>\n",
       "      <td>7104</td>\n",
       "    </tr>\n",
       "    <tr>\n",
       "      <th>155</th>\n",
       "      <td>7996</td>\n",
       "    </tr>\n",
       "    <tr>\n",
       "      <th>164</th>\n",
       "      <td>8752</td>\n",
       "    </tr>\n",
       "    <tr>\n",
       "      <th>233</th>\n",
       "      <td>7866</td>\n",
       "    </tr>\n",
       "    <tr>\n",
       "      <th>241</th>\n",
       "      <td>9650</td>\n",
       "    </tr>\n",
       "    <tr>\n",
       "      <th>247</th>\n",
       "      <td>8547</td>\n",
       "    </tr>\n",
       "    <tr>\n",
       "      <th>276</th>\n",
       "      <td>7002</td>\n",
       "    </tr>\n",
       "    <tr>\n",
       "      <th>289</th>\n",
       "      <td>7086</td>\n",
       "    </tr>\n",
       "  </tbody>\n",
       "</table>\n",
       "</div>"
      ],
      "text/plain": [
       "        s\n",
       "12   7793\n",
       "28   8760\n",
       "51   8156\n",
       "73   7766\n",
       "76   7426\n",
       "80   8848\n",
       "95   8528\n",
       "106  9383\n",
       "126  9126\n",
       "136  7962\n",
       "150  7104\n",
       "155  7996\n",
       "164  8752\n",
       "233  7866\n",
       "241  9650\n",
       "247  8547\n",
       "276  7002\n",
       "289  7086"
      ]
     },
     "execution_count": 677,
     "metadata": {},
     "output_type": "execute_result"
    }
   ],
   "source": [
    "lpaS[(lpaS.s>7000)&((lpaS.s<10000))]"
   ]
  },
  {
   "cell_type": "code",
   "execution_count": 885,
   "metadata": {
    "collapsed": true
   },
   "outputs": [
    {
     "name": "stdout",
     "output_type": "stream",
     "text": [
      "Clustering with 7793 elements and 1386 clusters\n"
     ]
    },
    {
     "data": {
      "text/plain": [
       "[52,\n",
       " 5,\n",
       " 6,\n",
       " 10,\n",
       " 13,\n",
       " 2,\n",
       " 16,\n",
       " 63,\n",
       " 6,\n",
       " 6,\n",
       " 4,\n",
       " 7,\n",
       " 14,\n",
       " 40,\n",
       " 2,\n",
       " 9,\n",
       " 56,\n",
       " 4,\n",
       " 5,\n",
       " 13,\n",
       " 9,\n",
       " 7,\n",
       " 4,\n",
       " 12,\n",
       " 5,\n",
       " 14,\n",
       " 9,\n",
       " 17,\n",
       " 9,\n",
       " 10,\n",
       " 58,\n",
       " 19,\n",
       " 3,\n",
       " 5,\n",
       " 16,\n",
       " 26,\n",
       " 10,\n",
       " 38,\n",
       " 18,\n",
       " 5,\n",
       " 7,\n",
       " 7,\n",
       " 10,\n",
       " 2,\n",
       " 5,\n",
       " 3,\n",
       " 4,\n",
       " 2,\n",
       " 5,\n",
       " 2,\n",
       " 2,\n",
       " 12,\n",
       " 3,\n",
       " 10,\n",
       " 2,\n",
       " 66,\n",
       " 20,\n",
       " 9,\n",
       " 6,\n",
       " 5,\n",
       " 24,\n",
       " 4,\n",
       " 3,\n",
       " 4,\n",
       " 10,\n",
       " 3,\n",
       " 39,\n",
       " 48,\n",
       " 4,\n",
       " 4,\n",
       " 3,\n",
       " 10,\n",
       " 3,\n",
       " 5,\n",
       " 11,\n",
       " 5,\n",
       " 34,\n",
       " 8,\n",
       " 5,\n",
       " 42,\n",
       " 4,\n",
       " 2,\n",
       " 2,\n",
       " 14,\n",
       " 7,\n",
       " 17,\n",
       " 2,\n",
       " 17,\n",
       " 27,\n",
       " 3,\n",
       " 13,\n",
       " 2,\n",
       " 16,\n",
       " 3,\n",
       " 2,\n",
       " 2,\n",
       " 10,\n",
       " 3,\n",
       " 6,\n",
       " 5,\n",
       " 7,\n",
       " 13,\n",
       " 5,\n",
       " 12,\n",
       " 8,\n",
       " 25,\n",
       " 5,\n",
       " 74,\n",
       " 7,\n",
       " 11,\n",
       " 13,\n",
       " 6,\n",
       " 7,\n",
       " 9,\n",
       " 3,\n",
       " 3,\n",
       " 18,\n",
       " 9,\n",
       " 6,\n",
       " 11,\n",
       " 2,\n",
       " 160,\n",
       " 10,\n",
       " 5,\n",
       " 17,\n",
       " 8,\n",
       " 7,\n",
       " 5,\n",
       " 5,\n",
       " 4,\n",
       " 18,\n",
       " 2,\n",
       " 5,\n",
       " 7,\n",
       " 21,\n",
       " 6,\n",
       " 22,\n",
       " 5,\n",
       " 8,\n",
       " 25,\n",
       " 47,\n",
       " 9,\n",
       " 13,\n",
       " 2,\n",
       " 28,\n",
       " 3,\n",
       " 6,\n",
       " 10,\n",
       " 18,\n",
       " 3,\n",
       " 11,\n",
       " 6,\n",
       " 2,\n",
       " 2,\n",
       " 3,\n",
       " 11,\n",
       " 11,\n",
       " 5,\n",
       " 5,\n",
       " 18,\n",
       " 19,\n",
       " 14,\n",
       " 5,\n",
       " 9,\n",
       " 7,\n",
       " 4,\n",
       " 2,\n",
       " 3,\n",
       " 4,\n",
       " 27,\n",
       " 12,\n",
       " 5,\n",
       " 3,\n",
       " 7,\n",
       " 7,\n",
       " 2,\n",
       " 8,\n",
       " 3,\n",
       " 4,\n",
       " 39,\n",
       " 3,\n",
       " 4,\n",
       " 2,\n",
       " 15,\n",
       " 2,\n",
       " 7,\n",
       " 2,\n",
       " 3,\n",
       " 3,\n",
       " 4,\n",
       " 6,\n",
       " 5,\n",
       " 19,\n",
       " 3,\n",
       " 13,\n",
       " 4,\n",
       " 9,\n",
       " 14,\n",
       " 7,\n",
       " 6,\n",
       " 6,\n",
       " 5,\n",
       " 6,\n",
       " 3,\n",
       " 4,\n",
       " 2,\n",
       " 13,\n",
       " 3,\n",
       " 6,\n",
       " 3,\n",
       " 2,\n",
       " 13,\n",
       " 3,\n",
       " 4,\n",
       " 11,\n",
       " 4,\n",
       " 4,\n",
       " 2,\n",
       " 6,\n",
       " 9,\n",
       " 4,\n",
       " 5,\n",
       " 5,\n",
       " 7,\n",
       " 6,\n",
       " 6,\n",
       " 5,\n",
       " 9,\n",
       " 5,\n",
       " 2,\n",
       " 7,\n",
       " 3,\n",
       " 3,\n",
       " 5,\n",
       " 6,\n",
       " 5,\n",
       " 6,\n",
       " 2,\n",
       " 10,\n",
       " 5,\n",
       " 5,\n",
       " 4,\n",
       " 2,\n",
       " 4,\n",
       " 4,\n",
       " 5,\n",
       " 2,\n",
       " 10,\n",
       " 3,\n",
       " 7,\n",
       " 4,\n",
       " 2,\n",
       " 4,\n",
       " 12,\n",
       " 31,\n",
       " 5,\n",
       " 7,\n",
       " 3,\n",
       " 6,\n",
       " 14,\n",
       " 32,\n",
       " 4,\n",
       " 3,\n",
       " 2,\n",
       " 8,\n",
       " 11,\n",
       " 10,\n",
       " 4,\n",
       " 6,\n",
       " 4,\n",
       " 2,\n",
       " 5,\n",
       " 4,\n",
       " 9,\n",
       " 2,\n",
       " 9,\n",
       " 5,\n",
       " 6,\n",
       " 2,\n",
       " 25,\n",
       " 3,\n",
       " 2,\n",
       " 3,\n",
       " 7,\n",
       " 7,\n",
       " 2,\n",
       " 16,\n",
       " 3,\n",
       " 7,\n",
       " 9,\n",
       " 18,\n",
       " 3,\n",
       " 12,\n",
       " 3,\n",
       " 6,\n",
       " 7,\n",
       " 3,\n",
       " 5,\n",
       " 13,\n",
       " 3,\n",
       " 3,\n",
       " 7,\n",
       " 8,\n",
       " 7,\n",
       " 3,\n",
       " 19,\n",
       " 21,\n",
       " 6,\n",
       " 7,\n",
       " 3,\n",
       " 15,\n",
       " 3,\n",
       " 5,\n",
       " 5,\n",
       " 3,\n",
       " 10,\n",
       " 11,\n",
       " 6,\n",
       " 11,\n",
       " 6,\n",
       " 3,\n",
       " 3,\n",
       " 13,\n",
       " 4,\n",
       " 4,\n",
       " 2,\n",
       " 12,\n",
       " 5,\n",
       " 2,\n",
       " 6,\n",
       " 5,\n",
       " 6,\n",
       " 8,\n",
       " 7,\n",
       " 8,\n",
       " 7,\n",
       " 8,\n",
       " 3,\n",
       " 4,\n",
       " 8,\n",
       " 11,\n",
       " 9,\n",
       " 14,\n",
       " 2,\n",
       " 13,\n",
       " 13,\n",
       " 8,\n",
       " 12,\n",
       " 7,\n",
       " 2,\n",
       " 6,\n",
       " 10,\n",
       " 6,\n",
       " 15,\n",
       " 16,\n",
       " 14,\n",
       " 3,\n",
       " 23,\n",
       " 9,\n",
       " 3,\n",
       " 12,\n",
       " 2,\n",
       " 3,\n",
       " 2,\n",
       " 9,\n",
       " 5,\n",
       " 2,\n",
       " 4,\n",
       " 2,\n",
       " 3,\n",
       " 6,\n",
       " 2,\n",
       " 9,\n",
       " 5,\n",
       " 2,\n",
       " 6,\n",
       " 5,\n",
       " 6,\n",
       " 4,\n",
       " 3,\n",
       " 5,\n",
       " 6,\n",
       " 3,\n",
       " 11,\n",
       " 16,\n",
       " 6,\n",
       " 2,\n",
       " 8,\n",
       " 4,\n",
       " 4,\n",
       " 4,\n",
       " 8,\n",
       " 6,\n",
       " 9,\n",
       " 2,\n",
       " 3,\n",
       " 9,\n",
       " 3,\n",
       " 8,\n",
       " 5,\n",
       " 3,\n",
       " 2,\n",
       " 2,\n",
       " 26,\n",
       " 11,\n",
       " 4,\n",
       " 13,\n",
       " 11,\n",
       " 23,\n",
       " 6,\n",
       " 4,\n",
       " 8,\n",
       " 26,\n",
       " 8,\n",
       " 3,\n",
       " 2,\n",
       " 7,\n",
       " 7,\n",
       " 4,\n",
       " 3,\n",
       " 8,\n",
       " 4,\n",
       " 27,\n",
       " 2,\n",
       " 11,\n",
       " 15,\n",
       " 9,\n",
       " 5,\n",
       " 5,\n",
       " 3,\n",
       " 15,\n",
       " 10,\n",
       " 5,\n",
       " 13,\n",
       " 3,\n",
       " 3,\n",
       " 5,\n",
       " 3,\n",
       " 16,\n",
       " 10,\n",
       " 7,\n",
       " 7,\n",
       " 3,\n",
       " 2,\n",
       " 9,\n",
       " 7,\n",
       " 3,\n",
       " 4,\n",
       " 3,\n",
       " 9,\n",
       " 7,\n",
       " 2,\n",
       " 2,\n",
       " 12,\n",
       " 5,\n",
       " 6,\n",
       " 6,\n",
       " 9,\n",
       " 4,\n",
       " 7,\n",
       " 5,\n",
       " 6,\n",
       " 2,\n",
       " 5,\n",
       " 13,\n",
       " 8,\n",
       " 4,\n",
       " 4,\n",
       " 14,\n",
       " 4,\n",
       " 6,\n",
       " 2,\n",
       " 7,\n",
       " 11,\n",
       " 4,\n",
       " 12,\n",
       " 10,\n",
       " 12,\n",
       " 2,\n",
       " 3,\n",
       " 5,\n",
       " 4,\n",
       " 15,\n",
       " 7,\n",
       " 3,\n",
       " 14,\n",
       " 3,\n",
       " 5,\n",
       " 5,\n",
       " 2,\n",
       " 6,\n",
       " 4,\n",
       " 5,\n",
       " 2,\n",
       " 4,\n",
       " 4,\n",
       " 3,\n",
       " 5,\n",
       " 9,\n",
       " 2,\n",
       " 5,\n",
       " 4,\n",
       " 3,\n",
       " 3,\n",
       " 14,\n",
       " 10,\n",
       " 5,\n",
       " 2,\n",
       " 3,\n",
       " 2,\n",
       " 16,\n",
       " 5,\n",
       " 3,\n",
       " 4,\n",
       " 3,\n",
       " 2,\n",
       " 8,\n",
       " 4,\n",
       " 3,\n",
       " 3,\n",
       " 4,\n",
       " 13,\n",
       " 2,\n",
       " 10,\n",
       " 6,\n",
       " 10,\n",
       " 7,\n",
       " 8,\n",
       " 2,\n",
       " 2,\n",
       " 3,\n",
       " 7,\n",
       " 5,\n",
       " 4,\n",
       " 8,\n",
       " 3,\n",
       " 7,\n",
       " 6,\n",
       " 3,\n",
       " 3,\n",
       " 2,\n",
       " 3,\n",
       " 3,\n",
       " 12,\n",
       " 5,\n",
       " 2,\n",
       " 6,\n",
       " 3,\n",
       " 2,\n",
       " 5,\n",
       " 2,\n",
       " 3,\n",
       " 9,\n",
       " 4,\n",
       " 6,\n",
       " 3,\n",
       " 4,\n",
       " 10,\n",
       " 11,\n",
       " 2,\n",
       " 4,\n",
       " 3,\n",
       " 11,\n",
       " 3,\n",
       " 4,\n",
       " 4,\n",
       " 3,\n",
       " 5,\n",
       " 4,\n",
       " 8,\n",
       " 14,\n",
       " 2,\n",
       " 6,\n",
       " 6,\n",
       " 12,\n",
       " 4,\n",
       " 3,\n",
       " 11,\n",
       " 3,\n",
       " 6,\n",
       " 5,\n",
       " 2,\n",
       " 4,\n",
       " 7,\n",
       " 6,\n",
       " 7,\n",
       " 6,\n",
       " 4,\n",
       " 9,\n",
       " 2,\n",
       " 2,\n",
       " 4,\n",
       " 7,\n",
       " 2,\n",
       " 3,\n",
       " 4,\n",
       " 4,\n",
       " 14,\n",
       " 6,\n",
       " 5,\n",
       " 3,\n",
       " 2,\n",
       " 5,\n",
       " 7,\n",
       " 6,\n",
       " 4,\n",
       " 4,\n",
       " 2,\n",
       " 3,\n",
       " 5,\n",
       " 7,\n",
       " 4,\n",
       " 9,\n",
       " 4,\n",
       " 12,\n",
       " 4,\n",
       " 4,\n",
       " 5,\n",
       " 2,\n",
       " 3,\n",
       " 2,\n",
       " 6,\n",
       " 4,\n",
       " 2,\n",
       " 4,\n",
       " 3,\n",
       " 2,\n",
       " 2,\n",
       " 3,\n",
       " 4,\n",
       " 7,\n",
       " 14,\n",
       " 8,\n",
       " 3,\n",
       " 3,\n",
       " 2,\n",
       " 2,\n",
       " 4,\n",
       " 3,\n",
       " 5,\n",
       " 5,\n",
       " 3,\n",
       " 5,\n",
       " 5,\n",
       " 2,\n",
       " 3,\n",
       " 2,\n",
       " 2,\n",
       " 5,\n",
       " 5,\n",
       " 4,\n",
       " 3,\n",
       " 7,\n",
       " 2,\n",
       " 6,\n",
       " 7,\n",
       " 7,\n",
       " 4,\n",
       " 2,\n",
       " 3,\n",
       " 10,\n",
       " 5,\n",
       " 12,\n",
       " 4,\n",
       " 9,\n",
       " 13,\n",
       " 3,\n",
       " 2,\n",
       " 3,\n",
       " 3,\n",
       " 5,\n",
       " 2,\n",
       " 7,\n",
       " 8,\n",
       " 3,\n",
       " 4,\n",
       " 2,\n",
       " 2,\n",
       " 2,\n",
       " 4,\n",
       " 9,\n",
       " 3,\n",
       " 6,\n",
       " 5,\n",
       " 5,\n",
       " 11,\n",
       " 10,\n",
       " 5,\n",
       " 8,\n",
       " 3,\n",
       " 3,\n",
       " 7,\n",
       " 3,\n",
       " 2,\n",
       " 3,\n",
       " 2,\n",
       " 3,\n",
       " 6,\n",
       " 6,\n",
       " 2,\n",
       " 4,\n",
       " 3,\n",
       " 5,\n",
       " 5,\n",
       " 3,\n",
       " 4,\n",
       " 4,\n",
       " 21,\n",
       " 12,\n",
       " 5,\n",
       " 4,\n",
       " 7,\n",
       " 6,\n",
       " 4,\n",
       " 3,\n",
       " 4,\n",
       " 3,\n",
       " 7,\n",
       " 13,\n",
       " 2,\n",
       " 5,\n",
       " 2,\n",
       " 5,\n",
       " 5,\n",
       " 3,\n",
       " 3,\n",
       " 3,\n",
       " 3,\n",
       " 9,\n",
       " 3,\n",
       " 5,\n",
       " 3,\n",
       " 4,\n",
       " 10,\n",
       " 4,\n",
       " 5,\n",
       " 4,\n",
       " 3,\n",
       " 2,\n",
       " 4,\n",
       " 6,\n",
       " 2,\n",
       " 6,\n",
       " 3,\n",
       " 3,\n",
       " 6,\n",
       " 9,\n",
       " 5,\n",
       " 2,\n",
       " 3,\n",
       " 6,\n",
       " 3,\n",
       " 6,\n",
       " 2,\n",
       " 3,\n",
       " 2,\n",
       " 3,\n",
       " 10,\n",
       " 9,\n",
       " 4,\n",
       " 3,\n",
       " 2,\n",
       " 5,\n",
       " 3,\n",
       " 5,\n",
       " 3,\n",
       " 8,\n",
       " 4,\n",
       " 3,\n",
       " 2,\n",
       " 3,\n",
       " 8,\n",
       " 4,\n",
       " 3,\n",
       " 3,\n",
       " 2,\n",
       " 2,\n",
       " 3,\n",
       " 2,\n",
       " 2,\n",
       " 3,\n",
       " 3,\n",
       " 5,\n",
       " 2,\n",
       " 2,\n",
       " 2,\n",
       " 2,\n",
       " 3,\n",
       " 2,\n",
       " 8,\n",
       " 8,\n",
       " 2,\n",
       " 2,\n",
       " 4,\n",
       " 5,\n",
       " 4,\n",
       " 5,\n",
       " 2,\n",
       " 3,\n",
       " 4,\n",
       " 6,\n",
       " 4,\n",
       " 2,\n",
       " 10,\n",
       " 6,\n",
       " 5,\n",
       " 5,\n",
       " 7,\n",
       " 4,\n",
       " 3,\n",
       " 2,\n",
       " 6,\n",
       " 2,\n",
       " 3,\n",
       " 3,\n",
       " 2,\n",
       " 3,\n",
       " 3,\n",
       " 4,\n",
       " 3,\n",
       " 6,\n",
       " 6,\n",
       " 5,\n",
       " 6,\n",
       " 4,\n",
       " 2,\n",
       " 3,\n",
       " 2,\n",
       " 3,\n",
       " 5,\n",
       " 4,\n",
       " 4,\n",
       " 2,\n",
       " 6,\n",
       " 3,\n",
       " 2,\n",
       " 5,\n",
       " 8,\n",
       " 4,\n",
       " 3,\n",
       " 3,\n",
       " 5,\n",
       " 4,\n",
       " 4,\n",
       " 3,\n",
       " 2,\n",
       " 3,\n",
       " 4,\n",
       " 2,\n",
       " 3,\n",
       " 2,\n",
       " 3,\n",
       " 2,\n",
       " 6,\n",
       " 9,\n",
       " 3,\n",
       " 3,\n",
       " 2,\n",
       " 5,\n",
       " 3,\n",
       " 2,\n",
       " 2,\n",
       " 5,\n",
       " 11,\n",
       " 4,\n",
       " 6,\n",
       " 3,\n",
       " 6,\n",
       " 7,\n",
       " 8,\n",
       " 6,\n",
       " 4,\n",
       " 3,\n",
       " 4,\n",
       " 2,\n",
       " 3,\n",
       " 4,\n",
       " 7,\n",
       " 3,\n",
       " 6,\n",
       " 10,\n",
       " 5,\n",
       " 2,\n",
       " 2,\n",
       " 4,\n",
       " 2,\n",
       " 6,\n",
       " 2,\n",
       " 2,\n",
       " 4,\n",
       " 2,\n",
       " 2,\n",
       " 3,\n",
       " 3,\n",
       " 2,\n",
       " 3,\n",
       " 3,\n",
       " 3,\n",
       " 6,\n",
       " 6,\n",
       " 5,\n",
       " 3,\n",
       " 2,\n",
       " 3,\n",
       " 5,\n",
       " 9,\n",
       " 4,\n",
       " 2,\n",
       " 2,\n",
       " 5,\n",
       " 4,\n",
       " 4,\n",
       " 4,\n",
       " 6,\n",
       " 8,\n",
       " 3,\n",
       " 5,\n",
       " 3,\n",
       " 4,\n",
       " 2,\n",
       " 5,\n",
       " 3,\n",
       " 4,\n",
       " 6,\n",
       " 2,\n",
       " 3,\n",
       " 4,\n",
       " 2,\n",
       " 2,\n",
       " 5,\n",
       " 3,\n",
       " 4,\n",
       " 2,\n",
       " 2,\n",
       " 5,\n",
       " 4,\n",
       " 4,\n",
       " 4,\n",
       " 2,\n",
       " 7,\n",
       " 3,\n",
       " 3,\n",
       " 3,\n",
       " 3,\n",
       " 3,\n",
       " 4,\n",
       " 8,\n",
       " 4,\n",
       " 2,\n",
       " 5,\n",
       " 5,\n",
       " 12,\n",
       " 3,\n",
       " 10,\n",
       " 3,\n",
       " 5,\n",
       " 2,\n",
       " 2,\n",
       " 5,\n",
       " 4,\n",
       " 8,\n",
       " 4,\n",
       " 3,\n",
       " 4,\n",
       " 3,\n",
       " 6,\n",
       " 2,\n",
       " 2,\n",
       " 2,\n",
       " 2,\n",
       " 8,\n",
       " 2,\n",
       " 2,\n",
       " 2,\n",
       " 2,\n",
       " 6,\n",
       " 3,\n",
       " 2,\n",
       " 3,\n",
       " 5,\n",
       " 2,\n",
       " 4,\n",
       " 6,\n",
       " 3,\n",
       " 8,\n",
       " 4,\n",
       " 3,\n",
       " 4,\n",
       " 3,\n",
       " 8,\n",
       " 2,\n",
       " 3,\n",
       " 3,\n",
       " 4,\n",
       " 6,\n",
       " 3,\n",
       " 2,\n",
       " 2,\n",
       " 4,\n",
       " 3,\n",
       " ...]"
      ]
     },
     "execution_count": 885,
     "metadata": {},
     "output_type": "execute_result"
    }
   ],
   "source": [
    "cc=rel_comm_lpa.subgraph(12)\n",
    "# cclpa=cc.community_label_propagation()\n",
    "cclpaW=cc.community_label_propagation(weights='weight')\n",
    "print cclpaW.summary()\n",
    "cclpaW.sizes()"
   ]
  },
  {
   "cell_type": "code",
   "execution_count": 876,
   "metadata": {
    "collapsed": false
   },
   "outputs": [
    {
     "data": {
      "text/plain": [
       "[1218,\n",
       " 1635,\n",
       " 4778,\n",
       " 9,\n",
       " 11,\n",
       " 3,\n",
       " 9,\n",
       " 5,\n",
       " 5,\n",
       " 4,\n",
       " 6,\n",
       " 3,\n",
       " 4,\n",
       " 3,\n",
       " 5,\n",
       " 4,\n",
       " 5,\n",
       " 5,\n",
       " 4,\n",
       " 3,\n",
       " 4,\n",
       " 5,\n",
       " 5,\n",
       " 7,\n",
       " 5,\n",
       " 6,\n",
       " 5,\n",
       " 9,\n",
       " 3,\n",
       " 6,\n",
       " 3,\n",
       " 3,\n",
       " 5,\n",
       " 4,\n",
       " 2,\n",
       " 2]"
      ]
     },
     "execution_count": 876,
     "metadata": {},
     "output_type": "execute_result"
    }
   ],
   "source": [
    "cc=rel_comm_lpa.subgraph(12)\n",
    "cclpa=cc.community_label_propagation()\n",
    "cclpa.summary()\n"
   ]
  },
  {
   "cell_type": "code",
   "execution_count": 893,
   "metadata": {
    "collapsed": false
   },
   "outputs": [
    {
     "data": {
      "text/html": [
       "<div>\n",
       "<table border=\"1\" class=\"dataframe\">\n",
       "  <thead>\n",
       "    <tr style=\"text-align: right;\">\n",
       "      <th></th>\n",
       "      <th>0</th>\n",
       "    </tr>\n",
       "  </thead>\n",
       "  <tbody>\n",
       "    <tr>\n",
       "      <th>0</th>\n",
       "      <td>52</td>\n",
       "    </tr>\n",
       "    <tr>\n",
       "      <th>7</th>\n",
       "      <td>63</td>\n",
       "    </tr>\n",
       "    <tr>\n",
       "      <th>16</th>\n",
       "      <td>56</td>\n",
       "    </tr>\n",
       "    <tr>\n",
       "      <th>30</th>\n",
       "      <td>58</td>\n",
       "    </tr>\n",
       "    <tr>\n",
       "      <th>55</th>\n",
       "      <td>66</td>\n",
       "    </tr>\n",
       "    <tr>\n",
       "      <th>107</th>\n",
       "      <td>74</td>\n",
       "    </tr>\n",
       "    <tr>\n",
       "      <th>121</th>\n",
       "      <td>160</td>\n",
       "    </tr>\n",
       "  </tbody>\n",
       "</table>\n",
       "</div>"
      ],
      "text/plain": [
       "       0\n",
       "0     52\n",
       "7     63\n",
       "16    56\n",
       "30    58\n",
       "55    66\n",
       "107   74\n",
       "121  160"
      ]
     },
     "execution_count": 893,
     "metadata": {},
     "output_type": "execute_result"
    }
   ],
   "source": [
    "f=pd.DataFrame(cclpaW.sizes())\n",
    "f[f[0]>50]"
   ]
  },
  {
   "cell_type": "code",
   "execution_count": 594,
   "metadata": {
    "collapsed": false
   },
   "outputs": [
    {
     "data": {
      "text/plain": [
       "'Clustering with 67124 elements and 1119 clusters'"
      ]
     },
     "execution_count": 594,
     "metadata": {},
     "output_type": "execute_result"
    }
   ],
   "source": [
    "cclpaW.summary()"
   ]
  },
  {
   "cell_type": "code",
   "execution_count": 877,
   "metadata": {
    "collapsed": false
   },
   "outputs": [],
   "source": [
    "cc.vs['clu']=ccl.membership\n",
    "cc.write_graphml('comm_result/lpa_to_wlpa.graphml')"
   ]
  },
  {
   "cell_type": "code",
   "execution_count": 886,
   "metadata": {
    "collapsed": true
   },
   "outputs": [],
   "source": [
    "cc.vs['clu']=cclpaW.membership\n",
    "cc.write_graphml('comm_result/Wlpa_result.graphml')"
   ]
  },
  {
   "cell_type": "code",
   "execution_count": 796,
   "metadata": {
    "collapsed": false
   },
   "outputs": [],
   "source": [
    "rel_comm_lpa.subgraph(619).save('comm_result/lpa50.net')"
   ]
  },
  {
   "cell_type": "code",
   "execution_count": 797,
   "metadata": {
    "collapsed": false
   },
   "outputs": [],
   "source": [
    "relW_comm.subgraph(40189).save('comm_result/Wlpa50.net')"
   ]
  },
  {
   "cell_type": "markdown",
   "metadata": {},
   "source": [
    " - LPA区别"
   ]
  },
  {
   "cell_type": "code",
   "execution_count": 920,
   "metadata": {
    "collapsed": true
   },
   "outputs": [
    {
     "data": {
      "text/plain": [
       "0     375\n",
       "1     162\n",
       "4      26\n",
       "9      14\n",
       "5      11\n",
       "2       9\n",
       "7       5\n",
       "3       4\n",
       "6       4\n",
       "8       4\n",
       "10      4\n",
       "12      3\n",
       "13      3\n",
       "15      3\n",
       "19      3\n",
       "20      2\n",
       "11      2\n",
       "14      2\n",
       "16      2\n",
       "17      2\n",
       "18      2\n",
       "21      2\n",
       "Name: 0, dtype: int64"
      ]
     },
     "execution_count": 920,
     "metadata": {},
     "output_type": "execute_result"
    }
   ],
   "source": [
    "lpaComm=rel_comm_lpa.subgraph(263)  ###644\n",
    "wlpa_r=lpaComm.community_label_propagation(weights='weight')\n",
    "ss=pd.DataFrame(wlpa_r.membership)\n",
    "ss[0].value_counts()\n"
   ]
  },
  {
   "cell_type": "code",
   "execution_count": 808,
   "metadata": {
    "collapsed": false
   },
   "outputs": [
    {
     "data": {
      "text/plain": [
       "'Clustering with 2382 elements and 31 clusters'"
      ]
     },
     "execution_count": 808,
     "metadata": {},
     "output_type": "execute_result"
    }
   ],
   "source": [
    "wlpa_r.summary()"
   ]
  },
  {
   "cell_type": "markdown",
   "metadata": {},
   "source": [
    "- 给聚类节点条件标签"
   ]
  },
  {
   "cell_type": "code",
   "execution_count": 921,
   "metadata": {
    "collapsed": false
   },
   "outputs": [],
   "source": [
    "wlpaG=wlpa_r.graph\n",
    "wlpaG.vs['clu']=wlpa_r.membership   "
   ]
  },
  {
   "cell_type": "code",
   "execution_count": 922,
   "metadata": {
    "collapsed": true
   },
   "outputs": [],
   "source": [
    "wlpaG.write_graphml('comm_result/lpa_to_wlpa.graphml')"
   ]
  },
  {
   "cell_type": "markdown",
   "metadata": {},
   "source": [
    "###  整体效果"
   ]
  },
  {
   "cell_type": "code",
   "execution_count": 1043,
   "metadata": {
    "collapsed": false
   },
   "outputs": [],
   "source": [
    "rel_commG=rel_comm_lpa.cluster_graph()\n",
    "relW_commG=relW_comm.cluster_graph()"
   ]
  },
  {
   "cell_type": "code",
   "execution_count": 1045,
   "metadata": {
    "collapsed": false
   },
   "outputs": [
    {
     "data": {
      "text/plain": [
       "'IGRAPH U--- 13749 100066 -- '"
      ]
     },
     "execution_count": 1045,
     "metadata": {},
     "output_type": "execute_result"
    }
   ],
   "source": [
    "rel_commG.summary()"
   ]
  },
  {
   "cell_type": "code",
   "execution_count": 1046,
   "metadata": {
    "collapsed": false
   },
   "outputs": [
    {
     "data": {
      "text/plain": [
       "'IGRAPH U--- 111698 1019926 -- '"
      ]
     },
     "execution_count": 1046,
     "metadata": {},
     "output_type": "execute_result"
    }
   ],
   "source": [
    "relW_commG.summary()"
   ]
  },
  {
   "cell_type": "code",
   "execution_count": 1059,
   "metadata": {
    "collapsed": false
   },
   "outputs": [
    {
     "data": {
      "text/plain": [
       "0.0010587804169237013"
      ]
     },
     "execution_count": 1059,
     "metadata": {},
     "output_type": "execute_result"
    }
   ],
   "source": [
    "rel_commG.density()"
   ]
  },
  {
   "cell_type": "code",
   "execution_count": 1060,
   "metadata": {
    "collapsed": false
   },
   "outputs": [
    {
     "data": {
      "text/plain": [
       "0.00016349773962153966"
      ]
     },
     "execution_count": 1060,
     "metadata": {},
     "output_type": "execute_result"
    }
   ],
   "source": [
    "relW_commG.density()"
   ]
  },
  {
   "cell_type": "code",
   "execution_count": 1057,
   "metadata": {
    "collapsed": false
   },
   "outputs": [
    {
     "data": {
      "text/plain": [
       "0.13232951078280336"
      ]
     },
     "execution_count": 1057,
     "metadata": {},
     "output_type": "execute_result"
    }
   ],
   "source": [
    "rel_commG.transitivity_undirected()"
   ]
  },
  {
   "cell_type": "code",
   "execution_count": 1058,
   "metadata": {
    "collapsed": false
   },
   "outputs": [
    {
     "data": {
      "text/plain": [
       "0.012890534988558664"
      ]
     },
     "execution_count": 1058,
     "metadata": {},
     "output_type": "execute_result"
    }
   ],
   "source": [
    "relW_commG.transitivity_undirected()"
   ]
  },
  {
   "cell_type": "code",
   "execution_count": 1055,
   "metadata": {
    "collapsed": false
   },
   "outputs": [],
   "source": [
    "rel_commG.vs['clu_size']=rel_comm_lpa.sizes()"
   ]
  },
  {
   "cell_type": "code",
   "execution_count": 1056,
   "metadata": {
    "collapsed": true
   },
   "outputs": [],
   "source": [
    "rel_commG.write_graphml('comm_result/rel_commG.graphml')"
   ]
  }
 ],
 "metadata": {
  "anaconda-cloud": {},
  "kernelspec": {
   "display_name": "Python [conda root]",
   "language": "python",
   "name": "conda-root-py"
  },
  "language_info": {
   "codemirror_mode": {
    "name": "ipython",
    "version": 2
   },
   "file_extension": ".py",
   "mimetype": "text/x-python",
   "name": "python",
   "nbconvert_exporter": "python",
   "pygments_lexer": "ipython2",
   "version": "2.7.12"
  }
 },
 "nbformat": 4,
 "nbformat_minor": 1
}
