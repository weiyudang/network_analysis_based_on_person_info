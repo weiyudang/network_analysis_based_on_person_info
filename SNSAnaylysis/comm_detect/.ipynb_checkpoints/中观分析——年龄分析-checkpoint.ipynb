{
 "cells": [
  {
   "cell_type": "code",
   "execution_count": 1,
   "metadata": {
    "collapsed": true
   },
   "outputs": [],
   "source": [
    "%matplotlib  inline\n",
    "import pandas as pd\n",
    "import numpy as np\n",
    "from snap import *\n",
    "\n",
    "\n",
    "def  getGraph(nodes,edges):\n",
    "    G = TUNGraph.New()\n",
    "    ## 添加节点\n",
    "    for node in nodes:\n",
    "        G.AddNode(node) \n",
    "    ## 添加边\n",
    "    for A,B in edges:\n",
    "        G.AddEdge(A,B)\n",
    "    return G\n",
    "\n",
    "\n",
    "### 入度出度计算\n",
    "def getInOutDegrees(UGraph=None):\n",
    "    nodes_stats=[]\n",
    "    for NI in UGraph.Nodes():\n",
    "        temp=[NI.GetId(), NI.GetOutDeg(), NI.GetInDeg()]\n",
    "        nodes_stats.append(temp)\n",
    "    call_net_nodes=pd.DataFrame(data=nodes_stats,columns=['id','OutDeg','InDeg']).set_index('id')\n",
    "    return call_net_nodes\n",
    "\n",
    "\n",
    "##Uses the Clauset-Newman-Moore community detection method for large networks. \n",
    "# At every step of the algorithm two communities that contribute maximum positive value \n",
    "# to global modularity are merged. Fills CmtyV with all the communities detected and \n",
    "# returns the modularity of the network.\n",
    "def getCNMCommDetect(UGraph=None):\n",
    "    CmtyV = TCnComV()\n",
    "    modularity = CommunityCNM(UGraph, CmtyV)\n",
    "    comm=pd.DataFrame([list(line) for line in list(CmtyV)])\n",
    "    return comm,modularity\n",
    "\n",
    "## Uses the Girvan-Newman community detection algorithm based on betweenness centrality on Graph.\n",
    "def getGNCommDetect(UGraph=None):\n",
    "    CmtyV = TCnComV()\n",
    "    modularity = snap.CommunityGirvanNewman(UGraph, CmtyV)\n",
    "    comm=pd.DataFrame([list(line) for line in list(CmtyV)])\n",
    "    return comm,modularity\n",
    "\n",
    "## 得到由图中节点组成的子图\n",
    "def getSubGraph(Graph,nodes):\n",
    "    NIdV = snap.TIntV()\n",
    "    for i in nodes:\n",
    "        NIdV.Add(i)\n",
    "    SubGraph = snap.GetSubGraph(Graph, NIdV)\n",
    "    return SubGraph\n",
    "\n",
    "def GetStats():\n",
    "    diam = GetBfsFullDiam(Graph, 100, False)  ## 网络直径\n",
    "    GraphClustCoeff= GetClustCf (Graph, -1)     ## 聚集系数\n",
    "    NumTriads=GetTriads(Graph, 50)   ## 三元闭包的个数\n",
    "\n",
    "# GetEdgesInOut(Graph, Nodes)  ## 社区内部边，社区外部的边，Graph可以是有向图或者无向图。Nodes是图中的节点Id\n",
    "# snap.GetModularity(Graph, Nodes, 1000)  ## 又Nodes组成的社区的模块度，Gedges是可选参数，如果Gedes和实际不一样则得到的错误的模块度\n",
    "# # convert undirected graph to directed\n",
    "# GOut = snap.ConvertGraph(snap.PNGraph, GIn)  ## 实现无向图向有向图的转换，图类别的转换\n",
    "\n",
    "def apply_packed_function_for_map((dumped_function, item, args, kwargs),):\n",
    "    \"\"\"\n",
    "    Unpack dumped function as target function and call it with arguments.\n",
    "\n",
    "    :param (dumped_function, item, args, kwargs):\n",
    "        a tuple of dumped function and its arguments\n",
    "    :return:\n",
    "        result of target function\n",
    "    \"\"\"\n",
    "    target_function = dill.loads(dumped_function)\n",
    "    res = target_function(item, *args, **kwargs)\n",
    "    return res\n",
    "\n",
    "\n",
    "def pack_function_for_map(target_function, items, *args, **kwargs):\n",
    "    \"\"\"\n",
    "    Pack function and arguments to object that can be sent from one\n",
    "    multiprocessing.Process to another. The main problem is:\n",
    "        «multiprocessing.Pool.map*» or «apply*»\n",
    "        cannot use class methods or closures.\n",
    "    It solves this problem with «dill».\n",
    "    It works with target function as argument, dumps it («with dill»)\n",
    "    and returns dumped function with arguments of target function.\n",
    "    For more performance we dump only target function itself\n",
    "    and don't dump its arguments.\n",
    "    How to use (pseudo-code):\n",
    "\n",
    "        ~>>> import multiprocessing\n",
    "        ~>>> images = [...]\n",
    "        ~>>> pool = multiprocessing.Pool(100500)\n",
    "        ~>>> features = pool.map(\n",
    "        ~...     *pack_function_for_map(\n",
    "        ~...         super(Extractor, self).extract_features,\n",
    "        ~...         images,\n",
    "        ~...         type='png'\n",
    "        ~...         **options,\n",
    "        ~...     )\n",
    "        ~... )\n",
    "        ~>>>\n",
    "\n",
    "    :param target_function:\n",
    "        function, that you want to execute like  target_function(item, *args, **kwargs).\n",
    "    :param items:\n",
    "        list of items for map\n",
    "    :param args:\n",
    "        positional arguments for target_function(item, *args, **kwargs)\n",
    "    :param kwargs:\n",
    "        named arguments for target_function(item, *args, **kwargs)\n",
    "    :return: tuple(function_wrapper, dumped_items)\n",
    "        It returs a tuple with\n",
    "            * function wrapper, that unpack and call target function;\n",
    "            * list of packed target function and its' arguments.\n",
    "    \"\"\"\n",
    "    dumped_function = dill.dumps(target_function)\n",
    "    dumped_items = [(dumped_function, item, args, kwargs) for item in items]\n",
    "    return apply_packed_function_for_map, dumped_items\n",
    "\n",
    "def getNodeEdge(filename):\n",
    "    df=pd.read_csv(filename,index_col=0)\n",
    "    df.drop_duplicates(['cust_a','cust_b'],inplace=True)\n",
    "    cond=(df.cust_a!=df.cust_b)\n",
    "    df=df[cond]\n",
    "    nodes=np.union1d(df.cust_a.unique(),df.cust_b.unique())\n",
    "    edges=df.values\n",
    "    return nodes,edges\n",
    "\n",
    "def getGraph(filename,U=True):\n",
    "    nodes,edges=getNodeEdge(filename)\n",
    "    if U:\n",
    "        G=TUNGraph.New()\n",
    "    else:\n",
    "        G=TNGraph.New()\n",
    "    for node in nodes:\n",
    "        G.AddNode(node) \n",
    "    ## 添加边\n",
    "    for A,B in edges:\n",
    "        G.AddEdge(A,B)\n",
    "    return G"
   ]
  },
  {
   "cell_type": "code",
   "execution_count": 3,
   "metadata": {
    "collapsed": false
   },
   "outputs": [],
   "source": [
    "# app_conatcts=getGraph('chapter1data/app_contacts.csv')\n",
    "# sms=getGraph('chapter1data/sms_net.csv')\n",
    "call_record=getGraph('chapter1data/call_record_net.csv')\n",
    "# %time getNodeStats(call_record).to_csv('chapter1data/call_record_nodes_stats.csv')\n"
   ]
  },
  {
   "cell_type": "code",
   "execution_count": 2,
   "metadata": {
    "collapsed": true
   },
   "outputs": [],
   "source": [
    "def getNodeStats(UGraph):\n",
    "    stats_df=getInOutDegrees(UGraph)\n",
    "    Nodes = TIntFltH()\n",
    "    Edges = TIntPrFltH()\n",
    "    GetBetweennessCentr(UGraph, Nodes, Edges, 1.0)\n",
    "    stats_df['BetweennessCentr']=[Nodes[node] for node in Nodes]\n",
    "    stats_df['DegreeCentr']=[GetDegreeCentr(UGraph, NI.GetId()) for NI in UGraph.Nodes()]\n",
    "    stats_df['ClosenessCentr']=[GetClosenessCentr(UGraph, NI.GetId()) for NI in UGraph.Nodes()]\n",
    "    stats_df['FarnessCentr']=[GetFarnessCentr(UGraph, NI.GetId()) for NI in UGraph.Nodes()]\n",
    "    stats_df['NodeEcc']=[GetNodeEcc(UGraph, NI.GetId()) for NI in UGraph.Nodes()]\n",
    "    stats_df['NodeClustCf']=[GetNodeClustCf(UGraph, NI.GetId()) for NI in UGraph.Nodes()]\n",
    "    stats_df['NodeTriads']=[GetNodeTriads(UGraph, NI.GetId()) for NI in UGraph.Nodes()]\n",
    "    return stats_df\n",
    "    "
   ]
  },
  {
   "cell_type": "code",
   "execution_count": 57,
   "metadata": {
    "collapsed": true
   },
   "outputs": [],
   "source": [
    "CDRs=pd.read_csv('chapter1data/call_record_net.csv',index_col=0)"
   ]
  },
  {
   "cell_type": "code",
   "execution_count": 68,
   "metadata": {
    "collapsed": false
   },
   "outputs": [
    {
     "name": "stdout",
     "output_type": "stream",
     "text": [
      "CPU times: user 3min 34s, sys: 42min 11s, total: 45min 45s\n",
      "Wall time: 1h 41min 35s\n"
     ]
    }
   ],
   "source": [
    "%%time\n",
    "import dill\n",
    "import multiprocessing\n",
    "CDRs_un=np.union1d(CDRs.cust_a.unique(),CDRs.cust_b.unique())\n",
    "nodes=CDRs_un[np.random.randint(0,CDRs_un.shape[0],20000)]\n",
    "# nodes=CDRs.cust_a.values[:10000]\n",
    "pool = multiprocessing.Pool(400)\n",
    "features = pool.map(\n",
    "     *pack_function_for_map(\n",
    "        lambda  NI:[GetNodeEcc(call_record,NI ),GetNodeClustCf(call_record,NI ),GetNodeTriads(call_record,NI ),GetFarnessCentr(call_record,NI )],\n",
    "         nodes,\n",
    "       \n",
    "    )\n",
    ")\n",
    "## 最大最短路径\n",
    "## 节点的聚类系数\n",
    "## 节点三元闭包数量\n",
    "## 节点的平均路劲长度\n",
    "pd.DataFrame(features,columns=['NodeEcc','ClustCf','NodeTriads','FarnessCentr']).to_csv('chapter1data/CDRs_NodeEcc.csv')"
   ]
  },
  {
   "cell_type": "code",
   "execution_count": null,
   "metadata": {
    "collapsed": false
   },
   "outputs": [
    {
     "name": "stdout",
     "output_type": "stream",
     "text": [
      "number of Nodes: 1012668\n"
     ]
    }
   ],
   "source": [
    "%%time\n",
    "import dill\n",
    "import multiprocessing\n",
    "filename='chapter1data/sms_MxWcc.out'\n",
    "sample_num=10*10000\n",
    "\n",
    "save_fileanme='chapter1data/sms_MxWcc.csv'\n",
    "call_record=LoadPajek_PUNGraph(filename)\n",
    "CDRs=[NI.GetId() for NI in call_records.Nodes()]\n",
    "print 'number of Nodes:',len(CDRs)\n",
    "nodes=np.array(CDRs)[np.random.randint(1,len(CDRs),sample_num)]\n",
    "pool = multiprocessing.Pool(500)\n",
    "features = pool.map(\n",
    "     *pack_function_for_map(\n",
    "        lambda  NI:[call_record.GetNI(NI).GetDeg(),GetNodeEcc(call_record,NI ),GetNodeClustCf(call_record,NI ),GetNodeTriads(call_record,NI )],\n",
    "         nodes,\n",
    "       \n",
    "    )\n",
    ")\n",
    "## 最大最短路径\n",
    "## 节点的聚类系数\n",
    "## 节点三元闭包数量\n",
    "## 节点的平均路劲长度\n",
    "pd.DataFrame(features,columns=['Deg','NodeEcc','ClustCf','NodeTriads','FarnessCentr']).to_csv(save_fileanme)"
   ]
  },
  {
   "cell_type": "code",
   "execution_count": 98,
   "metadata": {
    "collapsed": false
   },
   "outputs": [
    {
     "data": {
      "text/plain": [
       "50000"
      ]
     },
     "execution_count": 98,
     "metadata": {},
     "output_type": "execute_result"
    }
   ],
   "source": [
    "5*10000"
   ]
  },
  {
   "cell_type": "code",
   "execution_count": 97,
   "metadata": {
    "collapsed": false
   },
   "outputs": [
    {
     "data": {
      "text/plain": [
       "3870431"
      ]
     },
     "execution_count": 97,
     "metadata": {},
     "output_type": "execute_result"
    }
   ],
   "source": [
    "len(CDRs)"
   ]
  },
  {
   "cell_type": "code",
   "execution_count": 58,
   "metadata": {
    "collapsed": true
   },
   "outputs": [],
   "source": [
    "CDRs_un=np.union1d(CDRs.cust_a.unique(),CDRs.cust_b.unique())\n",
    "nodes=np.random.randint(0,CDRs_un.shape[0],100)"
   ]
  },
  {
   "cell_type": "code",
   "execution_count": 71,
   "metadata": {
    "collapsed": false
   },
   "outputs": [],
   "source": [
    "cc=pd.DataFrame(features,columns=['NodeEcc','ClustCf','NodeTriads'])"
   ]
  },
  {
   "cell_type": "code",
   "execution_count": 86,
   "metadata": {
    "collapsed": false
   },
   "outputs": [
    {
     "data": {
      "text/html": [
       "<div>\n",
       "<table border=\"1\" class=\"dataframe\">\n",
       "  <thead>\n",
       "    <tr style=\"text-align: right;\">\n",
       "      <th></th>\n",
       "      <th>NodeEcc</th>\n",
       "      <th>ClustCf</th>\n",
       "      <th>NodeTriads</th>\n",
       "    </tr>\n",
       "  </thead>\n",
       "  <tbody>\n",
       "    <tr>\n",
       "      <th>count</th>\n",
       "      <td>20000.000000</td>\n",
       "      <td>20000.000000</td>\n",
       "      <td>20000.000000</td>\n",
       "    </tr>\n",
       "    <tr>\n",
       "      <th>mean</th>\n",
       "      <td>14.537950</td>\n",
       "      <td>0.069282</td>\n",
       "      <td>1.805450</td>\n",
       "    </tr>\n",
       "    <tr>\n",
       "      <th>std</th>\n",
       "      <td>2.125767</td>\n",
       "      <td>0.194200</td>\n",
       "      <td>12.767512</td>\n",
       "    </tr>\n",
       "    <tr>\n",
       "      <th>min</th>\n",
       "      <td>1.000000</td>\n",
       "      <td>0.000000</td>\n",
       "      <td>0.000000</td>\n",
       "    </tr>\n",
       "    <tr>\n",
       "      <th>25%</th>\n",
       "      <td>14.000000</td>\n",
       "      <td>0.000000</td>\n",
       "      <td>0.000000</td>\n",
       "    </tr>\n",
       "    <tr>\n",
       "      <th>50%</th>\n",
       "      <td>15.000000</td>\n",
       "      <td>0.000000</td>\n",
       "      <td>0.000000</td>\n",
       "    </tr>\n",
       "    <tr>\n",
       "      <th>75%</th>\n",
       "      <td>15.000000</td>\n",
       "      <td>0.018182</td>\n",
       "      <td>1.000000</td>\n",
       "    </tr>\n",
       "    <tr>\n",
       "      <th>max</th>\n",
       "      <td>20.000000</td>\n",
       "      <td>1.000000</td>\n",
       "      <td>1062.000000</td>\n",
       "    </tr>\n",
       "  </tbody>\n",
       "</table>\n",
       "</div>"
      ],
      "text/plain": [
       "            NodeEcc       ClustCf    NodeTriads\n",
       "count  20000.000000  20000.000000  20000.000000\n",
       "mean      14.537950      0.069282      1.805450\n",
       "std        2.125767      0.194200     12.767512\n",
       "min        1.000000      0.000000      0.000000\n",
       "25%       14.000000      0.000000      0.000000\n",
       "50%       15.000000      0.000000      0.000000\n",
       "75%       15.000000      0.018182      1.000000\n",
       "max       20.000000      1.000000   1062.000000"
      ]
     },
     "execution_count": 86,
     "metadata": {},
     "output_type": "execute_result"
    }
   ],
   "source": [
    "cc.describe()"
   ]
  },
  {
   "cell_type": "code",
   "execution_count": null,
   "metadata": {
    "collapsed": false
   },
   "outputs": [],
   "source": [
    "import snap\n",
    "\n",
    "UGraph = sms\n",
    "# for NI in UGraph.Nodes():\n",
    "#     DegCentr = GetDegreeCentr(UGraph, NI.GetId())   ## 度的中心性\n",
    "    \n",
    "#     print \"node: %d centrality: %f\" % (NI.GetId(), DegCentr)\n",
    "sms_df['ClosenessCentr']=[GetClosenessCentr(UGraph, NI.GetId()) for NI in UGraph.Nodes()]\n",
    "sms_df['FarnessCentr']=[GetFarnessCentr(UGraph, NI.GetId()) for NI in UGraph.Nodes()]\n",
    "sms_df['NodeEcc']=[GetNodeEcc(UGraph, NI.GetId()) for NI in UGraph.Nodes()]\n",
    "sms_df['NodeClustCf']=[GetNodeClustCf(UGraph, NI.GetId()) for NI in UGraph.Nodes()]\n",
    "sms_df['NodeTriads']=[GetNodeTriads(UGraph, NI.GetId()) for NI in UGraph.Nodes()]"
   ]
  },
  {
   "cell_type": "code",
   "execution_count": null,
   "metadata": {
    "collapsed": false
   },
   "outputs": [],
   "source": [
    "import snap\n",
    "\n",
    "# Graph = snap.GenRndGnm(snap.PNGraph, 100, 1000)\n",
    "Nodes = snap.TIntFltH()\n",
    "Edges = snap.TIntPrFltH()\n",
    "snap.GetBetweennessCentr(UGraph, Nodes, Edges, 1.0)\n",
    "# for node in Nodes:\n",
    "#     print \"node: %d centrality: %f\" % (node, Nodes[node])\n",
    "    \n",
    "[(Nodes[node],node) for node in Nodes]"
   ]
  },
  {
   "cell_type": "code",
   "execution_count": null,
   "metadata": {
    "collapsed": true
   },
   "outputs": [],
   "source": [
    "nodes_stats=[]\n",
    "DelDegKNodes(G2, 1, 0)\n",
    "DelDegKNodes(G2, 0, 1)\n",
    "\n",
    "for NI in G2.Nodes():\n",
    "    temp=[NI.GetId(), NI.GetOutDeg(), NI.GetInDeg()]\n",
    "    nodes_stats.append(temp)\n",
    "call_net_nodes=pd.DataFrame(data=nodes_stats,columns=['id','OutDeg','InDeg']).set_index('id')"
   ]
  },
  {
   "cell_type": "code",
   "execution_count": 14,
   "metadata": {
    "collapsed": true
   },
   "outputs": [],
   "source": [
    "import snap\n",
    "\n",
    "Graph = snap.GenRndGnm(snap.PNGraph, 100, 1000)\n",
    "snap.SavePajek(Graph, \"Pajek_Graph1.out\")"
   ]
  },
  {
   "cell_type": "code",
   "execution_count": 64,
   "metadata": {
    "collapsed": false
   },
   "outputs": [],
   "source": [
    "from igraph   import Graph \n",
    "g=Graph()\n",
    "g=g.Read_Pajek(\"Pajek_Graph1.out\")"
   ]
  },
  {
   "cell_type": "code",
   "execution_count": null,
   "metadata": {
    "collapsed": false
   },
   "outputs": [],
   "source": [
    "comm=g.community_label_propagation()\n"
   ]
  },
  {
   "cell_type": "code",
   "execution_count": 65,
   "metadata": {
    "collapsed": false
   },
   "outputs": [
    {
     "data": {
      "text/plain": [
       "'IGRAPH U-W- 732038 1679813 -- \\n+ attr: color (v), fontsize (v), id (v), color (e), weight (e)'"
      ]
     },
     "execution_count": 65,
     "metadata": {},
     "output_type": "execute_result"
    }
   ],
   "source": [
    "g.summary()"
   ]
  },
  {
   "cell_type": "code",
   "execution_count": 59,
   "metadata": {
    "collapsed": false
   },
   "outputs": [
    {
     "data": {
      "text/plain": [
       "<igraph.clustering.VertexClustering at 0x7fffbf940650>"
      ]
     },
     "execution_count": 59,
     "metadata": {},
     "output_type": "execute_result"
    }
   ],
   "source": [
    "for x in comm:\n",
    "    print x"
   ]
  },
  {
   "cell_type": "code",
   "execution_count": 3,
   "metadata": {
    "collapsed": false
   },
   "outputs": [
    {
     "name": "stdout",
     "output_type": "stream",
     "text": [
      "2 nodes with degree 11\n",
      "1 nodes with degree 12\n",
      "2 nodes with degree 13\n",
      "1 nodes with degree 14\n",
      "7 nodes with degree 15\n",
      "4 nodes with degree 16\n",
      "8 nodes with degree 17\n",
      "7 nodes with degree 18\n",
      "12 nodes with degree 19\n",
      "13 nodes with degree 20\n",
      "11 nodes with degree 21\n",
      "6 nodes with degree 22\n",
      "10 nodes with degree 23\n",
      "6 nodes with degree 24\n",
      "4 nodes with degree 25\n",
      "3 nodes with degree 27\n",
      "1 nodes with degree 28\n",
      "1 nodes with degree 29\n",
      "1 nodes with degree 32\n"
     ]
    }
   ],
   "source": [
    "import snap\n",
    "\n",
    "Graph = snap.GenRndGnm(snap.PNGraph, 100, 1000)\n",
    "DegToCntV = snap.TIntPrV()\n",
    "snap.GetDegCnt(Graph, DegToCntV)\n",
    "for item in DegToCntV:\n",
    "    print \"%d nodes with degree %d\" % (item.GetVal2(), item.GetVal1())\n",
    "\n"
   ]
  }
 ],
 "metadata": {
  "anaconda-cloud": {},
  "kernelspec": {
   "display_name": "Python [conda root]",
   "language": "python",
   "name": "conda-root-py"
  },
  "language_info": {
   "codemirror_mode": {
    "name": "ipython",
    "version": 2
   },
   "file_extension": ".py",
   "mimetype": "text/x-python",
   "name": "python",
   "nbconvert_exporter": "python",
   "pygments_lexer": "ipython2",
   "version": "2.7.12"
  }
 },
 "nbformat": 4,
 "nbformat_minor": 1
}
