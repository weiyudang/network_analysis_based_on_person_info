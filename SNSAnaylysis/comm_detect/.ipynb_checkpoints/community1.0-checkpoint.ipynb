{
 "cells": [
  {
   "cell_type": "markdown",
   "metadata": {},
   "source": [
    "#   社区发现探索"
   ]
  },
  {
   "cell_type": "markdown",
   "metadata": {},
   "source": [
    "## 1数据读入与图构建"
   ]
  },
  {
   "cell_type": "code",
   "execution_count": 716,
   "metadata": {
    "collapsed": true
   },
   "outputs": [],
   "source": [
    "%matplotlib  inline \n",
    "import pandas as pd\n",
    "import numpy as np\n",
    "from igraph  import Graph as IGraph\n",
    "def getGraph(GV): \n",
    "    '''图的构件，输入的是numpy的数组，如果3表示图是带权重的，否则没有权重\n",
    "    '''\n",
    "    if GV.shape[1]==3:\n",
    "        g=IGraph.TupleList(GV,directed=False,vertex_name_attr='name',weights=True)  ## 构建图\n",
    "    else:\n",
    "        g=IGraph.TupleList(GV,directed=False,vertex_name_attr='name')  ## 构建图\n",
    "    return  g\n",
    "\n",
    "def getStats(g):\n",
    "    '''diameter,density,cliqu_number,avg_path_length,vcount,coef,assortativity,omega,mean_weights'''\n",
    "    return  [g.diameter(),g.density(),g.clique_number(),g.average_path_length(),\\\n",
    "            g.vcount(),\\\n",
    "            g.transitivity_undirected(),## 聚集系数\n",
    "            g.assortativity_degree(directed=False),   ##同配系数\n",
    "            g.omega(),\n",
    "            np.array(g.es['weight']).mean()\n",
    "            ]  \n",
    "        \n",
    "\n",
    "        \n",
    "def GetCommStats(rel_net):\n",
    "    g=getGraph(rel_net)\n",
    "    names=g.vs['name']\n",
    "    weights=g.es['weight']\n",
    "    cluster=IGraph.community_label_propagation(g,weights='weight').as_cover()\n",
    "    if data.shape[1]==3:\n",
    "        pg_df=pd.DataFrame(g.pagerank(weights='weight'),index=names,columns=['pg'])\n",
    "    else:\n",
    "        pg_df=pd.DataFrame(g.pagerank(weights='weight'),index=names,columns=['pg'])\n",
    "\n",
    "    cluster=[line for line in  list(cluster)  if line>6]\n",
    "\n",
    "    columns=['diameter','density','clique_number','average_path_length','nums','coef','pg_mean']\n",
    "    comm_stats=[]\n",
    "    for line in cluster:\n",
    "        pg_mean=pg_df.iloc[line].mean().values[0]\n",
    "        gs=getStats(g.subgraph(line))+[pg_mean]\n",
    "        comm_stats.append(gs)\n",
    "    x=pd.DataFrame(comm_stats,columns=columns)\n",
    "    return x\n",
    "\n",
    "def getClusterStats(g,cluster):\n",
    "    cluster=[line for line in  list(cluster)  if line>6]\n",
    "\n",
    "    columns=['diameter','density','clique_number','average_path_length','nums','coef']\n",
    "    comm_stats=[]\n",
    "    for line in cluster:\n",
    "        pg_mean=pg_df.iloc[line].mean().values[0]\n",
    "        gs=getStats(g.subgraph(line))+[pg_mean]\n",
    "        comm_stats.append(gs)\n",
    "    x=pd.DataFrame(comm_stats,columns=columns)\n",
    "    return x\n",
    "\n",
    "def getCommStats(comm):\n",
    "    '''获取每个社区的特性'''\n",
    "    from multiprocessing  import Pool\n",
    "    pool=Pool(8)\n",
    "    sub_stats=pool.map(getStats,comm.subgraphs())\n",
    "    pool.close()\n",
    "    pool.join()\n",
    "    columns='diameter,density,cliqu_number,avg_path_length,vcount,coef,assortativity,omega,mean_rel'.split(',')\n",
    "#     sub_stats=map(getStats,rel_comm_lpa.subgraphs())\n",
    "    sub_stats=pd.DataFrame(sub_stats,columns=columns)\n",
    "    return sub_stats"
   ]
  },
  {
   "cell_type": "code",
   "execution_count": 717,
   "metadata": {
    "collapsed": false
   },
   "outputs": [],
   "source": [
    "call_record=pd.read_csv('chapter1data/net_rel.csv',index_col=0)\n",
    "call_record=call_record[call_record.custorm_id!=call_record.cust_b]\n",
    "g=getGraph(call_record.values)"
   ]
  },
  {
   "cell_type": "markdown",
   "metadata": {},
   "source": [
    "### 1.1 描述性统计"
   ]
  },
  {
   "cell_type": "code",
   "execution_count": 718,
   "metadata": {
    "collapsed": false
   },
   "outputs": [
    {
     "name": "stdout",
     "output_type": "stream",
     "text": [
      "节点个数： 5940139\n",
      "边的个数: 12995457\n",
      "图密度: 7.36594395362e-07\n"
     ]
    }
   ],
   "source": [
    "print '节点个数：',g.vcount()\n",
    "print '边的个数:',g.ecount()\n",
    "print '图密度:',g.density()\n",
    "# print '网络直径',g.diameter()\n",
    "# print '网络聚集系数',g.transitivity_undirected()"
   ]
  },
  {
   "cell_type": "markdown",
   "metadata": {},
   "source": [
    "### 1.2  我们只对其最大联通分量进行分析"
   ]
  },
  {
   "cell_type": "code",
   "execution_count": 719,
   "metadata": {
    "collapsed": false
   },
   "outputs": [],
   "source": [
    "MaxScc=g.decompose(maxcompno=True)[0]   ##最大联通分量\n",
    "names=MaxScc.vs['name']"
   ]
  },
  {
   "cell_type": "code",
   "execution_count": 720,
   "metadata": {
    "collapsed": false
   },
   "outputs": [
    {
     "name": "stdout",
     "output_type": "stream",
     "text": [
      "节点个数： 5666396\n",
      "边的个数: 12836014\n",
      "图密度: 7.9955144036e-07\n"
     ]
    }
   ],
   "source": [
    "print '节点个数：',MaxScc.vcount()\n",
    "print '边的个数:',MaxScc.ecount()\n",
    "print '图密度:',MaxScc.density()\n"
   ]
  },
  {
   "cell_type": "code",
   "execution_count": 721,
   "metadata": {
    "collapsed": false,
    "slideshow": {
     "slide_type": "slide"
    }
   },
   "outputs": [],
   "source": [
    "## 可以调节度的大小进行缩放网络\n",
    "min_degree=3\n",
    "v3=MaxScc.vs.select(_degree_gt=min_degree)   ## 选择度大于1的节点并组成子图 ；尽量去除那些叶子节点\n",
    "rel_net=MaxScc.subgraph(v3)               ## 并构成子图求出子图中的最大联通分量\n",
    "rel_net=rel_net.decompose(maxcompno=True)[0]"
   ]
  },
  {
   "cell_type": "code",
   "execution_count": 722,
   "metadata": {
    "collapsed": false,
    "slideshow": {
     "slide_type": "subslide"
    }
   },
   "outputs": [
    {
     "name": "stdout",
     "output_type": "stream",
     "text": [
      "节点个数： 1964891\n",
      "边的个数: 7359208\n",
      "图密度: 3.81227628802e-06\n"
     ]
    }
   ],
   "source": [
    "print '节点个数：',rel_net.vcount()\n",
    "print '边的个数:',rel_net.ecount()\n",
    "print '图密度:',rel_net.density()\n",
    "# print '直径：',rel_net.diameter()\n",
    "# print '聚集系数：',rel_net.transitivity_undirected()"
   ]
  },
  {
   "cell_type": "raw",
   "metadata": {},
   "source": [
    "我们分析的网络节点数共120.5万人，边数共有512万人，我们队这个网络进行社区划分，主要是观察在有权重和权重的社区划分的效果上回有何不同。"
   ]
  },
  {
   "cell_type": "markdown",
   "metadata": {},
   "source": [
    "##  2 社区划分及相关分析"
   ]
  },
  {
   "cell_type": "markdown",
   "metadata": {},
   "source": [
    "### 2.1  社区划分"
   ]
  },
  {
   "cell_type": "code",
   "execution_count": 723,
   "metadata": {
    "collapsed": false
   },
   "outputs": [
    {
     "name": "stdout",
     "output_type": "stream",
     "text": [
      "CPU times: user 7min 45s, sys: 0 ns, total: 7min 45s\n",
      "Wall time: 7min 45s\n"
     ]
    }
   ],
   "source": [
    "%time rel_comm_lpa=rel_net.community_label_propagation()  ##无权重"
   ]
  },
  {
   "cell_type": "code",
   "execution_count": 724,
   "metadata": {
    "collapsed": false
   },
   "outputs": [
    {
     "name": "stdout",
     "output_type": "stream",
     "text": [
      "CPU times: user 4min 47s, sys: 7 ms, total: 4min 47s\n",
      "Wall time: 4min 47s\n"
     ]
    }
   ],
   "source": [
    "%time relW_comm=rel_net.community_label_propagation(weights='weight')  ##有权重"
   ]
  },
  {
   "cell_type": "raw",
   "metadata": {},
   "source": [
    "rel_comm_lpa.n   ## 节点数量\n",
    "rel_comm_lpa.size(43)  ##某一社区的规模\n",
    "rel_comm_lpa.sizes()  ## 返回所有社区的大小\n",
    "rel_comm_lpa.cluster_graph()  ##将每个社区转换为一个节点形成的网络\n",
    "rel_comm_lpa.giant()    ## 返回节点数最大的社区\n",
    "rel_comm_lpa.modularity   ##返回模块度\n",
    "rel_comm_lpa.q\n",
    "\n",
    "rel_comm_lpa.recalculate_modularity()  ##重新计算模块度\n",
    "\n",
    "rel_comm_lpa.subgraph(4)  ##返回某个社区的子图\n",
    "rel_comm_lpa.subgraphs()  ## 返回每个社区的子图\n",
    "\n",
    "rel_comm_lpa.summary()  ##返回社区划分的整体效果"
   ]
  },
  {
   "cell_type": "markdown",
   "metadata": {},
   "source": [
    "### 2.2  整体观察"
   ]
  },
  {
   "cell_type": "code",
   "execution_count": 725,
   "metadata": {
    "collapsed": true
   },
   "outputs": [],
   "source": [
    "cunity={'Uweight':rel_comm_lpa,'Weight':relW_comm}\n",
    "cunity_values=cunity.itervalues()"
   ]
  },
  {
   "cell_type": "code",
   "execution_count": 726,
   "metadata": {
    "collapsed": false
   },
   "outputs": [
    {
     "name": "stdout",
     "output_type": "stream",
     "text": [
      "Weight : 0.74661195562\n",
      "Uweight : 0.839414242973\n"
     ]
    }
   ],
   "source": [
    "for x,y in cunity.iteritems():\n",
    "    print x,':',y.modularity"
   ]
  },
  {
   "cell_type": "code",
   "execution_count": 727,
   "metadata": {
    "collapsed": false
   },
   "outputs": [
    {
     "name": "stdout",
     "output_type": "stream",
     "text": [
      "Weight summary: Clustering with 1964891 elements and 111698 clusters\n",
      "Uweight summary: Clustering with 1964891 elements and 13749 clusters\n"
     ]
    }
   ],
   "source": [
    "for x,y in cunity.iteritems():\n",
    "    print x,'summary:',y.summary()"
   ]
  },
  {
   "cell_type": "raw",
   "metadata": {},
   "source": [
    "无权网络共68084个节点共分成了1797个社区  而无权网络却被分成了5642个社区"
   ]
  },
  {
   "cell_type": "code",
   "execution_count": 728,
   "metadata": {
    "collapsed": false
   },
   "outputs": [],
   "source": [
    "def getCommSize(rel_comm_lpa):\n",
    "    bins=range(1,25)+[26,40,50,4602]\n",
    "    comm=pd.DataFrame(rel_comm_lpa.sizes(),columns=['size'])\n",
    "    comm_sizes=comm['size'].value_counts().sort_index()\n",
    "    size_bins=pd.cut(comm_sizes.index,bins=bins,labels=bins[1:])\n",
    "    comm_sizes.index=size_bins\n",
    "    return comm_sizes,comm\n",
    "comm_sizes,CommS=getCommSize(rel_comm_lpa)\n",
    "Wcomm_sizes,WCommS=getCommSize(relW_comm)"
   ]
  },
  {
   "cell_type": "code",
   "execution_count": 729,
   "metadata": {
    "collapsed": false
   },
   "outputs": [],
   "source": [
    "bins_per=np.arange(0.05,1.0,0.05)\n",
    "comm_per=CommS.quantile(bins_per)\n",
    "comm_per['WLPA']=WCommS.quantile(bins_per)"
   ]
  },
  {
   "cell_type": "code",
   "execution_count": 738,
   "metadata": {
    "collapsed": false
   },
   "outputs": [
    {
     "data": {
      "text/plain": [
       "<matplotlib.text.Text at 0x7ffefac38710>"
      ]
     },
     "execution_count": 738,
     "metadata": {},
     "output_type": "execute_result"
    },
    {
     "data": {
      "image/png": "[encoded data removed]",
      "text/plain": [
       "<matplotlib.figure.Figure at 0x7fffa82af890>"
      ]
     },
     "metadata": {},
     "output_type": "display_data"
    }
   ],
   "source": [
    "import matplotlib.pyplot  as plt\n",
    "# fig, axes = plt.subplots(nrows=1, ncols=2, figsize=(9, 4))\n",
    "fig, (ax1,ax2) = plt.subplots(nrows=2, ncols=2, figsize=(9, 8))\n",
    "ax1=fig.add_subplot(111)\n",
    "ax1.plot(comm_per.index,comm_per['size'],'-ks',label='LPA')\n",
    "ax1.legend()\n",
    "ax2=ax1.twinx()\n",
    "ax2.plot(comm_per.index,comm_per['WLPA'],'-ro',label='WLPA')\n",
    "ax1.set_xlim([0,0.96])\n",
    "ax2.set_xlim([0,0.96])\n",
    "ax1.set_ylabel('LPA')\n",
    "ax2.set_ylabel('WLPA')\n",
    "\n",
    "# fig.legend((ax1,ax2),('w','l'),2)"
   ]
  },
  {
   "cell_type": "code",
   "execution_count": 731,
   "metadata": {
    "collapsed": false
   },
   "outputs": [
    {
     "data": {
      "text/plain": [
       "<matplotlib.axes._subplots.AxesSubplot at 0x7fff5ff7ddd0>"
      ]
     },
     "execution_count": 731,
     "metadata": {},
     "output_type": "execute_result"
    },
    {
     "data": {
      "image/png": "[encoded data removed]",
      "text/plain": [
       "<matplotlib.figure.Figure at 0x7fff5529e090>"
      ]
     },
     "metadata": {},
     "output_type": "display_data"
    }
   ],
   "source": [
    "uwcomm_sizes.plot(logx=True,logy=True)"
   ]
  },
  {
   "cell_type": "code",
   "execution_count": 752,
   "metadata": {
    "collapsed": false
   },
   "outputs": [
    {
     "data": {
      "text/plain": [
       "<matplotlib.axes._subplots.AxesSubplot at 0x7ffef7fdfe10>"
      ]
     },
     "execution_count": 752,
     "metadata": {},
     "output_type": "execute_result"
    },
    {
     "data": {
      "image/png": "[encoded data removed]",
      "text/plain": [
       "<matplotlib.figure.Figure at 0x7ffef7fc8190>"
      ]
     },
     "metadata": {},
     "output_type": "display_data"
    }
   ],
   "source": [
    "WCommS.quantile(bins_per).plot()"
   ]
  },
  {
   "cell_type": "markdown",
   "metadata": {},
   "source": [
    "#### 2.2.1 社区规模"
   ]
  },
  {
   "cell_type": "code",
   "execution_count": 733,
   "metadata": {
    "collapsed": false
   },
   "outputs": [
    {
     "data": {
      "text/plain": [
       "<matplotlib.legend.Legend at 0x7fffa8280390>"
      ]
     },
     "execution_count": 733,
     "metadata": {},
     "output_type": "execute_result"
    },
    {
     "data": {
      "image/png": "[encoded data removed]",
      "text/plain": [
       "<matplotlib.figure.Figure at 0x7fffa3f8f110>"
      ]
     },
     "metadata": {},
     "output_type": "display_data"
    }
   ],
   "source": [
    "ax=uwcomm_sizes.groupby(level=0).sum().plot.bar(color='red',label='comm_size')\n",
    "ax.legend()"
   ]
  },
  {
   "cell_type": "code",
   "execution_count": 734,
   "metadata": {
    "collapsed": false
   },
   "outputs": [
    {
     "data": {
      "text/plain": [
       "<matplotlib.legend.Legend at 0x7fffa3ed5e90>"
      ]
     },
     "execution_count": 734,
     "metadata": {},
     "output_type": "execute_result"
    },
    {
     "data": {
      "image/png": "[encoded data removed]",
      "text/plain": [
       "<matplotlib.figure.Figure at 0x7fff60257c10>"
      ]
     },
     "metadata": {},
     "output_type": "display_data"
    }
   ],
   "source": [
    "ax=comm_sizes.groupby(level=0).sum().plot.bar(color='red',label='comm_size')\n",
    "ax.legend()"
   ]
  },
  {
   "cell_type": "code",
   "execution_count": 735,
   "metadata": {
    "collapsed": false
   },
   "outputs": [],
   "source": [
    "subg=rel_comm_lpa.subgraph(99)"
   ]
  },
  {
   "cell_type": "raw",
   "metadata": {},
   "source": [
    "subg.strength()  ## 返回带全的度\n",
    "q=subg.k_core(5)  ## 返回k-cord\n",
    "subg.largest_cliques()\n",
    "subg.neighborhood(2,3)  ##返回某点在n不得邻居\n",
    "subg.neighborhood_size(2,order=4)  ##返回某节点在n步的邻居节点规模\n",
    "subg.neighbors()  ##某节点的邻居节点\n",
    "subg.radius()   ##半径"
   ]
  },
  {
   "cell_type": "code",
   "execution_count": 736,
   "metadata": {
    "collapsed": false
   },
   "outputs": [
    {
     "name": "stdout",
     "output_type": "stream",
     "text": [
      "CPU times: user 1min 38s, sys: 3.12 s, total: 1min 41s\n",
      "Wall time: 2h 10min 10s\n"
     ]
    }
   ],
   "source": [
    "%time sub_stats=getCommStats(rel_comm_lpa)"
   ]
  },
  {
   "cell_type": "code",
   "execution_count": 737,
   "metadata": {
    "collapsed": false
   },
   "outputs": [
    {
     "name": "stderr",
     "output_type": "stream",
     "text": [
      "/opt/anaconda2/lib/python2.7/site-packages/ipykernel/__main__.py:19: RuntimeWarning: Mean of empty slice.\n",
      "/opt/anaconda2/lib/python2.7/site-packages/numpy/core/_methods.py:80: RuntimeWarning: invalid value encountered in double_scalars\n",
      "  ret = ret.dtype.type(ret / rcount)\n"
     ]
    },
    {
     "name": "stdout",
     "output_type": "stream",
     "text": [
      "CPU times: user 14min 31s, sys: 3.36 s, total: 14min 35s\n",
      "Wall time: 2h 29min 32s\n"
     ]
    }
   ],
   "source": [
    "%time  Wsubg_stats=getCommStats(relW_comm)"
   ]
  },
  {
   "cell_type": "code",
   "execution_count": 709,
   "metadata": {
    "collapsed": false
   },
   "outputs": [],
   "source": [
    "# max_comm=rel_comm_lpa.subgraph(120)\n",
    "max_comm.write_pajek('chapter1data/max120.net')"
   ]
  },
  {
   "cell_type": "code",
   "execution_count": 746,
   "metadata": {
    "collapsed": false
   },
   "outputs": [],
   "source": [
    "sub_stats.to_csv('chapter1data/LPA_comm0327.csv')"
   ]
  },
  {
   "cell_type": "code",
   "execution_count": 744,
   "metadata": {
    "collapsed": false
   },
   "outputs": [],
   "source": [
    "Wsubg_stats.to_csv('chapter1data/WLPA_comm0327.csv')"
   ]
  },
  {
   "cell_type": "code",
   "execution_count": 739,
   "metadata": {
    "collapsed": false
   },
   "outputs": [
    {
     "data": {
      "text/html": [
       "<div>\n",
       "<table border=\"1\" class=\"dataframe\">\n",
       "  <thead>\n",
       "    <tr style=\"text-align: right;\">\n",
       "      <th></th>\n",
       "      <th>diameter</th>\n",
       "      <th>density</th>\n",
       "      <th>cliqu_number</th>\n",
       "      <th>avg_path_length</th>\n",
       "      <th>vcount</th>\n",
       "      <th>coef</th>\n",
       "      <th>assortativity</th>\n",
       "      <th>omega</th>\n",
       "      <th>mean_rel</th>\n",
       "    </tr>\n",
       "  </thead>\n",
       "  <tbody>\n",
       "    <tr>\n",
       "      <th>count</th>\n",
       "      <td>13749.000000</td>\n",
       "      <td>13749.000000</td>\n",
       "      <td>13749.000000</td>\n",
       "      <td>13749.000000</td>\n",
       "      <td>13749.000000</td>\n",
       "      <td>10391.000000</td>\n",
       "      <td>9873.000000</td>\n",
       "      <td>13749.000000</td>\n",
       "      <td>13749.000000</td>\n",
       "    </tr>\n",
       "    <tr>\n",
       "      <th>mean</th>\n",
       "      <td>2.850898</td>\n",
       "      <td>0.985510</td>\n",
       "      <td>2.797949</td>\n",
       "      <td>1.616362</td>\n",
       "      <td>142.911557</td>\n",
       "      <td>0.352974</td>\n",
       "      <td>-0.365840</td>\n",
       "      <td>2.797949</td>\n",
       "      <td>4.079965</td>\n",
       "    </tr>\n",
       "    <tr>\n",
       "      <th>std</th>\n",
       "      <td>2.373668</td>\n",
       "      <td>0.686454</td>\n",
       "      <td>0.927339</td>\n",
       "      <td>0.772694</td>\n",
       "      <td>1591.008380</td>\n",
       "      <td>0.336428</td>\n",
       "      <td>0.339129</td>\n",
       "      <td>0.927339</td>\n",
       "      <td>0.535278</td>\n",
       "    </tr>\n",
       "    <tr>\n",
       "      <th>min</th>\n",
       "      <td>1.000000</td>\n",
       "      <td>0.000068</td>\n",
       "      <td>2.000000</td>\n",
       "      <td>1.000000</td>\n",
       "      <td>2.000000</td>\n",
       "      <td>0.000000</td>\n",
       "      <td>-1.000000</td>\n",
       "      <td>2.000000</td>\n",
       "      <td>0.690000</td>\n",
       "    </tr>\n",
       "    <tr>\n",
       "      <th>25%</th>\n",
       "      <td>1.000000</td>\n",
       "      <td>0.409091</td>\n",
       "      <td>2.000000</td>\n",
       "      <td>1.000000</td>\n",
       "      <td>3.000000</td>\n",
       "      <td>0.000000</td>\n",
       "      <td>-0.666667</td>\n",
       "      <td>2.000000</td>\n",
       "      <td>3.775000</td>\n",
       "    </tr>\n",
       "    <tr>\n",
       "      <th>50%</th>\n",
       "      <td>2.000000</td>\n",
       "      <td>0.800000</td>\n",
       "      <td>3.000000</td>\n",
       "      <td>1.333333</td>\n",
       "      <td>4.000000</td>\n",
       "      <td>0.300000</td>\n",
       "      <td>-0.333333</td>\n",
       "      <td>3.000000</td>\n",
       "      <td>4.030000</td>\n",
       "    </tr>\n",
       "    <tr>\n",
       "      <th>75%</th>\n",
       "      <td>4.000000</td>\n",
       "      <td>2.000000</td>\n",
       "      <td>3.000000</td>\n",
       "      <td>1.897436</td>\n",
       "      <td>8.000000</td>\n",
       "      <td>0.600000</td>\n",
       "      <td>-0.103448</td>\n",
       "      <td>3.000000</td>\n",
       "      <td>4.347500</td>\n",
       "    </tr>\n",
       "    <tr>\n",
       "      <th>max</th>\n",
       "      <td>21.000000</td>\n",
       "      <td>2.000000</td>\n",
       "      <td>9.000000</td>\n",
       "      <td>7.025906</td>\n",
       "      <td>68034.000000</td>\n",
       "      <td>1.000000</td>\n",
       "      <td>0.701333</td>\n",
       "      <td>9.000000</td>\n",
       "      <td>7.350000</td>\n",
       "    </tr>\n",
       "  </tbody>\n",
       "</table>\n",
       "</div>"
      ],
      "text/plain": [
       "           diameter       density  cliqu_number  avg_path_length  \\\n",
       "count  13749.000000  13749.000000  13749.000000     13749.000000   \n",
       "mean       2.850898      0.985510      2.797949         1.616362   \n",
       "std        2.373668      0.686454      0.927339         0.772694   \n",
       "min        1.000000      0.000068      2.000000         1.000000   \n",
       "25%        1.000000      0.409091      2.000000         1.000000   \n",
       "50%        2.000000      0.800000      3.000000         1.333333   \n",
       "75%        4.000000      2.000000      3.000000         1.897436   \n",
       "max       21.000000      2.000000      9.000000         7.025906   \n",
       "\n",
       "             vcount          coef  assortativity         omega      mean_rel  \n",
       "count  13749.000000  10391.000000    9873.000000  13749.000000  13749.000000  \n",
       "mean     142.911557      0.352974      -0.365840      2.797949      4.079965  \n",
       "std     1591.008380      0.336428       0.339129      0.927339      0.535278  \n",
       "min        2.000000      0.000000      -1.000000      2.000000      0.690000  \n",
       "25%        3.000000      0.000000      -0.666667      2.000000      3.775000  \n",
       "50%        4.000000      0.300000      -0.333333      3.000000      4.030000  \n",
       "75%        8.000000      0.600000      -0.103448      3.000000      4.347500  \n",
       "max    68034.000000      1.000000       0.701333      9.000000      7.350000  "
      ]
     },
     "execution_count": 739,
     "metadata": {},
     "output_type": "execute_result"
    }
   ],
   "source": [
    "sub_stats.describe()"
   ]
  },
  {
   "cell_type": "code",
   "execution_count": 740,
   "metadata": {
    "collapsed": false
   },
   "outputs": [
    {
     "data": {
      "text/html": [
       "<div>\n",
       "<table border=\"1\" class=\"dataframe\">\n",
       "  <thead>\n",
       "    <tr style=\"text-align: right;\">\n",
       "      <th></th>\n",
       "      <th>diameter</th>\n",
       "      <th>density</th>\n",
       "      <th>cliqu_number</th>\n",
       "      <th>avg_path_length</th>\n",
       "      <th>vcount</th>\n",
       "      <th>coef</th>\n",
       "      <th>assortativity</th>\n",
       "      <th>omega</th>\n",
       "      <th>mean_rel</th>\n",
       "    </tr>\n",
       "  </thead>\n",
       "  <tbody>\n",
       "    <tr>\n",
       "      <th>count</th>\n",
       "      <td>111698.000000</td>\n",
       "      <td>111697.000000</td>\n",
       "      <td>111698.000000</td>\n",
       "      <td>111697.000000</td>\n",
       "      <td>111698.000000</td>\n",
       "      <td>80242.000000</td>\n",
       "      <td>78609.000000</td>\n",
       "      <td>111698.000000</td>\n",
       "      <td>111697.000000</td>\n",
       "    </tr>\n",
       "    <tr>\n",
       "      <th>mean</th>\n",
       "      <td>2.398906</td>\n",
       "      <td>0.779955</td>\n",
       "      <td>2.251079</td>\n",
       "      <td>1.507769</td>\n",
       "      <td>17.591103</td>\n",
       "      <td>0.130272</td>\n",
       "      <td>-0.625940</td>\n",
       "      <td>2.251079</td>\n",
       "      <td>4.558786</td>\n",
       "    </tr>\n",
       "    <tr>\n",
       "      <th>std</th>\n",
       "      <td>1.460826</td>\n",
       "      <td>0.481480</td>\n",
       "      <td>0.547252</td>\n",
       "      <td>0.514450</td>\n",
       "      <td>562.205020</td>\n",
       "      <td>0.251776</td>\n",
       "      <td>0.337402</td>\n",
       "      <td>0.547252</td>\n",
       "      <td>0.651596</td>\n",
       "    </tr>\n",
       "    <tr>\n",
       "      <th>min</th>\n",
       "      <td>0.000000</td>\n",
       "      <td>0.000076</td>\n",
       "      <td>1.000000</td>\n",
       "      <td>1.000000</td>\n",
       "      <td>1.000000</td>\n",
       "      <td>0.000000</td>\n",
       "      <td>-1.000000</td>\n",
       "      <td>1.000000</td>\n",
       "      <td>1.790000</td>\n",
       "    </tr>\n",
       "    <tr>\n",
       "      <th>25%</th>\n",
       "      <td>1.000000</td>\n",
       "      <td>0.466667</td>\n",
       "      <td>2.000000</td>\n",
       "      <td>1.000000</td>\n",
       "      <td>2.000000</td>\n",
       "      <td>0.000000</td>\n",
       "      <td>-1.000000</td>\n",
       "      <td>2.000000</td>\n",
       "      <td>4.110000</td>\n",
       "    </tr>\n",
       "    <tr>\n",
       "      <th>50%</th>\n",
       "      <td>2.000000</td>\n",
       "      <td>0.666667</td>\n",
       "      <td>2.000000</td>\n",
       "      <td>1.333333</td>\n",
       "      <td>3.000000</td>\n",
       "      <td>0.000000</td>\n",
       "      <td>-0.666667</td>\n",
       "      <td>2.000000</td>\n",
       "      <td>4.520000</td>\n",
       "    </tr>\n",
       "    <tr>\n",
       "      <th>75%</th>\n",
       "      <td>3.000000</td>\n",
       "      <td>1.000000</td>\n",
       "      <td>2.000000</td>\n",
       "      <td>1.800000</td>\n",
       "      <td>5.000000</td>\n",
       "      <td>0.166667</td>\n",
       "      <td>-0.344101</td>\n",
       "      <td>2.000000</td>\n",
       "      <td>4.956364</td>\n",
       "    </tr>\n",
       "    <tr>\n",
       "      <th>max</th>\n",
       "      <td>18.000000</td>\n",
       "      <td>2.000000</td>\n",
       "      <td>9.000000</td>\n",
       "      <td>6.488740</td>\n",
       "      <td>78181.000000</td>\n",
       "      <td>1.000000</td>\n",
       "      <td>0.723077</td>\n",
       "      <td>9.000000</td>\n",
       "      <td>7.480000</td>\n",
       "    </tr>\n",
       "  </tbody>\n",
       "</table>\n",
       "</div>"
      ],
      "text/plain": [
       "            diameter        density   cliqu_number  avg_path_length  \\\n",
       "count  111698.000000  111697.000000  111698.000000    111697.000000   \n",
       "mean        2.398906       0.779955       2.251079         1.507769   \n",
       "std         1.460826       0.481480       0.547252         0.514450   \n",
       "min         0.000000       0.000076       1.000000         1.000000   \n",
       "25%         1.000000       0.466667       2.000000         1.000000   \n",
       "50%         2.000000       0.666667       2.000000         1.333333   \n",
       "75%         3.000000       1.000000       2.000000         1.800000   \n",
       "max        18.000000       2.000000       9.000000         6.488740   \n",
       "\n",
       "              vcount          coef  assortativity          omega  \\\n",
       "count  111698.000000  80242.000000   78609.000000  111698.000000   \n",
       "mean       17.591103      0.130272      -0.625940       2.251079   \n",
       "std       562.205020      0.251776       0.337402       0.547252   \n",
       "min         1.000000      0.000000      -1.000000       1.000000   \n",
       "25%         2.000000      0.000000      -1.000000       2.000000   \n",
       "50%         3.000000      0.000000      -0.666667       2.000000   \n",
       "75%         5.000000      0.166667      -0.344101       2.000000   \n",
       "max     78181.000000      1.000000       0.723077       9.000000   \n",
       "\n",
       "            mean_rel  \n",
       "count  111697.000000  \n",
       "mean        4.558786  \n",
       "std         0.651596  \n",
       "min         1.790000  \n",
       "25%         4.110000  \n",
       "50%         4.520000  \n",
       "75%         4.956364  \n",
       "max         7.480000  "
      ]
     },
     "execution_count": 740,
     "metadata": {},
     "output_type": "execute_result"
    }
   ],
   "source": [
    "Wsubg_stats.describe()"
   ]
  },
  {
   "cell_type": "code",
   "execution_count": 940,
   "metadata": {
    "collapsed": true
   },
   "outputs": [],
   "source": [
    "sub_df=sub_stats[sub_stats.vcount>10]   ### 对社区大于10的个数进行统计\n",
    "wsub_df=Wsubg_stats[Wsubg_stats.vcount>10]"
   ]
  },
  {
   "cell_type": "code",
   "execution_count": 742,
   "metadata": {
    "collapsed": false
   },
   "outputs": [],
   "source": [
    "comm_mean=pd.DataFrame(np.array([sub_stats.describe().T['mean'].values,Wsubg_stats.describe().T['mean'].values]),index=['LPA','WLPA'],columns=sub_stats.columns)"
   ]
  },
  {
   "cell_type": "code",
   "execution_count": 743,
   "metadata": {
    "collapsed": false
   },
   "outputs": [
    {
     "data": {
      "text/html": [
       "<div>\n",
       "<table border=\"1\" class=\"dataframe\">\n",
       "  <thead>\n",
       "    <tr style=\"text-align: right;\">\n",
       "      <th></th>\n",
       "      <th>diameter</th>\n",
       "      <th>density</th>\n",
       "      <th>cliqu_number</th>\n",
       "      <th>avg_path_length</th>\n",
       "      <th>vcount</th>\n",
       "      <th>coef</th>\n",
       "      <th>assortativity</th>\n",
       "      <th>omega</th>\n",
       "      <th>mean_rel</th>\n",
       "    </tr>\n",
       "  </thead>\n",
       "  <tbody>\n",
       "    <tr>\n",
       "      <th>LPA</th>\n",
       "      <td>2.850898</td>\n",
       "      <td>0.985510</td>\n",
       "      <td>2.797949</td>\n",
       "      <td>1.616362</td>\n",
       "      <td>142.911557</td>\n",
       "      <td>0.352974</td>\n",
       "      <td>-0.36584</td>\n",
       "      <td>2.797949</td>\n",
       "      <td>4.079965</td>\n",
       "    </tr>\n",
       "    <tr>\n",
       "      <th>WLPA</th>\n",
       "      <td>2.398906</td>\n",
       "      <td>0.779955</td>\n",
       "      <td>2.251079</td>\n",
       "      <td>1.507769</td>\n",
       "      <td>17.591103</td>\n",
       "      <td>0.130272</td>\n",
       "      <td>-0.62594</td>\n",
       "      <td>2.251079</td>\n",
       "      <td>4.558786</td>\n",
       "    </tr>\n",
       "  </tbody>\n",
       "</table>\n",
       "</div>"
      ],
      "text/plain": [
       "      diameter   density  cliqu_number  avg_path_length      vcount      coef  \\\n",
       "LPA   2.850898  0.985510      2.797949         1.616362  142.911557  0.352974   \n",
       "WLPA  2.398906  0.779955      2.251079         1.507769   17.591103  0.130272   \n",
       "\n",
       "      assortativity     omega  mean_rel  \n",
       "LPA        -0.36584  2.797949  4.079965  \n",
       "WLPA       -0.62594  2.251079  4.558786  "
      ]
     },
     "execution_count": 743,
     "metadata": {},
     "output_type": "execute_result"
    }
   ],
   "source": [
    "import seaborn as sns\n",
    "comm_mean"
   ]
  },
  {
   "cell_type": "code",
   "execution_count": 941,
   "metadata": {
    "collapsed": false
   },
   "outputs": [
    {
     "data": {
      "text/html": [
       "<div>\n",
       "<table border=\"1\" class=\"dataframe\">\n",
       "  <thead>\n",
       "    <tr style=\"text-align: right;\">\n",
       "      <th></th>\n",
       "      <th>diameter</th>\n",
       "      <th>density</th>\n",
       "      <th>cliqu_number</th>\n",
       "      <th>avg_path_length</th>\n",
       "      <th>vcount</th>\n",
       "      <th>coef</th>\n",
       "      <th>assortativity</th>\n",
       "      <th>omega</th>\n",
       "      <th>mean_rel</th>\n",
       "    </tr>\n",
       "  </thead>\n",
       "  <tbody>\n",
       "    <tr>\n",
       "      <th>count</th>\n",
       "      <td>2643.000000</td>\n",
       "      <td>2643.000000</td>\n",
       "      <td>2643.000000</td>\n",
       "      <td>2643.000000</td>\n",
       "      <td>2643.000000</td>\n",
       "      <td>2643.000000</td>\n",
       "      <td>2643.000000</td>\n",
       "      <td>2643.000000</td>\n",
       "      <td>2643.000000</td>\n",
       "    </tr>\n",
       "    <tr>\n",
       "      <th>mean</th>\n",
       "      <td>6.432085</td>\n",
       "      <td>0.176550</td>\n",
       "      <td>4.044646</td>\n",
       "      <td>2.795034</td>\n",
       "      <td>726.596292</td>\n",
       "      <td>0.218543</td>\n",
       "      <td>-0.084028</td>\n",
       "      <td>4.044646</td>\n",
       "      <td>3.980352</td>\n",
       "    </tr>\n",
       "    <tr>\n",
       "      <th>std</th>\n",
       "      <td>2.894993</td>\n",
       "      <td>0.128944</td>\n",
       "      <td>0.964693</td>\n",
       "      <td>0.890958</td>\n",
       "      <td>3570.721841</td>\n",
       "      <td>0.130032</td>\n",
       "      <td>0.154336</td>\n",
       "      <td>0.964693</td>\n",
       "      <td>0.239954</td>\n",
       "    </tr>\n",
       "    <tr>\n",
       "      <th>min</th>\n",
       "      <td>2.000000</td>\n",
       "      <td>0.000068</td>\n",
       "      <td>2.000000</td>\n",
       "      <td>1.436364</td>\n",
       "      <td>11.000000</td>\n",
       "      <td>0.000000</td>\n",
       "      <td>-0.805540</td>\n",
       "      <td>2.000000</td>\n",
       "      <td>3.079412</td>\n",
       "    </tr>\n",
       "    <tr>\n",
       "      <th>25%</th>\n",
       "      <td>4.000000</td>\n",
       "      <td>0.048569</td>\n",
       "      <td>3.000000</td>\n",
       "      <td>2.143324</td>\n",
       "      <td>15.000000</td>\n",
       "      <td>0.106697</td>\n",
       "      <td>-0.168285</td>\n",
       "      <td>3.000000</td>\n",
       "      <td>3.828327</td>\n",
       "    </tr>\n",
       "    <tr>\n",
       "      <th>50%</th>\n",
       "      <td>5.000000</td>\n",
       "      <td>0.181818</td>\n",
       "      <td>4.000000</td>\n",
       "      <td>2.504762</td>\n",
       "      <td>25.000000</td>\n",
       "      <td>0.219447</td>\n",
       "      <td>-0.059843</td>\n",
       "      <td>4.000000</td>\n",
       "      <td>3.960588</td>\n",
       "    </tr>\n",
       "    <tr>\n",
       "      <th>75%</th>\n",
       "      <td>8.000000</td>\n",
       "      <td>0.272727</td>\n",
       "      <td>5.000000</td>\n",
       "      <td>3.274634</td>\n",
       "      <td>126.000000</td>\n",
       "      <td>0.319149</td>\n",
       "      <td>0.015672</td>\n",
       "      <td>5.000000</td>\n",
       "      <td>4.122210</td>\n",
       "    </tr>\n",
       "    <tr>\n",
       "      <th>max</th>\n",
       "      <td>21.000000</td>\n",
       "      <td>0.727273</td>\n",
       "      <td>9.000000</td>\n",
       "      <td>7.025906</td>\n",
       "      <td>68034.000000</td>\n",
       "      <td>0.656805</td>\n",
       "      <td>0.575904</td>\n",
       "      <td>9.000000</td>\n",
       "      <td>5.188065</td>\n",
       "    </tr>\n",
       "  </tbody>\n",
       "</table>\n",
       "</div>"
      ],
      "text/plain": [
       "          diameter      density  cliqu_number  avg_path_length        vcount  \\\n",
       "count  2643.000000  2643.000000   2643.000000      2643.000000   2643.000000   \n",
       "mean      6.432085     0.176550      4.044646         2.795034    726.596292   \n",
       "std       2.894993     0.128944      0.964693         0.890958   3570.721841   \n",
       "min       2.000000     0.000068      2.000000         1.436364     11.000000   \n",
       "25%       4.000000     0.048569      3.000000         2.143324     15.000000   \n",
       "50%       5.000000     0.181818      4.000000         2.504762     25.000000   \n",
       "75%       8.000000     0.272727      5.000000         3.274634    126.000000   \n",
       "max      21.000000     0.727273      9.000000         7.025906  68034.000000   \n",
       "\n",
       "              coef  assortativity        omega     mean_rel  \n",
       "count  2643.000000    2643.000000  2643.000000  2643.000000  \n",
       "mean      0.218543      -0.084028     4.044646     3.980352  \n",
       "std       0.130032       0.154336     0.964693     0.239954  \n",
       "min       0.000000      -0.805540     2.000000     3.079412  \n",
       "25%       0.106697      -0.168285     3.000000     3.828327  \n",
       "50%       0.219447      -0.059843     4.000000     3.960588  \n",
       "75%       0.319149       0.015672     5.000000     4.122210  \n",
       "max       0.656805       0.575904     9.000000     5.188065  "
      ]
     },
     "execution_count": 941,
     "metadata": {},
     "output_type": "execute_result"
    }
   ],
   "source": [
    "sub_df.describe()"
   ]
  },
  {
   "cell_type": "code",
   "execution_count": 942,
   "metadata": {
    "collapsed": false
   },
   "outputs": [
    {
     "data": {
      "text/html": [
       "<div>\n",
       "<table border=\"1\" class=\"dataframe\">\n",
       "  <thead>\n",
       "    <tr style=\"text-align: right;\">\n",
       "      <th></th>\n",
       "      <th>diameter</th>\n",
       "      <th>density</th>\n",
       "      <th>cliqu_number</th>\n",
       "      <th>avg_path_length</th>\n",
       "      <th>vcount</th>\n",
       "      <th>coef</th>\n",
       "      <th>assortativity</th>\n",
       "      <th>omega</th>\n",
       "      <th>mean_rel</th>\n",
       "    </tr>\n",
       "  </thead>\n",
       "  <tbody>\n",
       "    <tr>\n",
       "      <th>count</th>\n",
       "      <td>8764.000000</td>\n",
       "      <td>8764.000000</td>\n",
       "      <td>8764.000000</td>\n",
       "      <td>8764.000000</td>\n",
       "      <td>8764.000000</td>\n",
       "      <td>8764.000000</td>\n",
       "      <td>8764.000000</td>\n",
       "      <td>8764.000000</td>\n",
       "      <td>8764.000000</td>\n",
       "    </tr>\n",
       "    <tr>\n",
       "      <th>mean</th>\n",
       "      <td>5.455842</td>\n",
       "      <td>0.183858</td>\n",
       "      <td>3.175148</td>\n",
       "      <td>2.578796</td>\n",
       "      <td>179.226837</td>\n",
       "      <td>0.156570</td>\n",
       "      <td>-0.276206</td>\n",
       "      <td>3.175148</td>\n",
       "      <td>4.380193</td>\n",
       "    </tr>\n",
       "    <tr>\n",
       "      <th>std</th>\n",
       "      <td>1.713201</td>\n",
       "      <td>0.086551</td>\n",
       "      <td>0.971824</td>\n",
       "      <td>0.505697</td>\n",
       "      <td>2000.105850</td>\n",
       "      <td>0.134093</td>\n",
       "      <td>0.248769</td>\n",
       "      <td>0.971824</td>\n",
       "      <td>0.422385</td>\n",
       "    </tr>\n",
       "    <tr>\n",
       "      <th>min</th>\n",
       "      <td>2.000000</td>\n",
       "      <td>0.000076</td>\n",
       "      <td>2.000000</td>\n",
       "      <td>1.454545</td>\n",
       "      <td>11.000000</td>\n",
       "      <td>0.000000</td>\n",
       "      <td>-1.000000</td>\n",
       "      <td>2.000000</td>\n",
       "      <td>3.125000</td>\n",
       "    </tr>\n",
       "    <tr>\n",
       "      <th>25%</th>\n",
       "      <td>4.000000</td>\n",
       "      <td>0.129527</td>\n",
       "      <td>3.000000</td>\n",
       "      <td>2.242424</td>\n",
       "      <td>12.000000</td>\n",
       "      <td>0.007879</td>\n",
       "      <td>-0.457883</td>\n",
       "      <td>3.000000</td>\n",
       "      <td>4.040899</td>\n",
       "    </tr>\n",
       "    <tr>\n",
       "      <th>50%</th>\n",
       "      <td>5.000000</td>\n",
       "      <td>0.181818</td>\n",
       "      <td>3.000000</td>\n",
       "      <td>2.509091</td>\n",
       "      <td>16.000000</td>\n",
       "      <td>0.141959</td>\n",
       "      <td>-0.256545</td>\n",
       "      <td>3.000000</td>\n",
       "      <td>4.347113</td>\n",
       "    </tr>\n",
       "    <tr>\n",
       "      <th>75%</th>\n",
       "      <td>6.000000</td>\n",
       "      <td>0.236364</td>\n",
       "      <td>4.000000</td>\n",
       "      <td>2.816667</td>\n",
       "      <td>24.000000</td>\n",
       "      <td>0.257143</td>\n",
       "      <td>-0.080507</td>\n",
       "      <td>4.000000</td>\n",
       "      <td>4.691039</td>\n",
       "    </tr>\n",
       "    <tr>\n",
       "      <th>max</th>\n",
       "      <td>18.000000</td>\n",
       "      <td>0.606061</td>\n",
       "      <td>9.000000</td>\n",
       "      <td>6.488740</td>\n",
       "      <td>78181.000000</td>\n",
       "      <td>0.640000</td>\n",
       "      <td>0.607335</td>\n",
       "      <td>9.000000</td>\n",
       "      <td>5.874286</td>\n",
       "    </tr>\n",
       "  </tbody>\n",
       "</table>\n",
       "</div>"
      ],
      "text/plain": [
       "          diameter      density  cliqu_number  avg_path_length        vcount  \\\n",
       "count  8764.000000  8764.000000   8764.000000      8764.000000   8764.000000   \n",
       "mean      5.455842     0.183858      3.175148         2.578796    179.226837   \n",
       "std       1.713201     0.086551      0.971824         0.505697   2000.105850   \n",
       "min       2.000000     0.000076      2.000000         1.454545     11.000000   \n",
       "25%       4.000000     0.129527      3.000000         2.242424     12.000000   \n",
       "50%       5.000000     0.181818      3.000000         2.509091     16.000000   \n",
       "75%       6.000000     0.236364      4.000000         2.816667     24.000000   \n",
       "max      18.000000     0.606061      9.000000         6.488740  78181.000000   \n",
       "\n",
       "              coef  assortativity        omega     mean_rel  \n",
       "count  8764.000000    8764.000000  8764.000000  8764.000000  \n",
       "mean      0.156570      -0.276206     3.175148     4.380193  \n",
       "std       0.134093       0.248769     0.971824     0.422385  \n",
       "min       0.000000      -1.000000     2.000000     3.125000  \n",
       "25%       0.007879      -0.457883     3.000000     4.040899  \n",
       "50%       0.141959      -0.256545     3.000000     4.347113  \n",
       "75%       0.257143      -0.080507     4.000000     4.691039  \n",
       "max       0.640000       0.607335     9.000000     5.874286  "
      ]
     },
     "execution_count": 942,
     "metadata": {},
     "output_type": "execute_result"
    }
   ],
   "source": [
    "wsub_df.describe()"
   ]
  },
  {
   "cell_type": "code",
   "execution_count": 1062,
   "metadata": {
    "collapsed": false
   },
   "outputs": [
    {
     "data": {
      "text/html": [
       "<div>\n",
       "<table border=\"1\" class=\"dataframe\">\n",
       "  <thead>\n",
       "    <tr style=\"text-align: right;\">\n",
       "      <th></th>\n",
       "      <th>diameter</th>\n",
       "      <th>density</th>\n",
       "      <th>cliqu_number</th>\n",
       "      <th>avg_path_length</th>\n",
       "      <th>vcount</th>\n",
       "      <th>coef</th>\n",
       "      <th>assortativity</th>\n",
       "      <th>omega</th>\n",
       "      <th>mean_rel</th>\n",
       "    </tr>\n",
       "  </thead>\n",
       "  <tbody>\n",
       "    <tr>\n",
       "      <th>11</th>\n",
       "      <td>21</td>\n",
       "      <td>0.000068</td>\n",
       "      <td>5</td>\n",
       "      <td>6.590169</td>\n",
       "      <td>68034</td>\n",
       "      <td>0.002802</td>\n",
       "      <td>-0.015873</td>\n",
       "      <td>5</td>\n",
       "      <td>4.09839</td>\n",
       "    </tr>\n",
       "  </tbody>\n",
       "</table>\n",
       "</div>"
      ],
      "text/plain": [
       "    diameter   density  cliqu_number  avg_path_length  vcount      coef  \\\n",
       "11        21  0.000068             5         6.590169   68034  0.002802   \n",
       "\n",
       "    assortativity  omega  mean_rel  \n",
       "11      -0.015873      5   4.09839  "
      ]
     },
     "execution_count": 1062,
     "metadata": {},
     "output_type": "execute_result"
    }
   ],
   "source": [
    "sub_df[sub_df.vcount>68000]"
   ]
  },
  {
   "cell_type": "markdown",
   "metadata": {},
   "source": [
    "#### 2.2.2  社区直径"
   ]
  },
  {
   "cell_type": "code",
   "execution_count": 943,
   "metadata": {
    "collapsed": false
   },
   "outputs": [
    {
     "data": {
      "text/plain": [
       "<matplotlib.axes._subplots.AxesSubplot at 0x7ffef9684f50>"
      ]
     },
     "execution_count": 943,
     "metadata": {},
     "output_type": "execute_result"
    },
    {
     "data": {
      "image/png": "[encoded data removed]",
      "text/plain": [
       "<matplotlib.figure.Figure at 0x7fff69f86d90>"
      ]
     },
     "metadata": {},
     "output_type": "display_data"
    }
   ],
   "source": [
    "sub_df.diameter.value_counts().sort_index().plot.bar()   ###直径"
   ]
  },
  {
   "cell_type": "code",
   "execution_count": 944,
   "metadata": {
    "collapsed": false
   },
   "outputs": [
    {
     "data": {
      "text/plain": [
       "<matplotlib.axes._subplots.AxesSubplot at 0x7ffef7349290>"
      ]
     },
     "execution_count": 944,
     "metadata": {},
     "output_type": "execute_result"
    },
    {
     "data": {
      "image/png": "[encoded data removed]",
      "text/plain": [
       "<matplotlib.figure.Figure at 0x7ffefa4fcf50>"
      ]
     },
     "metadata": {},
     "output_type": "display_data"
    }
   ],
   "source": [
    "sub_df.density.plot.hist(bins=30)   ## 网络密度"
   ]
  },
  {
   "cell_type": "code",
   "execution_count": 945,
   "metadata": {
    "collapsed": false
   },
   "outputs": [
    {
     "data": {
      "text/plain": [
       "<matplotlib.axes._subplots.AxesSubplot at 0x7fff068d1d90>"
      ]
     },
     "execution_count": 945,
     "metadata": {},
     "output_type": "execute_result"
    },
    {
     "data": {
      "image/png": "[encoded data removed]",
      "text/plain": [
       "<matplotlib.figure.Figure at 0x7ffef9081710>"
      ]
     },
     "metadata": {},
     "output_type": "display_data"
    }
   ],
   "source": [
    "sub_df.avg_path_length.hist(bins=30)  ## 平均路径长度"
   ]
  },
  {
   "cell_type": "code",
   "execution_count": 1008,
   "metadata": {
    "collapsed": false
   },
   "outputs": [
    {
     "data": {
      "text/plain": [
       "<matplotlib.axes._subplots.AxesSubplot at 0x7fff9bea49d0>"
      ]
     },
     "execution_count": 1008,
     "metadata": {},
     "output_type": "execute_result"
    },
    {
     "data": {
      "image/png": "[encoded data removed]",
      "text/plain": [
       "<matplotlib.figure.Figure at 0x7fff9bc82850>"
      ]
     },
     "metadata": {},
     "output_type": "display_data"
    }
   ],
   "source": [
    "def  getPlot(f='avg_path_length'):\n",
    "    ax=sns.kdeplot(wsub_df[f],legend=False,label='WLPA',marker='2',color='k')\n",
    "    sns.kdeplot(sub_df[f],ax=ax,label='LPA',color='r',linestyle='--',)\n",
    "    ax.set_xlabel(f)\n",
    "    return ax\n",
    "getPlot()"
   ]
  },
  {
   "cell_type": "code",
   "execution_count": 1033,
   "metadata": {
    "collapsed": false
   },
   "outputs": [
    {
     "data": {
      "text/plain": [
       "Index([u'diameter', u'density', u'avg_path_length', u'vcount', u'coef',\n",
       "       u'assortativity', u'omega', u'mean_rel'],\n",
       "      dtype='object')"
      ]
     },
     "execution_count": 1033,
     "metadata": {},
     "output_type": "execute_result"
    }
   ],
   "source": [
    "colum_name=sub_df.columns[[0,1,3,4,5,6,7,8]]\n",
    "colum_name"
   ]
  },
  {
   "cell_type": "code",
   "execution_count": 1034,
   "metadata": {
    "collapsed": false
   },
   "outputs": [
    {
     "data": {
      "image/png": "[encoded data removed]",
      "text/plain": [
       "<matplotlib.figure.Figure at 0x7fff9e38a490>"
      ]
     },
     "metadata": {},
     "output_type": "display_data"
    }
   ],
   "source": [
    "st=221\n",
    "plt.figure(22,figsize=(9,8))\n",
    "for i in range(4):\n",
    "    plt.subplot(st)\n",
    "    getPlot(colum_name[i])\n",
    "    st+=1"
   ]
  },
  {
   "cell_type": "code",
   "execution_count": 1035,
   "metadata": {
    "collapsed": false
   },
   "outputs": [
    {
     "data": {
      "image/png": "[encoded data removed]",
      "text/plain": [
       "<matplotlib.figure.Figure at 0x7fff9e508410>"
      ]
     },
     "metadata": {},
     "output_type": "display_data"
    }
   ],
   "source": [
    "st=221\n",
    "plt.figure(22,figsize=(9,8))\n",
    "for i in range(4,8):\n",
    "    plt.subplot(st)\n",
    "    getPlot(colum_name[i])\n",
    "    st+=1"
   ]
  },
  {
   "cell_type": "code",
   "execution_count": 1039,
   "metadata": {
    "collapsed": false
   },
   "outputs": [
    {
     "data": {
      "text/plain": [
       "<matplotlib.axes._subplots.AxesSubplot at 0x7fff96e82e50>"
      ]
     },
     "execution_count": 1039,
     "metadata": {},
     "output_type": "execute_result"
    },
    {
     "data": {
      "image/png": "[encoded data removed]",
      "text/plain": [
       "<matplotlib.figure.Figure at 0x7fff96e902d0>"
      ]
     },
     "metadata": {},
     "output_type": "display_data"
    }
   ],
   "source": [
    "sub_now_diff.density.plot(xlim=(10,200))"
   ]
  },
  {
   "cell_type": "markdown",
   "metadata": {},
   "source": [
    "###   同等规模的社区分析"
   ]
  },
  {
   "cell_type": "code",
   "execution_count": 754,
   "metadata": {
    "collapsed": false
   },
   "outputs": [],
   "source": [
    "# wsub_df,sub_df\n",
    "# sub_stats,Wsubg_stats\n",
    "# rel_comm_lpa,relW_comm"
   ]
  },
  {
   "cell_type": "code",
   "execution_count": 756,
   "metadata": {
    "collapsed": false
   },
   "outputs": [
    {
     "data": {
      "text/plain": [
       "1352"
      ]
     },
     "execution_count": 756,
     "metadata": {},
     "output_type": "execute_result"
    }
   ],
   "source": [
    "rel_comm_lpa.subgraph(3).vcount()"
   ]
  },
  {
   "cell_type": "code",
   "execution_count": 765,
   "metadata": {
    "collapsed": false
   },
   "outputs": [],
   "source": [
    "sub_vcount_dec=sub_df.groupby('vcount').mean()\n",
    "wsub_vcount_dec=wsub_df.groupby('vcount').mean()"
   ]
  },
  {
   "cell_type": "code",
   "execution_count": 769,
   "metadata": {
    "collapsed": false
   },
   "outputs": [
    {
     "data": {
      "text/html": [
       "<div>\n",
       "<table border=\"1\" class=\"dataframe\">\n",
       "  <thead>\n",
       "    <tr style=\"text-align: right;\">\n",
       "      <th></th>\n",
       "      <th>diameter</th>\n",
       "      <th>density</th>\n",
       "      <th>cliqu_number</th>\n",
       "      <th>avg_path_length</th>\n",
       "      <th>coef</th>\n",
       "      <th>assortativity</th>\n",
       "      <th>omega</th>\n",
       "      <th>mean_rel</th>\n",
       "    </tr>\n",
       "    <tr>\n",
       "      <th>vcount</th>\n",
       "      <th></th>\n",
       "      <th></th>\n",
       "      <th></th>\n",
       "      <th></th>\n",
       "      <th></th>\n",
       "      <th></th>\n",
       "      <th></th>\n",
       "      <th></th>\n",
       "    </tr>\n",
       "  </thead>\n",
       "  <tbody>\n",
       "    <tr>\n",
       "      <th>14</th>\n",
       "      <td>4.531250</td>\n",
       "      <td>0.296703</td>\n",
       "      <td>3.531250</td>\n",
       "      <td>2.202352</td>\n",
       "      <td>0.301906</td>\n",
       "      <td>-0.149628</td>\n",
       "      <td>3.531250</td>\n",
       "      <td>3.998663</td>\n",
       "    </tr>\n",
       "    <tr>\n",
       "      <th>15</th>\n",
       "      <td>4.389831</td>\n",
       "      <td>0.291445</td>\n",
       "      <td>3.661017</td>\n",
       "      <td>2.163600</td>\n",
       "      <td>0.317007</td>\n",
       "      <td>-0.140236</td>\n",
       "      <td>3.661017</td>\n",
       "      <td>3.996824</td>\n",
       "    </tr>\n",
       "    <tr>\n",
       "      <th>16</th>\n",
       "      <td>4.801980</td>\n",
       "      <td>0.260974</td>\n",
       "      <td>3.475248</td>\n",
       "      <td>2.289686</td>\n",
       "      <td>0.273646</td>\n",
       "      <td>-0.129192</td>\n",
       "      <td>3.475248</td>\n",
       "      <td>4.017533</td>\n",
       "    </tr>\n",
       "    <tr>\n",
       "      <th>17</th>\n",
       "      <td>4.678161</td>\n",
       "      <td>0.265382</td>\n",
       "      <td>3.804598</td>\n",
       "      <td>2.243492</td>\n",
       "      <td>0.303123</td>\n",
       "      <td>-0.118129</td>\n",
       "      <td>3.804598</td>\n",
       "      <td>4.000307</td>\n",
       "    </tr>\n",
       "    <tr>\n",
       "      <th>18</th>\n",
       "      <td>4.738095</td>\n",
       "      <td>0.242453</td>\n",
       "      <td>3.678571</td>\n",
       "      <td>2.301821</td>\n",
       "      <td>0.279212</td>\n",
       "      <td>-0.127641</td>\n",
       "      <td>3.678571</td>\n",
       "      <td>3.960437</td>\n",
       "    </tr>\n",
       "    <tr>\n",
       "      <th>19</th>\n",
       "      <td>5.062500</td>\n",
       "      <td>0.221735</td>\n",
       "      <td>3.625000</td>\n",
       "      <td>2.409215</td>\n",
       "      <td>0.266718</td>\n",
       "      <td>-0.074072</td>\n",
       "      <td>3.625000</td>\n",
       "      <td>3.989234</td>\n",
       "    </tr>\n",
       "    <tr>\n",
       "      <th>20</th>\n",
       "      <td>5.170732</td>\n",
       "      <td>0.213094</td>\n",
       "      <td>3.658537</td>\n",
       "      <td>2.421438</td>\n",
       "      <td>0.249327</td>\n",
       "      <td>-0.130872</td>\n",
       "      <td>3.658537</td>\n",
       "      <td>4.026397</td>\n",
       "    </tr>\n",
       "  </tbody>\n",
       "</table>\n",
       "</div>"
      ],
      "text/plain": [
       "        diameter   density  cliqu_number  avg_path_length      coef  \\\n",
       "vcount                                                                \n",
       "14      4.531250  0.296703      3.531250         2.202352  0.301906   \n",
       "15      4.389831  0.291445      3.661017         2.163600  0.317007   \n",
       "16      4.801980  0.260974      3.475248         2.289686  0.273646   \n",
       "17      4.678161  0.265382      3.804598         2.243492  0.303123   \n",
       "18      4.738095  0.242453      3.678571         2.301821  0.279212   \n",
       "19      5.062500  0.221735      3.625000         2.409215  0.266718   \n",
       "20      5.170732  0.213094      3.658537         2.421438  0.249327   \n",
       "\n",
       "        assortativity     omega  mean_rel  \n",
       "vcount                                     \n",
       "14          -0.149628  3.531250  3.998663  \n",
       "15          -0.140236  3.661017  3.996824  \n",
       "16          -0.129192  3.475248  4.017533  \n",
       "17          -0.118129  3.804598  4.000307  \n",
       "18          -0.127641  3.678571  3.960437  \n",
       "19          -0.074072  3.625000  3.989234  \n",
       "20          -0.130872  3.658537  4.026397  "
      ]
     },
     "execution_count": 769,
     "metadata": {},
     "output_type": "execute_result"
    }
   ],
   "source": [
    "sub_vcount_dec[3:10]"
   ]
  },
  {
   "cell_type": "code",
   "execution_count": 774,
   "metadata": {
    "collapsed": false
   },
   "outputs": [],
   "source": [
    "sub_now_diff=(wsub_vcount_dec-sub_vcount_dec).dropna()    #同等规模的网络指标差"
   ]
  },
  {
   "cell_type": "code",
   "execution_count": 878,
   "metadata": {
    "collapsed": true
   },
   "outputs": [
    {
     "data": {
      "text/html": [
       "<div>\n",
       "<table border=\"1\" class=\"dataframe\">\n",
       "  <thead>\n",
       "    <tr style=\"text-align: right;\">\n",
       "      <th></th>\n",
       "      <th>diameter</th>\n",
       "      <th>density</th>\n",
       "      <th>cliqu_number</th>\n",
       "      <th>avg_path_length</th>\n",
       "      <th>vcount</th>\n",
       "      <th>coef</th>\n",
       "      <th>assortativity</th>\n",
       "      <th>omega</th>\n",
       "      <th>mean_rel</th>\n",
       "    </tr>\n",
       "  </thead>\n",
       "  <tbody>\n",
       "    <tr>\n",
       "      <th>0</th>\n",
       "      <td>10</td>\n",
       "      <td>0.007048</td>\n",
       "      <td>4</td>\n",
       "      <td>4.006278</td>\n",
       "      <td>811</td>\n",
       "      <td>0.046130</td>\n",
       "      <td>-0.048190</td>\n",
       "      <td>4</td>\n",
       "      <td>4.231024</td>\n",
       "    </tr>\n",
       "    <tr>\n",
       "      <th>23</th>\n",
       "      <td>11</td>\n",
       "      <td>0.007713</td>\n",
       "      <td>4</td>\n",
       "      <td>4.507766</td>\n",
       "      <td>645</td>\n",
       "      <td>0.082356</td>\n",
       "      <td>-0.000315</td>\n",
       "      <td>4</td>\n",
       "      <td>3.934794</td>\n",
       "    </tr>\n",
       "    <tr>\n",
       "      <th>26</th>\n",
       "      <td>9</td>\n",
       "      <td>0.010094</td>\n",
       "      <td>4</td>\n",
       "      <td>3.834869</td>\n",
       "      <td>671</td>\n",
       "      <td>0.085245</td>\n",
       "      <td>0.053556</td>\n",
       "      <td>4</td>\n",
       "      <td>3.884755</td>\n",
       "    </tr>\n",
       "    <tr>\n",
       "      <th>76</th>\n",
       "      <td>11</td>\n",
       "      <td>0.008663</td>\n",
       "      <td>5</td>\n",
       "      <td>3.784632</td>\n",
       "      <td>884</td>\n",
       "      <td>0.085279</td>\n",
       "      <td>0.060497</td>\n",
       "      <td>5</td>\n",
       "      <td>3.838755</td>\n",
       "    </tr>\n",
       "    <tr>\n",
       "      <th>83</th>\n",
       "      <td>10</td>\n",
       "      <td>0.006741</td>\n",
       "      <td>5</td>\n",
       "      <td>4.292213</td>\n",
       "      <td>771</td>\n",
       "      <td>0.070680</td>\n",
       "      <td>-0.028004</td>\n",
       "      <td>5</td>\n",
       "      <td>4.074843</td>\n",
       "    </tr>\n",
       "    <tr>\n",
       "      <th>93</th>\n",
       "      <td>9</td>\n",
       "      <td>0.017420</td>\n",
       "      <td>6</td>\n",
       "      <td>3.348696</td>\n",
       "      <td>537</td>\n",
       "      <td>0.117879</td>\n",
       "      <td>0.051375</td>\n",
       "      <td>6</td>\n",
       "      <td>3.864795</td>\n",
       "    </tr>\n",
       "    <tr>\n",
       "      <th>99</th>\n",
       "      <td>10</td>\n",
       "      <td>0.009833</td>\n",
       "      <td>4</td>\n",
       "      <td>4.036160</td>\n",
       "      <td>546</td>\n",
       "      <td>0.067790</td>\n",
       "      <td>0.025010</td>\n",
       "      <td>4</td>\n",
       "      <td>4.140526</td>\n",
       "    </tr>\n",
       "    <tr>\n",
       "      <th>101</th>\n",
       "      <td>10</td>\n",
       "      <td>0.015422</td>\n",
       "      <td>5</td>\n",
       "      <td>3.546637</td>\n",
       "      <td>644</td>\n",
       "      <td>0.103105</td>\n",
       "      <td>0.066111</td>\n",
       "      <td>5</td>\n",
       "      <td>3.853154</td>\n",
       "    </tr>\n",
       "    <tr>\n",
       "      <th>113</th>\n",
       "      <td>9</td>\n",
       "      <td>0.009893</td>\n",
       "      <td>5</td>\n",
       "      <td>3.463167</td>\n",
       "      <td>962</td>\n",
       "      <td>0.078013</td>\n",
       "      <td>0.069952</td>\n",
       "      <td>5</td>\n",
       "      <td>3.895581</td>\n",
       "    </tr>\n",
       "    <tr>\n",
       "      <th>119</th>\n",
       "      <td>13</td>\n",
       "      <td>0.011040</td>\n",
       "      <td>5</td>\n",
       "      <td>4.087016</td>\n",
       "      <td>523</td>\n",
       "      <td>0.096398</td>\n",
       "      <td>0.022796</td>\n",
       "      <td>5</td>\n",
       "      <td>3.815753</td>\n",
       "    </tr>\n",
       "    <tr>\n",
       "      <th>123</th>\n",
       "      <td>9</td>\n",
       "      <td>0.011811</td>\n",
       "      <td>5</td>\n",
       "      <td>3.467255</td>\n",
       "      <td>705</td>\n",
       "      <td>0.075687</td>\n",
       "      <td>0.024262</td>\n",
       "      <td>5</td>\n",
       "      <td>3.873678</td>\n",
       "    </tr>\n",
       "    <tr>\n",
       "      <th>127</th>\n",
       "      <td>11</td>\n",
       "      <td>0.006908</td>\n",
       "      <td>4</td>\n",
       "      <td>4.482520</td>\n",
       "      <td>766</td>\n",
       "      <td>0.081566</td>\n",
       "      <td>0.148138</td>\n",
       "      <td>4</td>\n",
       "      <td>3.872090</td>\n",
       "    </tr>\n",
       "    <tr>\n",
       "      <th>133</th>\n",
       "      <td>9</td>\n",
       "      <td>0.007945</td>\n",
       "      <td>6</td>\n",
       "      <td>3.767559</td>\n",
       "      <td>982</td>\n",
       "      <td>0.075958</td>\n",
       "      <td>0.068584</td>\n",
       "      <td>6</td>\n",
       "      <td>3.889992</td>\n",
       "    </tr>\n",
       "    <tr>\n",
       "      <th>135</th>\n",
       "      <td>10</td>\n",
       "      <td>0.004801</td>\n",
       "      <td>4</td>\n",
       "      <td>4.589200</td>\n",
       "      <td>980</td>\n",
       "      <td>0.038791</td>\n",
       "      <td>-0.031830</td>\n",
       "      <td>4</td>\n",
       "      <td>4.192158</td>\n",
       "    </tr>\n",
       "    <tr>\n",
       "      <th>139</th>\n",
       "      <td>12</td>\n",
       "      <td>0.007846</td>\n",
       "      <td>4</td>\n",
       "      <td>4.042862</td>\n",
       "      <td>712</td>\n",
       "      <td>0.048240</td>\n",
       "      <td>0.002658</td>\n",
       "      <td>4</td>\n",
       "      <td>4.098902</td>\n",
       "    </tr>\n",
       "    <tr>\n",
       "      <th>191</th>\n",
       "      <td>8</td>\n",
       "      <td>0.019436</td>\n",
       "      <td>5</td>\n",
       "      <td>3.182091</td>\n",
       "      <td>531</td>\n",
       "      <td>0.105352</td>\n",
       "      <td>0.062325</td>\n",
       "      <td>5</td>\n",
       "      <td>3.778563</td>\n",
       "    </tr>\n",
       "    <tr>\n",
       "      <th>210</th>\n",
       "      <td>10</td>\n",
       "      <td>0.012597</td>\n",
       "      <td>5</td>\n",
       "      <td>3.424480</td>\n",
       "      <td>705</td>\n",
       "      <td>0.086485</td>\n",
       "      <td>0.054661</td>\n",
       "      <td>5</td>\n",
       "      <td>3.905441</td>\n",
       "    </tr>\n",
       "    <tr>\n",
       "      <th>216</th>\n",
       "      <td>9</td>\n",
       "      <td>0.011692</td>\n",
       "      <td>6</td>\n",
       "      <td>3.642434</td>\n",
       "      <td>685</td>\n",
       "      <td>0.112962</td>\n",
       "      <td>0.056817</td>\n",
       "      <td>6</td>\n",
       "      <td>3.889587</td>\n",
       "    </tr>\n",
       "    <tr>\n",
       "      <th>225</th>\n",
       "      <td>10</td>\n",
       "      <td>0.006962</td>\n",
       "      <td>5</td>\n",
       "      <td>4.025006</td>\n",
       "      <td>813</td>\n",
       "      <td>0.054221</td>\n",
       "      <td>-0.021185</td>\n",
       "      <td>5</td>\n",
       "      <td>4.206053</td>\n",
       "    </tr>\n",
       "    <tr>\n",
       "      <th>241</th>\n",
       "      <td>11</td>\n",
       "      <td>0.007287</td>\n",
       "      <td>4</td>\n",
       "      <td>4.492776</td>\n",
       "      <td>593</td>\n",
       "      <td>0.037943</td>\n",
       "      <td>-0.016690</td>\n",
       "      <td>4</td>\n",
       "      <td>3.998546</td>\n",
       "    </tr>\n",
       "    <tr>\n",
       "      <th>244</th>\n",
       "      <td>8</td>\n",
       "      <td>0.015519</td>\n",
       "      <td>7</td>\n",
       "      <td>3.143508</td>\n",
       "      <td>824</td>\n",
       "      <td>0.104665</td>\n",
       "      <td>0.042707</td>\n",
       "      <td>7</td>\n",
       "      <td>3.963867</td>\n",
       "    </tr>\n",
       "    <tr>\n",
       "      <th>245</th>\n",
       "      <td>10</td>\n",
       "      <td>0.014713</td>\n",
       "      <td>6</td>\n",
       "      <td>3.310182</td>\n",
       "      <td>770</td>\n",
       "      <td>0.090983</td>\n",
       "      <td>0.037332</td>\n",
       "      <td>6</td>\n",
       "      <td>3.868533</td>\n",
       "    </tr>\n",
       "    <tr>\n",
       "      <th>254</th>\n",
       "      <td>9</td>\n",
       "      <td>0.017895</td>\n",
       "      <td>5</td>\n",
       "      <td>3.166288</td>\n",
       "      <td>578</td>\n",
       "      <td>0.108927</td>\n",
       "      <td>0.017578</td>\n",
       "      <td>5</td>\n",
       "      <td>3.889209</td>\n",
       "    </tr>\n",
       "    <tr>\n",
       "      <th>262</th>\n",
       "      <td>9</td>\n",
       "      <td>0.016842</td>\n",
       "      <td>8</td>\n",
       "      <td>2.998099</td>\n",
       "      <td>860</td>\n",
       "      <td>0.115645</td>\n",
       "      <td>0.020740</td>\n",
       "      <td>8</td>\n",
       "      <td>3.855822</td>\n",
       "    </tr>\n",
       "    <tr>\n",
       "      <th>263</th>\n",
       "      <td>10</td>\n",
       "      <td>0.010944</td>\n",
       "      <td>6</td>\n",
       "      <td>3.779353</td>\n",
       "      <td>644</td>\n",
       "      <td>0.098858</td>\n",
       "      <td>0.100168</td>\n",
       "      <td>6</td>\n",
       "      <td>4.013725</td>\n",
       "    </tr>\n",
       "    <tr>\n",
       "      <th>284</th>\n",
       "      <td>10</td>\n",
       "      <td>0.013694</td>\n",
       "      <td>5</td>\n",
       "      <td>3.308508</td>\n",
       "      <td>756</td>\n",
       "      <td>0.083455</td>\n",
       "      <td>0.022517</td>\n",
       "      <td>5</td>\n",
       "      <td>3.915041</td>\n",
       "    </tr>\n",
       "    <tr>\n",
       "      <th>292</th>\n",
       "      <td>8</td>\n",
       "      <td>0.013537</td>\n",
       "      <td>7</td>\n",
       "      <td>3.122125</td>\n",
       "      <td>951</td>\n",
       "      <td>0.100354</td>\n",
       "      <td>0.036503</td>\n",
       "      <td>7</td>\n",
       "      <td>3.872826</td>\n",
       "    </tr>\n",
       "    <tr>\n",
       "      <th>295</th>\n",
       "      <td>12</td>\n",
       "      <td>0.006017</td>\n",
       "      <td>3</td>\n",
       "      <td>4.935979</td>\n",
       "      <td>678</td>\n",
       "      <td>0.036197</td>\n",
       "      <td>-0.038646</td>\n",
       "      <td>3</td>\n",
       "      <td>4.191948</td>\n",
       "    </tr>\n",
       "    <tr>\n",
       "      <th>308</th>\n",
       "      <td>10</td>\n",
       "      <td>0.007812</td>\n",
       "      <td>4</td>\n",
       "      <td>4.094665</td>\n",
       "      <td>675</td>\n",
       "      <td>0.044310</td>\n",
       "      <td>-0.094822</td>\n",
       "      <td>4</td>\n",
       "      <td>4.076685</td>\n",
       "    </tr>\n",
       "    <tr>\n",
       "      <th>311</th>\n",
       "      <td>9</td>\n",
       "      <td>0.008463</td>\n",
       "      <td>4</td>\n",
       "      <td>3.970426</td>\n",
       "      <td>661</td>\n",
       "      <td>0.063701</td>\n",
       "      <td>-0.068893</td>\n",
       "      <td>4</td>\n",
       "      <td>3.872010</td>\n",
       "    </tr>\n",
       "    <tr>\n",
       "      <th>...</th>\n",
       "      <td>...</td>\n",
       "      <td>...</td>\n",
       "      <td>...</td>\n",
       "      <td>...</td>\n",
       "      <td>...</td>\n",
       "      <td>...</td>\n",
       "      <td>...</td>\n",
       "      <td>...</td>\n",
       "      <td>...</td>\n",
       "    </tr>\n",
       "    <tr>\n",
       "      <th>617</th>\n",
       "      <td>12</td>\n",
       "      <td>0.011097</td>\n",
       "      <td>5</td>\n",
       "      <td>3.568180</td>\n",
       "      <td>778</td>\n",
       "      <td>0.076841</td>\n",
       "      <td>0.038867</td>\n",
       "      <td>5</td>\n",
       "      <td>3.839308</td>\n",
       "    </tr>\n",
       "    <tr>\n",
       "      <th>626</th>\n",
       "      <td>9</td>\n",
       "      <td>0.006991</td>\n",
       "      <td>5</td>\n",
       "      <td>3.847366</td>\n",
       "      <td>917</td>\n",
       "      <td>0.052630</td>\n",
       "      <td>0.026576</td>\n",
       "      <td>5</td>\n",
       "      <td>3.934036</td>\n",
       "    </tr>\n",
       "    <tr>\n",
       "      <th>650</th>\n",
       "      <td>9</td>\n",
       "      <td>0.024843</td>\n",
       "      <td>7</td>\n",
       "      <td>2.983086</td>\n",
       "      <td>502</td>\n",
       "      <td>0.121344</td>\n",
       "      <td>-0.022484</td>\n",
       "      <td>7</td>\n",
       "      <td>3.989376</td>\n",
       "    </tr>\n",
       "    <tr>\n",
       "      <th>656</th>\n",
       "      <td>8</td>\n",
       "      <td>0.014029</td>\n",
       "      <td>5</td>\n",
       "      <td>3.378206</td>\n",
       "      <td>554</td>\n",
       "      <td>0.074153</td>\n",
       "      <td>-0.055521</td>\n",
       "      <td>5</td>\n",
       "      <td>3.872192</td>\n",
       "    </tr>\n",
       "    <tr>\n",
       "      <th>662</th>\n",
       "      <td>10</td>\n",
       "      <td>0.008628</td>\n",
       "      <td>3</td>\n",
       "      <td>4.451744</td>\n",
       "      <td>505</td>\n",
       "      <td>0.042885</td>\n",
       "      <td>-0.056202</td>\n",
       "      <td>3</td>\n",
       "      <td>3.963461</td>\n",
       "    </tr>\n",
       "    <tr>\n",
       "      <th>707</th>\n",
       "      <td>10</td>\n",
       "      <td>0.008448</td>\n",
       "      <td>4</td>\n",
       "      <td>4.209655</td>\n",
       "      <td>615</td>\n",
       "      <td>0.054330</td>\n",
       "      <td>-0.015012</td>\n",
       "      <td>4</td>\n",
       "      <td>4.142489</td>\n",
       "    </tr>\n",
       "    <tr>\n",
       "      <th>709</th>\n",
       "      <td>9</td>\n",
       "      <td>0.011152</td>\n",
       "      <td>5</td>\n",
       "      <td>4.041306</td>\n",
       "      <td>503</td>\n",
       "      <td>0.084573</td>\n",
       "      <td>-0.008739</td>\n",
       "      <td>5</td>\n",
       "      <td>3.886136</td>\n",
       "    </tr>\n",
       "    <tr>\n",
       "      <th>723</th>\n",
       "      <td>12</td>\n",
       "      <td>0.008015</td>\n",
       "      <td>4</td>\n",
       "      <td>4.508377</td>\n",
       "      <td>559</td>\n",
       "      <td>0.059718</td>\n",
       "      <td>-0.025821</td>\n",
       "      <td>4</td>\n",
       "      <td>3.855448</td>\n",
       "    </tr>\n",
       "    <tr>\n",
       "      <th>746</th>\n",
       "      <td>10</td>\n",
       "      <td>0.007267</td>\n",
       "      <td>4</td>\n",
       "      <td>4.339524</td>\n",
       "      <td>619</td>\n",
       "      <td>0.041405</td>\n",
       "      <td>-0.003667</td>\n",
       "      <td>4</td>\n",
       "      <td>4.031727</td>\n",
       "    </tr>\n",
       "    <tr>\n",
       "      <th>794</th>\n",
       "      <td>10</td>\n",
       "      <td>0.010842</td>\n",
       "      <td>4</td>\n",
       "      <td>3.912945</td>\n",
       "      <td>547</td>\n",
       "      <td>0.061052</td>\n",
       "      <td>0.054315</td>\n",
       "      <td>4</td>\n",
       "      <td>3.884453</td>\n",
       "    </tr>\n",
       "    <tr>\n",
       "      <th>871</th>\n",
       "      <td>12</td>\n",
       "      <td>0.008392</td>\n",
       "      <td>5</td>\n",
       "      <td>3.956777</td>\n",
       "      <td>840</td>\n",
       "      <td>0.084459</td>\n",
       "      <td>0.098006</td>\n",
       "      <td>5</td>\n",
       "      <td>3.831667</td>\n",
       "    </tr>\n",
       "    <tr>\n",
       "      <th>875</th>\n",
       "      <td>8</td>\n",
       "      <td>0.011804</td>\n",
       "      <td>5</td>\n",
       "      <td>3.664070</td>\n",
       "      <td>597</td>\n",
       "      <td>0.091927</td>\n",
       "      <td>0.062338</td>\n",
       "      <td>5</td>\n",
       "      <td>3.812443</td>\n",
       "    </tr>\n",
       "    <tr>\n",
       "      <th>891</th>\n",
       "      <td>9</td>\n",
       "      <td>0.009698</td>\n",
       "      <td>5</td>\n",
       "      <td>3.828251</td>\n",
       "      <td>620</td>\n",
       "      <td>0.054908</td>\n",
       "      <td>-0.010832</td>\n",
       "      <td>5</td>\n",
       "      <td>4.141080</td>\n",
       "    </tr>\n",
       "    <tr>\n",
       "      <th>939</th>\n",
       "      <td>8</td>\n",
       "      <td>0.007260</td>\n",
       "      <td>6</td>\n",
       "      <td>3.817701</td>\n",
       "      <td>962</td>\n",
       "      <td>0.060192</td>\n",
       "      <td>-0.006865</td>\n",
       "      <td>6</td>\n",
       "      <td>3.932336</td>\n",
       "    </tr>\n",
       "    <tr>\n",
       "      <th>953</th>\n",
       "      <td>9</td>\n",
       "      <td>0.012608</td>\n",
       "      <td>6</td>\n",
       "      <td>3.562845</td>\n",
       "      <td>634</td>\n",
       "      <td>0.084043</td>\n",
       "      <td>0.113552</td>\n",
       "      <td>6</td>\n",
       "      <td>3.976822</td>\n",
       "    </tr>\n",
       "    <tr>\n",
       "      <th>990</th>\n",
       "      <td>11</td>\n",
       "      <td>0.007606</td>\n",
       "      <td>5</td>\n",
       "      <td>4.171428</td>\n",
       "      <td>697</td>\n",
       "      <td>0.058092</td>\n",
       "      <td>0.001427</td>\n",
       "      <td>5</td>\n",
       "      <td>4.148482</td>\n",
       "    </tr>\n",
       "    <tr>\n",
       "      <th>1007</th>\n",
       "      <td>9</td>\n",
       "      <td>0.006431</td>\n",
       "      <td>4</td>\n",
       "      <td>4.056362</td>\n",
       "      <td>809</td>\n",
       "      <td>0.043266</td>\n",
       "      <td>-0.074500</td>\n",
       "      <td>4</td>\n",
       "      <td>4.019144</td>\n",
       "    </tr>\n",
       "    <tr>\n",
       "      <th>1034</th>\n",
       "      <td>10</td>\n",
       "      <td>0.008218</td>\n",
       "      <td>6</td>\n",
       "      <td>3.942708</td>\n",
       "      <td>754</td>\n",
       "      <td>0.064773</td>\n",
       "      <td>0.021772</td>\n",
       "      <td>6</td>\n",
       "      <td>4.047218</td>\n",
       "    </tr>\n",
       "    <tr>\n",
       "      <th>1068</th>\n",
       "      <td>11</td>\n",
       "      <td>0.012871</td>\n",
       "      <td>5</td>\n",
       "      <td>3.847451</td>\n",
       "      <td>546</td>\n",
       "      <td>0.117968</td>\n",
       "      <td>0.099127</td>\n",
       "      <td>5</td>\n",
       "      <td>3.888178</td>\n",
       "    </tr>\n",
       "    <tr>\n",
       "      <th>1097</th>\n",
       "      <td>11</td>\n",
       "      <td>0.008337</td>\n",
       "      <td>4</td>\n",
       "      <td>4.264752</td>\n",
       "      <td>533</td>\n",
       "      <td>0.038340</td>\n",
       "      <td>-0.048034</td>\n",
       "      <td>4</td>\n",
       "      <td>4.081574</td>\n",
       "    </tr>\n",
       "    <tr>\n",
       "      <th>1159</th>\n",
       "      <td>16</td>\n",
       "      <td>0.004765</td>\n",
       "      <td>4</td>\n",
       "      <td>4.834578</td>\n",
       "      <td>800</td>\n",
       "      <td>0.024965</td>\n",
       "      <td>-0.064636</td>\n",
       "      <td>4</td>\n",
       "      <td>4.282141</td>\n",
       "    </tr>\n",
       "    <tr>\n",
       "      <th>1164</th>\n",
       "      <td>9</td>\n",
       "      <td>0.017003</td>\n",
       "      <td>6</td>\n",
       "      <td>3.373693</td>\n",
       "      <td>507</td>\n",
       "      <td>0.109356</td>\n",
       "      <td>0.073362</td>\n",
       "      <td>6</td>\n",
       "      <td>4.020225</td>\n",
       "    </tr>\n",
       "    <tr>\n",
       "      <th>1184</th>\n",
       "      <td>12</td>\n",
       "      <td>0.009075</td>\n",
       "      <td>4</td>\n",
       "      <td>3.740866</td>\n",
       "      <td>652</td>\n",
       "      <td>0.043719</td>\n",
       "      <td>-0.092753</td>\n",
       "      <td>4</td>\n",
       "      <td>4.023853</td>\n",
       "    </tr>\n",
       "    <tr>\n",
       "      <th>1292</th>\n",
       "      <td>9</td>\n",
       "      <td>0.007378</td>\n",
       "      <td>4</td>\n",
       "      <td>4.134807</td>\n",
       "      <td>714</td>\n",
       "      <td>0.038384</td>\n",
       "      <td>-0.035780</td>\n",
       "      <td>4</td>\n",
       "      <td>3.919984</td>\n",
       "    </tr>\n",
       "    <tr>\n",
       "      <th>1295</th>\n",
       "      <td>9</td>\n",
       "      <td>0.010922</td>\n",
       "      <td>5</td>\n",
       "      <td>3.949372</td>\n",
       "      <td>536</td>\n",
       "      <td>0.084052</td>\n",
       "      <td>0.090604</td>\n",
       "      <td>5</td>\n",
       "      <td>4.068902</td>\n",
       "    </tr>\n",
       "    <tr>\n",
       "      <th>1297</th>\n",
       "      <td>9</td>\n",
       "      <td>0.008858</td>\n",
       "      <td>3</td>\n",
       "      <td>3.988702</td>\n",
       "      <td>526</td>\n",
       "      <td>0.036308</td>\n",
       "      <td>-0.072311</td>\n",
       "      <td>3</td>\n",
       "      <td>4.113573</td>\n",
       "    </tr>\n",
       "    <tr>\n",
       "      <th>1360</th>\n",
       "      <td>11</td>\n",
       "      <td>0.007799</td>\n",
       "      <td>4</td>\n",
       "      <td>4.218583</td>\n",
       "      <td>634</td>\n",
       "      <td>0.048515</td>\n",
       "      <td>-0.038251</td>\n",
       "      <td>4</td>\n",
       "      <td>4.211514</td>\n",
       "    </tr>\n",
       "    <tr>\n",
       "      <th>1450</th>\n",
       "      <td>10</td>\n",
       "      <td>0.009176</td>\n",
       "      <td>4</td>\n",
       "      <td>4.119175</td>\n",
       "      <td>570</td>\n",
       "      <td>0.053809</td>\n",
       "      <td>-0.022387</td>\n",
       "      <td>4</td>\n",
       "      <td>4.099953</td>\n",
       "    </tr>\n",
       "    <tr>\n",
       "      <th>1531</th>\n",
       "      <td>9</td>\n",
       "      <td>0.008707</td>\n",
       "      <td>4</td>\n",
       "      <td>4.137373</td>\n",
       "      <td>581</td>\n",
       "      <td>0.052236</td>\n",
       "      <td>-0.013478</td>\n",
       "      <td>4</td>\n",
       "      <td>3.913947</td>\n",
       "    </tr>\n",
       "    <tr>\n",
       "      <th>1600</th>\n",
       "      <td>11</td>\n",
       "      <td>0.010493</td>\n",
       "      <td>5</td>\n",
       "      <td>3.776964</td>\n",
       "      <td>658</td>\n",
       "      <td>0.071786</td>\n",
       "      <td>0.051781</td>\n",
       "      <td>5</td>\n",
       "      <td>3.765454</td>\n",
       "    </tr>\n",
       "  </tbody>\n",
       "</table>\n",
       "<p>109 rows × 9 columns</p>\n",
       "</div>"
      ],
      "text/plain": [
       "      diameter   density  cliqu_number  avg_path_length  vcount      coef  \\\n",
       "0           10  0.007048             4         4.006278     811  0.046130   \n",
       "23          11  0.007713             4         4.507766     645  0.082356   \n",
       "26           9  0.010094             4         3.834869     671  0.085245   \n",
       "76          11  0.008663             5         3.784632     884  0.085279   \n",
       "83          10  0.006741             5         4.292213     771  0.070680   \n",
       "93           9  0.017420             6         3.348696     537  0.117879   \n",
       "99          10  0.009833             4         4.036160     546  0.067790   \n",
       "101         10  0.015422             5         3.546637     644  0.103105   \n",
       "113          9  0.009893             5         3.463167     962  0.078013   \n",
       "119         13  0.011040             5         4.087016     523  0.096398   \n",
       "123          9  0.011811             5         3.467255     705  0.075687   \n",
       "127         11  0.006908             4         4.482520     766  0.081566   \n",
       "133          9  0.007945             6         3.767559     982  0.075958   \n",
       "135         10  0.004801             4         4.589200     980  0.038791   \n",
       "139         12  0.007846             4         4.042862     712  0.048240   \n",
       "191          8  0.019436             5         3.182091     531  0.105352   \n",
       "210         10  0.012597             5         3.424480     705  0.086485   \n",
       "216          9  0.011692             6         3.642434     685  0.112962   \n",
       "225         10  0.006962             5         4.025006     813  0.054221   \n",
       "241         11  0.007287             4         4.492776     593  0.037943   \n",
       "244          8  0.015519             7         3.143508     824  0.104665   \n",
       "245         10  0.014713             6         3.310182     770  0.090983   \n",
       "254          9  0.017895             5         3.166288     578  0.108927   \n",
       "262          9  0.016842             8         2.998099     860  0.115645   \n",
       "263         10  0.010944             6         3.779353     644  0.098858   \n",
       "284         10  0.013694             5         3.308508     756  0.083455   \n",
       "292          8  0.013537             7         3.122125     951  0.100354   \n",
       "295         12  0.006017             3         4.935979     678  0.036197   \n",
       "308         10  0.007812             4         4.094665     675  0.044310   \n",
       "311          9  0.008463             4         3.970426     661  0.063701   \n",
       "...        ...       ...           ...              ...     ...       ...   \n",
       "617         12  0.011097             5         3.568180     778  0.076841   \n",
       "626          9  0.006991             5         3.847366     917  0.052630   \n",
       "650          9  0.024843             7         2.983086     502  0.121344   \n",
       "656          8  0.014029             5         3.378206     554  0.074153   \n",
       "662         10  0.008628             3         4.451744     505  0.042885   \n",
       "707         10  0.008448             4         4.209655     615  0.054330   \n",
       "709          9  0.011152             5         4.041306     503  0.084573   \n",
       "723         12  0.008015             4         4.508377     559  0.059718   \n",
       "746         10  0.007267             4         4.339524     619  0.041405   \n",
       "794         10  0.010842             4         3.912945     547  0.061052   \n",
       "871         12  0.008392             5         3.956777     840  0.084459   \n",
       "875          8  0.011804             5         3.664070     597  0.091927   \n",
       "891          9  0.009698             5         3.828251     620  0.054908   \n",
       "939          8  0.007260             6         3.817701     962  0.060192   \n",
       "953          9  0.012608             6         3.562845     634  0.084043   \n",
       "990         11  0.007606             5         4.171428     697  0.058092   \n",
       "1007         9  0.006431             4         4.056362     809  0.043266   \n",
       "1034        10  0.008218             6         3.942708     754  0.064773   \n",
       "1068        11  0.012871             5         3.847451     546  0.117968   \n",
       "1097        11  0.008337             4         4.264752     533  0.038340   \n",
       "1159        16  0.004765             4         4.834578     800  0.024965   \n",
       "1164         9  0.017003             6         3.373693     507  0.109356   \n",
       "1184        12  0.009075             4         3.740866     652  0.043719   \n",
       "1292         9  0.007378             4         4.134807     714  0.038384   \n",
       "1295         9  0.010922             5         3.949372     536  0.084052   \n",
       "1297         9  0.008858             3         3.988702     526  0.036308   \n",
       "1360        11  0.007799             4         4.218583     634  0.048515   \n",
       "1450        10  0.009176             4         4.119175     570  0.053809   \n",
       "1531         9  0.008707             4         4.137373     581  0.052236   \n",
       "1600        11  0.010493             5         3.776964     658  0.071786   \n",
       "\n",
       "      assortativity  omega  mean_rel  \n",
       "0         -0.048190      4  4.231024  \n",
       "23        -0.000315      4  3.934794  \n",
       "26         0.053556      4  3.884755  \n",
       "76         0.060497      5  3.838755  \n",
       "83        -0.028004      5  4.074843  \n",
       "93         0.051375      6  3.864795  \n",
       "99         0.025010      4  4.140526  \n",
       "101        0.066111      5  3.853154  \n",
       "113        0.069952      5  3.895581  \n",
       "119        0.022796      5  3.815753  \n",
       "123        0.024262      5  3.873678  \n",
       "127        0.148138      4  3.872090  \n",
       "133        0.068584      6  3.889992  \n",
       "135       -0.031830      4  4.192158  \n",
       "139        0.002658      4  4.098902  \n",
       "191        0.062325      5  3.778563  \n",
       "210        0.054661      5  3.905441  \n",
       "216        0.056817      6  3.889587  \n",
       "225       -0.021185      5  4.206053  \n",
       "241       -0.016690      4  3.998546  \n",
       "244        0.042707      7  3.963867  \n",
       "245        0.037332      6  3.868533  \n",
       "254        0.017578      5  3.889209  \n",
       "262        0.020740      8  3.855822  \n",
       "263        0.100168      6  4.013725  \n",
       "284        0.022517      5  3.915041  \n",
       "292        0.036503      7  3.872826  \n",
       "295       -0.038646      3  4.191948  \n",
       "308       -0.094822      4  4.076685  \n",
       "311       -0.068893      4  3.872010  \n",
       "...             ...    ...       ...  \n",
       "617        0.038867      5  3.839308  \n",
       "626        0.026576      5  3.934036  \n",
       "650       -0.022484      7  3.989376  \n",
       "656       -0.055521      5  3.872192  \n",
       "662       -0.056202      3  3.963461  \n",
       "707       -0.015012      4  4.142489  \n",
       "709       -0.008739      5  3.886136  \n",
       "723       -0.025821      4  3.855448  \n",
       "746       -0.003667      4  4.031727  \n",
       "794        0.054315      4  3.884453  \n",
       "871        0.098006      5  3.831667  \n",
       "875        0.062338      5  3.812443  \n",
       "891       -0.010832      5  4.141080  \n",
       "939       -0.006865      6  3.932336  \n",
       "953        0.113552      6  3.976822  \n",
       "990        0.001427      5  4.148482  \n",
       "1007      -0.074500      4  4.019144  \n",
       "1034       0.021772      6  4.047218  \n",
       "1068       0.099127      5  3.888178  \n",
       "1097      -0.048034      4  4.081574  \n",
       "1159      -0.064636      4  4.282141  \n",
       "1164       0.073362      6  4.020225  \n",
       "1184      -0.092753      4  4.023853  \n",
       "1292      -0.035780      4  3.919984  \n",
       "1295       0.090604      5  4.068902  \n",
       "1297      -0.072311      3  4.113573  \n",
       "1360      -0.038251      4  4.211514  \n",
       "1450      -0.022387      4  4.099953  \n",
       "1531      -0.013478      4  3.913947  \n",
       "1600       0.051781      5  3.765454  \n",
       "\n",
       "[109 rows x 9 columns]"
      ]
     },
     "execution_count": 878,
     "metadata": {},
     "output_type": "execute_result"
    }
   ],
   "source": [
    "sub_stats[(sub_stats.vcount>500)&(sub_stats.vcount<1000)]"
   ]
  },
  {
   "cell_type": "code",
   "execution_count": 791,
   "metadata": {
    "collapsed": true
   },
   "outputs": [
    {
     "data": {
      "text/html": [
       "<div>\n",
       "<table border=\"1\" class=\"dataframe\">\n",
       "  <thead>\n",
       "    <tr style=\"text-align: right;\">\n",
       "      <th></th>\n",
       "      <th>diameter</th>\n",
       "      <th>density</th>\n",
       "      <th>cliqu_number</th>\n",
       "      <th>avg_path_length</th>\n",
       "      <th>vcount</th>\n",
       "      <th>coef</th>\n",
       "      <th>assortativity</th>\n",
       "      <th>omega</th>\n",
       "      <th>mean_rel</th>\n",
       "    </tr>\n",
       "  </thead>\n",
       "  <tbody>\n",
       "    <tr>\n",
       "      <th>161</th>\n",
       "      <td>7</td>\n",
       "      <td>0.084898</td>\n",
       "      <td>4</td>\n",
       "      <td>3.130612</td>\n",
       "      <td>50</td>\n",
       "      <td>0.199052</td>\n",
       "      <td>0.091912</td>\n",
       "      <td>4</td>\n",
       "      <td>3.962115</td>\n",
       "    </tr>\n",
       "    <tr>\n",
       "      <th>740</th>\n",
       "      <td>7</td>\n",
       "      <td>0.078367</td>\n",
       "      <td>4</td>\n",
       "      <td>2.941224</td>\n",
       "      <td>50</td>\n",
       "      <td>0.172277</td>\n",
       "      <td>-0.192481</td>\n",
       "      <td>4</td>\n",
       "      <td>4.139583</td>\n",
       "    </tr>\n",
       "    <tr>\n",
       "      <th>1243</th>\n",
       "      <td>6</td>\n",
       "      <td>0.075102</td>\n",
       "      <td>4</td>\n",
       "      <td>2.925714</td>\n",
       "      <td>50</td>\n",
       "      <td>0.091371</td>\n",
       "      <td>-0.131392</td>\n",
       "      <td>4</td>\n",
       "      <td>4.567391</td>\n",
       "    </tr>\n",
       "    <tr>\n",
       "      <th>2088</th>\n",
       "      <td>6</td>\n",
       "      <td>0.120000</td>\n",
       "      <td>4</td>\n",
       "      <td>2.572245</td>\n",
       "      <td>50</td>\n",
       "      <td>0.208696</td>\n",
       "      <td>-0.237668</td>\n",
       "      <td>4</td>\n",
       "      <td>4.075238</td>\n",
       "    </tr>\n",
       "    <tr>\n",
       "      <th>2157</th>\n",
       "      <td>6</td>\n",
       "      <td>0.097143</td>\n",
       "      <td>5</td>\n",
       "      <td>2.779592</td>\n",
       "      <td>50</td>\n",
       "      <td>0.253406</td>\n",
       "      <td>-0.137362</td>\n",
       "      <td>5</td>\n",
       "      <td>4.067731</td>\n",
       "    </tr>\n",
       "    <tr>\n",
       "      <th>2203</th>\n",
       "      <td>6</td>\n",
       "      <td>0.102041</td>\n",
       "      <td>4</td>\n",
       "      <td>2.764898</td>\n",
       "      <td>50</td>\n",
       "      <td>0.193151</td>\n",
       "      <td>-0.098724</td>\n",
       "      <td>4</td>\n",
       "      <td>3.844000</td>\n",
       "    </tr>\n",
       "    <tr>\n",
       "      <th>2291</th>\n",
       "      <td>9</td>\n",
       "      <td>0.073469</td>\n",
       "      <td>4</td>\n",
       "      <td>3.481633</td>\n",
       "      <td>50</td>\n",
       "      <td>0.163324</td>\n",
       "      <td>0.085515</td>\n",
       "      <td>4</td>\n",
       "      <td>4.396444</td>\n",
       "    </tr>\n",
       "    <tr>\n",
       "      <th>2424</th>\n",
       "      <td>6</td>\n",
       "      <td>0.115102</td>\n",
       "      <td>5</td>\n",
       "      <td>2.613061</td>\n",
       "      <td>50</td>\n",
       "      <td>0.250000</td>\n",
       "      <td>-0.006722</td>\n",
       "      <td>5</td>\n",
       "      <td>4.261418</td>\n",
       "    </tr>\n",
       "    <tr>\n",
       "      <th>2623</th>\n",
       "      <td>5</td>\n",
       "      <td>0.140408</td>\n",
       "      <td>5</td>\n",
       "      <td>2.320816</td>\n",
       "      <td>50</td>\n",
       "      <td>0.237867</td>\n",
       "      <td>-0.161689</td>\n",
       "      <td>5</td>\n",
       "      <td>3.943081</td>\n",
       "    </tr>\n",
       "    <tr>\n",
       "      <th>3475</th>\n",
       "      <td>5</td>\n",
       "      <td>0.182041</td>\n",
       "      <td>7</td>\n",
       "      <td>2.051429</td>\n",
       "      <td>50</td>\n",
       "      <td>0.268487</td>\n",
       "      <td>-0.242926</td>\n",
       "      <td>7</td>\n",
       "      <td>3.756996</td>\n",
       "    </tr>\n",
       "    <tr>\n",
       "      <th>3671</th>\n",
       "      <td>5</td>\n",
       "      <td>0.137143</td>\n",
       "      <td>5</td>\n",
       "      <td>2.421224</td>\n",
       "      <td>50</td>\n",
       "      <td>0.256874</td>\n",
       "      <td>-0.022801</td>\n",
       "      <td>5</td>\n",
       "      <td>3.858452</td>\n",
       "    </tr>\n",
       "    <tr>\n",
       "      <th>3706</th>\n",
       "      <td>7</td>\n",
       "      <td>0.063673</td>\n",
       "      <td>4</td>\n",
       "      <td>3.131429</td>\n",
       "      <td>50</td>\n",
       "      <td>0.116883</td>\n",
       "      <td>-0.290286</td>\n",
       "      <td>4</td>\n",
       "      <td>4.517564</td>\n",
       "    </tr>\n",
       "    <tr>\n",
       "      <th>4134</th>\n",
       "      <td>6</td>\n",
       "      <td>0.112653</td>\n",
       "      <td>4</td>\n",
       "      <td>2.712653</td>\n",
       "      <td>50</td>\n",
       "      <td>0.215777</td>\n",
       "      <td>0.099405</td>\n",
       "      <td>4</td>\n",
       "      <td>4.013623</td>\n",
       "    </tr>\n",
       "    <tr>\n",
       "      <th>6143</th>\n",
       "      <td>8</td>\n",
       "      <td>0.089796</td>\n",
       "      <td>5</td>\n",
       "      <td>2.992653</td>\n",
       "      <td>50</td>\n",
       "      <td>0.198738</td>\n",
       "      <td>-0.030412</td>\n",
       "      <td>5</td>\n",
       "      <td>3.865273</td>\n",
       "    </tr>\n",
       "    <tr>\n",
       "      <th>7157</th>\n",
       "      <td>6</td>\n",
       "      <td>0.098776</td>\n",
       "      <td>4</td>\n",
       "      <td>2.824490</td>\n",
       "      <td>50</td>\n",
       "      <td>0.212121</td>\n",
       "      <td>-0.092440</td>\n",
       "      <td>4</td>\n",
       "      <td>4.040248</td>\n",
       "    </tr>\n",
       "    <tr>\n",
       "      <th>7892</th>\n",
       "      <td>7</td>\n",
       "      <td>0.057143</td>\n",
       "      <td>3</td>\n",
       "      <td>3.083265</td>\n",
       "      <td>50</td>\n",
       "      <td>0.048518</td>\n",
       "      <td>-0.322373</td>\n",
       "      <td>3</td>\n",
       "      <td>4.655857</td>\n",
       "    </tr>\n",
       "    <tr>\n",
       "      <th>14602</th>\n",
       "      <td>6</td>\n",
       "      <td>0.153469</td>\n",
       "      <td>5</td>\n",
       "      <td>2.202449</td>\n",
       "      <td>50</td>\n",
       "      <td>0.173913</td>\n",
       "      <td>-0.499109</td>\n",
       "      <td>5</td>\n",
       "      <td>3.663936</td>\n",
       "    </tr>\n",
       "    <tr>\n",
       "      <th>22169</th>\n",
       "      <td>5</td>\n",
       "      <td>0.144490</td>\n",
       "      <td>5</td>\n",
       "      <td>2.339592</td>\n",
       "      <td>50</td>\n",
       "      <td>0.295717</td>\n",
       "      <td>-0.044063</td>\n",
       "      <td>5</td>\n",
       "      <td>4.249153</td>\n",
       "    </tr>\n",
       "    <tr>\n",
       "      <th>40189</th>\n",
       "      <td>6</td>\n",
       "      <td>0.071020</td>\n",
       "      <td>4</td>\n",
       "      <td>2.941224</td>\n",
       "      <td>50</td>\n",
       "      <td>0.126761</td>\n",
       "      <td>-0.264840</td>\n",
       "      <td>4</td>\n",
       "      <td>4.460690</td>\n",
       "    </tr>\n",
       "  </tbody>\n",
       "</table>\n",
       "</div>"
      ],
      "text/plain": [
       "       diameter   density  cliqu_number  avg_path_length  vcount      coef  \\\n",
       "161           7  0.084898             4         3.130612      50  0.199052   \n",
       "740           7  0.078367             4         2.941224      50  0.172277   \n",
       "1243          6  0.075102             4         2.925714      50  0.091371   \n",
       "2088          6  0.120000             4         2.572245      50  0.208696   \n",
       "2157          6  0.097143             5         2.779592      50  0.253406   \n",
       "2203          6  0.102041             4         2.764898      50  0.193151   \n",
       "2291          9  0.073469             4         3.481633      50  0.163324   \n",
       "2424          6  0.115102             5         2.613061      50  0.250000   \n",
       "2623          5  0.140408             5         2.320816      50  0.237867   \n",
       "3475          5  0.182041             7         2.051429      50  0.268487   \n",
       "3671          5  0.137143             5         2.421224      50  0.256874   \n",
       "3706          7  0.063673             4         3.131429      50  0.116883   \n",
       "4134          6  0.112653             4         2.712653      50  0.215777   \n",
       "6143          8  0.089796             5         2.992653      50  0.198738   \n",
       "7157          6  0.098776             4         2.824490      50  0.212121   \n",
       "7892          7  0.057143             3         3.083265      50  0.048518   \n",
       "14602         6  0.153469             5         2.202449      50  0.173913   \n",
       "22169         5  0.144490             5         2.339592      50  0.295717   \n",
       "40189         6  0.071020             4         2.941224      50  0.126761   \n",
       "\n",
       "       assortativity  omega  mean_rel  \n",
       "161         0.091912      4  3.962115  \n",
       "740        -0.192481      4  4.139583  \n",
       "1243       -0.131392      4  4.567391  \n",
       "2088       -0.237668      4  4.075238  \n",
       "2157       -0.137362      5  4.067731  \n",
       "2203       -0.098724      4  3.844000  \n",
       "2291        0.085515      4  4.396444  \n",
       "2424       -0.006722      5  4.261418  \n",
       "2623       -0.161689      5  3.943081  \n",
       "3475       -0.242926      7  3.756996  \n",
       "3671       -0.022801      5  3.858452  \n",
       "3706       -0.290286      4  4.517564  \n",
       "4134        0.099405      4  4.013623  \n",
       "6143       -0.030412      5  3.865273  \n",
       "7157       -0.092440      4  4.040248  \n",
       "7892       -0.322373      3  4.655857  \n",
       "14602      -0.499109      5  3.663936  \n",
       "22169      -0.044063      5  4.249153  \n",
       "40189      -0.264840      4  4.460690  "
      ]
     },
     "execution_count": 791,
     "metadata": {},
     "output_type": "execute_result"
    }
   ],
   "source": [
    "Wsubg_stats[Wsubg_stats.vcount==50]"
   ]
  },
  {
   "cell_type": "code",
   "execution_count": 935,
   "metadata": {
    "collapsed": false
   },
   "outputs": [
    {
     "data": {
      "text/plain": [
       "<matplotlib.axes._subplots.AxesSubplot at 0x7ffef9b7f1d0>"
      ]
     },
     "execution_count": 935,
     "metadata": {},
     "output_type": "execute_result"
    },
    {
     "data": {
      "image/png": "[encoded data removed]",
      "text/plain": [
       "<matplotlib.figure.Figure at 0x7fff69f86dd0>"
      ]
     },
     "metadata": {},
     "output_type": "display_data"
    }
   ],
   "source": [
    "sub_now_diff.density.plot(xlim=(50,1000))"
   ]
  },
  {
   "cell_type": "markdown",
   "metadata": {},
   "source": [
    "- 社区规模为50。同等社区规模下的比较"
   ]
  },
  {
   "cell_type": "code",
   "execution_count": 796,
   "metadata": {
    "collapsed": false
   },
   "outputs": [],
   "source": [
    "rel_comm_lpa.subgraph(619).save('comm_result/lpa50.net')"
   ]
  },
  {
   "cell_type": "code",
   "execution_count": 797,
   "metadata": {
    "collapsed": false
   },
   "outputs": [],
   "source": [
    "relW_comm.subgraph(40189).save('comm_result/Wlpa50.net')"
   ]
  },
  {
   "cell_type": "markdown",
   "metadata": {},
   "source": [
    " - LPA区别"
   ]
  },
  {
   "cell_type": "code",
   "execution_count": 920,
   "metadata": {
    "collapsed": true
   },
   "outputs": [
    {
     "data": {
      "text/plain": [
       "0     375\n",
       "1     162\n",
       "4      26\n",
       "9      14\n",
       "5      11\n",
       "2       9\n",
       "7       5\n",
       "3       4\n",
       "6       4\n",
       "8       4\n",
       "10      4\n",
       "12      3\n",
       "13      3\n",
       "15      3\n",
       "19      3\n",
       "20      2\n",
       "11      2\n",
       "14      2\n",
       "16      2\n",
       "17      2\n",
       "18      2\n",
       "21      2\n",
       "Name: 0, dtype: int64"
      ]
     },
     "execution_count": 920,
     "metadata": {},
     "output_type": "execute_result"
    }
   ],
   "source": [
    "lpaComm=rel_comm_lpa.subgraph(263)  ###644\n",
    "wlpa_r=lpaComm.community_label_propagation(weights='weight')\n",
    "ss=pd.DataFrame(wlpa_r.membership)\n",
    "ss[0].value_counts()\n"
   ]
  },
  {
   "cell_type": "code",
   "execution_count": 808,
   "metadata": {
    "collapsed": false
   },
   "outputs": [
    {
     "data": {
      "text/plain": [
       "'Clustering with 2382 elements and 31 clusters'"
      ]
     },
     "execution_count": 808,
     "metadata": {},
     "output_type": "execute_result"
    }
   ],
   "source": [
    "wlpa_r.summary()"
   ]
  },
  {
   "cell_type": "markdown",
   "metadata": {},
   "source": [
    "- 给聚类节点条件标签"
   ]
  },
  {
   "cell_type": "code",
   "execution_count": 921,
   "metadata": {
    "collapsed": false
   },
   "outputs": [],
   "source": [
    "wlpaG=wlpa_r.graph\n",
    "wlpaG.vs['clu']=wlpa_r.membership   "
   ]
  },
  {
   "cell_type": "code",
   "execution_count": 922,
   "metadata": {
    "collapsed": true
   },
   "outputs": [],
   "source": [
    "wlpaG.write_graphml('comm_result/lpa_to_wlpa.graphml')"
   ]
  },
  {
   "cell_type": "markdown",
   "metadata": {},
   "source": [
    "###  整体效果"
   ]
  },
  {
   "cell_type": "code",
   "execution_count": 1043,
   "metadata": {
    "collapsed": false
   },
   "outputs": [],
   "source": [
    "rel_commG=rel_comm_lpa.cluster_graph()\n",
    "relW_commG=relW_comm.cluster_graph()"
   ]
  },
  {
   "cell_type": "code",
   "execution_count": 1045,
   "metadata": {
    "collapsed": false
   },
   "outputs": [
    {
     "data": {
      "text/plain": [
       "'IGRAPH U--- 13749 100066 -- '"
      ]
     },
     "execution_count": 1045,
     "metadata": {},
     "output_type": "execute_result"
    }
   ],
   "source": [
    "rel_commG.summary()"
   ]
  },
  {
   "cell_type": "code",
   "execution_count": 1046,
   "metadata": {
    "collapsed": false
   },
   "outputs": [
    {
     "data": {
      "text/plain": [
       "'IGRAPH U--- 111698 1019926 -- '"
      ]
     },
     "execution_count": 1046,
     "metadata": {},
     "output_type": "execute_result"
    }
   ],
   "source": [
    "relW_commG.summary()"
   ]
  },
  {
   "cell_type": "code",
   "execution_count": 1059,
   "metadata": {
    "collapsed": false
   },
   "outputs": [
    {
     "data": {
      "text/plain": [
       "0.0010587804169237013"
      ]
     },
     "execution_count": 1059,
     "metadata": {},
     "output_type": "execute_result"
    }
   ],
   "source": [
    "rel_commG.density()"
   ]
  },
  {
   "cell_type": "code",
   "execution_count": 1060,
   "metadata": {
    "collapsed": false
   },
   "outputs": [
    {
     "data": {
      "text/plain": [
       "0.00016349773962153966"
      ]
     },
     "execution_count": 1060,
     "metadata": {},
     "output_type": "execute_result"
    }
   ],
   "source": [
    "relW_commG.density()"
   ]
  },
  {
   "cell_type": "code",
   "execution_count": 1057,
   "metadata": {
    "collapsed": false
   },
   "outputs": [
    {
     "data": {
      "text/plain": [
       "0.13232951078280336"
      ]
     },
     "execution_count": 1057,
     "metadata": {},
     "output_type": "execute_result"
    }
   ],
   "source": [
    "rel_commG.transitivity_undirected()"
   ]
  },
  {
   "cell_type": "code",
   "execution_count": 1058,
   "metadata": {
    "collapsed": false
   },
   "outputs": [
    {
     "data": {
      "text/plain": [
       "0.012890534988558664"
      ]
     },
     "execution_count": 1058,
     "metadata": {},
     "output_type": "execute_result"
    }
   ],
   "source": [
    "relW_commG.transitivity_undirected()"
   ]
  },
  {
   "cell_type": "code",
   "execution_count": 1055,
   "metadata": {
    "collapsed": false
   },
   "outputs": [],
   "source": [
    "rel_commG.vs['clu_size']=rel_comm_lpa.sizes()"
   ]
  },
  {
   "cell_type": "code",
   "execution_count": 1056,
   "metadata": {
    "collapsed": true
   },
   "outputs": [],
   "source": [
    "rel_commG.write_graphml('comm_result/rel_commG.graphml')"
   ]
  }
 ],
 "metadata": {
  "anaconda-cloud": {},
  "kernelspec": {
   "display_name": "Python [conda root]",
   "language": "python",
   "name": "conda-root-py"
  },
  "language_info": {
   "codemirror_mode": {
    "name": "ipython",
    "version": 2
   },
   "file_extension": ".py",
   "mimetype": "text/x-python",
   "name": "python",
   "nbconvert_exporter": "python",
   "pygments_lexer": "ipython2",
   "version": "2.7.12"
  }
 },
 "nbformat": 4,
 "nbformat_minor": 1
}
