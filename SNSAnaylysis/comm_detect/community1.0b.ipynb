{
 "cells": [
  {
   "cell_type": "code",
   "execution_count": 1,
   "metadata": {
    "collapsed": true
   },
   "outputs": [],
   "source": [
    "-"
   ]
  },
  {
   "cell_type": "code",
   "execution_count": 2,
   "metadata": {
    "collapsed": false
   },
   "outputs": [
    {
     "name": "stderr",
     "output_type": "stream",
     "text": [
      "/opt/anaconda2/lib/python2.7/site-packages/IPython/core/interactiveshell.py:2717: DtypeWarning: Columns (1) have mixed types. Specify dtype option on import or set low_memory=False.\n",
      "  interactivity=interactivity, compiler=compiler, result=result)\n"
     ]
    }
   ],
   "source": [
    "call_record=pd.read_csv('chapter1data/net_rel.csv',index_col=0)\n",
    "call_record=call_record[call_record.custorm_id!=call_record.cust_b]\n",
    "g=getGraph(call_record.values)"
   ]
  },
  {
   "cell_type": "code",
   "execution_count": 3,
   "metadata": {
    "collapsed": false
   },
   "outputs": [
    {
     "name": "stdout",
     "output_type": "stream",
     "text": [
      "节点个数： 67140\n",
      "边的个数: 291961\n",
      "图密度: 0.000129538431118\n"
     ]
    }
   ],
   "source": [
    "MaxScc=g.decompose(maxcompno=True)[0]   ##最大联通分量\n",
    "names=MaxScc.vs['name']\n",
    "## 可以调节度的大小进行缩放网络\n",
    "min_degree=30\n",
    "v3=MaxScc.vs.select(_degree_gt=min_degree)   ## 选择度大于1的节点并组成子图 ；尽量去除那些叶子节点\n",
    "rel_net=MaxScc.subgraph(v3)               ## 并构成子图求出子图中的最大联通分量\n",
    "rel_net=rel_net.decompose(maxcompno=True)[0]\n",
    "print '节点个数：',rel_net.vcount()\n",
    "print '边的个数:',rel_net.ecount()\n",
    "print '图密度:',rel_net.density()\n",
    "# print '直径：',rel_net.diameter()\n",
    "# print '聚集系数：',rel_net.transitivity_undirected()"
   ]
  },
  {
   "cell_type": "code",
   "execution_count": 10,
   "metadata": {
    "collapsed": false
   },
   "outputs": [
    {
     "name": "stdout",
     "output_type": "stream",
     "text": [
      "CPU times: user 1.4 s, sys: 0 ns, total: 1.4 s\n",
      "Wall time: 1.4 s\n"
     ]
    }
   ],
   "source": [
    "%time relW_comm=rel_net.community_label_propagation(weights='weight')"
   ]
  },
  {
   "cell_type": "code",
   "execution_count": 20,
   "metadata": {
    "collapsed": false
   },
   "outputs": [
    {
     "data": {
      "text/plain": [
       "0.0"
      ]
     },
     "execution_count": 20,
     "metadata": {},
     "output_type": "execute_result"
    }
   ],
   "source": [
    "relW_comm.compare_to()  ##比较两种社区划分的效果,0表示相似"
   ]
  },
  {
   "cell_type": "code",
   "execution_count": 32,
   "metadata": {
    "collapsed": false
   },
   "outputs": [],
   "source": [
    "max_comm=relW_comm.giant()"
   ]
  },
  {
   "cell_type": "code",
   "execution_count": 35,
   "metadata": {
    "collapsed": false
   },
   "outputs": [],
   "source": [
    "max_comm_clu=max_comm.community_label_propagation()"
   ]
  },
  {
   "cell_type": "code",
   "execution_count": 38,
   "metadata": {
    "collapsed": false
   },
   "outputs": [
    {
     "data": {
      "text/plain": [
       "'Clustering with 2584 elements and 7 clusters'"
      ]
     },
     "execution_count": 38,
     "metadata": {},
     "output_type": "execute_result"
    }
   ],
   "source": [
    "max_comm_clu.summary()"
   ]
  },
  {
   "cell_type": "code",
   "execution_count": 51,
   "metadata": {
    "collapsed": false
   },
   "outputs": [],
   "source": [
    "comm_cover=max_comm_clu.as_cover()"
   ]
  },
  {
   "cell_type": "code",
   "execution_count": 132,
   "metadata": {
    "collapsed": false
   },
   "outputs": [],
   "source": [
    "df=pd.DataFrame()\n",
    "for i in range(7):\n",
    "    c=comm_cover.subgraph(i).vs['name']\n",
    "    df=pd.concat([df,pd.DataFrame(np.array([c,[i]*len(c)])).T],axis=0)\n",
    "## 写入顶点\n",
    "f=open('dd.net','w')\n",
    "f.write('*Vertices '+str(df.shape[0])+'\\n')\n",
    "for line in df.values:\n",
    "    f.write(str(line[0])+' \"'+str(line[1])+'\"\\n')\n",
    "\n",
    "f.write('*Edges'+'\\n')\n",
    "edges=pd.DataFrame([list(line.tuple)  for line in  list(max_s.es)])\n",
    "edges['weight']=max_s.es['weight']\n",
    "for line in edges.values:\n",
    "    f.write(str(int(line[0]))+' '+str(int(line[1]))+' '+str(line[2])+'\\n')\n",
    "f.close()\n"
   ]
  },
  {
   "cell_type": "code",
   "execution_count": 146,
   "metadata": {
    "collapsed": false
   },
   "outputs": [],
   "source": [
    "import igraph  as ig"
   ]
  },
  {
   "cell_type": "code",
   "execution_count": 148,
   "metadata": {
    "collapsed": false
   },
   "outputs": [],
   "source": [
    "ig.compare_communities()   ##比较社区结构"
   ]
  },
  {
   "cell_type": "code",
   "execution_count": 154,
   "metadata": {
    "collapsed": true
   },
   "outputs": [],
   "source": [
    "ig.Graph.union\n",
    "\n",
    "\n"
   ]
  },
  {
   "cell_type": "code",
   "execution_count": 244,
   "metadata": {
    "collapsed": false
   },
   "outputs": [],
   "source": [
    "subg1=max_comm_clu.subgraph(1)\n",
    "subg1.vs['clu']=['1']*85"
   ]
  },
  {
   "cell_type": "code",
   "execution_count": 261,
   "metadata": {
    "collapsed": false
   },
   "outputs": [
    {
     "data": {
      "text/plain": [
       "85"
      ]
     },
     "execution_count": 261,
     "metadata": {},
     "output_type": "execute_result"
    }
   ],
   "source": [
    "subg1.vcount()"
   ]
  },
  {
   "cell_type": "code",
   "execution_count": 245,
   "metadata": {
    "collapsed": false
   },
   "outputs": [],
   "source": [
    "for i in range(2,6):\n",
    "    subg2=max_comm_clu.subgraph(i)\n",
    "    subg2.es['clu']=[str(i)]*subg2.vcount()\n",
    "    x=subg1.union(subg2)\n",
    "    \n",
    "# subg2.vs['clu']=['1']*85"
   ]
  },
  {
   "cell_type": "code",
   "execution_count": 260,
   "metadata": {
    "collapsed": false
   },
   "outputs": [
    {
     "data": {
      "text/plain": [
       "8"
      ]
     },
     "execution_count": 260,
     "metadata": {},
     "output_type": "execute_result"
    }
   ],
   "source": [
    "subg2.vcount()"
   ]
  },
  {
   "cell_type": "code",
   "execution_count": 204,
   "metadata": {
    "collapsed": false
   },
   "outputs": [],
   "source": [
    "x=subg2.union(max_comm_clu.subgraph(3))"
   ]
  },
  {
   "cell_type": "code",
   "execution_count": 222,
   "metadata": {
    "collapsed": false
   },
   "outputs": [],
   "source": [
    "x=[IGraph.union(line,subg)  for line in max_comm_clu.subgraphs()[1:]]"
   ]
  },
  {
   "cell_type": "code",
   "execution_count": 225,
   "metadata": {
    "collapsed": false
   },
   "outputs": [
    {
     "data": {
      "text/plain": [
       "[1224125, 43261, 4217713, 1310798, 208002, 1748808, 211406, 1010473]"
      ]
     },
     "execution_count": 225,
     "metadata": {},
     "output_type": "execute_result"
    }
   ],
   "source": [
    "subg2.vs['name']"
   ]
  },
  {
   "cell_type": "code",
   "execution_count": 247,
   "metadata": {
    "collapsed": false
   },
   "outputs": [],
   "source": [
    "x=subg1.union(subg2)"
   ]
  },
  {
   "cell_type": "code",
   "execution_count": 259,
   "metadata": {
    "collapsed": false
   },
   "outputs": [
    {
     "data": {
      "text/plain": [
       "85"
      ]
     },
     "execution_count": 259,
     "metadata": {},
     "output_type": "execute_result"
    }
   ],
   "source": [
    "pose(subg2)\n",
    "x.vcount()"
   ]
  },
  {
   "cell_type": "code",
   "execution_count": 346,
   "metadata": {
    "collapsed": false
   },
   "outputs": [
    {
     "data": {
      "text/plain": [
       "'Clustering with 85 elements and 22 clusters'"
      ]
     },
     "execution_count": 346,
     "metadata": {},
     "output_type": "execute_result"
    }
   ],
   "source": [
    "subg.community_infomap().summary()"
   ]
  },
  {
   "cell_type": "code",
   "execution_count": 188,
   "metadata": {
    "collapsed": false
   },
   "outputs": [],
   "source": [
    "# subg.write_svg('sub.svg')\n",
    "subg.write_graphml('subg.graphml')"
   ]
  },
  {
   "cell_type": "code",
   "execution_count": 107,
   "metadata": {
    "collapsed": false
   },
   "outputs": [],
   "source": [
    "edges.to_excel('dd.xls')"
   ]
  }
 ],
 "metadata": {
  "anaconda-cloud": {},
  "kernelspec": {
   "display_name": "Python [conda root]",
   "language": "python",
   "name": "conda-root-py"
  },
  "language_info": {
   "codemirror_mode": {
    "name": "ipython",
    "version": 2
   },
   "file_extension": ".py",
   "mimetype": "text/x-python",
   "name": "python",
   "nbconvert_exporter": "python",
   "pygments_lexer": "ipython2",
   "version": "2.7.12"
  }
 },
 "nbformat": 4,
 "nbformat_minor": 1
}
