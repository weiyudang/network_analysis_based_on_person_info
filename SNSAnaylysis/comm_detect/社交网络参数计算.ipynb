{
 "cells": [
  {
   "cell_type": "code",
   "execution_count": 210,
   "metadata": {
    "collapsed": true
   },
   "outputs": [],
   "source": [
    "%matplotlib  inline \n",
    "import pandas as pd\n",
    "import numpy as np\n",
    "from igraph  import Graph as IGraph\n",
    "def getGraph(GV,flag=False): \n",
    "    '''图的构件，输入的是numpy的数组，如果3表示图是带权重的，否则没有权重\n",
    "    '''\n",
    "    \n",
    "    if GV.shape[1]==3:\n",
    "        g=IGraph.TupleList(GV,directed=flag,vertex_name_attr='name',weights=True)  ## 构建图\n",
    "    else:\n",
    "        g=IGraph.TupleList(GV,directed=flag,vertex_name_attr='name')  ## 构建图\n",
    "    return  g\n",
    "\n",
    "def getStats(g):\n",
    "    '''diameter,density,cliqu_number,avg_path_length,vcount,coef,assortativity,omega,mean_weights'''\n",
    "    return  [g.diameter(),g.density(),g.clique_number(),g.average_path_length(),\\\n",
    "            g.vcount(),\\\n",
    "            g.transitivity_undirected(),## 聚集系数\n",
    "            g.assortativity_degree(directed=False)  ##同配系数\n",
    "#             g.omega()\n",
    "#             np.array(g.es['weight']).mean()\n",
    "            ]  \n",
    "        \n",
    "\n",
    "        \n",
    "def GetCommStats(rel_net):\n",
    "    g=getGraph(rel_net)\n",
    "    names=g.vs['name']\n",
    "    weights=g.es['weight']\n",
    "    cluster=IGraph.community_label_propagation(g,weights='weight').as_cover()\n",
    "    if data.shape[1]==3:\n",
    "        pg_df=pd.DataFrame(g.pagerank(weights='weight'),index=names,columns=['pg'])\n",
    "    else:\n",
    "        pg_df=pd.DataFrame(g.pagerank(weights='weight'),index=names,columns=['pg'])\n",
    "\n",
    "    cluster=[line for line in  list(cluster)  if line>6]\n",
    "\n",
    "    columns=['diameter','density','clique_number','average_path_length','nums','coef','pg_mean']\n",
    "    comm_stats=[]\n",
    "    for line in cluster:\n",
    "        pg_mean=pg_df.iloc[line].mean().values[0]\n",
    "        gs=getStats(g.subgraph(line))+[pg_mean]\n",
    "        comm_stats.append(gs)\n",
    "    x=pd.DataFrame(comm_stats,columns=columns)\n",
    "    return x\n",
    "\n",
    "def getClusterStats(g,cluster):\n",
    "    cluster=[line for line in  list(cluster)  if line>6]\n",
    "\n",
    "    columns=['diameter','density','clique_number','average_path_length','nums','coef']\n",
    "    comm_stats=[]\n",
    "    for line in cluster:\n",
    "        pg_mean=pg_df.iloc[line].mean().values[0]\n",
    "        gs=getStats(g.subgraph(line))+[pg_mean]\n",
    "        comm_stats.append(gs)\n",
    "    x=pd.DataFrame(comm_stats,columns=columns)\n",
    "    return x\n",
    "\n",
    "from multiprocessing  import Pool\n",
    "import igraph  as ig \n",
    "def getCommStats(comm):\n",
    "    '''获取每个社区的特性'''\n",
    "    if isinstance(sms_com,ig.clustering.VertexClustering):\n",
    "        comm=comm.subgraphs()\n",
    "    pool=Pool(8)\n",
    "    sub_stats=pool.map(getStats,comm)\n",
    "    pool.close()\n",
    "    pool.join()\n",
    "    columns='diameter,density,cliqu_number,avg_path_length,vcount,coef,assortativity,omega,mean_rel'.split(',')\n",
    "#     sub_stats=map(getStats,rel_comm_lpa.subgraphs())\n",
    "    sub_stats=pd.DataFrame(sub_stats,columns=columns)\n",
    "    return sub_stats\n",
    "def GetGVlues(fname):\n",
    "    df=pd.read_csv(fname,index_col=0)\n",
    "    df=df[df.cust_a!=df.cust_b]\n",
    "    print df.shape[0]\n",
    "    g=getGraph(df.values,flag=True)\n",
    "    return g"
   ]
  },
  {
   "cell_type": "code",
   "execution_count": null,
   "metadata": {
    "collapsed": true
   },
   "outputs": [],
   "source": [
    "call_record=pd.read_csv('chapter1data/net_rel.csv',index_col=0)\n",
    "call_record=call_record[call_record.custorm_id!=call_record.cust_b]\n",
    "g=getGraph(call_record.values)\n"
   ]
  },
  {
   "cell_type": "code",
   "execution_count": null,
   "metadata": {
    "collapsed": true
   },
   "outputs": [],
   "source": [
    "app_conatcts=getGraph('chapter1data/app_contacts.csv',U=False)\n",
    "sms=getGraph('chapter1data/sms_net.csv',U=False)\n",
    "# call_record=getGraph('chapter1data/call_record_net.csv',U=False)"
   ]
  },
  {
   "cell_type": "code",
   "execution_count": 175,
   "metadata": {
    "collapsed": false
   },
   "outputs": [
    {
     "name": "stdout",
     "output_type": "stream",
     "text": [
      "18520891\n",
      "11391669\n",
      "5209265\n"
     ]
    }
   ],
   "source": [
    "MPC=GetGVlues('chapter1data/app_contacts.csv')\n",
    "CDR=GetGVlues('chapter1data/call_record_net.csv')\n",
    "SMS=GetGVlues('chapter1data/sms_net.csv')"
   ]
  },
  {
   "cell_type": "markdown",
   "metadata": {},
   "source": [
    "##   全局结构特性计算"
   ]
  },
  {
   "cell_type": "code",
   "execution_count": 160,
   "metadata": {
    "collapsed": true
   },
   "outputs": [],
   "source": [
    "Gdict={'MPC':MPC,'CDR':CDR,'SMS':SMS}"
   ]
  },
  {
   "cell_type": "code",
   "execution_count": 3,
   "metadata": {
    "collapsed": false
   },
   "outputs": [],
   "source": [
    "MPC_clu=MPC.community_label_propagation()\n",
    "# CDR_clu=CDR.community_label_propagation()\n",
    "SMS_clu=SMS.community_label_propagation()"
   ]
  },
  {
   "cell_type": "code",
   "execution_count": 148,
   "metadata": {
    "collapsed": false
   },
   "outputs": [
    {
     "data": {
      "text/plain": [
       "<dictionary-itemiterator at 0x7fffabc10158>"
      ]
     },
     "execution_count": 148,
     "metadata": {},
     "output_type": "execute_result"
    }
   ],
   "source": [
    "Gdict.iteritems()"
   ]
  },
  {
   "cell_type": "code",
   "execution_count": 149,
   "metadata": {
    "collapsed": false
   },
   "outputs": [
    {
     "name": "stdout",
     "output_type": "stream",
     "text": [
      "SMS -0.00777656392003\n",
      "MPC 0.00297657340001\n",
      "CDR -0.00204483891518\n"
     ]
    }
   ],
   "source": [
    "for x,y in Gdict.iteritems():\n",
    "    print  x,y.assortativity_degree()"
   ]
  },
  {
   "cell_type": "code",
   "execution_count": 161,
   "metadata": {
    "collapsed": false
   },
   "outputs": [
    {
     "name": "stdout",
     "output_type": "stream",
     "text": [
      "SMS 0.0255365659244\n",
      "MPC 0.0053106797213\n",
      "CDR -0.0216421709658\n"
     ]
    }
   ],
   "source": [
    "for x,y in Gdict.iteritems():\n",
    "    print  x,y.assortativity_degree()"
   ]
  },
  {
   "cell_type": "code",
   "execution_count": 169,
   "metadata": {
    "collapsed": true
   },
   "outputs": [],
   "source": [
    "del_node=lambda  G:G.vs.select(_degree_gt=500).delete()\n",
    "del_node(MPC)"
   ]
  },
  {
   "cell_type": "code",
   "execution_count": 172,
   "metadata": {
    "collapsed": false
   },
   "outputs": [
    {
     "name": "stdout",
     "output_type": "stream",
     "text": [
      "SMS 0.0516431357806\n",
      "MPC 0.130167054406\n",
      "CDR 0.0112964616639\n"
     ]
    }
   ],
   "source": [
    "for x,y in Gdict.iteritems():\n",
    "    print  x,y.assortativity_degree(False)"
   ]
  },
  {
   "cell_type": "code",
   "execution_count": 171,
   "metadata": {
    "collapsed": false
   },
   "outputs": [
    {
     "name": "stdout",
     "output_type": "stream",
     "text": [
      "SMS 0.2351857565\n",
      "MPC 0.221991455306\n",
      "CDR 0.0161989974145\n"
     ]
    }
   ],
   "source": [
    "for x,y in Gdict.iteritems():\n",
    "    print  x,y.assortativity_degree()"
   ]
  },
  {
   "cell_type": "code",
   "execution_count": 8,
   "metadata": {
    "collapsed": false
   },
   "outputs": [
    {
     "data": {
      "text/html": [
       "<div>\n",
       "<table border=\"1\" class=\"dataframe\">\n",
       "  <thead>\n",
       "    <tr style=\"text-align: right;\">\n",
       "      <th></th>\n",
       "      <th>cust_a</th>\n",
       "      <th>cust_b</th>\n",
       "    </tr>\n",
       "  </thead>\n",
       "  <tbody>\n",
       "    <tr>\n",
       "      <th>0</th>\n",
       "      <td>1000498</td>\n",
       "      <td>154011</td>\n",
       "    </tr>\n",
       "    <tr>\n",
       "      <th>1</th>\n",
       "      <td>1000643</td>\n",
       "      <td>2028579</td>\n",
       "    </tr>\n",
       "    <tr>\n",
       "      <th>2</th>\n",
       "      <td>1000672</td>\n",
       "      <td>84810</td>\n",
       "    </tr>\n",
       "  </tbody>\n",
       "</table>\n",
       "</div>"
      ],
      "text/plain": [
       "    cust_a   cust_b\n",
       "0  1000498   154011\n",
       "1  1000643  2028579\n",
       "2  1000672    84810"
      ]
     },
     "execution_count": 8,
     "metadata": {},
     "output_type": "execute_result"
    }
   ],
   "source": [
    "SMS=pd.read_csv('chapter1data/call_record_net.csv',index_col=0)\n",
    "SMS.head(3)"
   ]
  },
  {
   "cell_type": "code",
   "execution_count": 28,
   "metadata": {
    "collapsed": false
   },
   "outputs": [],
   "source": [
    "mpc_stats=getStats(MPC_clu.subgraph(67))"
   ]
  },
  {
   "cell_type": "code",
   "execution_count": 33,
   "metadata": {
    "collapsed": true
   },
   "outputs": [],
   "source": [
    "getStats?  ##diameter,density,cliqu_number,avg_path_length,vcount,coef,assortativity,omega"
   ]
  },
  {
   "cell_type": "code",
   "execution_count": null,
   "metadata": {
    "collapsed": true
   },
   "outputs": [],
   "source": []
  },
  {
   "cell_type": "code",
   "execution_count": 32,
   "metadata": {
    "collapsed": false
   },
   "outputs": [
    {
     "data": {
      "text/plain": [
       "[16,\n",
       " 8.270481462795377e-05,\n",
       " 10,\n",
       " 6.189767372605167,\n",
       " 64361,\n",
       " 0.04304632549945,\n",
       " 0.041758109742633075,\n",
       " 10]"
      ]
     },
     "execution_count": 32,
     "metadata": {},
     "output_type": "execute_result"
    }
   ],
   "source": [
    "mpc_stats"
   ]
  },
  {
   "cell_type": "code",
   "execution_count": 31,
   "metadata": {
    "collapsed": false
   },
   "outputs": [],
   "source": [
    "sms_stats=getStats(SMS_clu.giant())"
   ]
  },
  {
   "cell_type": "code",
   "execution_count": 53,
   "metadata": {
    "collapsed": false
   },
   "outputs": [],
   "source": [
    "x=SMS.components(1).giant()"
   ]
  },
  {
   "cell_type": "code",
   "execution_count": 62,
   "metadata": {
    "collapsed": false
   },
   "outputs": [
    {
     "data": {
      "text/plain": [
       "[6,\n",
       " 0.15644753476611886,\n",
       " 6,\n",
       " 2.1338495575221237,\n",
       " 113,\n",
       " 0.1638215599358672,\n",
       " -0.48049984024075676,\n",
       " 6]"
      ]
     },
     "execution_count": 62,
     "metadata": {},
     "output_type": "execute_result"
    }
   ],
   "source": [
    "getStats(SMS_clu.subgraph(11))"
   ]
  },
  {
   "cell_type": "code",
   "execution_count": 34,
   "metadata": {
    "collapsed": false
   },
   "outputs": [
    {
     "data": {
      "text/plain": [
       "[11,\n",
       " 0.0003097094195711242,\n",
       " 4,\n",
       " 2.8800974411042115,\n",
       " 8267,\n",
       " 0.00015083629241746988,\n",
       " -0.32951557038214235,\n",
       " 4]"
      ]
     },
     "execution_count": 34,
     "metadata": {},
     "output_type": "execute_result"
    }
   ],
   "source": [
    "SMS_clu"
   ]
  },
  {
   "cell_type": "code",
   "execution_count": 40,
   "metadata": {
    "collapsed": false
   },
   "outputs": [
    {
     "data": {
      "text/plain": [
       "-0.00777656392003368"
      ]
     },
     "execution_count": 40,
     "metadata": {},
     "output_type": "execute_result"
    }
   ],
   "source": [
    "SMS.assortativity_degree()"
   ]
  },
  {
   "cell_type": "code",
   "execution_count": 41,
   "metadata": {
    "collapsed": false
   },
   "outputs": [
    {
     "data": {
      "text/plain": [
       "0.002976573400010509"
      ]
     },
     "execution_count": 41,
     "metadata": {},
     "output_type": "execute_result"
    }
   ],
   "source": [
    "MPC.assortativity_degree()"
   ]
  },
  {
   "cell_type": "code",
   "execution_count": 42,
   "metadata": {
    "collapsed": false
   },
   "outputs": [
    {
     "data": {
      "text/plain": [
       "-0.0020448389151849354"
      ]
     },
     "execution_count": 42,
     "metadata": {},
     "output_type": "execute_result"
    }
   ],
   "source": [
    "CDR.assortativity_degree()"
   ]
  },
  {
   "cell_type": "code",
   "execution_count": 64,
   "metadata": {
    "collapsed": true
   },
   "outputs": [],
   "source": [
    "cc=SMS_clu.giant()"
   ]
  },
  {
   "cell_type": "code",
   "execution_count": 66,
   "metadata": {
    "collapsed": false
   },
   "outputs": [
    {
     "data": {
      "text/plain": [
       "5205"
      ]
     },
     "execution_count": 66,
     "metadata": {},
     "output_type": "execute_result"
    }
   ],
   "source": [
    "cc.maxdegree()"
   ]
  },
  {
   "cell_type": "code",
   "execution_count": 68,
   "metadata": {
    "collapsed": false
   },
   "outputs": [],
   "source": [
    "x=pd.DataFrame(cc.degree())"
   ]
  },
  {
   "cell_type": "code",
   "execution_count": 163,
   "metadata": {
    "collapsed": false
   },
   "outputs": [],
   "source": [
    "ss=MPC.vs.select(_degree_gt=500)"
   ]
  },
  {
   "cell_type": "code",
   "execution_count": 164,
   "metadata": {
    "collapsed": true
   },
   "outputs": [],
   "source": [
    "ss.delete?"
   ]
  },
  {
   "cell_type": "code",
   "execution_count": 109,
   "metadata": {
    "collapsed": false
   },
   "outputs": [],
   "source": [
    "ss=CDR.vs.select(_degree_gt=500)"
   ]
  },
  {
   "cell_type": "code",
   "execution_count": 123,
   "metadata": {
    "collapsed": false
   },
   "outputs": [],
   "source": [
    "CDR.assortativity?"
   ]
  },
  {
   "cell_type": "code",
   "execution_count": 127,
   "metadata": {
    "collapsed": false
   },
   "outputs": [],
   "source": [
    "MPC.assortativity()"
   ]
  },
  {
   "cell_type": "code",
   "execution_count": 140,
   "metadata": {
    "collapsed": false
   },
   "outputs": [],
   "source": [
    "g=x.as_directed()"
   ]
  },
  {
   "cell_type": "code",
   "execution_count": 143,
   "metadata": {
    "collapsed": false
   },
   "outputs": [
    {
     "data": {
      "text/plain": [
       "0.009582971860261774"
      ]
     },
     "execution_count": 143,
     "metadata": {},
     "output_type": "execute_result"
    }
   ],
   "source": [
    "g.assortativity_degree(True)"
   ]
  },
  {
   "cell_type": "code",
   "execution_count": 112,
   "metadata": {
    "collapsed": false
   },
   "outputs": [],
   "source": [
    "x=CDR.components().giant()"
   ]
  },
  {
   "cell_type": "code",
   "execution_count": 113,
   "metadata": {
    "collapsed": false
   },
   "outputs": [
    {
     "data": {
      "text/plain": [
       "0.011296461663930715"
      ]
     },
     "execution_count": 113,
     "metadata": {},
     "output_type": "execute_result"
    }
   ],
   "source": [
    "CDR.assortativity_degree()"
   ]
  },
  {
   "cell_type": "code",
   "execution_count": 142,
   "metadata": {
    "collapsed": false
   },
   "outputs": [
    {
     "data": {
      "text/plain": [
       "0.009582971860261733"
      ]
     },
     "execution_count": 142,
     "metadata": {},
     "output_type": "execute_result"
    }
   ],
   "source": [
    "x.assortativity_degree()"
   ]
  },
  {
   "cell_type": "code",
   "execution_count": 81,
   "metadata": {
    "collapsed": false
   },
   "outputs": [
    {
     "data": {
      "text/plain": [
       "1527219"
      ]
     },
     "execution_count": 81,
     "metadata": {},
     "output_type": "execute_result"
    }
   ],
   "source": [
    "SMS.vcount()"
   ]
  },
  {
   "cell_type": "markdown",
   "metadata": {},
   "source": [
    "### 中观结构计算"
   ]
  },
  {
   "cell_type": "code",
   "execution_count": null,
   "metadata": {
    "collapsed": true
   },
   "outputs": [],
   "source": [
    "def getStats(g):\n",
    "    '''diameter,density,cliqu_number,avg_path_length,vcount,coef,assortativity,omega,mean_weights'''\n",
    "    return  [g.diameter(),g.density(),g.clique_number(),g.average_path_length(),\n",
    "            g.transitivity_undirected(),## 聚集系数\n",
    "            g.assortativity_degree(directed=False)  ##同配系数\n",
    "            ]  \n",
    "        \n",
    "    \n",
    "def getCommStats(comm):\n",
    "    '''获取每个社区的特性'''\n",
    "    if isinstance(sms_com,ig.clustering.VertexClustering):\n",
    "        comm=comm.subgraphs()\n",
    "    pool=Pool(8)\n",
    "    sub_stats=pool.map(getStats,comm)\n",
    "    pool.close()\n",
    "    pool.join()\n",
    "    columns='diameter,density,cliqu_number,avg_path_length,vcount,coef,assortativity,omega,mean_rel'.split(',')\n",
    "#     sub_stats=map(getStats,rel_comm_lpa.subgraphs())\n",
    "    sub_stats=pd.DataFrame(sub_stats,columns=columns)\n",
    "    return sub_stats"
   ]
  },
  {
   "cell_type": "code",
   "execution_count": 194,
   "metadata": {
    "collapsed": false
   },
   "outputs": [],
   "source": [
    "sms_com=SMS.as_undirected().components()"
   ]
  },
  {
   "cell_type": "code",
   "execution_count": 213,
   "metadata": {
    "collapsed": true
   },
   "outputs": [
    {
     "ename": "KeyboardInterrupt",
     "evalue": "",
     "output_type": "error",
     "traceback": [
      "\u001b[0;31m---------------------------------------------------------------------------\u001b[0m",
      "\u001b[0;31mKeyboardInterrupt\u001b[0m                         Traceback (most recent call last)",
      "\u001b[0;32m<ipython-input-213-328ea8fe62da>\u001b[0m in \u001b[0;36m<module>\u001b[0;34m()\u001b[0m\n\u001b[0;32m----> 1\u001b[0;31m \u001b[0msms_coms\u001b[0m\u001b[0;34m=\u001b[0m\u001b[0msms_com\u001b[0m\u001b[0;34m.\u001b[0m\u001b[0msubgraphs\u001b[0m\u001b[0;34m(\u001b[0m\u001b[0;34m)\u001b[0m\u001b[0;34m\u001b[0m\u001b[0m\n\u001b[0m",
      "\u001b[0;32m/opt/anaconda2/lib/python2.7/site-packages/igraph/clustering.pyc\u001b[0m in \u001b[0;36msubgraphs\u001b[0;34m(self)\u001b[0m\n\u001b[1;32m    419\u001b[0m           \u001b[0mthe\u001b[0m \u001b[0mmoment\u001b[0m \u001b[0mthe\u001b[0m \u001b[0mclustering\u001b[0m \u001b[0mwas\u001b[0m \u001b[0mconstructed\u001b[0m\u001b[0;34m.\u001b[0m\u001b[0;34m\u001b[0m\u001b[0m\n\u001b[1;32m    420\u001b[0m         \"\"\"\n\u001b[0;32m--> 421\u001b[0;31m         \u001b[0;32mreturn\u001b[0m \u001b[0;34m[\u001b[0m\u001b[0mself\u001b[0m\u001b[0;34m.\u001b[0m\u001b[0m_graph\u001b[0m\u001b[0;34m.\u001b[0m\u001b[0msubgraph\u001b[0m\u001b[0;34m(\u001b[0m\u001b[0mcl\u001b[0m\u001b[0;34m)\u001b[0m \u001b[0;32mfor\u001b[0m \u001b[0mcl\u001b[0m \u001b[0;32min\u001b[0m \u001b[0mself\u001b[0m\u001b[0;34m]\u001b[0m\u001b[0;34m\u001b[0m\u001b[0m\n\u001b[0m\u001b[1;32m    422\u001b[0m \u001b[0;34m\u001b[0m\u001b[0m\n\u001b[1;32m    423\u001b[0m \u001b[0;34m\u001b[0m\u001b[0m\n",
      "\u001b[0;31mKeyboardInterrupt\u001b[0m: "
     ]
    }
   ],
   "source": [
    "sms_coms=sms_com.subgraphs()"
   ]
  },
  {
   "cell_type": "code",
   "execution_count": 208,
   "metadata": {
    "collapsed": false
   },
   "outputs": [
    {
     "data": {
      "text/plain": [
       "True"
      ]
     },
     "execution_count": 208,
     "metadata": {},
     "output_type": "execute_result"
    }
   ],
   "source": [
    "sms_coms"
   ]
  },
  {
   "cell_type": "code",
   "execution_count": 195,
   "metadata": {
    "collapsed": false
   },
   "outputs": [],
   "source": [
    "ss=pd.DataFrame(sms_com.sizes())"
   ]
  },
  {
   "cell_type": "code",
   "execution_count": 196,
   "metadata": {
    "collapsed": false
   },
   "outputs": [
    {
     "data": {
      "text/plain": [
       "1012668"
      ]
     },
     "execution_count": 196,
     "metadata": {},
     "output_type": "execute_result"
    }
   ],
   "source": [
    "ss[0].max()"
   ]
  },
  {
   "cell_type": "code",
   "execution_count": 214,
   "metadata": {
    "collapsed": false
   },
   "outputs": [],
   "source": [
    "d=ss[(ss[0]>5)&(ss[0]<ss[0].max())]"
   ]
  },
  {
   "cell_type": "code",
   "execution_count": 216,
   "metadata": {
    "collapsed": false
   },
   "outputs": [
    {
     "data": {
      "text/plain": [
       "(12335, 1)"
      ]
     },
     "execution_count": 216,
     "metadata": {},
     "output_type": "execute_result"
    }
   ],
   "source": [
    "d.shape"
   ]
  }
 ],
 "metadata": {
  "anaconda-cloud": {},
  "kernelspec": {
   "display_name": "Python [conda root]",
   "language": "python",
   "name": "conda-root-py"
  },
  "language_info": {
   "codemirror_mode": {
    "name": "ipython",
    "version": 2
   },
   "file_extension": ".py",
   "mimetype": "text/x-python",
   "name": "python",
   "nbconvert_exporter": "python",
   "pygments_lexer": "ipython2",
   "version": "2.7.12"
  }
 },
 "nbformat": 4,
 "nbformat_minor": 1
}
