{
 "cells": [
  {
   "cell_type": "markdown",
   "metadata": {},
   "source": [
    "##   通话网络数据处理"
   ]
  },
  {
   "cell_type": "code",
   "execution_count": 39,
   "metadata": {
    "collapsed": true
   },
   "outputs": [],
   "source": [
    "%matplotlib   inline   \n",
    "import pandas as pd\n",
    "import numpy as np"
   ]
  },
  {
   "cell_type": "code",
   "execution_count": 3,
   "metadata": {
    "collapsed": false
   },
   "outputs": [
    {
     "name": "stderr",
     "output_type": "stream",
     "text": [
      "/opt/anaconda2/lib/python2.7/site-packages/IPython/core/interactiveshell.py:2717: DtypeWarning: Columns (1) have mixed types. Specify dtype option on import or set low_memory=False.\n",
      "  interactivity=interactivity, compiler=compiler, result=result)\n"
     ]
    }
   ],
   "source": [
    "net=pd.read_csv('chapter1data/comm_data.csv',index_col=0)"
   ]
  },
  {
   "cell_type": "code",
   "execution_count": 4,
   "metadata": {
    "collapsed": false
   },
   "outputs": [
    {
     "data": {
      "text/plain": [
       "(13043120, 32)"
      ]
     },
     "execution_count": 4,
     "metadata": {},
     "output_type": "execute_result"
    }
   ],
   "source": [
    "net.shape"
   ]
  },
  {
   "cell_type": "code",
   "execution_count": 5,
   "metadata": {
    "collapsed": false
   },
   "outputs": [
    {
     "data": {
      "text/html": [
       "<div>\n",
       "<table border=\"1\" class=\"dataframe\">\n",
       "  <thead>\n",
       "    <tr style=\"text-align: right;\">\n",
       "      <th></th>\n",
       "      <th>custorm_id</th>\n",
       "      <th>number</th>\n",
       "      <th>total_frequency</th>\n",
       "      <th>total_duration</th>\n",
       "      <th>avg_duration</th>\n",
       "      <th>max_duration</th>\n",
       "      <th>min_duration</th>\n",
       "      <th>coef_var</th>\n",
       "      <th>income_total_duration</th>\n",
       "      <th>outgo_total_duration</th>\n",
       "      <th>...</th>\n",
       "      <th>time_engagement_ratio</th>\n",
       "      <th>cnt_engagement_ratio</th>\n",
       "      <th>avg_interval</th>\n",
       "      <th>min_interval</th>\n",
       "      <th>max_interval</th>\n",
       "      <th>std_interval</th>\n",
       "      <th>avg_aday_duration</th>\n",
       "      <th>max_aday_duration</th>\n",
       "      <th>std_aday_duration</th>\n",
       "      <th>cust_b</th>\n",
       "    </tr>\n",
       "  </thead>\n",
       "  <tbody>\n",
       "    <tr>\n",
       "      <th>0</th>\n",
       "      <td>1000241</td>\n",
       "      <td>18610315343</td>\n",
       "      <td>2</td>\n",
       "      <td>27.0</td>\n",
       "      <td>13.500000</td>\n",
       "      <td>14.0</td>\n",
       "      <td>13.0</td>\n",
       "      <td>0.037037</td>\n",
       "      <td>NaN</td>\n",
       "      <td>27.0</td>\n",
       "      <td>...</td>\n",
       "      <td>NaN</td>\n",
       "      <td>0.000000</td>\n",
       "      <td>2.130000</td>\n",
       "      <td>2.13</td>\n",
       "      <td>2.13</td>\n",
       "      <td>0.000000</td>\n",
       "      <td>0.101721</td>\n",
       "      <td>0.101721</td>\n",
       "      <td>0.000000</td>\n",
       "      <td>7003685</td>\n",
       "    </tr>\n",
       "    <tr>\n",
       "      <th>1</th>\n",
       "      <td>1000392</td>\n",
       "      <td>17788901665</td>\n",
       "      <td>1</td>\n",
       "      <td>34.0</td>\n",
       "      <td>34.000000</td>\n",
       "      <td>34.0</td>\n",
       "      <td>34.0</td>\n",
       "      <td>0.000000</td>\n",
       "      <td>NaN</td>\n",
       "      <td>34.0</td>\n",
       "      <td>...</td>\n",
       "      <td>NaN</td>\n",
       "      <td>0.000000</td>\n",
       "      <td>NaN</td>\n",
       "      <td>NaN</td>\n",
       "      <td>NaN</td>\n",
       "      <td>NaN</td>\n",
       "      <td>NaN</td>\n",
       "      <td>NaN</td>\n",
       "      <td>NaN</td>\n",
       "      <td>6112203</td>\n",
       "    </tr>\n",
       "    <tr>\n",
       "      <th>2</th>\n",
       "      <td>1000550</td>\n",
       "      <td>15657559090</td>\n",
       "      <td>65</td>\n",
       "      <td>8981.0</td>\n",
       "      <td>138.169231</td>\n",
       "      <td>652.0</td>\n",
       "      <td>6.0</td>\n",
       "      <td>0.989548</td>\n",
       "      <td>3682.0</td>\n",
       "      <td>5299.0</td>\n",
       "      <td>...</td>\n",
       "      <td>0.819953</td>\n",
       "      <td>0.892308</td>\n",
       "      <td>3915.766406</td>\n",
       "      <td>2.13</td>\n",
       "      <td>47552.00</td>\n",
       "      <td>10487.689083</td>\n",
       "      <td>0.109808</td>\n",
       "      <td>0.753318</td>\n",
       "      <td>0.183406</td>\n",
       "      <td>9564029</td>\n",
       "    </tr>\n",
       "  </tbody>\n",
       "</table>\n",
       "<p>3 rows × 32 columns</p>\n",
       "</div>"
      ],
      "text/plain": [
       "  custorm_id       number  total_frequency  total_duration  avg_duration  \\\n",
       "0    1000241  18610315343                2            27.0     13.500000   \n",
       "1    1000392  17788901665                1            34.0     34.000000   \n",
       "2    1000550  15657559090               65          8981.0    138.169231   \n",
       "\n",
       "   max_duration  min_duration  coef_var  income_total_duration  \\\n",
       "0          14.0          13.0  0.037037                    NaN   \n",
       "1          34.0          34.0  0.000000                    NaN   \n",
       "2         652.0           6.0  0.989548                 3682.0   \n",
       "\n",
       "   outgo_total_duration   ...     time_engagement_ratio  cnt_engagement_ratio  \\\n",
       "0                  27.0   ...                       NaN              0.000000   \n",
       "1                  34.0   ...                       NaN              0.000000   \n",
       "2                5299.0   ...                  0.819953              0.892308   \n",
       "\n",
       "   avg_interval  min_interval  max_interval  std_interval  avg_aday_duration  \\\n",
       "0      2.130000          2.13          2.13      0.000000           0.101721   \n",
       "1           NaN           NaN           NaN           NaN                NaN   \n",
       "2   3915.766406          2.13      47552.00  10487.689083           0.109808   \n",
       "\n",
       "   max_aday_duration  std_aday_duration   cust_b  \n",
       "0           0.101721           0.000000  7003685  \n",
       "1                NaN                NaN  6112203  \n",
       "2           0.753318           0.183406  9564029  \n",
       "\n",
       "[3 rows x 32 columns]"
      ]
     },
     "execution_count": 5,
     "metadata": {},
     "output_type": "execute_result"
    }
   ],
   "source": [
    "net.head(3)"
   ]
  },
  {
   "cell_type": "code",
   "execution_count": 6,
   "metadata": {
    "collapsed": false
   },
   "outputs": [
    {
     "data": {
      "text/plain": [
       "Index([u'custorm_id', u'number', u'total_frequency', u'total_duration',\n",
       "       u'avg_duration', u'max_duration', u'min_duration', u'coef_var',\n",
       "       u'income_total_duration', u'outgo_total_duration',\n",
       "       u'income_total_frequency', u'outgo_total_frequency',\n",
       "       u'income_avg_duration', u'outgo_avg_duration', u'outgo_time_ratio',\n",
       "       u'outgo_cnt_ratio', u'income2avg', u'outgo2avg',\n",
       "       u'local_total_duration', u'unlocal_total_duration',\n",
       "       u'local_total_frequency', u'unlocal_total_frequency',\n",
       "       u'time_engagement_ratio', u'cnt_engagement_ratio', u'avg_interval',\n",
       "       u'min_interval', u'max_interval', u'std_interval', u'avg_aday_duration',\n",
       "       u'max_aday_duration', u'std_aday_duration', u'cust_b'],\n",
       "      dtype='object')"
      ]
     },
     "execution_count": 6,
     "metadata": {},
     "output_type": "execute_result"
    }
   ],
   "source": [
    "net.columns"
   ]
  },
  {
   "cell_type": "code",
   "execution_count": 87,
   "metadata": {
    "collapsed": false
   },
   "outputs": [
    {
     "data": {
      "text/plain": [
       "(13026849, 3)"
      ]
     },
     "execution_count": 87,
     "metadata": {},
     "output_type": "execute_result"
    }
   ],
   "source": [
    "net_rel=net.ix[:,['custorm_id','cust_b','avg_duration']].dropna()\n",
    "net_rel.shape"
   ]
  },
  {
   "cell_type": "code",
   "execution_count": 89,
   "metadata": {
    "collapsed": false
   },
   "outputs": [
    {
     "data": {
      "text/plain": [
       "(13021609, 3)"
      ]
     },
     "execution_count": 89,
     "metadata": {},
     "output_type": "execute_result"
    }
   ],
   "source": [
    "net_rel2=net.ix[:,['custorm_id','cust_b','coef_var']].dropna()\n",
    "net_rel2.shape"
   ]
  },
  {
   "cell_type": "code",
   "execution_count": 80,
   "metadata": {
    "collapsed": false
   },
   "outputs": [
    {
     "data": {
      "text/html": [
       "<div>\n",
       "<table border=\"1\" class=\"dataframe\">\n",
       "  <thead>\n",
       "    <tr style=\"text-align: right;\">\n",
       "      <th></th>\n",
       "      <th>cust_b</th>\n",
       "      <th>avg_duration</th>\n",
       "    </tr>\n",
       "  </thead>\n",
       "  <tbody>\n",
       "    <tr>\n",
       "      <th>count</th>\n",
       "      <td>1.300505e+07</td>\n",
       "      <td>1.300505e+07</td>\n",
       "    </tr>\n",
       "    <tr>\n",
       "      <th>mean</th>\n",
       "      <td>4.426844e+06</td>\n",
       "      <td>4.078534e+00</td>\n",
       "    </tr>\n",
       "    <tr>\n",
       "      <th>std</th>\n",
       "      <td>2.636084e+06</td>\n",
       "      <td>8.288616e-01</td>\n",
       "    </tr>\n",
       "    <tr>\n",
       "      <th>min</th>\n",
       "      <td>8.000000e+00</td>\n",
       "      <td>5.129329e-02</td>\n",
       "    </tr>\n",
       "    <tr>\n",
       "      <th>25%</th>\n",
       "      <td>2.117834e+06</td>\n",
       "      <td>3.555348e+00</td>\n",
       "    </tr>\n",
       "    <tr>\n",
       "      <th>50%</th>\n",
       "      <td>4.071299e+06</td>\n",
       "      <td>4.043051e+00</td>\n",
       "    </tr>\n",
       "    <tr>\n",
       "      <th>75%</th>\n",
       "      <td>6.672682e+06</td>\n",
       "      <td>4.578980e+00</td>\n",
       "    </tr>\n",
       "    <tr>\n",
       "      <th>max</th>\n",
       "      <td>9.619678e+06</td>\n",
       "      <td>7.495211e+00</td>\n",
       "    </tr>\n",
       "  </tbody>\n",
       "</table>\n",
       "</div>"
      ],
      "text/plain": [
       "             cust_b  avg_duration\n",
       "count  1.300505e+07  1.300505e+07\n",
       "mean   4.426844e+06  4.078534e+00\n",
       "std    2.636084e+06  8.288616e-01\n",
       "min    8.000000e+00  5.129329e-02\n",
       "25%    2.117834e+06  3.555348e+00\n",
       "50%    4.071299e+06  4.043051e+00\n",
       "75%    6.672682e+06  4.578980e+00\n",
       "max    9.619678e+06  7.495211e+00"
      ]
     },
     "execution_count": 80,
     "metadata": {},
     "output_type": "execute_result"
    }
   ],
   "source": [
    "net_rel.describe()"
   ]
  },
  {
   "cell_type": "code",
   "execution_count": 78,
   "metadata": {
    "collapsed": false
   },
   "outputs": [],
   "source": [
    "net_rel=net_rel[(net_rel.avg_duration>1)&(net_rel.avg_duration<1800)]"
   ]
  },
  {
   "cell_type": "code",
   "execution_count": 79,
   "metadata": {
    "collapsed": false
   },
   "outputs": [],
   "source": [
    "net_rel.avg_duration=np.log(net_rel.avg_duration.values)"
   ]
  },
  {
   "cell_type": "code",
   "execution_count": 55,
   "metadata": {
    "collapsed": false
   },
   "outputs": [],
   "source": [
    "net_rel.avg_duration=(net_rel.avg_duration.values-net_rel.avg_duration.min())/(net_rel.avg_duration.max()-net_rel.avg_duration.min())*100\n"
   ]
  },
  {
   "cell_type": "code",
   "execution_count": 77,
   "metadata": {
    "collapsed": false
   },
   "outputs": [
    {
     "data": {
      "text/plain": [
       "(13005053, 3)"
      ]
     },
     "execution_count": 77,
     "metadata": {},
     "output_type": "execute_result"
    }
   ],
   "source": [
    "net_rel.avg_duration.ty"
   ]
  },
  {
   "cell_type": "code",
   "execution_count": 84,
   "metadata": {
    "collapsed": false
   },
   "outputs": [
    {
     "name": "stdout",
     "output_type": "stream",
     "text": [
      "3.25\n"
     ]
    }
   ],
   "source": [
    "print '%0.2f' %(3.254)"
   ]
  },
  {
   "cell_type": "code",
   "execution_count": 85,
   "metadata": {
    "collapsed": false
   },
   "outputs": [],
   "source": [
    "net_rel.to_csv('chapter1data/net_rel.csv',float_format='%0.2f')"
   ]
  }
 ],
 "metadata": {
  "anaconda-cloud": {},
  "kernelspec": {
   "display_name": "Python [conda root]",
   "language": "python",
   "name": "conda-root-py"
  },
  "language_info": {
   "codemirror_mode": {
    "name": "ipython",
    "version": 2
   },
   "file_extension": ".py",
   "mimetype": "text/x-python",
   "name": "python",
   "nbconvert_exporter": "python",
   "pygments_lexer": "ipython2",
   "version": "2.7.12"
  }
 },
 "nbformat": 4,
 "nbformat_minor": 1
}
