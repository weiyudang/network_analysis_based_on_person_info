{
 "cells": [
  {
   "cell_type": "code",
   "execution_count": 12,
   "metadata": {
    "collapsed": true
   },
   "outputs": [],
   "source": [
    "import  pandas as pd\n",
    "%matplotlib  inline \n",
    "import pandas as pd\n",
    "import numpy as np\n",
    "from igraph  import Graph as IGraph\n",
    "def getGraph(GV): \n",
    "    '''图的构件，输入的是numpy的数组，如果3表示图是带权重的，否则没有权重\n",
    "    '''\n",
    "    if GV.shape[1]==3:\n",
    "        g=IGraph.TupleList(GV,directed=False,vertex_name_attr='name',weights=True)  ## 构建图\n",
    "    else:\n",
    "        g=IGraph.TupleList(GV,directed=True,vertex_name_attr='name')  ## 构建图\n",
    "    return  g\n",
    "\n",
    "def getStats(g):\n",
    "    '''diameter,density,cliqu_number,avg_path_length,vcount,coef,assortativity,omega,mean_weights'''\n",
    "    return  [g.diameter(),g.density(),g.clique_number(),g.average_path_length(),\\\n",
    "            g.vcount(),\\\n",
    "            g.transitivity_undirected(),## 聚集系数\n",
    "            g.assortativity_degree(directed=False),   ##同配系数\n",
    "            g.omega(),\n",
    "            np.array(g.es['weight']).mean()\n",
    "            ]  \n",
    "        \n",
    "\n",
    "        \n",
    "def GetCommStats(rel_net):\n",
    "    g=getGraph(rel_net)\n",
    "    names=g.vs['name']\n",
    "    weights=g.es['weight']\n",
    "    cluster=IGraph.community_label_propagation(g,weights='weight').as_cover()\n",
    "    if data.shape[1]==3:\n",
    "        pg_df=pd.DataFrame(g.pagerank(weights='weight'),index=names,columns=['pg'])\n",
    "    else:\n",
    "        pg_df=pd.DataFrame(g.pagerank(weights='weight'),index=names,columns=['pg'])\n",
    "\n",
    "    cluster=[line for line in  list(cluster)  if line>6]\n",
    "\n",
    "    columns=['diameter','density','clique_number','average_path_length','nums','coef','pg_mean']\n",
    "    comm_stats=[]\n",
    "    for line in cluster:\n",
    "        pg_mean=pg_df.iloc[line].mean().values[0]\n",
    "        gs=getStats(g.subgraph(line))+[pg_mean]\n",
    "        comm_stats.append(gs)\n",
    "    x=pd.DataFrame(comm_stats,columns=columns)\n",
    "    return x\n",
    "\n",
    "def getClusterStats(g,cluster):\n",
    "    cluster=[line for line in  list(cluster)  if line>6]\n",
    "\n",
    "    columns=['diameter','density','clique_number','average_path_length','nums','coef']\n",
    "    comm_stats=[]\n",
    "    for line in cluster:\n",
    "        pg_mean=pg_df.iloc[line].mean().values[0]\n",
    "        gs=getStats(g.subgraph(line))+[pg_mean]\n",
    "        comm_stats.append(gs)\n",
    "    x=pd.DataFrame(comm_stats,columns=columns)\n",
    "    return x\n",
    "\n",
    "def getCommStats(comm):\n",
    "    '''获取每个社区的特性'''\n",
    "    from multiprocessing  import Pool\n",
    "    pool=Pool(8)\n",
    "    sub_stats=pool.map(getStats,comm.subgraphs())\n",
    "    pool.close()\n",
    "    pool.join()\n",
    "    columns='diameter,density,cliqu_number,avg_path_length,vcount,coef,assortativity,omega,mean_rel'.split(',')\n",
    "#     sub_stats=map(getStats,rel_comm_lpa.subgraphs())\n",
    "    sub_stats=pd.DataFrame(sub_stats,columns=columns)\n",
    "    return sub_stats\n",
    "def GetGVlues(fname):\n",
    "    df=pd.read_csv(fname,index_col=0)\n",
    "    df=df[df.cust_a!=df.cust_b]\n",
    "    print df.shape[0]\n",
    "    g=getGraph(df.values)\n",
    "    return g"
   ]
  },
  {
   "cell_type": "code",
   "execution_count": 17,
   "metadata": {
    "collapsed": true
   },
   "outputs": [],
   "source": [
    "\n",
    "cust_user_info=pd.read_csv(\"comm_detect/chapter1data/user_info0330.csv\",index_col=0)\n",
    "\n"
   ]
  },
  {
   "cell_type": "code",
   "execution_count": 3,
   "metadata": {
    "collapsed": true
   },
   "outputs": [],
   "source": [
    "def get_PersonInfo(contact_num):\n",
    "    contact_num=cust_user_info.join(contact_num,how='inner',rsuffix='x')\n",
    "    contact_num[\"age\"]=2016-contact_num.id_no.str.slice(6,10).astype(\"float\")\n",
    "    ##奇数为男性，偶数为女性\n",
    "    contact_num[\"sex\"]=contact_num.id_no.str.slice(16,17).bfill().replace('','0').astype(\"float\")%2\n",
    "    contact_num.sex.replace({1.0:'male',0.0:'female'},inplace=True)\n",
    "    contact_numa=contact_num[(contact_num.age>10) &(contact_num.age<60)]\n",
    "    return  contact_num"
   ]
  },
  {
   "cell_type": "code",
   "execution_count": 19,
   "metadata": {
    "collapsed": false
   },
   "outputs": [],
   "source": [
    "cust_user_info.dropna(inplace=True)"
   ]
  },
  {
   "cell_type": "code",
   "execution_count": 23,
   "metadata": {
    "collapsed": true
   },
   "outputs": [],
   "source": [
    "cust_user_info.drop_duplicates('id',inplace=True)`"
   ]
  },
  {
   "cell_type": "code",
   "execution_count": 41,
   "metadata": {
    "collapsed": true
   },
   "outputs": [],
   "source": [
    "cust_user_info=cust_user_info[cust_user_info.id_no.str.len()==18]"
   ]
  },
  {
   "cell_type": "code",
   "execution_count": 43,
   "metadata": {
    "collapsed": false
   },
   "outputs": [
    {
     "data": {
      "text/html": [
       "<div>\n",
       "<table border=\"1\" class=\"dataframe\">\n",
       "  <thead>\n",
       "    <tr style=\"text-align: right;\">\n",
       "      <th></th>\n",
       "      <th>id</th>\n",
       "      <th>id_no</th>\n",
       "    </tr>\n",
       "  </thead>\n",
       "  <tbody>\n",
       "    <tr>\n",
       "      <th>0</th>\n",
       "      <td>173464</td>\n",
       "      <td>330324198707164O1.</td>\n",
       "    </tr>\n",
       "    <tr>\n",
       "      <th>1</th>\n",
       "      <td>7798526</td>\n",
       "      <td>21010519880311(!0A</td>\n",
       "    </tr>\n",
       "    <tr>\n",
       "      <th>3</th>\n",
       "      <td>9273658</td>\n",
       "      <td>340303199404174.1!</td>\n",
       "    </tr>\n",
       "  </tbody>\n",
       "</table>\n",
       "</div>"
      ],
      "text/plain": [
       "        id               id_no\n",
       "0   173464  330324198707164O1.\n",
       "1  7798526  21010519880311(!0A\n",
       "3  9273658  340303199404174.1!"
      ]
     },
     "execution_count": 43,
     "metadata": {},
     "output_type": "execute_result"
    }
   ],
   "source": [
    "cust_user_info.head(3)"
   ]
  },
  {
   "cell_type": "code",
   "execution_count": 44,
   "metadata": {
    "collapsed": false
   },
   "outputs": [
    {
     "name": "stderr",
     "output_type": "stream",
     "text": [
      "/opt/anaconda2/lib/python2.7/site-packages/ipykernel/__main__.py:1: SettingWithCopyWarning: \n",
      "A value is trying to be set on a copy of a slice from a DataFrame.\n",
      "Try using .loc[row_indexer,col_indexer] = value instead\n",
      "\n",
      "See the caveats in the documentation: http://pandas.pydata.org/pandas-docs/stable/indexing.html#indexing-view-versus-copy\n",
      "  if __name__ == '__main__':\n"
     ]
    }
   ],
   "source": [
    "cust_user_info['age']=2016-cust_user_info.id_no.str.slice(6,10).astype(\"float\")"
   ]
  },
  {
   "cell_type": "code",
   "execution_count": 45,
   "metadata": {
    "collapsed": false
   },
   "outputs": [
    {
     "name": "stderr",
     "output_type": "stream",
     "text": [
      "/opt/anaconda2/lib/python2.7/site-packages/ipykernel/__main__.py:1: SettingWithCopyWarning: \n",
      "A value is trying to be set on a copy of a slice from a DataFrame.\n",
      "Try using .loc[row_indexer,col_indexer] = value instead\n",
      "\n",
      "See the caveats in the documentation: http://pandas.pydata.org/pandas-docs/stable/indexing.html#indexing-view-versus-copy\n",
      "  if __name__ == '__main__':\n"
     ]
    }
   ],
   "source": [
    "cust_user_info['sex']=cust_user_info.id_no.str.slice(16,17).bfill().replace('','0').astype(\"float\")%2"
   ]
  },
  {
   "cell_type": "code",
   "execution_count": 46,
   "metadata": {
    "collapsed": false
   },
   "outputs": [
    {
     "name": "stderr",
     "output_type": "stream",
     "text": [
      "/opt/anaconda2/lib/python2.7/site-packages/pandas/core/generic.py:3554: SettingWithCopyWarning: \n",
      "A value is trying to be set on a copy of a slice from a DataFrame\n",
      "\n",
      "See the caveats in the documentation: http://pandas.pydata.org/pandas-docs/stable/indexing.html#indexing-view-versus-copy\n",
      "  self._update_inplace(new_data)\n"
     ]
    }
   ],
   "source": [
    "cust_user_info.sex.replace({1.0:'male',0.0:'female'},inplace=True)\n"
   ]
  },
  {
   "cell_type": "code",
   "execution_count": 50,
   "metadata": {
    "collapsed": false
   },
   "outputs": [
    {
     "name": "stderr",
     "output_type": "stream",
     "text": [
      "/opt/anaconda2/lib/python2.7/site-packages/ipykernel/__main__.py:1: SettingWithCopyWarning: \n",
      "A value is trying to be set on a copy of a slice from a DataFrame\n",
      "\n",
      "See the caveats in the documentation: http://pandas.pydata.org/pandas-docs/stable/indexing.html#indexing-view-versus-copy\n",
      "  if __name__ == '__main__':\n"
     ]
    }
   ],
   "source": [
    "cust_user_info.drop(['id_no'],axis=1,inplace=True)"
   ]
  },
  {
   "cell_type": "code",
   "execution_count": 52,
   "metadata": {
    "collapsed": false
   },
   "outputs": [],
   "source": [
    "cust_user_info.to_csv('comm_detect/chapter1data/user_info.csv')"
   ]
  },
  {
   "cell_type": "code",
   "execution_count": 30,
   "metadata": {
    "collapsed": false
   },
   "outputs": [],
   "source": [
    "dd=cust_user_info.id_no.str.slice(6,10)"
   ]
  },
  {
   "cell_type": "code",
   "execution_count": 48,
   "metadata": {
    "collapsed": false
   },
   "outputs": [],
   "source": [
    "cust_user_info.set_index('id',inplace=True)"
   ]
  },
  {
   "cell_type": "code",
   "execution_count": 51,
   "metadata": {
    "collapsed": false
   },
   "outputs": [
    {
     "data": {
      "text/html": [
       "<div>\n",
       "<table border=\"1\" class=\"dataframe\">\n",
       "  <thead>\n",
       "    <tr style=\"text-align: right;\">\n",
       "      <th></th>\n",
       "      <th>age</th>\n",
       "      <th>sex</th>\n",
       "    </tr>\n",
       "    <tr>\n",
       "      <th>id</th>\n",
       "      <th></th>\n",
       "      <th></th>\n",
       "    </tr>\n",
       "  </thead>\n",
       "  <tbody>\n",
       "    <tr>\n",
       "      <th>173464</th>\n",
       "      <td>29.0</td>\n",
       "      <td>male</td>\n",
       "    </tr>\n",
       "    <tr>\n",
       "      <th>7798526</th>\n",
       "      <td>28.0</td>\n",
       "      <td>female</td>\n",
       "    </tr>\n",
       "    <tr>\n",
       "      <th>9273658</th>\n",
       "      <td>22.0</td>\n",
       "      <td>male</td>\n",
       "    </tr>\n",
       "  </tbody>\n",
       "</table>\n",
       "</div>"
      ],
      "text/plain": [
       "          age     sex\n",
       "id                   \n",
       "173464   29.0    male\n",
       "7798526  28.0  female\n",
       "9273658  22.0    male"
      ]
     },
     "execution_count": 51,
     "metadata": {},
     "output_type": "execute_result"
    }
   ],
   "source": [
    "cust_user_info.head(3)"
   ]
  }
 ],
 "metadata": {
  "anaconda-cloud": {},
  "kernelspec": {
   "display_name": "Python [conda root]",
   "language": "python",
   "name": "conda-root-py"
  },
  "language_info": {
   "codemirror_mode": {
    "name": "ipython",
    "version": 2
   },
   "file_extension": ".py",
   "mimetype": "text/x-python",
   "name": "python",
   "nbconvert_exporter": "python",
   "pygments_lexer": "ipython2",
   "version": "2.7.12"
  }
 },
 "nbformat": 4,
 "nbformat_minor": 1
}
